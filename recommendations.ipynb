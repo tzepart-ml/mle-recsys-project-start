{
 "cells": [
  {
   "cell_type": "markdown",
   "id": "c65dc1f015cef865",
   "metadata": {},
   "source": [
    "# Проект. Создание рекомендательной системы. Часть 1"
   ]
  },
  {
   "cell_type": "markdown",
   "id": "c7c8a485084c943e",
   "metadata": {},
   "source": [
    "## Описание задачи\n",
    "\n",
    "На этот раз мы работаем с большим каталогом — более 70 млн треков. Чтобы пользователям было легче ориентироваться в столь обширном музыкальном потоке, нужно создать эффективную систему персональных рекомендаций.\n",
    "\n",
    "Для этого нужно облегчить пользовательский опыт, создав систему персональных рекомендаций."
   ]
  },
  {
   "cell_type": "markdown",
   "id": "918def3fbe4eaa25",
   "metadata": {},
   "source": [
    "## Данные\n",
    "\n",
    "Данные находятся в трёх файлах.\n",
    "\n",
    "Данные о треках — в файле `tracks.parquet`:\n",
    "\n",
    "- `track_id` — идентификатор музыкального трека;\n",
    "- `albums` — список идентификаторов альбомов, содержащих трек;\n",
    "- `artists` — список идентификаторов исполнителей трека;\n",
    "- `genres` — список идентификаторов жанров, к которым принадлежит трек.\n",
    "\n",
    "Имена артистов, названия альбомов, треков и жанров — в файле `catalog_names.parquet`:\n",
    "\n",
    "- `id` — идентификатор одной из каталожных единиц (трека, альбома, исполнителя, жанра);\n",
    "- `type` — тип идентификатора;\n",
    "- `name` — имя (название) каталожной единицы.\n",
    "\n",
    "Данные о том, какие пользователи прослушали тот или иной трек, — в файле `interactions.parquet` :\n",
    "\n",
    "- `user_id` — идентификатор пользователя,\n",
    "- `track_id` — идентификатор музыкального трека,\n",
    "- `track_seq` — номер места трека в истории пользователя,\n",
    "- `started_at` — дата начала прослушивания трека."
   ]
  },
  {
   "cell_type": "markdown",
   "id": "f4095ae4-7294-4b28-853e-88d235002c97",
   "metadata": {},
   "source": [
    "### Инициализация"
   ]
  },
  {
   "cell_type": "markdown",
   "id": "2f2318d2-9df8-4911-915e-15b725c44f8a",
   "metadata": {},
   "source": [
    "Загружаем библиотеки необходимые для выполнения кода ноутбука."
   ]
  },
  {
   "cell_type": "code",
   "execution_count": 1,
   "id": "662d04e7-1b0b-4e4a-9ddf-4526d7fef119",
   "metadata": {
    "ExecuteTime": {
     "end_time": "2024-11-09T22:44:25.933249Z",
     "start_time": "2024-11-09T22:44:24.931391Z"
    }
   },
   "outputs": [],
   "source": [
    "import pandas as pd\n",
    "import numpy as np\n",
    "import matplotlib.pyplot as plt\n",
    "import scipy\n",
    "from implicit.als import AlternatingLeastSquares\n",
    "import sklearn.preprocessing\n",
    "import warnings\n",
    "from concurrent.futures import ThreadPoolExecutor\n",
    "from tqdm.notebook import tqdm "
   ]
  },
  {
   "cell_type": "code",
   "execution_count": 2,
   "id": "a1e7851f55456e9f",
   "metadata": {
    "ExecuteTime": {
     "end_time": "2024-11-09T22:44:25.935659Z",
     "start_time": "2024-11-09T22:44:25.934055Z"
    }
   },
   "outputs": [],
   "source": [
    "warnings.filterwarnings('ignore')"
   ]
  },
  {
   "cell_type": "code",
   "execution_count": 3,
   "id": "37977d730ce8324",
   "metadata": {
    "ExecuteTime": {
     "end_time": "2024-11-09T22:44:25.954781Z",
     "start_time": "2024-11-09T22:44:25.953221Z"
    }
   },
   "outputs": [],
   "source": [
    "# Определяем константу для количества рекомендаций на пользователя\n",
    "RECOMMENDATIONS_PER_USER = 5"
   ]
  },
  {
   "cell_type": "markdown",
   "id": "bf80fbc5-b660-4fac-8fbb-a5cae77313b3",
   "metadata": {},
   "source": [
    "## === ЭТАП 1 ==="
   ]
  },
  {
   "cell_type": "markdown",
   "id": "5263a8b3-fe99-4204-8a2e-105182792c11",
   "metadata": {},
   "source": [
    "### 1.1 Загрузка первичных данных"
   ]
  },
  {
   "cell_type": "markdown",
   "id": "1b54a6a5-1656-4e3c-99d1-49dc39451d33",
   "metadata": {},
   "source": [
    "Загружаем первичные данные из файлов:\n",
    "- tracks.parquet\n",
    "- catalog_names.parquet\n",
    "- interactions.parquet"
   ]
  },
  {
   "cell_type": "code",
   "execution_count": 4,
   "id": "5d4b8961-3f35-4e58-9d6b-3e2dbd2c4224",
   "metadata": {
    "ExecuteTime": {
     "end_time": "2024-11-09T22:44:29.709723Z",
     "start_time": "2024-11-09T22:44:26.007479Z"
    }
   },
   "outputs": [],
   "source": [
    "catalog_names = pd.read_parquet(\"./data/catalog_names.parquet\")\n",
    "interactions = pd.read_parquet(\"./data/interactions.parquet\")\n",
    "tracks = pd.read_parquet(\"./data/tracks.parquet\")"
   ]
  },
  {
   "cell_type": "code",
   "execution_count": 5,
   "id": "b194e3d3eb5bc322",
   "metadata": {
    "ExecuteTime": {
     "end_time": "2024-11-09T22:44:29.727482Z",
     "start_time": "2024-11-09T22:44:29.711828Z"
    }
   },
   "outputs": [
    {
     "name": "stdout",
     "output_type": "stream",
     "text": [
      "<class 'pandas.core.frame.DataFrame'>\n",
      "Index: 222629898 entries, 0 to 291\n",
      "Data columns (total 4 columns):\n",
      " #   Column      Dtype         \n",
      "---  ------      -----         \n",
      " 0   user_id     int32         \n",
      " 1   track_id    int32         \n",
      " 2   track_seq   int16         \n",
      " 3   started_at  datetime64[ns]\n",
      "dtypes: datetime64[ns](1), int16(1), int32(2)\n",
      "memory usage: 5.4 GB\n"
     ]
    }
   ],
   "source": [
    "interactions.info()"
   ]
  },
  {
   "cell_type": "markdown",
   "id": "223eee44",
   "metadata": {},
   "source": [
    "За основу возьмем взаимодействия ~1,3 млн пользователей. "
   ]
  },
  {
   "cell_type": "code",
   "execution_count": 6,
   "id": "7c95726556363a48",
   "metadata": {
    "ExecuteTime": {
     "end_time": "2024-11-09T22:44:38.469134Z",
     "start_time": "2024-11-09T22:44:29.728252Z"
    }
   },
   "outputs": [
    {
     "name": "stdout",
     "output_type": "stream",
     "text": [
      "<class 'pandas.core.frame.DataFrame'>\n",
      "Index: 1335779 entries, 130 to 21\n",
      "Data columns (total 4 columns):\n",
      " #   Column      Non-Null Count    Dtype         \n",
      "---  ------      --------------    -----         \n",
      " 0   user_id     1335779 non-null  int32         \n",
      " 1   track_id    1335779 non-null  int32         \n",
      " 2   track_seq   1335779 non-null  int16         \n",
      " 3   started_at  1335779 non-null  datetime64[ns]\n",
      "dtypes: datetime64[ns](1), int16(1), int32(2)\n",
      "memory usage: 33.1 MB\n",
      "<class 'pandas.core.frame.DataFrame'>\n",
      "Index: 253254 entries, 4 to 999999\n",
      "Data columns (total 4 columns):\n",
      " #   Column    Non-Null Count   Dtype \n",
      "---  ------    --------------   ----- \n",
      " 0   track_id  253254 non-null  int64 \n",
      " 1   albums    253254 non-null  object\n",
      " 2   artists   253254 non-null  object\n",
      " 3   genres    253254 non-null  object\n",
      "dtypes: int64(1), object(3)\n",
      "memory usage: 9.7+ MB\n"
     ]
    }
   ],
   "source": [
    "interactions = interactions.sample(frac=0.006, random_state=42)\n",
    "tracks = tracks[tracks['track_id'].isin(interactions['track_id'])]\n",
    "\n",
    "interactions.info()\n",
    "tracks.info()"
   ]
  },
  {
   "cell_type": "code",
   "execution_count": 7,
   "id": "70f7bdfe-175c-45c1-a2e9-d99f0f33be2e",
   "metadata": {
    "ExecuteTime": {
     "end_time": "2024-11-09T22:44:38.498749Z",
     "start_time": "2024-11-09T22:44:38.471594Z"
    }
   },
   "outputs": [
    {
     "data": {
      "text/html": [
       "<div>\n",
       "<style scoped>\n",
       "    .dataframe tbody tr th:only-of-type {\n",
       "        vertical-align: middle;\n",
       "    }\n",
       "\n",
       "    .dataframe tbody tr th {\n",
       "        vertical-align: top;\n",
       "    }\n",
       "\n",
       "    .dataframe thead th {\n",
       "        text-align: right;\n",
       "    }\n",
       "</style>\n",
       "<table border=\"1\" class=\"dataframe\">\n",
       "  <thead>\n",
       "    <tr style=\"text-align: right;\">\n",
       "      <th></th>\n",
       "      <th>id</th>\n",
       "      <th>type</th>\n",
       "      <th>name</th>\n",
       "    </tr>\n",
       "  </thead>\n",
       "  <tbody>\n",
       "    <tr>\n",
       "      <th>0</th>\n",
       "      <td>3</td>\n",
       "      <td>album</td>\n",
       "      <td>Taller Children</td>\n",
       "    </tr>\n",
       "    <tr>\n",
       "      <th>1</th>\n",
       "      <td>12</td>\n",
       "      <td>album</td>\n",
       "      <td>Wild Young Hearts</td>\n",
       "    </tr>\n",
       "    <tr>\n",
       "      <th>2</th>\n",
       "      <td>13</td>\n",
       "      <td>album</td>\n",
       "      <td>Lonesome Crow</td>\n",
       "    </tr>\n",
       "    <tr>\n",
       "      <th>3</th>\n",
       "      <td>17</td>\n",
       "      <td>album</td>\n",
       "      <td>Graffiti Soul</td>\n",
       "    </tr>\n",
       "    <tr>\n",
       "      <th>4</th>\n",
       "      <td>26</td>\n",
       "      <td>album</td>\n",
       "      <td>Blues Six Pack</td>\n",
       "    </tr>\n",
       "  </tbody>\n",
       "</table>\n",
       "</div>"
      ],
      "text/plain": [
       "   id   type               name\n",
       "0   3  album    Taller Children\n",
       "1  12  album  Wild Young Hearts\n",
       "2  13  album      Lonesome Crow\n",
       "3  17  album      Graffiti Soul\n",
       "4  26  album     Blues Six Pack"
      ]
     },
     "execution_count": 7,
     "metadata": {},
     "output_type": "execute_result"
    }
   ],
   "source": [
    "catalog_names.head()"
   ]
  },
  {
   "cell_type": "code",
   "execution_count": 8,
   "id": "14b396acb78bc81c",
   "metadata": {
    "ExecuteTime": {
     "end_time": "2024-11-09T22:44:38.504334Z",
     "start_time": "2024-11-09T22:44:38.499416Z"
    }
   },
   "outputs": [
    {
     "data": {
      "text/html": [
       "<div>\n",
       "<style scoped>\n",
       "    .dataframe tbody tr th:only-of-type {\n",
       "        vertical-align: middle;\n",
       "    }\n",
       "\n",
       "    .dataframe tbody tr th {\n",
       "        vertical-align: top;\n",
       "    }\n",
       "\n",
       "    .dataframe thead th {\n",
       "        text-align: right;\n",
       "    }\n",
       "</style>\n",
       "<table border=\"1\" class=\"dataframe\">\n",
       "  <thead>\n",
       "    <tr style=\"text-align: right;\">\n",
       "      <th></th>\n",
       "      <th>user_id</th>\n",
       "      <th>track_id</th>\n",
       "      <th>track_seq</th>\n",
       "      <th>started_at</th>\n",
       "    </tr>\n",
       "  </thead>\n",
       "  <tbody>\n",
       "    <tr>\n",
       "      <th>130</th>\n",
       "      <td>844258</td>\n",
       "      <td>3581309</td>\n",
       "      <td>131</td>\n",
       "      <td>2022-06-05</td>\n",
       "    </tr>\n",
       "    <tr>\n",
       "      <th>433</th>\n",
       "      <td>1091434</td>\n",
       "      <td>14937363</td>\n",
       "      <td>434</td>\n",
       "      <td>2022-06-29</td>\n",
       "    </tr>\n",
       "    <tr>\n",
       "      <th>526</th>\n",
       "      <td>73981</td>\n",
       "      <td>48591660</td>\n",
       "      <td>527</td>\n",
       "      <td>2022-09-26</td>\n",
       "    </tr>\n",
       "    <tr>\n",
       "      <th>9</th>\n",
       "      <td>78605</td>\n",
       "      <td>732405</td>\n",
       "      <td>10</td>\n",
       "      <td>2022-09-14</td>\n",
       "    </tr>\n",
       "    <tr>\n",
       "      <th>1202</th>\n",
       "      <td>1273064</td>\n",
       "      <td>40339506</td>\n",
       "      <td>1203</td>\n",
       "      <td>2022-08-24</td>\n",
       "    </tr>\n",
       "  </tbody>\n",
       "</table>\n",
       "</div>"
      ],
      "text/plain": [
       "      user_id  track_id  track_seq started_at\n",
       "130    844258   3581309        131 2022-06-05\n",
       "433   1091434  14937363        434 2022-06-29\n",
       "526     73981  48591660        527 2022-09-26\n",
       "9       78605    732405         10 2022-09-14\n",
       "1202  1273064  40339506       1203 2022-08-24"
      ]
     },
     "execution_count": 8,
     "metadata": {},
     "output_type": "execute_result"
    }
   ],
   "source": [
    "interactions.head()"
   ]
  },
  {
   "cell_type": "code",
   "execution_count": 9,
   "id": "c642bb4aab11d2d7",
   "metadata": {
    "ExecuteTime": {
     "end_time": "2024-11-09T22:44:38.509848Z",
     "start_time": "2024-11-09T22:44:38.504873Z"
    }
   },
   "outputs": [
    {
     "data": {
      "text/html": [
       "<div>\n",
       "<style scoped>\n",
       "    .dataframe tbody tr th:only-of-type {\n",
       "        vertical-align: middle;\n",
       "    }\n",
       "\n",
       "    .dataframe tbody tr th {\n",
       "        vertical-align: top;\n",
       "    }\n",
       "\n",
       "    .dataframe thead th {\n",
       "        text-align: right;\n",
       "    }\n",
       "</style>\n",
       "<table border=\"1\" class=\"dataframe\">\n",
       "  <thead>\n",
       "    <tr style=\"text-align: right;\">\n",
       "      <th></th>\n",
       "      <th>track_id</th>\n",
       "      <th>albums</th>\n",
       "      <th>artists</th>\n",
       "      <th>genres</th>\n",
       "    </tr>\n",
       "  </thead>\n",
       "  <tbody>\n",
       "    <tr>\n",
       "      <th>4</th>\n",
       "      <td>138</td>\n",
       "      <td>[12, 214, 322, 72275, 72292, 91199, 213505, 24...</td>\n",
       "      <td>[84]</td>\n",
       "      <td>[11]</td>\n",
       "    </tr>\n",
       "    <tr>\n",
       "      <th>7</th>\n",
       "      <td>141</td>\n",
       "      <td>[12, 214, 60093, 2490809, 10023160, 15635235, ...</td>\n",
       "      <td>[84]</td>\n",
       "      <td>[11]</td>\n",
       "    </tr>\n",
       "    <tr>\n",
       "      <th>9</th>\n",
       "      <td>144</td>\n",
       "      <td>[13, 99422]</td>\n",
       "      <td>[90]</td>\n",
       "      <td>[59, 102]</td>\n",
       "    </tr>\n",
       "    <tr>\n",
       "      <th>12</th>\n",
       "      <td>147</td>\n",
       "      <td>[13, 99422]</td>\n",
       "      <td>[90]</td>\n",
       "      <td>[59, 102]</td>\n",
       "    </tr>\n",
       "    <tr>\n",
       "      <th>14</th>\n",
       "      <td>149</td>\n",
       "      <td>[13, 99422]</td>\n",
       "      <td>[90]</td>\n",
       "      <td>[59, 102]</td>\n",
       "    </tr>\n",
       "  </tbody>\n",
       "</table>\n",
       "</div>"
      ],
      "text/plain": [
       "    track_id                                             albums artists   \n",
       "4        138  [12, 214, 322, 72275, 72292, 91199, 213505, 24...    [84]  \\\n",
       "7        141  [12, 214, 60093, 2490809, 10023160, 15635235, ...    [84]   \n",
       "9        144                                        [13, 99422]    [90]   \n",
       "12       147                                        [13, 99422]    [90]   \n",
       "14       149                                        [13, 99422]    [90]   \n",
       "\n",
       "       genres  \n",
       "4        [11]  \n",
       "7        [11]  \n",
       "9   [59, 102]  \n",
       "12  [59, 102]  \n",
       "14  [59, 102]  "
      ]
     },
     "execution_count": 9,
     "metadata": {},
     "output_type": "execute_result"
    }
   ],
   "source": [
    "tracks.head()"
   ]
  },
  {
   "cell_type": "markdown",
   "id": "e8f2a1f7-a05f-4f39-af90-5f4018aa6f9d",
   "metadata": {},
   "source": [
    "### 1.2 Обзор данных"
   ]
  },
  {
   "cell_type": "markdown",
   "id": "46a85307-896c-4fac-9fcf-f0dffa90889e",
   "metadata": {},
   "source": [
    "Проверяем данные, есть ли с ними явные проблемы."
   ]
  },
  {
   "cell_type": "code",
   "execution_count": 10,
   "id": "e8a4a916d8a62f57",
   "metadata": {
    "ExecuteTime": {
     "end_time": "2024-11-09T22:44:38.744706Z",
     "start_time": "2024-11-09T22:44:38.510579Z"
    }
   },
   "outputs": [],
   "source": [
    "# Проверка наличия треков с неизвестными исполнителями, альбомами, жанрами\n",
    "# Разделим catalog_names по типам для удобства\n",
    "artists = catalog_names[catalog_names['type'] == 'artist']\n",
    "albums = catalog_names[catalog_names['type'] == 'album']\n",
    "genres = catalog_names[catalog_names['type'] == 'genre']"
   ]
  },
  {
   "cell_type": "code",
   "execution_count": 11,
   "id": "a7b079114630d5d6",
   "metadata": {
    "ExecuteTime": {
     "end_time": "2024-11-09T22:44:38.749077Z",
     "start_time": "2024-11-09T22:44:38.745390Z"
    }
   },
   "outputs": [
    {
     "data": {
      "text/html": [
       "<div>\n",
       "<style scoped>\n",
       "    .dataframe tbody tr th:only-of-type {\n",
       "        vertical-align: middle;\n",
       "    }\n",
       "\n",
       "    .dataframe tbody tr th {\n",
       "        vertical-align: top;\n",
       "    }\n",
       "\n",
       "    .dataframe thead th {\n",
       "        text-align: right;\n",
       "    }\n",
       "</style>\n",
       "<table border=\"1\" class=\"dataframe\">\n",
       "  <thead>\n",
       "    <tr style=\"text-align: right;\">\n",
       "      <th></th>\n",
       "      <th>id</th>\n",
       "      <th>type</th>\n",
       "      <th>name</th>\n",
       "    </tr>\n",
       "  </thead>\n",
       "  <tbody>\n",
       "    <tr>\n",
       "      <th>658724</th>\n",
       "      <td>4</td>\n",
       "      <td>artist</td>\n",
       "      <td>Kenny Dorham</td>\n",
       "    </tr>\n",
       "    <tr>\n",
       "      <th>658725</th>\n",
       "      <td>5</td>\n",
       "      <td>artist</td>\n",
       "      <td>Max Roach</td>\n",
       "    </tr>\n",
       "    <tr>\n",
       "      <th>658726</th>\n",
       "      <td>7</td>\n",
       "      <td>artist</td>\n",
       "      <td>Francis Rossi</td>\n",
       "    </tr>\n",
       "    <tr>\n",
       "      <th>658727</th>\n",
       "      <td>9</td>\n",
       "      <td>artist</td>\n",
       "      <td>Status Quo</td>\n",
       "    </tr>\n",
       "    <tr>\n",
       "      <th>658728</th>\n",
       "      <td>12</td>\n",
       "      <td>artist</td>\n",
       "      <td>Phil Everly</td>\n",
       "    </tr>\n",
       "  </tbody>\n",
       "</table>\n",
       "</div>"
      ],
      "text/plain": [
       "        id    type           name\n",
       "658724   4  artist   Kenny Dorham\n",
       "658725   5  artist      Max Roach\n",
       "658726   7  artist  Francis Rossi\n",
       "658727   9  artist     Status Quo\n",
       "658728  12  artist    Phil Everly"
      ]
     },
     "execution_count": 11,
     "metadata": {},
     "output_type": "execute_result"
    }
   ],
   "source": [
    "artists.head()"
   ]
  },
  {
   "cell_type": "code",
   "execution_count": 12,
   "id": "9dfe2640743d2c12",
   "metadata": {
    "ExecuteTime": {
     "end_time": "2024-11-09T22:44:38.752902Z",
     "start_time": "2024-11-09T22:44:38.749819Z"
    }
   },
   "outputs": [
    {
     "data": {
      "text/html": [
       "<div>\n",
       "<style scoped>\n",
       "    .dataframe tbody tr th:only-of-type {\n",
       "        vertical-align: middle;\n",
       "    }\n",
       "\n",
       "    .dataframe tbody tr th {\n",
       "        vertical-align: top;\n",
       "    }\n",
       "\n",
       "    .dataframe thead th {\n",
       "        text-align: right;\n",
       "    }\n",
       "</style>\n",
       "<table border=\"1\" class=\"dataframe\">\n",
       "  <thead>\n",
       "    <tr style=\"text-align: right;\">\n",
       "      <th></th>\n",
       "      <th>id</th>\n",
       "      <th>type</th>\n",
       "      <th>name</th>\n",
       "    </tr>\n",
       "  </thead>\n",
       "  <tbody>\n",
       "    <tr>\n",
       "      <th>0</th>\n",
       "      <td>3</td>\n",
       "      <td>album</td>\n",
       "      <td>Taller Children</td>\n",
       "    </tr>\n",
       "    <tr>\n",
       "      <th>1</th>\n",
       "      <td>12</td>\n",
       "      <td>album</td>\n",
       "      <td>Wild Young Hearts</td>\n",
       "    </tr>\n",
       "    <tr>\n",
       "      <th>2</th>\n",
       "      <td>13</td>\n",
       "      <td>album</td>\n",
       "      <td>Lonesome Crow</td>\n",
       "    </tr>\n",
       "    <tr>\n",
       "      <th>3</th>\n",
       "      <td>17</td>\n",
       "      <td>album</td>\n",
       "      <td>Graffiti Soul</td>\n",
       "    </tr>\n",
       "    <tr>\n",
       "      <th>4</th>\n",
       "      <td>26</td>\n",
       "      <td>album</td>\n",
       "      <td>Blues Six Pack</td>\n",
       "    </tr>\n",
       "  </tbody>\n",
       "</table>\n",
       "</div>"
      ],
      "text/plain": [
       "   id   type               name\n",
       "0   3  album    Taller Children\n",
       "1  12  album  Wild Young Hearts\n",
       "2  13  album      Lonesome Crow\n",
       "3  17  album      Graffiti Soul\n",
       "4  26  album     Blues Six Pack"
      ]
     },
     "execution_count": 12,
     "metadata": {},
     "output_type": "execute_result"
    }
   ],
   "source": [
    "albums.head()"
   ]
  },
  {
   "cell_type": "code",
   "execution_count": 13,
   "id": "4768441da0b209fd",
   "metadata": {
    "ExecuteTime": {
     "end_time": "2024-11-09T22:44:38.759421Z",
     "start_time": "2024-11-09T22:44:38.755903Z"
    }
   },
   "outputs": [
    {
     "data": {
      "text/html": [
       "<div>\n",
       "<style scoped>\n",
       "    .dataframe tbody tr th:only-of-type {\n",
       "        vertical-align: middle;\n",
       "    }\n",
       "\n",
       "    .dataframe tbody tr th {\n",
       "        vertical-align: top;\n",
       "    }\n",
       "\n",
       "    .dataframe thead th {\n",
       "        text-align: right;\n",
       "    }\n",
       "</style>\n",
       "<table border=\"1\" class=\"dataframe\">\n",
       "  <thead>\n",
       "    <tr style=\"text-align: right;\">\n",
       "      <th></th>\n",
       "      <th>id</th>\n",
       "      <th>type</th>\n",
       "      <th>name</th>\n",
       "    </tr>\n",
       "  </thead>\n",
       "  <tbody>\n",
       "    <tr>\n",
       "      <th>812305</th>\n",
       "      <td>0</td>\n",
       "      <td>genre</td>\n",
       "      <td>all</td>\n",
       "    </tr>\n",
       "    <tr>\n",
       "      <th>812306</th>\n",
       "      <td>1</td>\n",
       "      <td>genre</td>\n",
       "      <td>eastern</td>\n",
       "    </tr>\n",
       "    <tr>\n",
       "      <th>812307</th>\n",
       "      <td>2</td>\n",
       "      <td>genre</td>\n",
       "      <td>rusrock</td>\n",
       "    </tr>\n",
       "    <tr>\n",
       "      <th>812308</th>\n",
       "      <td>3</td>\n",
       "      <td>genre</td>\n",
       "      <td>rusrap</td>\n",
       "    </tr>\n",
       "    <tr>\n",
       "      <th>812309</th>\n",
       "      <td>4</td>\n",
       "      <td>genre</td>\n",
       "      <td>postrock</td>\n",
       "    </tr>\n",
       "  </tbody>\n",
       "</table>\n",
       "</div>"
      ],
      "text/plain": [
       "        id   type      name\n",
       "812305   0  genre       all\n",
       "812306   1  genre   eastern\n",
       "812307   2  genre   rusrock\n",
       "812308   3  genre    rusrap\n",
       "812309   4  genre  postrock"
      ]
     },
     "execution_count": 13,
     "metadata": {},
     "output_type": "execute_result"
    }
   ],
   "source": [
    "genres.head()"
   ]
  },
  {
   "cell_type": "markdown",
   "id": "792214e9",
   "metadata": {},
   "source": [
    "Проверим, есть ли неизвестные исполнители, альбомы, жанры"
   ]
  },
  {
   "cell_type": "code",
   "execution_count": 14,
   "id": "fa630eb8f8dd8168",
   "metadata": {
    "ExecuteTime": {
     "end_time": "2024-11-09T22:44:43.994857Z",
     "start_time": "2024-11-09T22:44:38.760185Z"
    }
   },
   "outputs": [],
   "source": [
    "artistIds = artists['id'].values\n",
    "unknown_artists = (tracks['artists']\n",
    "                   .apply(lambda x: [artist for artist in x if artist not in artistIds])\n",
    "                   .explode()\n",
    "                   .unique())"
   ]
  },
  {
   "cell_type": "code",
   "execution_count": 15,
   "id": "7dfb73881072bf29",
   "metadata": {
    "ExecuteTime": {
     "end_time": "2024-11-09T22:45:40.761712Z",
     "start_time": "2024-11-09T22:44:43.995383Z"
    }
   },
   "outputs": [],
   "source": [
    "albumIds = albums['id'].values;\n",
    "unknown_albums = (tracks['albums']\n",
    "                  .apply(lambda x: [album for album in x if album not in albumIds])\n",
    "                  .explode()\n",
    "                  .unique())"
   ]
  },
  {
   "cell_type": "code",
   "execution_count": 16,
   "id": "3b9c090aa0623e01",
   "metadata": {
    "ExecuteTime": {
     "end_time": "2024-11-09T22:45:41.493657Z",
     "start_time": "2024-11-09T22:45:40.762324Z"
    }
   },
   "outputs": [],
   "source": [
    "genreIds = genres['id'].values\n",
    "unknown_genres = (tracks['genres']\n",
    "                  .apply(lambda x: [genre for genre in x if genre not in genreIds])\n",
    "                  .explode()\n",
    "                  .unique())"
   ]
  },
  {
   "cell_type": "code",
   "execution_count": 17,
   "id": "7d9c14e5de39e4ce",
   "metadata": {
    "ExecuteTime": {
     "end_time": "2024-11-09T22:45:41.495919Z",
     "start_time": "2024-11-09T22:45:41.494192Z"
    }
   },
   "outputs": [
    {
     "name": "stdout",
     "output_type": "stream",
     "text": [
      "Количество треков с неизвестными исполнителями: 1\n",
      "Количество треков с неизвестными альбомами: 1\n",
      "Количество треков с неизвестными жанрами: 28\n"
     ]
    }
   ],
   "source": [
    "# Выводим количество неизвестных артистов, альбомов, жанров\n",
    "print(\"Количество треков с неизвестными исполнителями:\", len(unknown_artists))\n",
    "print(\"Количество треков с неизвестными альбомами:\", len(unknown_albums))\n",
    "print(\"Количество треков с неизвестными жанрами:\", len(unknown_genres))"
   ]
  },
  {
   "cell_type": "code",
   "execution_count": 18,
   "id": "15ec59eedd9d771c",
   "metadata": {
    "ExecuteTime": {
     "end_time": "2024-11-09T22:45:41.497959Z",
     "start_time": "2024-11-09T22:45:41.496471Z"
    }
   },
   "outputs": [
    {
     "name": "stdout",
     "output_type": "stream",
     "text": [
      "[nan]\n"
     ]
    }
   ],
   "source": [
    "print(unknown_artists)"
   ]
  },
  {
   "cell_type": "code",
   "execution_count": 19,
   "id": "6ff753766da29ee5",
   "metadata": {
    "ExecuteTime": {
     "end_time": "2024-11-09T22:45:41.499685Z",
     "start_time": "2024-11-09T22:45:41.498445Z"
    }
   },
   "outputs": [
    {
     "name": "stdout",
     "output_type": "stream",
     "text": [
      "[nan]\n"
     ]
    }
   ],
   "source": [
    "print(unknown_albums)"
   ]
  },
  {
   "cell_type": "code",
   "execution_count": 20,
   "id": "226c684b1d9ffb8e",
   "metadata": {
    "ExecuteTime": {
     "end_time": "2024-11-09T22:45:41.501478Z",
     "start_time": "2024-11-09T22:45:41.500176Z"
    }
   },
   "outputs": [
    {
     "name": "stdout",
     "output_type": "stream",
     "text": [
      "[nan 162 163 151 157 169 164 161 158 155 165 154 156 159 168 167 153 160\n",
      " 152 133 126 132 146 131 130 135 166 134]\n"
     ]
    }
   ],
   "source": [
    "print(unknown_genres)"
   ]
  },
  {
   "cell_type": "markdown",
   "id": "318b573a-9e2d-4808-95db-60cfb8bbdb73",
   "metadata": {
    "editable": true,
    "slideshow": {
     "slide_type": ""
    },
    "tags": []
   },
   "source": [
    "### 1.3 Выводы"
   ]
  },
  {
   "cell_type": "markdown",
   "id": "c5381a4fe2f71641",
   "metadata": {},
   "source": [
    "Есть 30 неизвестных жанров. Заменим их на существующий жанр ALL (id=0)"
   ]
  },
  {
   "cell_type": "code",
   "execution_count": 21,
   "id": "883f8962dd6d738e",
   "metadata": {
    "ExecuteTime": {
     "end_time": "2024-11-09T22:45:41.504372Z",
     "start_time": "2024-11-09T22:45:41.501847Z"
    }
   },
   "outputs": [
    {
     "data": {
      "text/html": [
       "<div>\n",
       "<style scoped>\n",
       "    .dataframe tbody tr th:only-of-type {\n",
       "        vertical-align: middle;\n",
       "    }\n",
       "\n",
       "    .dataframe tbody tr th {\n",
       "        vertical-align: top;\n",
       "    }\n",
       "\n",
       "    .dataframe thead th {\n",
       "        text-align: right;\n",
       "    }\n",
       "</style>\n",
       "<table border=\"1\" class=\"dataframe\">\n",
       "  <thead>\n",
       "    <tr style=\"text-align: right;\">\n",
       "      <th></th>\n",
       "      <th>id</th>\n",
       "      <th>type</th>\n",
       "      <th>name</th>\n",
       "    </tr>\n",
       "  </thead>\n",
       "  <tbody>\n",
       "    <tr>\n",
       "      <th>812305</th>\n",
       "      <td>0</td>\n",
       "      <td>genre</td>\n",
       "      <td>all</td>\n",
       "    </tr>\n",
       "  </tbody>\n",
       "</table>\n",
       "</div>"
      ],
      "text/plain": [
       "        id   type name\n",
       "812305   0  genre  all"
      ]
     },
     "execution_count": 21,
     "metadata": {},
     "output_type": "execute_result"
    }
   ],
   "source": [
    "genres[genres['id'] == 0]"
   ]
  },
  {
   "cell_type": "code",
   "execution_count": 22,
   "id": "50d1a71de5a9019c",
   "metadata": {
    "ExecuteTime": {
     "end_time": "2024-11-09T22:45:41.506001Z",
     "start_time": "2024-11-09T22:45:41.504860Z"
    }
   },
   "outputs": [],
   "source": [
    "unknown_genres_set = set(unknown_genres)"
   ]
  },
  {
   "cell_type": "code",
   "execution_count": 23,
   "id": "b2110616cded1892",
   "metadata": {
    "ExecuteTime": {
     "end_time": "2024-11-09T22:45:41.513317Z",
     "start_time": "2024-11-09T22:45:41.506435Z"
    }
   },
   "outputs": [],
   "source": [
    "upd_tracks = tracks.copy()"
   ]
  },
  {
   "cell_type": "code",
   "execution_count": 24,
   "id": "e3a997743f359e5a",
   "metadata": {
    "ExecuteTime": {
     "end_time": "2024-11-09T22:45:41.694852Z",
     "start_time": "2024-11-09T22:45:41.513873Z"
    }
   },
   "outputs": [],
   "source": [
    "upd_tracks['genres'] = upd_tracks['genres'].apply(lambda genres_list: [0 if genre in unknown_genres_set else genre for genre in genres_list])"
   ]
  },
  {
   "cell_type": "code",
   "execution_count": 25,
   "id": "1467ff4cde6784ad",
   "metadata": {
    "ExecuteTime": {
     "end_time": "2024-11-09T22:45:42.327431Z",
     "start_time": "2024-11-09T22:45:41.695330Z"
    }
   },
   "outputs": [],
   "source": [
    "upd_unknown_genres = (upd_tracks['genres']\n",
    "                  .apply(lambda x: [genre for genre in x if genre not in genreIds])\n",
    "                  .explode()\n",
    "                  .unique())"
   ]
  },
  {
   "cell_type": "code",
   "execution_count": 26,
   "id": "be8089e7fde8c712",
   "metadata": {
    "ExecuteTime": {
     "end_time": "2024-11-09T22:45:42.329513Z",
     "start_time": "2024-11-09T22:45:42.328015Z"
    }
   },
   "outputs": [
    {
     "name": "stdout",
     "output_type": "stream",
     "text": [
      "[nan]\n"
     ]
    }
   ],
   "source": [
    "print(upd_unknown_genres)"
   ]
  },
  {
   "cell_type": "markdown",
   "id": "7bc3296b-eba6-4333-a78d-b9304aa87e3d",
   "metadata": {},
   "source": [
    "## === ЭТАП 2 ==="
   ]
  },
  {
   "cell_type": "markdown",
   "id": "68e73960-fd38-4e15-8db0-9a25c35dfd25",
   "metadata": {},
   "source": [
    "### 2.1 EDA"
   ]
  },
  {
   "cell_type": "markdown",
   "id": "a30e823e-8e0f-4a76-a02e-8d1ba8bf0f8a",
   "metadata": {},
   "source": [
    "#### 2.1.1 Распределение количества прослушанных треков."
   ]
  },
  {
   "cell_type": "code",
   "execution_count": 27,
   "id": "9bf5eaba-35f7-4da7-be59-9ab4a34b2423",
   "metadata": {
    "ExecuteTime": {
     "end_time": "2024-11-09T22:45:42.359945Z",
     "start_time": "2024-11-09T22:45:42.330058Z"
    }
   },
   "outputs": [],
   "source": [
    "user_track_counts = interactions['user_id'].value_counts()"
   ]
  },
  {
   "cell_type": "code",
   "execution_count": 28,
   "id": "1149e3fc334fea6f",
   "metadata": {
    "ExecuteTime": {
     "end_time": "2024-11-09T22:45:42.485274Z",
     "start_time": "2024-11-09T22:45:42.360548Z"
    }
   },
   "outputs": [
    {
     "data": {
      "image/png": "[encoded data removed]",
      "text/plain": [
       "<Figure size 1000x600 with 1 Axes>"
      ]
     },
     "metadata": {},
     "output_type": "display_data"
    }
   ],
   "source": [
    "plt.figure(figsize=(10, 6))\n",
    "plt.hist(user_track_counts, bins=50, edgecolor='black')\n",
    "plt.title(\"Распределение количества прослушанных треков на пользователя\")\n",
    "plt.xlabel(\"Количество прослушанных треков\")\n",
    "plt.ylabel(\"Частота\")\n",
    "plt.show()"
   ]
  },
  {
   "cell_type": "markdown",
   "id": "d765519a-18dd-4d30-9e29-cc2d84cacd79",
   "metadata": {},
   "source": [
    "#### 2.1.2 Наиболее популярные треки"
   ]
  },
  {
   "cell_type": "code",
   "execution_count": 29,
   "id": "aecaf630-fde0-4860-b84a-42c933a9606e",
   "metadata": {
    "ExecuteTime": {
     "end_time": "2024-11-09T22:45:42.666732Z",
     "start_time": "2024-11-09T22:45:42.485836Z"
    }
   },
   "outputs": [],
   "source": [
    "popular_tracks = interactions['track_id'].value_counts().head(10)\n",
    "popular_track_names = pd.merge(popular_tracks.rename('count').reset_index(), \n",
    "                               catalog_names[catalog_names['type'] == 'track'][['id', 'name']], \n",
    "                               left_on='track_id', right_on='id', \n",
    "                               how='left').drop(columns=['id'])\n",
    "popular_track_names.rename(columns={'index': 'track_id', 'name': 'track_name'}, inplace=True)"
   ]
  },
  {
   "cell_type": "code",
   "execution_count": 30,
   "id": "d0c3d01dda56538f",
   "metadata": {
    "ExecuteTime": {
     "end_time": "2024-11-09T22:45:42.669211Z",
     "start_time": "2024-11-09T22:45:42.667217Z"
    }
   },
   "outputs": [
    {
     "name": "stdout",
     "output_type": "stream",
     "text": [
      "Наиболее популярные треки:\n",
      "   track_id  count               track_name\n",
      "0  33311009    698                 Believer\n",
      "1     53404    631  Smells Like Teen Spirit\n",
      "2    178529    589                     Numb\n",
      "3  35505245    581               I Got Love\n",
      "4  65851540    555                   Юность\n",
      "5  24692821    533           Way Down We Go\n",
      "6  29544272    516                    Human\n",
      "7    795836    512        Shape Of My Heart\n",
      "8  32947997    511             Shape of You\n",
      "9  39257277    509               In My Mind\n"
     ]
    }
   ],
   "source": [
    "print(\"Наиболее популярные треки:\")\n",
    "print(popular_track_names)"
   ]
  },
  {
   "cell_type": "markdown",
   "id": "b1c32a5a-d3be-4f96-8dd9-f7860951020c",
   "metadata": {},
   "source": [
    "#### 2.1.3 Наиболее популярные жанры"
   ]
  },
  {
   "cell_type": "code",
   "execution_count": 31,
   "id": "1bc50491-9235-4d3c-a6c2-297f7c05a959",
   "metadata": {
    "ExecuteTime": {
     "end_time": "2024-11-09T22:45:42.950949Z",
     "start_time": "2024-11-09T22:45:42.673129Z"
    }
   },
   "outputs": [],
   "source": [
    "# Разворачиваем список жанров в interactions и upd_tracks для анализа\n",
    "track_genres = upd_tracks[['track_id', 'genres']].explode('genres')\n",
    "merged_interactions = interactions.merge(track_genres, on='track_id', how='left')\n",
    "genre_counts = merged_interactions['genres'].value_counts().head(10)"
   ]
  },
  {
   "cell_type": "code",
   "execution_count": 32,
   "id": "7ef579f8244509cb",
   "metadata": {
    "ExecuteTime": {
     "end_time": "2024-11-09T22:45:42.953919Z",
     "start_time": "2024-11-09T22:45:42.951588Z"
    }
   },
   "outputs": [
    {
     "data": {
      "text/plain": [
       "genres\n",
       "11     333843\n",
       "75     227259\n",
       "102    186665\n",
       "20     159767\n",
       "3      152221\n",
       "68     120304\n",
       "16      97624\n",
       "2       78689\n",
       "14      76725\n",
       "47      74522\n",
       "Name: count, dtype: int64"
      ]
     },
     "execution_count": 32,
     "metadata": {},
     "output_type": "execute_result"
    }
   ],
   "source": [
    "genre_counts.head(20)"
   ]
  },
  {
   "cell_type": "code",
   "execution_count": 33,
   "id": "e8c53c6f1b460113",
   "metadata": {
    "ExecuteTime": {
     "end_time": "2024-11-09T22:45:43.001320Z",
     "start_time": "2024-11-09T22:45:42.954480Z"
    }
   },
   "outputs": [],
   "source": [
    "# Подключаем названия жанров\n",
    "popular_genres = pd.merge(genre_counts.rename('count').reset_index(), \n",
    "                          catalog_names[catalog_names['type'] == 'genre'][['id', 'name']], \n",
    "                          left_on='genres', right_on='id', \n",
    "                          how='left').drop(columns=['id'])\n",
    "popular_genres.rename(columns={'genres': 'genre_id', 'name': 'genre_name'}, inplace=True)"
   ]
  },
  {
   "cell_type": "code",
   "execution_count": 34,
   "id": "9a268cfebdec908",
   "metadata": {
    "ExecuteTime": {
     "end_time": "2024-11-09T22:45:43.003789Z",
     "start_time": "2024-11-09T22:45:43.002100Z"
    }
   },
   "outputs": [
    {
     "name": "stdout",
     "output_type": "stream",
     "text": [
      "\n",
      "Наиболее популярные жанры:\n",
      "   genre_id   count   genre_name\n",
      "0        11  333843          pop\n",
      "1        75  227259          rap\n",
      "2       102  186665      allrock\n",
      "3        20  159767       ruspop\n",
      "4         3  152221       rusrap\n",
      "5        68  120304  electronics\n",
      "6        16   97624        dance\n",
      "7         2   78689      rusrock\n",
      "8        14   76725         rock\n",
      "9        47   74522        metal\n"
     ]
    }
   ],
   "source": [
    "print(\"\\nНаиболее популярные жанры:\")\n",
    "print(popular_genres)"
   ]
  },
  {
   "cell_type": "markdown",
   "id": "15254e66-e80e-473b-ba24-abebea5ccac7",
   "metadata": {},
   "source": [
    "#### 2.1.3 Треки, которые никто не прослушал"
   ]
  },
  {
   "cell_type": "code",
   "execution_count": 35,
   "id": "50bc50c6-2d83-4c7e-97fa-3e7627978438",
   "metadata": {
    "ExecuteTime": {
     "end_time": "2024-11-09T22:45:43.038377Z",
     "start_time": "2024-11-09T22:45:43.004250Z"
    }
   },
   "outputs": [],
   "source": [
    "all_tracks = set(upd_tracks['track_id'].unique())\n",
    "listened_tracks = set(interactions['track_id'].unique())"
   ]
  },
  {
   "cell_type": "code",
   "execution_count": 36,
   "id": "342202633c8434fe",
   "metadata": {
    "ExecuteTime": {
     "end_time": "2024-11-09T22:45:43.068833Z",
     "start_time": "2024-11-09T22:45:43.039080Z"
    }
   },
   "outputs": [],
   "source": [
    "unlistened_tracks = all_tracks - listened_tracks"
   ]
  },
  {
   "cell_type": "code",
   "execution_count": 37,
   "id": "dae19247e936d1a3",
   "metadata": {
    "ExecuteTime": {
     "end_time": "2024-11-09T22:45:43.118823Z",
     "start_time": "2024-11-09T22:45:43.069406Z"
    }
   },
   "outputs": [
    {
     "name": "stdout",
     "output_type": "stream",
     "text": [
      "\n",
      "Треки, которые никто не прослушал:\n",
      "Empty DataFrame\n",
      "Columns: [id, name]\n",
      "Index: []\n"
     ]
    }
   ],
   "source": [
    "# Получаем названия треков, которые никто не слушал\n",
    "unlistened_tracks_df = catalog_names[(catalog_names['type'] == 'track') & (catalog_names['id'].isin(unlistened_tracks))]\n",
    "print(\"\\nТреки, которые никто не прослушал:\")\n",
    "print(unlistened_tracks_df[['id', 'name']])"
   ]
  },
  {
   "cell_type": "markdown",
   "id": "0d850a07-ef1e-462f-891a-1cf89f2e24ef",
   "metadata": {},
   "source": [
    "### 2.2 Преобразование данных"
   ]
  },
  {
   "cell_type": "markdown",
   "id": "fabcf8d2-1192-4df5-b20b-fbb84689f57a",
   "metadata": {},
   "source": [
    "Преобразуем данные в формат, более пригодный для дальнейшего использования в расчётах рекомендаций."
   ]
  },
  {
   "cell_type": "code",
   "execution_count": 38,
   "id": "dacf9f2cd8adb528",
   "metadata": {
    "ExecuteTime": {
     "end_time": "2024-11-09T22:45:43.122820Z",
     "start_time": "2024-11-09T22:45:43.119288Z"
    }
   },
   "outputs": [
    {
     "data": {
      "text/html": [
       "<div>\n",
       "<style scoped>\n",
       "    .dataframe tbody tr th:only-of-type {\n",
       "        vertical-align: middle;\n",
       "    }\n",
       "\n",
       "    .dataframe tbody tr th {\n",
       "        vertical-align: top;\n",
       "    }\n",
       "\n",
       "    .dataframe thead th {\n",
       "        text-align: right;\n",
       "    }\n",
       "</style>\n",
       "<table border=\"1\" class=\"dataframe\">\n",
       "  <thead>\n",
       "    <tr style=\"text-align: right;\">\n",
       "      <th></th>\n",
       "      <th>track_id</th>\n",
       "      <th>albums</th>\n",
       "      <th>artists</th>\n",
       "      <th>genres</th>\n",
       "    </tr>\n",
       "  </thead>\n",
       "  <tbody>\n",
       "    <tr>\n",
       "      <th>4</th>\n",
       "      <td>138</td>\n",
       "      <td>[12, 214, 322, 72275, 72292, 91199, 213505, 24...</td>\n",
       "      <td>[84]</td>\n",
       "      <td>[11]</td>\n",
       "    </tr>\n",
       "    <tr>\n",
       "      <th>7</th>\n",
       "      <td>141</td>\n",
       "      <td>[12, 214, 60093, 2490809, 10023160, 15635235, ...</td>\n",
       "      <td>[84]</td>\n",
       "      <td>[11]</td>\n",
       "    </tr>\n",
       "    <tr>\n",
       "      <th>9</th>\n",
       "      <td>144</td>\n",
       "      <td>[13, 99422]</td>\n",
       "      <td>[90]</td>\n",
       "      <td>[59, 102]</td>\n",
       "    </tr>\n",
       "    <tr>\n",
       "      <th>12</th>\n",
       "      <td>147</td>\n",
       "      <td>[13, 99422]</td>\n",
       "      <td>[90]</td>\n",
       "      <td>[59, 102]</td>\n",
       "    </tr>\n",
       "    <tr>\n",
       "      <th>14</th>\n",
       "      <td>149</td>\n",
       "      <td>[13, 99422]</td>\n",
       "      <td>[90]</td>\n",
       "      <td>[59, 102]</td>\n",
       "    </tr>\n",
       "  </tbody>\n",
       "</table>\n",
       "</div>"
      ],
      "text/plain": [
       "    track_id                                             albums artists   \n",
       "4        138  [12, 214, 322, 72275, 72292, 91199, 213505, 24...    [84]  \\\n",
       "7        141  [12, 214, 60093, 2490809, 10023160, 15635235, ...    [84]   \n",
       "9        144                                        [13, 99422]    [90]   \n",
       "12       147                                        [13, 99422]    [90]   \n",
       "14       149                                        [13, 99422]    [90]   \n",
       "\n",
       "       genres  \n",
       "4        [11]  \n",
       "7        [11]  \n",
       "9   [59, 102]  \n",
       "12  [59, 102]  \n",
       "14  [59, 102]  "
      ]
     },
     "execution_count": 38,
     "metadata": {},
     "output_type": "execute_result"
    }
   ],
   "source": [
    "upd_tracks.head()"
   ]
  },
  {
   "cell_type": "code",
   "execution_count": 39,
   "id": "3108d196621381a5",
   "metadata": {
    "ExecuteTime": {
     "end_time": "2024-11-09T22:45:43.124660Z",
     "start_time": "2024-11-09T22:45:43.123210Z"
    }
   },
   "outputs": [],
   "source": [
    "genresDict = genres.set_index('id')['name'].to_dict()"
   ]
  },
  {
   "cell_type": "code",
   "execution_count": 40,
   "id": "b307f2a198f61762",
   "metadata": {
    "ExecuteTime": {
     "end_time": "2024-11-09T22:45:43.243585Z",
     "start_time": "2024-11-09T22:45:43.125126Z"
    }
   },
   "outputs": [],
   "source": [
    "upd_tracks['genres'] = upd_tracks['genres'].apply(lambda genres_list: [genresDict[genreId] for genreId in genres_list])"
   ]
  },
  {
   "cell_type": "code",
   "execution_count": 41,
   "id": "c9c5a454eb6bb650",
   "metadata": {
    "ExecuteTime": {
     "end_time": "2024-11-09T22:45:43.763505Z",
     "start_time": "2024-11-09T22:45:43.244122Z"
    }
   },
   "outputs": [],
   "source": [
    "albumsDict = albums.set_index('id')['name'].to_dict()\n",
    "upd_tracks['albums'] = upd_tracks['albums'].apply(lambda albums_list: [albumsDict[albumId] for albumId in albums_list])"
   ]
  },
  {
   "cell_type": "code",
   "execution_count": 42,
   "id": "e84fe12a442ed4ca",
   "metadata": {
    "ExecuteTime": {
     "end_time": "2024-11-09T22:45:44.004020Z",
     "start_time": "2024-11-09T22:45:43.764070Z"
    }
   },
   "outputs": [],
   "source": [
    "artistsDict = artists.set_index('id')['name'].to_dict()\n",
    "upd_tracks['artists'] = upd_tracks['artists'].apply(lambda artists_list: [artistsDict[artistId] for artistId in artists_list])"
   ]
  },
  {
   "cell_type": "code",
   "execution_count": 43,
   "id": "7b120b3176d573e7",
   "metadata": {
    "ExecuteTime": {
     "end_time": "2024-11-09T22:45:44.006330Z",
     "start_time": "2024-11-09T22:45:44.004713Z"
    }
   },
   "outputs": [],
   "source": [
    "upd_tracks.rename(columns={'track_id': 'item_id'}, inplace=True)"
   ]
  },
  {
   "cell_type": "code",
   "execution_count": 44,
   "id": "4907769f2662bec2",
   "metadata": {
    "ExecuteTime": {
     "end_time": "2024-11-09T22:45:44.010499Z",
     "start_time": "2024-11-09T22:45:44.006790Z"
    }
   },
   "outputs": [
    {
     "data": {
      "text/html": [
       "<div>\n",
       "<style scoped>\n",
       "    .dataframe tbody tr th:only-of-type {\n",
       "        vertical-align: middle;\n",
       "    }\n",
       "\n",
       "    .dataframe tbody tr th {\n",
       "        vertical-align: top;\n",
       "    }\n",
       "\n",
       "    .dataframe thead th {\n",
       "        text-align: right;\n",
       "    }\n",
       "</style>\n",
       "<table border=\"1\" class=\"dataframe\">\n",
       "  <thead>\n",
       "    <tr style=\"text-align: right;\">\n",
       "      <th></th>\n",
       "      <th>item_id</th>\n",
       "      <th>albums</th>\n",
       "      <th>artists</th>\n",
       "      <th>genres</th>\n",
       "    </tr>\n",
       "  </thead>\n",
       "  <tbody>\n",
       "    <tr>\n",
       "      <th>4</th>\n",
       "      <td>138</td>\n",
       "      <td>[Wild Young Hearts, Wild Young Hearts, Don't U...</td>\n",
       "      <td>[Noisettes]</td>\n",
       "      <td>[pop]</td>\n",
       "    </tr>\n",
       "    <tr>\n",
       "      <th>7</th>\n",
       "      <td>141</td>\n",
       "      <td>[Wild Young Hearts, Wild Young Hearts, I Am Wo...</td>\n",
       "      <td>[Noisettes]</td>\n",
       "      <td>[pop]</td>\n",
       "    </tr>\n",
       "    <tr>\n",
       "      <th>9</th>\n",
       "      <td>144</td>\n",
       "      <td>[Lonesome Crow, Lonesome Crow]</td>\n",
       "      <td>[Scorpions]</td>\n",
       "      <td>[hardrock, allrock]</td>\n",
       "    </tr>\n",
       "    <tr>\n",
       "      <th>12</th>\n",
       "      <td>147</td>\n",
       "      <td>[Lonesome Crow, Lonesome Crow]</td>\n",
       "      <td>[Scorpions]</td>\n",
       "      <td>[hardrock, allrock]</td>\n",
       "    </tr>\n",
       "    <tr>\n",
       "      <th>14</th>\n",
       "      <td>149</td>\n",
       "      <td>[Lonesome Crow, Lonesome Crow]</td>\n",
       "      <td>[Scorpions]</td>\n",
       "      <td>[hardrock, allrock]</td>\n",
       "    </tr>\n",
       "  </tbody>\n",
       "</table>\n",
       "</div>"
      ],
      "text/plain": [
       "    item_id                                             albums      artists   \n",
       "4       138  [Wild Young Hearts, Wild Young Hearts, Don't U...  [Noisettes]  \\\n",
       "7       141  [Wild Young Hearts, Wild Young Hearts, I Am Wo...  [Noisettes]   \n",
       "9       144                     [Lonesome Crow, Lonesome Crow]  [Scorpions]   \n",
       "12      147                     [Lonesome Crow, Lonesome Crow]  [Scorpions]   \n",
       "14      149                     [Lonesome Crow, Lonesome Crow]  [Scorpions]   \n",
       "\n",
       "                 genres  \n",
       "4                 [pop]  \n",
       "7                 [pop]  \n",
       "9   [hardrock, allrock]  \n",
       "12  [hardrock, allrock]  \n",
       "14  [hardrock, allrock]  "
      ]
     },
     "execution_count": 44,
     "metadata": {},
     "output_type": "execute_result"
    }
   ],
   "source": [
    "upd_tracks.head()"
   ]
  },
  {
   "cell_type": "code",
   "execution_count": 45,
   "id": "ecd58c8fa5c80260",
   "metadata": {
    "ExecuteTime": {
     "end_time": "2024-11-09T22:45:44.012290Z",
     "start_time": "2024-11-09T22:45:44.010880Z"
    }
   },
   "outputs": [],
   "source": [
    "interactions.rename(columns={'track_id': 'item_id'}, inplace=True)"
   ]
  },
  {
   "cell_type": "code",
   "execution_count": 46,
   "id": "af5a45d65ef21154",
   "metadata": {
    "ExecuteTime": {
     "end_time": "2024-11-09T22:45:44.015148Z",
     "start_time": "2024-11-09T22:45:44.012754Z"
    }
   },
   "outputs": [
    {
     "data": {
      "text/html": [
       "<div>\n",
       "<style scoped>\n",
       "    .dataframe tbody tr th:only-of-type {\n",
       "        vertical-align: middle;\n",
       "    }\n",
       "\n",
       "    .dataframe tbody tr th {\n",
       "        vertical-align: top;\n",
       "    }\n",
       "\n",
       "    .dataframe thead th {\n",
       "        text-align: right;\n",
       "    }\n",
       "</style>\n",
       "<table border=\"1\" class=\"dataframe\">\n",
       "  <thead>\n",
       "    <tr style=\"text-align: right;\">\n",
       "      <th></th>\n",
       "      <th>user_id</th>\n",
       "      <th>item_id</th>\n",
       "      <th>track_seq</th>\n",
       "      <th>started_at</th>\n",
       "    </tr>\n",
       "  </thead>\n",
       "  <tbody>\n",
       "    <tr>\n",
       "      <th>130</th>\n",
       "      <td>844258</td>\n",
       "      <td>3581309</td>\n",
       "      <td>131</td>\n",
       "      <td>2022-06-05</td>\n",
       "    </tr>\n",
       "    <tr>\n",
       "      <th>433</th>\n",
       "      <td>1091434</td>\n",
       "      <td>14937363</td>\n",
       "      <td>434</td>\n",
       "      <td>2022-06-29</td>\n",
       "    </tr>\n",
       "    <tr>\n",
       "      <th>526</th>\n",
       "      <td>73981</td>\n",
       "      <td>48591660</td>\n",
       "      <td>527</td>\n",
       "      <td>2022-09-26</td>\n",
       "    </tr>\n",
       "    <tr>\n",
       "      <th>9</th>\n",
       "      <td>78605</td>\n",
       "      <td>732405</td>\n",
       "      <td>10</td>\n",
       "      <td>2022-09-14</td>\n",
       "    </tr>\n",
       "    <tr>\n",
       "      <th>1202</th>\n",
       "      <td>1273064</td>\n",
       "      <td>40339506</td>\n",
       "      <td>1203</td>\n",
       "      <td>2022-08-24</td>\n",
       "    </tr>\n",
       "  </tbody>\n",
       "</table>\n",
       "</div>"
      ],
      "text/plain": [
       "      user_id   item_id  track_seq started_at\n",
       "130    844258   3581309        131 2022-06-05\n",
       "433   1091434  14937363        434 2022-06-29\n",
       "526     73981  48591660        527 2022-09-26\n",
       "9       78605    732405         10 2022-09-14\n",
       "1202  1273064  40339506       1203 2022-08-24"
      ]
     },
     "execution_count": 46,
     "metadata": {},
     "output_type": "execute_result"
    }
   ],
   "source": [
    "interactions.head()"
   ]
  },
  {
   "cell_type": "markdown",
   "id": "4d1be653-eed8-4fa0-a9c5-3811b080d71d",
   "metadata": {},
   "source": [
    "### 2.3 Сохранение данных"
   ]
  },
  {
   "cell_type": "markdown",
   "id": "36f1314a-3af3-4faf-a0b1-3045173d1500",
   "metadata": {},
   "source": [
    "Сохраним данные в двух файлах в персональном S3-бакете по пути `recsys/data/`:\n",
    "- `items.parquet` — все данные о музыкальных треках,\n",
    "- `events.parquet` — все данные о взаимодействиях."
   ]
  },
  {
   "cell_type": "code",
   "execution_count": 47,
   "id": "9f77af17-7705-4fae-9aad-db579b39faad",
   "metadata": {
    "ExecuteTime": {
     "end_time": "2024-11-09T22:45:44.283509Z",
     "start_time": "2024-11-09T22:45:44.015593Z"
    }
   },
   "outputs": [],
   "source": [
    "upd_tracks.to_parquet(\"./data/items.parquet\")"
   ]
  },
  {
   "cell_type": "code",
   "execution_count": 48,
   "id": "1bc6a25f19dc4140",
   "metadata": {
    "ExecuteTime": {
     "end_time": "2024-11-09T22:45:44.382756Z",
     "start_time": "2024-11-09T22:45:44.285239Z"
    }
   },
   "outputs": [],
   "source": [
    "interactions.to_parquet(\"./data/events.parquet\")"
   ]
  },
  {
   "cell_type": "markdown",
   "id": "72ecbbed-c560-44d9-9c14-86c7dc76f399",
   "metadata": {},
   "source": [
    "### 2.4 Очистка памяти"
   ]
  },
  {
   "cell_type": "markdown",
   "id": "b5358ede-ba6e-4c4f-bd73-5b9344f0ba79",
   "metadata": {},
   "source": [
    "Здесь, может понадобится очистка памяти для высвобождения ресурсов для выполнения кода ниже. \n",
    "\n",
    "Приведите соответствующие код, комментарии, например:\n",
    "- код для удаление более ненужных переменных,\n",
    "- комментарий, что следует перезапустить kernel, выполнить такие-то начальные секции и продолжить с этапа 3."
   ]
  },
  {
   "cell_type": "code",
   "execution_count": 49,
   "id": "767fe920-e12e-4ad8-b04e-56e8091fac9f",
   "metadata": {
    "ExecuteTime": {
     "end_time": "2024-11-09T22:45:44.384892Z",
     "start_time": "2024-11-09T22:45:44.383329Z"
    }
   },
   "outputs": [],
   "source": [
    "del tracks\n",
    "del upd_tracks\n",
    "del interactions\n",
    "del catalog_names"
   ]
  },
  {
   "cell_type": "markdown",
   "id": "708503df-ee89-4cf3-8489-093dc478e2a8",
   "metadata": {},
   "source": [
    "## === ЭТАП 3 ==="
   ]
  },
  {
   "cell_type": "markdown",
   "id": "fd77de22-e10f-4b42-85c1-8fb6f805fe68",
   "metadata": {},
   "source": [
    "### 3.1 Загрузка данных"
   ]
  },
  {
   "cell_type": "markdown",
   "id": "780a4241-1ecd-4a3e-bbb3-fc2f6ca94f68",
   "metadata": {},
   "source": [
    "Если необходимо, то загружаем items.parquet, events.parquet."
   ]
  },
  {
   "cell_type": "code",
   "execution_count": 50,
   "id": "f19fc8a5-bd2c-40d7-864a-ee75aca6d512",
   "metadata": {
    "ExecuteTime": {
     "end_time": "2024-11-09T22:45:44.561451Z",
     "start_time": "2024-11-09T22:45:44.385527Z"
    }
   },
   "outputs": [],
   "source": [
    "items = pd.read_parquet(\"./data/items.parquet\")"
   ]
  },
  {
   "cell_type": "code",
   "execution_count": 51,
   "id": "5db1e801-5845-4ce3-86f2-c2fa30f68cc5",
   "metadata": {
    "ExecuteTime": {
     "end_time": "2024-11-09T22:45:44.574206Z",
     "start_time": "2024-11-09T22:45:44.562215Z"
    }
   },
   "outputs": [],
   "source": [
    "events = pd.read_parquet(\"./data/events.parquet\")"
   ]
  },
  {
   "cell_type": "markdown",
   "id": "a694c023-6477-490b-939d-1cfa6f5f1b72",
   "metadata": {},
   "source": [
    "### 3.2 Разбиение данных"
   ]
  },
  {
   "cell_type": "markdown",
   "id": "fbd5f6e0-54e7-4428-8678-eabce505d82c",
   "metadata": {},
   "source": [
    "Разбиваем данные на тренировочную, тестовую выборки: в тренировочную все данные до 16 декабря 2022 года (не включительно)."
   ]
  },
  {
   "cell_type": "code",
   "execution_count": 52,
   "id": "00c2dfa5-d8a2-47d1-922e-6eefee2c62d1",
   "metadata": {
    "ExecuteTime": {
     "end_time": "2024-11-09T22:45:44.578505Z",
     "start_time": "2024-11-09T22:45:44.574792Z"
    }
   },
   "outputs": [],
   "source": [
    "# зададим точку разбиения\n",
    "train_test_global_time_split_date = pd.to_datetime(\"2022-12-16\")"
   ]
  },
  {
   "cell_type": "code",
   "execution_count": 53,
   "id": "26fe3e3c-8c5f-4437-bf13-9191adef08bb",
   "metadata": {
    "ExecuteTime": {
     "end_time": "2024-11-09T22:45:44.597208Z",
     "start_time": "2024-11-09T22:45:44.579065Z"
    }
   },
   "outputs": [],
   "source": [
    "train_test_global_time_split_idx = events[\"started_at\"] < train_test_global_time_split_date\n",
    "events_train = events[train_test_global_time_split_idx]\n",
    "events_test = events[~train_test_global_time_split_idx]"
   ]
  },
  {
   "cell_type": "code",
   "execution_count": 54,
   "id": "1e8b19ebb87d0537",
   "metadata": {
    "ExecuteTime": {
     "end_time": "2024-11-09T22:45:44.926692Z",
     "start_time": "2024-11-09T22:45:44.597826Z"
    }
   },
   "outputs": [],
   "source": [
    "# перекодируем идентификаторы пользователей:\n",
    "# из имеющихся в последовательность 0, 1, 2, ...\n",
    "user_encoder = sklearn.preprocessing.LabelEncoder()\n",
    "user_encoder.fit(events[\"user_id\"])\n",
    "events_train[\"user_id_enc\"] = user_encoder.transform(events_train[\"user_id\"])\n",
    "events_test[\"user_id_enc\"] = user_encoder.transform(events_test[\"user_id\"])"
   ]
  },
  {
   "cell_type": "code",
   "execution_count": 55,
   "id": "87ed7cae009ed1b5",
   "metadata": {
    "ExecuteTime": {
     "end_time": "2024-11-09T22:45:45.292755Z",
     "start_time": "2024-11-09T22:45:44.927394Z"
    }
   },
   "outputs": [],
   "source": [
    "# перекодируем идентификаторы объектов:\n",
    "# из имеющихся в последовательность 0, 1, 2, ...\n",
    "item_encoder = sklearn.preprocessing.LabelEncoder()\n",
    "item_encoder.fit(items[\"item_id\"])\n",
    "items[\"item_id_enc\"] = item_encoder.transform(items[\"item_id\"])\n",
    "events_train[\"item_id_enc\"] = item_encoder.transform(events_train[\"item_id\"])\n",
    "events_test[\"item_id_enc\"] = item_encoder.transform(events_test[\"item_id\"])"
   ]
  },
  {
   "cell_type": "code",
   "execution_count": 56,
   "id": "416feb7de471ef74",
   "metadata": {
    "ExecuteTime": {
     "end_time": "2024-11-09T22:45:45.314799Z",
     "start_time": "2024-11-09T22:45:45.293660Z"
    }
   },
   "outputs": [],
   "source": [
    "# количество пользователей в train и test\n",
    "users_train = events_train[\"user_id\"].drop_duplicates()\n",
    "users_test = events_test[\"user_id\"].drop_duplicates()"
   ]
  },
  {
   "cell_type": "code",
   "execution_count": 57,
   "id": "53008c9ad98b3dc0",
   "metadata": {
    "ExecuteTime": {
     "end_time": "2024-11-09T22:45:45.379121Z",
     "start_time": "2024-11-09T22:45:45.315608Z"
    }
   },
   "outputs": [],
   "source": [
    "# количество пользователей, которые есть и в train, и в test\n",
    "common_users = set(users_train) & set(users_test)"
   ]
  },
  {
   "cell_type": "code",
   "execution_count": 58,
   "id": "763e9e7087cefea9",
   "metadata": {
    "ExecuteTime": {
     "end_time": "2024-11-09T22:45:45.381571Z",
     "start_time": "2024-11-09T22:45:45.379725Z"
    }
   },
   "outputs": [
    {
     "name": "stdout",
     "output_type": "stream",
     "text": [
      "500267 70275 39814\n"
     ]
    }
   ],
   "source": [
    "print(len(users_train), len(users_test), len(common_users))"
   ]
  },
  {
   "cell_type": "markdown",
   "id": "c44124170631524c",
   "metadata": {},
   "source": [
    "«Холодные» пользователи — те, которые есть в test, но отсутствуют в train. Это соответствует хронологическому порядку, в котором и работает рекомендательная система."
   ]
  },
  {
   "cell_type": "code",
   "execution_count": 59,
   "id": "fd35d731bb433cc3",
   "metadata": {
    "ExecuteTime": {
     "end_time": "2024-11-09T22:45:45.439081Z",
     "start_time": "2024-11-09T22:45:45.382150Z"
    }
   },
   "outputs": [
    {
     "name": "stdout",
     "output_type": "stream",
     "text": [
      "30461\n"
     ]
    }
   ],
   "source": [
    "cold_users = set(users_test) - set(users_train)\n",
    "\n",
    "print(len(cold_users))"
   ]
  },
  {
   "cell_type": "markdown",
   "id": "9131c7e6-8852-4556-b510-51f7253cc299",
   "metadata": {},
   "source": [
    "### 3.3 Топ популярных"
   ]
  },
  {
   "cell_type": "markdown",
   "id": "f9367a8f9cf4f998",
   "metadata": {},
   "source": [
    "Рассчитаем рекомендации как топ популярных.\n",
    "\n",
    "Завершите код, чтобы получить топ-100 наиболее популярных треках."
   ]
  },
  {
   "cell_type": "code",
   "execution_count": 60,
   "id": "5276cb850aafc5d7",
   "metadata": {
    "ExecuteTime": {
     "end_time": "2024-11-09T22:45:45.523659Z",
     "start_time": "2024-11-09T22:45:45.439712Z"
    }
   },
   "outputs": [],
   "source": [
    "item_popularity = events_train \\\n",
    "    .groupby([\"item_id\"]).agg(users=(\"user_id\", \"nunique\"), count_plays=(\"item_id\", \"count\")).reset_index()\n",
    "item_popularity[\"popularity_weighted\"] = item_popularity[\"users\"] * item_popularity[\"count_plays\"]\n",
    "\n",
    "# сортируем по убыванию взвешенной популярности\n",
    "item_popularity = item_popularity.sort_values(by=\"popularity_weighted\", ascending=False)"
   ]
  },
  {
   "cell_type": "code",
   "execution_count": 61,
   "id": "4f01bb1c4906aee2",
   "metadata": {
    "ExecuteTime": {
     "end_time": "2024-11-09T22:45:45.525787Z",
     "start_time": "2024-11-09T22:45:45.524402Z"
    }
   },
   "outputs": [],
   "source": [
    "top_k_pop_items = item_popularity.head(100)"
   ]
  },
  {
   "cell_type": "markdown",
   "id": "947cbc25914dec44",
   "metadata": {},
   "source": [
    "Добавив информацию о треках, можно просмотреть, какие попали в топ."
   ]
  },
  {
   "cell_type": "code",
   "execution_count": 62,
   "id": "381cea3249aafdf3",
   "metadata": {
    "ExecuteTime": {
     "end_time": "2024-11-09T22:45:45.542059Z",
     "start_time": "2024-11-09T22:45:45.526251Z"
    }
   },
   "outputs": [],
   "source": [
    "# добавляем информацию о треках\n",
    "top_k_pop_items = top_k_pop_items.merge(\n",
    "    items.set_index(\"item_id\")[[\"albums\", \"genres\", \"artists\"]], on=\"item_id\")"
   ]
  },
  {
   "cell_type": "code",
   "execution_count": 63,
   "id": "fbbb8f966ae2a94",
   "metadata": {
    "ExecuteTime": {
     "end_time": "2024-11-09T22:45:45.569238Z",
     "start_time": "2024-11-09T22:45:45.542545Z"
    }
   },
   "outputs": [
    {
     "data": {
      "text/html": [
       "<div>\n",
       "<style scoped>\n",
       "    .dataframe tbody tr th:only-of-type {\n",
       "        vertical-align: middle;\n",
       "    }\n",
       "\n",
       "    .dataframe tbody tr th {\n",
       "        vertical-align: top;\n",
       "    }\n",
       "\n",
       "    .dataframe thead th {\n",
       "        text-align: right;\n",
       "    }\n",
       "</style>\n",
       "<table border=\"1\" class=\"dataframe\">\n",
       "  <thead>\n",
       "    <tr style=\"text-align: right;\">\n",
       "      <th></th>\n",
       "      <th>item_id</th>\n",
       "      <th>albums</th>\n",
       "      <th>genres</th>\n",
       "      <th>artists</th>\n",
       "      <th>count_plays</th>\n",
       "      <th>popularity_weighted</th>\n",
       "    </tr>\n",
       "  </thead>\n",
       "  <tbody>\n",
       "    <tr>\n",
       "      <th>0</th>\n",
       "      <td>33311009</td>\n",
       "      <td>[Shape Of Pop, NOW That's What I Call Music, E...</td>\n",
       "      <td>[rock, allrock]</td>\n",
       "      <td>[Imagine Dragons]</td>\n",
       "      <td>656</td>\n",
       "      <td>430336</td>\n",
       "    </tr>\n",
       "    <tr>\n",
       "      <th>1</th>\n",
       "      <td>53404</td>\n",
       "      <td>[Nevermind, Nirvana, Nevermind, Nevermind, Nev...</td>\n",
       "      <td>[alternative, rock, allrock]</td>\n",
       "      <td>[Nirvana]</td>\n",
       "      <td>625</td>\n",
       "      <td>390625</td>\n",
       "    </tr>\n",
       "    <tr>\n",
       "      <th>2</th>\n",
       "      <td>178529</td>\n",
       "      <td>[Meteora, Meteora, Meteora, Meteora, 00s Rock ...</td>\n",
       "      <td>[numetal, metal]</td>\n",
       "      <td>[Linkin Park]</td>\n",
       "      <td>588</td>\n",
       "      <td>345744</td>\n",
       "    </tr>\n",
       "    <tr>\n",
       "      <th>3</th>\n",
       "      <td>35505245</td>\n",
       "      <td>[I Got Love, I Got Love]</td>\n",
       "      <td>[rusrap, rap]</td>\n",
       "      <td>[Miyagi &amp; Эндшпиль, Рем Дигга]</td>\n",
       "      <td>557</td>\n",
       "      <td>310249</td>\n",
       "    </tr>\n",
       "    <tr>\n",
       "      <th>4</th>\n",
       "      <td>24692821</td>\n",
       "      <td>[Way down We Go, Summer Music 2016, A/B, DFM D...</td>\n",
       "      <td>[indie]</td>\n",
       "      <td>[KALEO]</td>\n",
       "      <td>514</td>\n",
       "      <td>264196</td>\n",
       "    </tr>\n",
       "    <tr>\n",
       "      <th>5</th>\n",
       "      <td>795836</td>\n",
       "      <td>[Ten Summoner's Tales, 25 Years, The Best Of 2...</td>\n",
       "      <td>[pop, rock, allrock]</td>\n",
       "      <td>[Sting]</td>\n",
       "      <td>506</td>\n",
       "      <td>256036</td>\n",
       "    </tr>\n",
       "    <tr>\n",
       "      <th>6</th>\n",
       "      <td>29544272</td>\n",
       "      <td>[Human, Human, Some Chillout Music, Music Made...</td>\n",
       "      <td>[soundtrack, indie]</td>\n",
       "      <td>[Rag'n'Bone Man]</td>\n",
       "      <td>504</td>\n",
       "      <td>254016</td>\n",
       "    </tr>\n",
       "    <tr>\n",
       "      <th>7</th>\n",
       "      <td>37384</td>\n",
       "      <td>[Stars: The Best Of The Cranberries 1992-2002,...</td>\n",
       "      <td>[rock, allrock]</td>\n",
       "      <td>[The Cranberries]</td>\n",
       "      <td>493</td>\n",
       "      <td>243049</td>\n",
       "    </tr>\n",
       "    <tr>\n",
       "      <th>8</th>\n",
       "      <td>6705392</td>\n",
       "      <td>[Elephant, Seven Nation Army, Pay Close Attent...</td>\n",
       "      <td>[alternative]</td>\n",
       "      <td>[The White Stripes]</td>\n",
       "      <td>492</td>\n",
       "      <td>242064</td>\n",
       "    </tr>\n",
       "    <tr>\n",
       "      <th>9</th>\n",
       "      <td>65851540</td>\n",
       "      <td>[Юность]</td>\n",
       "      <td>[pop, ruspop]</td>\n",
       "      <td>[Dabro]</td>\n",
       "      <td>491</td>\n",
       "      <td>241081</td>\n",
       "    </tr>\n",
       "    <tr>\n",
       "      <th>10</th>\n",
       "      <td>32947997</td>\n",
       "      <td>[Shape of You, ÷, ÷, Summer Vibes, Pop]</td>\n",
       "      <td>[pop]</td>\n",
       "      <td>[Ed Sheeran]</td>\n",
       "      <td>481</td>\n",
       "      <td>231361</td>\n",
       "    </tr>\n",
       "    <tr>\n",
       "      <th>11</th>\n",
       "      <td>39257277</td>\n",
       "      <td>[In My Mind, In My Mind, Dance Hits 2019 - Sum...</td>\n",
       "      <td>[dance]</td>\n",
       "      <td>[Dynoro, Gigi D'Agostino]</td>\n",
       "      <td>481</td>\n",
       "      <td>231361</td>\n",
       "    </tr>\n",
       "    <tr>\n",
       "      <th>12</th>\n",
       "      <td>51241318</td>\n",
       "      <td>[In the End, Christian TikTok, Trending Now 20...</td>\n",
       "      <td>[rnb]</td>\n",
       "      <td>[Tommee Profitt, Fleurie, Mellen Gi]</td>\n",
       "      <td>456</td>\n",
       "      <td>207936</td>\n",
       "    </tr>\n",
       "    <tr>\n",
       "      <th>13</th>\n",
       "      <td>45499814</td>\n",
       "      <td>[Life, Life, Made in Russia, Fresh Dance, Life...</td>\n",
       "      <td>[pop, ruspop]</td>\n",
       "      <td>[Zivert]</td>\n",
       "      <td>455</td>\n",
       "      <td>207025</td>\n",
       "    </tr>\n",
       "    <tr>\n",
       "      <th>14</th>\n",
       "      <td>60292250</td>\n",
       "      <td>[Blinding Lights, After Hours, After Hours, Af...</td>\n",
       "      <td>[rnb]</td>\n",
       "      <td>[The Weeknd]</td>\n",
       "      <td>447</td>\n",
       "      <td>199809</td>\n",
       "    </tr>\n",
       "    <tr>\n",
       "      <th>15</th>\n",
       "      <td>18385776</td>\n",
       "      <td>[Freaks, Freaks, Metro FM Dance Hits 2015, Тан...</td>\n",
       "      <td>[dance, electronics, house]</td>\n",
       "      <td>[Timmy Trumpet, Savage]</td>\n",
       "      <td>445</td>\n",
       "      <td>198025</td>\n",
       "    </tr>\n",
       "    <tr>\n",
       "      <th>16</th>\n",
       "      <td>47627256</td>\n",
       "      <td>[Cradles, Cradles]</td>\n",
       "      <td>[electronics]</td>\n",
       "      <td>[Sub Urban]</td>\n",
       "      <td>440</td>\n",
       "      <td>193600</td>\n",
       "    </tr>\n",
       "    <tr>\n",
       "      <th>17</th>\n",
       "      <td>328683</td>\n",
       "      <td>[Fallen, Daredevil - The Album (Music From The...</td>\n",
       "      <td>[alternative, rock, allrock]</td>\n",
       "      <td>[Evanescence]</td>\n",
       "      <td>437</td>\n",
       "      <td>190969</td>\n",
       "    </tr>\n",
       "    <tr>\n",
       "      <th>18</th>\n",
       "      <td>148345</td>\n",
       "      <td>[Greatest Hits, Californication, Californicati...</td>\n",
       "      <td>[rock, allrock]</td>\n",
       "      <td>[Red Hot Chili Peppers]</td>\n",
       "      <td>436</td>\n",
       "      <td>190096</td>\n",
       "    </tr>\n",
       "    <tr>\n",
       "      <th>19</th>\n",
       "      <td>2758009</td>\n",
       "      <td>[Innuendo, Innuendo, Bohemian Rhapsody, Greate...</td>\n",
       "      <td>[rock, films, soundtrack, allrock]</td>\n",
       "      <td>[Queen]</td>\n",
       "      <td>430</td>\n",
       "      <td>184900</td>\n",
       "    </tr>\n",
       "    <tr>\n",
       "      <th>20</th>\n",
       "      <td>48951</td>\n",
       "      <td>[Crush, Now 5, Bon Jovi Greatest Hits - The Ul...</td>\n",
       "      <td>[rock, hardrock, allrock]</td>\n",
       "      <td>[Bon Jovi]</td>\n",
       "      <td>429</td>\n",
       "      <td>184041</td>\n",
       "    </tr>\n",
       "    <tr>\n",
       "      <th>21</th>\n",
       "      <td>43942453</td>\n",
       "      <td>[АРГУМЕНТЫ]</td>\n",
       "      <td>[local-indie, indie]</td>\n",
       "      <td>[RSAC]</td>\n",
       "      <td>427</td>\n",
       "      <td>182329</td>\n",
       "    </tr>\n",
       "    <tr>\n",
       "      <th>22</th>\n",
       "      <td>17079396</td>\n",
       "      <td>[Take Me To Church, Hozier, Hozier, Hozier, Лу...</td>\n",
       "      <td>[indie]</td>\n",
       "      <td>[Hozier]</td>\n",
       "      <td>426</td>\n",
       "      <td>181476</td>\n",
       "    </tr>\n",
       "    <tr>\n",
       "      <th>23</th>\n",
       "      <td>50685843</td>\n",
       "      <td>[Акустический альбом]</td>\n",
       "      <td>[punk]</td>\n",
       "      <td>[Король и Шут]</td>\n",
       "      <td>419</td>\n",
       "      <td>175561</td>\n",
       "    </tr>\n",
       "    <tr>\n",
       "      <th>24</th>\n",
       "      <td>17902234</td>\n",
       "      <td>[Prayer in C, Prayer, Winter Music 2015, Winte...</td>\n",
       "      <td>[alternative, dance]</td>\n",
       "      <td>[Robin Schulz, Lilly Wood &amp; The Prick]</td>\n",
       "      <td>418</td>\n",
       "      <td>174724</td>\n",
       "    </tr>\n",
       "    <tr>\n",
       "      <th>25</th>\n",
       "      <td>23559960</td>\n",
       "      <td>[Stressed Out, Blurryface, Spring Music 2016, ...</td>\n",
       "      <td>[indie]</td>\n",
       "      <td>[twenty one pilots]</td>\n",
       "      <td>416</td>\n",
       "      <td>173056</td>\n",
       "    </tr>\n",
       "    <tr>\n",
       "      <th>26</th>\n",
       "      <td>51516485</td>\n",
       "      <td>[WHEN WE ALL FALL ASLEEP, WHERE DO WE GO?, 202...</td>\n",
       "      <td>[indie]</td>\n",
       "      <td>[Billie Eilish]</td>\n",
       "      <td>414</td>\n",
       "      <td>171396</td>\n",
       "    </tr>\n",
       "    <tr>\n",
       "      <th>27</th>\n",
       "      <td>34976783</td>\n",
       "      <td>[Thunder, Summer Songs, NOW That's What I Call...</td>\n",
       "      <td>[rock, allrock]</td>\n",
       "      <td>[Imagine Dragons]</td>\n",
       "      <td>413</td>\n",
       "      <td>170569</td>\n",
       "    </tr>\n",
       "    <tr>\n",
       "      <th>28</th>\n",
       "      <td>56204557</td>\n",
       "      <td>[Dance Monkey, The Kids Are Coming, 100 Greate...</td>\n",
       "      <td>[pop]</td>\n",
       "      <td>[Tones And I]</td>\n",
       "      <td>413</td>\n",
       "      <td>170569</td>\n",
       "    </tr>\n",
       "    <tr>\n",
       "      <th>29</th>\n",
       "      <td>54798445</td>\n",
       "      <td>[Прятки]</td>\n",
       "      <td>[rusrap, rap]</td>\n",
       "      <td>[HammAli &amp; Navai]</td>\n",
       "      <td>407</td>\n",
       "      <td>165649</td>\n",
       "    </tr>\n",
       "    <tr>\n",
       "      <th>30</th>\n",
       "      <td>49961817</td>\n",
       "      <td>[Грустный дэнс, 7 (Part 1), Spring Music 2019]</td>\n",
       "      <td>[pop, ruspop]</td>\n",
       "      <td>[Artik &amp; Asti, Артём Качер]</td>\n",
       "      <td>406</td>\n",
       "      <td>164836</td>\n",
       "    </tr>\n",
       "    <tr>\n",
       "      <th>31</th>\n",
       "      <td>29569939</td>\n",
       "      <td>[Tuesday, Танцевальный рай 37, Hit List 2016, ...</td>\n",
       "      <td>[dance]</td>\n",
       "      <td>[Burak Yeter, Danelle Sandoval]</td>\n",
       "      <td>399</td>\n",
       "      <td>159201</td>\n",
       "    </tr>\n",
       "    <tr>\n",
       "      <th>32</th>\n",
       "      <td>694683</td>\n",
       "      <td>[Highway To Hell, Highway to Hell, Iron Man 2]</td>\n",
       "      <td>[hardrock, allrock]</td>\n",
       "      <td>[AC/DC]</td>\n",
       "      <td>398</td>\n",
       "      <td>158404</td>\n",
       "    </tr>\n",
       "    <tr>\n",
       "      <th>33</th>\n",
       "      <td>52380688</td>\n",
       "      <td>[Любимка]</td>\n",
       "      <td>[pop, ruspop]</td>\n",
       "      <td>[NILETTO]</td>\n",
       "      <td>390</td>\n",
       "      <td>152100</td>\n",
       "    </tr>\n",
       "    <tr>\n",
       "      <th>34</th>\n",
       "      <td>21519270</td>\n",
       "      <td>[Dancin]</td>\n",
       "      <td>[electronics, house]</td>\n",
       "      <td>[Aaron Smith, Krono, Luvli]</td>\n",
       "      <td>389</td>\n",
       "      <td>151321</td>\n",
       "    </tr>\n",
       "    <tr>\n",
       "      <th>35</th>\n",
       "      <td>57921154</td>\n",
       "      <td>[Комета]</td>\n",
       "      <td>[pop, ruspop]</td>\n",
       "      <td>[JONY]</td>\n",
       "      <td>387</td>\n",
       "      <td>149769</td>\n",
       "    </tr>\n",
       "    <tr>\n",
       "      <th>36</th>\n",
       "      <td>44184116</td>\n",
       "      <td>[Незабудка]</td>\n",
       "      <td>[pop, ruspop]</td>\n",
       "      <td>[Тима Белорусских]</td>\n",
       "      <td>386</td>\n",
       "      <td>148996</td>\n",
       "    </tr>\n",
       "    <tr>\n",
       "      <th>37</th>\n",
       "      <td>37258117</td>\n",
       "      <td>[В диапазоне между отчаянием и надеждой, Панки...</td>\n",
       "      <td>[punk]</td>\n",
       "      <td>[Порнофильмы]</td>\n",
       "      <td>378</td>\n",
       "      <td>142884</td>\n",
       "    </tr>\n",
       "    <tr>\n",
       "      <th>38</th>\n",
       "      <td>39089632</td>\n",
       "      <td>[Гранатовый альбом]</td>\n",
       "      <td>[rusrock, allrock]</td>\n",
       "      <td>[Сплин]</td>\n",
       "      <td>376</td>\n",
       "      <td>141376</td>\n",
       "    </tr>\n",
       "    <tr>\n",
       "      <th>39</th>\n",
       "      <td>39946957</td>\n",
       "      <td>[Сияй]</td>\n",
       "      <td>[pop, ruspop]</td>\n",
       "      <td>[Zivert]</td>\n",
       "      <td>374</td>\n",
       "      <td>139876</td>\n",
       "    </tr>\n",
       "    <tr>\n",
       "      <th>40</th>\n",
       "      <td>6679078</td>\n",
       "      <td>[xx]</td>\n",
       "      <td>[indie]</td>\n",
       "      <td>[The xx]</td>\n",
       "      <td>371</td>\n",
       "      <td>137641</td>\n",
       "    </tr>\n",
       "    <tr>\n",
       "      <th>41</th>\n",
       "      <td>29611476</td>\n",
       "      <td>[Heathens, Suicide Squad: The Album, Suicide S...</td>\n",
       "      <td>[films, soundtrack]</td>\n",
       "      <td>[twenty one pilots]</td>\n",
       "      <td>371</td>\n",
       "      <td>137641</td>\n",
       "    </tr>\n",
       "    <tr>\n",
       "      <th>42</th>\n",
       "      <td>732401</td>\n",
       "      <td>[ПРОСТИ МЕНЯ МОЯ ЛЮБОВЬ]</td>\n",
       "      <td>[rusrock, allrock]</td>\n",
       "      <td>[Земфира]</td>\n",
       "      <td>362</td>\n",
       "      <td>131044</td>\n",
       "    </tr>\n",
       "    <tr>\n",
       "      <th>43</th>\n",
       "      <td>9047114</td>\n",
       "      <td>[Батарейка]</td>\n",
       "      <td>[rusrock, allrock]</td>\n",
       "      <td>[Жуки]</td>\n",
       "      <td>355</td>\n",
       "      <td>126025</td>\n",
       "    </tr>\n",
       "    <tr>\n",
       "      <th>44</th>\n",
       "      <td>33977439</td>\n",
       "      <td>[Feel It Still, Woodstock, Summer House, Summe...</td>\n",
       "      <td>[indie]</td>\n",
       "      <td>[Portugal. The Man]</td>\n",
       "      <td>354</td>\n",
       "      <td>125316</td>\n",
       "    </tr>\n",
       "    <tr>\n",
       "      <th>45</th>\n",
       "      <td>3703085</td>\n",
       "      <td>[Continued Silence EP, Night Visions, Night Vi...</td>\n",
       "      <td>[alternative, rock, films, soundtrack, allrock]</td>\n",
       "      <td>[Imagine Dragons]</td>\n",
       "      <td>350</td>\n",
       "      <td>122500</td>\n",
       "    </tr>\n",
       "    <tr>\n",
       "      <th>46</th>\n",
       "      <td>137670</td>\n",
       "      <td>[Rhino Hi-Five: Coolio, Songs You Know:  Ol' S...</td>\n",
       "      <td>[foreignrap, rap]</td>\n",
       "      <td>[Coolio, L.V.]</td>\n",
       "      <td>345</td>\n",
       "      <td>119025</td>\n",
       "    </tr>\n",
       "    <tr>\n",
       "      <th>47</th>\n",
       "      <td>48591706</td>\n",
       "      <td>[Сансара]</td>\n",
       "      <td>[rusrap, rap]</td>\n",
       "      <td>[Баста, Скриптонит, Диана Арбенина, Сергей Боб...</td>\n",
       "      <td>345</td>\n",
       "      <td>119025</td>\n",
       "    </tr>\n",
       "    <tr>\n",
       "      <th>48</th>\n",
       "      <td>33308946</td>\n",
       "      <td>[Family бізнес]</td>\n",
       "      <td>[ukrrock, allrock]</td>\n",
       "      <td>[Бумбокс]</td>\n",
       "      <td>340</td>\n",
       "      <td>115600</td>\n",
       "    </tr>\n",
       "    <tr>\n",
       "      <th>49</th>\n",
       "      <td>3581309</td>\n",
       "      <td>[Making Mirrors, Somebody That I Used To Know,...</td>\n",
       "      <td>[pop]</td>\n",
       "      <td>[Gotye, Kimbra]</td>\n",
       "      <td>338</td>\n",
       "      <td>114244</td>\n",
       "    </tr>\n",
       "    <tr>\n",
       "      <th>50</th>\n",
       "      <td>78426489</td>\n",
       "      <td>[Rampampam, Rampampam]</td>\n",
       "      <td>[dance]</td>\n",
       "      <td>[Minelli]</td>\n",
       "      <td>337</td>\n",
       "      <td>113569</td>\n",
       "    </tr>\n",
       "    <tr>\n",
       "      <th>51</th>\n",
       "      <td>1710811</td>\n",
       "      <td>[Greatest Hits, News Of The World, News Of The...</td>\n",
       "      <td>[rock, hardrock, allrock]</td>\n",
       "      <td>[Queen]</td>\n",
       "      <td>337</td>\n",
       "      <td>113569</td>\n",
       "    </tr>\n",
       "    <tr>\n",
       "      <th>52</th>\n",
       "      <td>43052381</td>\n",
       "      <td>[Мокрые кроссы]</td>\n",
       "      <td>[pop, ruspop]</td>\n",
       "      <td>[Тима Белорусских]</td>\n",
       "      <td>332</td>\n",
       "      <td>110224</td>\n",
       "    </tr>\n",
       "    <tr>\n",
       "      <th>53</th>\n",
       "      <td>560473</td>\n",
       "      <td>[Би-2]</td>\n",
       "      <td>[rusrock, allrock]</td>\n",
       "      <td>[Би-2]</td>\n",
       "      <td>332</td>\n",
       "      <td>110224</td>\n",
       "    </tr>\n",
       "    <tr>\n",
       "      <th>54</th>\n",
       "      <td>52100</td>\n",
       "      <td>[The Singles Collection, No Doubt, Tragic King...</td>\n",
       "      <td>[pop]</td>\n",
       "      <td>[No Doubt]</td>\n",
       "      <td>331</td>\n",
       "      <td>109561</td>\n",
       "    </tr>\n",
       "    <tr>\n",
       "      <th>55</th>\n",
       "      <td>631623</td>\n",
       "      <td>[The Ultimate Dinner Party Album, Sweet Dreams...</td>\n",
       "      <td>[pop, rock, allrock]</td>\n",
       "      <td>[Eurythmics, Annie Lennox, Dave Stewart]</td>\n",
       "      <td>331</td>\n",
       "      <td>109561</td>\n",
       "    </tr>\n",
       "    <tr>\n",
       "      <th>56</th>\n",
       "      <td>50834580</td>\n",
       "      <td>[Девочка-война, ZHARA Vol.1]</td>\n",
       "      <td>[rusrap, rap]</td>\n",
       "      <td>[HammAli &amp; Navai]</td>\n",
       "      <td>330</td>\n",
       "      <td>108900</td>\n",
       "    </tr>\n",
       "    <tr>\n",
       "      <th>57</th>\n",
       "      <td>44279380</td>\n",
       "      <td>[Karma, Teta Records - Nr 1! Best of 2018, Пла...</td>\n",
       "      <td>[pop, dance]</td>\n",
       "      <td>[KAZKA]</td>\n",
       "      <td>326</td>\n",
       "      <td>106276</td>\n",
       "    </tr>\n",
       "    <tr>\n",
       "      <th>58</th>\n",
       "      <td>178495</td>\n",
       "      <td>[In The End, Hybrid Theory, Hybrid Theory, Hyb...</td>\n",
       "      <td>[numetal, metal]</td>\n",
       "      <td>[Linkin Park]</td>\n",
       "      <td>325</td>\n",
       "      <td>105625</td>\n",
       "    </tr>\n",
       "    <tr>\n",
       "      <th>59</th>\n",
       "      <td>628320</td>\n",
       "      <td>[Thriller, Michael Jackson: The Ultimate Colle...</td>\n",
       "      <td>[pop]</td>\n",
       "      <td>[Michael Jackson]</td>\n",
       "      <td>323</td>\n",
       "      <td>104329</td>\n",
       "    </tr>\n",
       "    <tr>\n",
       "      <th>60</th>\n",
       "      <td>24663745</td>\n",
       "      <td>[Ocean Drive, Ocean Drive, Blasé Boys Club, Fr...</td>\n",
       "      <td>[dance, electronics]</td>\n",
       "      <td>[Duke Dumont]</td>\n",
       "      <td>322</td>\n",
       "      <td>103684</td>\n",
       "    </tr>\n",
       "    <tr>\n",
       "      <th>61</th>\n",
       "      <td>595258</td>\n",
       "      <td>[Вавилон]</td>\n",
       "      <td>[classicmetal, metal]</td>\n",
       "      <td>[Кипелов]</td>\n",
       "      <td>321</td>\n",
       "      <td>103041</td>\n",
       "    </tr>\n",
       "    <tr>\n",
       "      <th>62</th>\n",
       "      <td>56776952</td>\n",
       "      <td>[2 типа людей]</td>\n",
       "      <td>[rusrap, rap]</td>\n",
       "      <td>[Макс Корж]</td>\n",
       "      <td>319</td>\n",
       "      <td>101761</td>\n",
       "    </tr>\n",
       "    <tr>\n",
       "      <th>63</th>\n",
       "      <td>61565558</td>\n",
       "      <td>[Луна не знает пути, СОЮЗ 63]</td>\n",
       "      <td>[pop, ruspop]</td>\n",
       "      <td>[Тайпан, Agunda]</td>\n",
       "      <td>317</td>\n",
       "      <td>100489</td>\n",
       "    </tr>\n",
       "    <tr>\n",
       "      <th>64</th>\n",
       "      <td>55561798</td>\n",
       "      <td>[August, Renovatio]</td>\n",
       "      <td>[electronics]</td>\n",
       "      <td>[Intelligency]</td>\n",
       "      <td>315</td>\n",
       "      <td>99225</td>\n",
       "    </tr>\n",
       "    <tr>\n",
       "      <th>65</th>\n",
       "      <td>84382282</td>\n",
       "      <td>[Я в моменте]</td>\n",
       "      <td>[rusrap, rap]</td>\n",
       "      <td>[Джарахов, Markul]</td>\n",
       "      <td>315</td>\n",
       "      <td>99225</td>\n",
       "    </tr>\n",
       "    <tr>\n",
       "      <th>66</th>\n",
       "      <td>83063895</td>\n",
       "      <td>[Птичка]</td>\n",
       "      <td>[pop, ruspop]</td>\n",
       "      <td>[HammAli &amp; Navai]</td>\n",
       "      <td>315</td>\n",
       "      <td>99225</td>\n",
       "    </tr>\n",
       "    <tr>\n",
       "      <th>67</th>\n",
       "      <td>16298499</td>\n",
       "      <td>[Dernière Danse, Mini World, Mini World, Reina...</td>\n",
       "      <td>[estrada]</td>\n",
       "      <td>[Indila]</td>\n",
       "      <td>315</td>\n",
       "      <td>99225</td>\n",
       "    </tr>\n",
       "    <tr>\n",
       "      <th>68</th>\n",
       "      <td>57799893</td>\n",
       "      <td>[Roses, Fresh Dance, Yeni Dünya Special Dance ...</td>\n",
       "      <td>[dance]</td>\n",
       "      <td>[SAINt JHN]</td>\n",
       "      <td>315</td>\n",
       "      <td>99225</td>\n",
       "    </tr>\n",
       "    <tr>\n",
       "      <th>69</th>\n",
       "      <td>580880</td>\n",
       "      <td>[Мяу кисс ми]</td>\n",
       "      <td>[rusrock, allrock]</td>\n",
       "      <td>[Би-2]</td>\n",
       "      <td>314</td>\n",
       "      <td>98596</td>\n",
       "    </tr>\n",
       "    <tr>\n",
       "      <th>70</th>\n",
       "      <td>66322065</td>\n",
       "      <td>[Поболело и прошло, Музыка для души, Музыка дл...</td>\n",
       "      <td>[pop, ruspop]</td>\n",
       "      <td>[HENSY]</td>\n",
       "      <td>313</td>\n",
       "      <td>97969</td>\n",
       "    </tr>\n",
       "    <tr>\n",
       "      <th>71</th>\n",
       "      <td>3616433</td>\n",
       "      <td>[Born To Die, Born To Die, Born To Die, Born T...</td>\n",
       "      <td>[pop]</td>\n",
       "      <td>[Lana Del Rey]</td>\n",
       "      <td>313</td>\n",
       "      <td>97969</td>\n",
       "    </tr>\n",
       "    <tr>\n",
       "      <th>72</th>\n",
       "      <td>628970</td>\n",
       "      <td>[Three Days Grace, Three Days Grace, Three Day...</td>\n",
       "      <td>[alternative]</td>\n",
       "      <td>[Three Days Grace]</td>\n",
       "      <td>312</td>\n",
       "      <td>97344</td>\n",
       "    </tr>\n",
       "    <tr>\n",
       "      <th>73</th>\n",
       "      <td>58515506</td>\n",
       "      <td>[Увезите меня на Дип-хаус]</td>\n",
       "      <td>[pop, ruspop]</td>\n",
       "      <td>[GAYAZOV$ BROTHER$]</td>\n",
       "      <td>309</td>\n",
       "      <td>95481</td>\n",
       "    </tr>\n",
       "    <tr>\n",
       "      <th>74</th>\n",
       "      <td>62352387</td>\n",
       "      <td>[7 (Part 2)]</td>\n",
       "      <td>[pop, ruspop]</td>\n",
       "      <td>[Artik &amp; Asti]</td>\n",
       "      <td>308</td>\n",
       "      <td>94864</td>\n",
       "    </tr>\n",
       "    <tr>\n",
       "      <th>75</th>\n",
       "      <td>28036311</td>\n",
       "      <td>[Love At First Sting, «Физрук». Сезон 4, Love ...</td>\n",
       "      <td>[hardrock, allrock]</td>\n",
       "      <td>[Scorpions]</td>\n",
       "      <td>307</td>\n",
       "      <td>94249</td>\n",
       "    </tr>\n",
       "    <tr>\n",
       "      <th>76</th>\n",
       "      <td>56920241</td>\n",
       "      <td>[Vinyl #1, Vinyl #1. Deluxe Version, Первый та...</td>\n",
       "      <td>[pop, ruspop]</td>\n",
       "      <td>[Zivert]</td>\n",
       "      <td>307</td>\n",
       "      <td>94249</td>\n",
       "    </tr>\n",
       "    <tr>\n",
       "      <th>77</th>\n",
       "      <td>2278985</td>\n",
       "      <td>[Absolute Summer Hits, The Singer, The Song, C...</td>\n",
       "      <td>[pop]</td>\n",
       "      <td>[Adele]</td>\n",
       "      <td>305</td>\n",
       "      <td>93025</td>\n",
       "    </tr>\n",
       "    <tr>\n",
       "      <th>78</th>\n",
       "      <td>38275100</td>\n",
       "      <td>[Chosen]</td>\n",
       "      <td>[allrock]</td>\n",
       "      <td>[Måneskin]</td>\n",
       "      <td>305</td>\n",
       "      <td>93025</td>\n",
       "    </tr>\n",
       "    <tr>\n",
       "      <th>79</th>\n",
       "      <td>39307896</td>\n",
       "      <td>[JANAVI, JANAVI]</td>\n",
       "      <td>[rusrap, rap]</td>\n",
       "      <td>[HammAli &amp; Navai]</td>\n",
       "      <td>305</td>\n",
       "      <td>93025</td>\n",
       "    </tr>\n",
       "    <tr>\n",
       "      <th>80</th>\n",
       "      <td>560468</td>\n",
       "      <td>[Би-2]</td>\n",
       "      <td>[rusrock, allrock]</td>\n",
       "      <td>[Би-2]</td>\n",
       "      <td>304</td>\n",
       "      <td>92416</td>\n",
       "    </tr>\n",
       "    <tr>\n",
       "      <th>81</th>\n",
       "      <td>76434671</td>\n",
       "      <td>[Горький вкус, Горячие Хиты Кавказа 2]</td>\n",
       "      <td>[folk, caucasian]</td>\n",
       "      <td>[Султан Лагучев]</td>\n",
       "      <td>304</td>\n",
       "      <td>92416</td>\n",
       "    </tr>\n",
       "    <tr>\n",
       "      <th>82</th>\n",
       "      <td>45130892</td>\n",
       "      <td>[Мама, я танцую]</td>\n",
       "      <td>[pop, ruspop]</td>\n",
       "      <td>[#2Маши]</td>\n",
       "      <td>303</td>\n",
       "      <td>91809</td>\n",
       "    </tr>\n",
       "    <tr>\n",
       "      <th>83</th>\n",
       "      <td>9282507</td>\n",
       "      <td>[Родина, Navigator Records 15]</td>\n",
       "      <td>[rusrock, allrock]</td>\n",
       "      <td>[АнимациЯ]</td>\n",
       "      <td>301</td>\n",
       "      <td>90601</td>\n",
       "    </tr>\n",
       "    <tr>\n",
       "      <th>84</th>\n",
       "      <td>25995209</td>\n",
       "      <td>[Faded, Men's Health: Beach Body Workout, KISS...</td>\n",
       "      <td>[dance]</td>\n",
       "      <td>[Alan Walker]</td>\n",
       "      <td>301</td>\n",
       "      <td>90601</td>\n",
       "    </tr>\n",
       "    <tr>\n",
       "      <th>85</th>\n",
       "      <td>765627</td>\n",
       "      <td>[Je Veux, Je Veux, Zaz, Cafe Puls Hits 2010, Z...</td>\n",
       "      <td>[pop]</td>\n",
       "      <td>[Zaz]</td>\n",
       "      <td>301</td>\n",
       "      <td>90601</td>\n",
       "    </tr>\n",
       "    <tr>\n",
       "      <th>86</th>\n",
       "      <td>10216</td>\n",
       "      <td>[True 90s, Crazy World, Face The Heat / Crazy ...</td>\n",
       "      <td>[hardrock, allrock]</td>\n",
       "      <td>[Scorpions]</td>\n",
       "      <td>299</td>\n",
       "      <td>89401</td>\n",
       "    </tr>\n",
       "    <tr>\n",
       "      <th>87</th>\n",
       "      <td>81848875</td>\n",
       "      <td>[Федерико Феллини]</td>\n",
       "      <td>[pop, ruspop]</td>\n",
       "      <td>[Galibri &amp; Mavik]</td>\n",
       "      <td>299</td>\n",
       "      <td>89401</td>\n",
       "    </tr>\n",
       "    <tr>\n",
       "      <th>88</th>\n",
       "      <td>70619465</td>\n",
       "      <td>[Если тебе будет грустно]</td>\n",
       "      <td>[pop, ruspop]</td>\n",
       "      <td>[Rauf &amp; Faik, NILETTO]</td>\n",
       "      <td>298</td>\n",
       "      <td>88804</td>\n",
       "    </tr>\n",
       "    <tr>\n",
       "      <th>89</th>\n",
       "      <td>32182642</td>\n",
       "      <td>[Лирика, Winter Music 2017, Spring Music 2017]</td>\n",
       "      <td>[dance]</td>\n",
       "      <td>[Filatov &amp; Karas, Masha]</td>\n",
       "      <td>298</td>\n",
       "      <td>88804</td>\n",
       "    </tr>\n",
       "    <tr>\n",
       "      <th>90</th>\n",
       "      <td>42197229</td>\n",
       "      <td>[Natural, Origins, Origins, Больше хитов! Боль...</td>\n",
       "      <td>[rock, allrock]</td>\n",
       "      <td>[Imagine Dragons]</td>\n",
       "      <td>297</td>\n",
       "      <td>88209</td>\n",
       "    </tr>\n",
       "    <tr>\n",
       "      <th>91</th>\n",
       "      <td>44858413</td>\n",
       "      <td>[Around The World]</td>\n",
       "      <td>[dance]</td>\n",
       "      <td>[MOUNT, Noize Generation]</td>\n",
       "      <td>292</td>\n",
       "      <td>85264</td>\n",
       "    </tr>\n",
       "    <tr>\n",
       "      <th>92</th>\n",
       "      <td>19152669</td>\n",
       "      <td>[Centuries, American Beauty/American Psycho, A...</td>\n",
       "      <td>[alternative]</td>\n",
       "      <td>[Fall Out Boy]</td>\n",
       "      <td>290</td>\n",
       "      <td>84100</td>\n",
       "    </tr>\n",
       "    <tr>\n",
       "      <th>93</th>\n",
       "      <td>56920237</td>\n",
       "      <td>[Vinyl #1, Первый танцевальный. Vol. 18, Vinyl...</td>\n",
       "      <td>[pop, ruspop]</td>\n",
       "      <td>[Zivert]</td>\n",
       "      <td>289</td>\n",
       "      <td>83521</td>\n",
       "    </tr>\n",
       "    <tr>\n",
       "      <th>94</th>\n",
       "      <td>50684233</td>\n",
       "      <td>[Будь как дома, Путник...]</td>\n",
       "      <td>[rusrock, allrock]</td>\n",
       "      <td>[Король и Шут]</td>\n",
       "      <td>288</td>\n",
       "      <td>82944</td>\n",
       "    </tr>\n",
       "    <tr>\n",
       "      <th>95</th>\n",
       "      <td>43731470</td>\n",
       "      <td>[Falling, Homesick, Shisha Lounge, Falling, Ni...</td>\n",
       "      <td>[pop, foreignrap, rap]</td>\n",
       "      <td>[Trevor Daniel]</td>\n",
       "      <td>287</td>\n",
       "      <td>82369</td>\n",
       "    </tr>\n",
       "    <tr>\n",
       "      <th>96</th>\n",
       "      <td>75944934</td>\n",
       "      <td>[Astronaut In The Ocean, Astronomical]</td>\n",
       "      <td>[foreignrap, rap]</td>\n",
       "      <td>[Masked Wolf]</td>\n",
       "      <td>287</td>\n",
       "      <td>82369</td>\n",
       "    </tr>\n",
       "    <tr>\n",
       "      <th>97</th>\n",
       "      <td>50821247</td>\n",
       "      <td>[Зацепила]</td>\n",
       "      <td>[pop, ruspop]</td>\n",
       "      <td>[Артур Пирожков]</td>\n",
       "      <td>287</td>\n",
       "      <td>82369</td>\n",
       "    </tr>\n",
       "    <tr>\n",
       "      <th>98</th>\n",
       "      <td>40548548</td>\n",
       "      <td>[lovely, Top 30 US, 13 Reasons Why, Break Ups ...</td>\n",
       "      <td>[indie]</td>\n",
       "      <td>[Billie Eilish, Khalid]</td>\n",
       "      <td>286</td>\n",
       "      <td>81796</td>\n",
       "    </tr>\n",
       "    <tr>\n",
       "      <th>99</th>\n",
       "      <td>582507</td>\n",
       "      <td>[Голая]</td>\n",
       "      <td>[pop, ruspop]</td>\n",
       "      <td>[Градусы]</td>\n",
       "      <td>286</td>\n",
       "      <td>81796</td>\n",
       "    </tr>\n",
       "  </tbody>\n",
       "</table>\n",
       "</div>"
      ],
      "text/plain": [
       "     item_id                                             albums   \n",
       "0   33311009  [Shape Of Pop, NOW That's What I Call Music, E...  \\\n",
       "1      53404  [Nevermind, Nirvana, Nevermind, Nevermind, Nev...   \n",
       "2     178529  [Meteora, Meteora, Meteora, Meteora, 00s Rock ...   \n",
       "3   35505245                           [I Got Love, I Got Love]   \n",
       "4   24692821  [Way down We Go, Summer Music 2016, A/B, DFM D...   \n",
       "5     795836  [Ten Summoner's Tales, 25 Years, The Best Of 2...   \n",
       "6   29544272  [Human, Human, Some Chillout Music, Music Made...   \n",
       "7      37384  [Stars: The Best Of The Cranberries 1992-2002,...   \n",
       "8    6705392  [Elephant, Seven Nation Army, Pay Close Attent...   \n",
       "9   65851540                                           [Юность]   \n",
       "10  32947997            [Shape of You, ÷, ÷, Summer Vibes, Pop]   \n",
       "11  39257277  [In My Mind, In My Mind, Dance Hits 2019 - Sum...   \n",
       "12  51241318  [In the End, Christian TikTok, Trending Now 20...   \n",
       "13  45499814  [Life, Life, Made in Russia, Fresh Dance, Life...   \n",
       "14  60292250  [Blinding Lights, After Hours, After Hours, Af...   \n",
       "15  18385776  [Freaks, Freaks, Metro FM Dance Hits 2015, Тан...   \n",
       "16  47627256                                 [Cradles, Cradles]   \n",
       "17    328683  [Fallen, Daredevil - The Album (Music From The...   \n",
       "18    148345  [Greatest Hits, Californication, Californicati...   \n",
       "19   2758009  [Innuendo, Innuendo, Bohemian Rhapsody, Greate...   \n",
       "20     48951  [Crush, Now 5, Bon Jovi Greatest Hits - The Ul...   \n",
       "21  43942453                                        [АРГУМЕНТЫ]   \n",
       "22  17079396  [Take Me To Church, Hozier, Hozier, Hozier, Лу...   \n",
       "23  50685843                              [Акустический альбом]   \n",
       "24  17902234  [Prayer in C, Prayer, Winter Music 2015, Winte...   \n",
       "25  23559960  [Stressed Out, Blurryface, Spring Music 2016, ...   \n",
       "26  51516485  [WHEN WE ALL FALL ASLEEP, WHERE DO WE GO?, 202...   \n",
       "27  34976783  [Thunder, Summer Songs, NOW That's What I Call...   \n",
       "28  56204557  [Dance Monkey, The Kids Are Coming, 100 Greate...   \n",
       "29  54798445                                           [Прятки]   \n",
       "30  49961817     [Грустный дэнс, 7 (Part 1), Spring Music 2019]   \n",
       "31  29569939  [Tuesday, Танцевальный рай 37, Hit List 2016, ...   \n",
       "32    694683     [Highway To Hell, Highway to Hell, Iron Man 2]   \n",
       "33  52380688                                          [Любимка]   \n",
       "34  21519270                                           [Dancin]   \n",
       "35  57921154                                           [Комета]   \n",
       "36  44184116                                        [Незабудка]   \n",
       "37  37258117  [В диапазоне между отчаянием и надеждой, Панки...   \n",
       "38  39089632                                [Гранатовый альбом]   \n",
       "39  39946957                                             [Сияй]   \n",
       "40   6679078                                               [xx]   \n",
       "41  29611476  [Heathens, Suicide Squad: The Album, Suicide S...   \n",
       "42    732401                           [ПРОСТИ МЕНЯ МОЯ ЛЮБОВЬ]   \n",
       "43   9047114                                        [Батарейка]   \n",
       "44  33977439  [Feel It Still, Woodstock, Summer House, Summe...   \n",
       "45   3703085  [Continued Silence EP, Night Visions, Night Vi...   \n",
       "46    137670  [Rhino Hi-Five: Coolio, Songs You Know:  Ol' S...   \n",
       "47  48591706                                          [Сансара]   \n",
       "48  33308946                                    [Family бізнес]   \n",
       "49   3581309  [Making Mirrors, Somebody That I Used To Know,...   \n",
       "50  78426489                             [Rampampam, Rampampam]   \n",
       "51   1710811  [Greatest Hits, News Of The World, News Of The...   \n",
       "52  43052381                                    [Мокрые кроссы]   \n",
       "53    560473                                             [Би-2]   \n",
       "54     52100  [The Singles Collection, No Doubt, Tragic King...   \n",
       "55    631623  [The Ultimate Dinner Party Album, Sweet Dreams...   \n",
       "56  50834580                       [Девочка-война, ZHARA Vol.1]   \n",
       "57  44279380  [Karma, Teta Records - Nr 1! Best of 2018, Пла...   \n",
       "58    178495  [In The End, Hybrid Theory, Hybrid Theory, Hyb...   \n",
       "59    628320  [Thriller, Michael Jackson: The Ultimate Colle...   \n",
       "60  24663745  [Ocean Drive, Ocean Drive, Blasé Boys Club, Fr...   \n",
       "61    595258                                          [Вавилон]   \n",
       "62  56776952                                     [2 типа людей]   \n",
       "63  61565558                      [Луна не знает пути, СОЮЗ 63]   \n",
       "64  55561798                                [August, Renovatio]   \n",
       "65  84382282                                      [Я в моменте]   \n",
       "66  83063895                                           [Птичка]   \n",
       "67  16298499  [Dernière Danse, Mini World, Mini World, Reina...   \n",
       "68  57799893  [Roses, Fresh Dance, Yeni Dünya Special Dance ...   \n",
       "69    580880                                      [Мяу кисс ми]   \n",
       "70  66322065  [Поболело и прошло, Музыка для души, Музыка дл...   \n",
       "71   3616433  [Born To Die, Born To Die, Born To Die, Born T...   \n",
       "72    628970  [Three Days Grace, Three Days Grace, Three Day...   \n",
       "73  58515506                         [Увезите меня на Дип-хаус]   \n",
       "74  62352387                                       [7 (Part 2)]   \n",
       "75  28036311  [Love At First Sting, «Физрук». Сезон 4, Love ...   \n",
       "76  56920241  [Vinyl #1, Vinyl #1. Deluxe Version, Первый та...   \n",
       "77   2278985  [Absolute Summer Hits, The Singer, The Song, C...   \n",
       "78  38275100                                           [Chosen]   \n",
       "79  39307896                                   [JANAVI, JANAVI]   \n",
       "80    560468                                             [Би-2]   \n",
       "81  76434671             [Горький вкус, Горячие Хиты Кавказа 2]   \n",
       "82  45130892                                   [Мама, я танцую]   \n",
       "83   9282507                     [Родина, Navigator Records 15]   \n",
       "84  25995209  [Faded, Men's Health: Beach Body Workout, KISS...   \n",
       "85    765627  [Je Veux, Je Veux, Zaz, Cafe Puls Hits 2010, Z...   \n",
       "86     10216  [True 90s, Crazy World, Face The Heat / Crazy ...   \n",
       "87  81848875                                 [Федерико Феллини]   \n",
       "88  70619465                          [Если тебе будет грустно]   \n",
       "89  32182642     [Лирика, Winter Music 2017, Spring Music 2017]   \n",
       "90  42197229  [Natural, Origins, Origins, Больше хитов! Боль...   \n",
       "91  44858413                                 [Around The World]   \n",
       "92  19152669  [Centuries, American Beauty/American Psycho, A...   \n",
       "93  56920237  [Vinyl #1, Первый танцевальный. Vol. 18, Vinyl...   \n",
       "94  50684233                         [Будь как дома, Путник...]   \n",
       "95  43731470  [Falling, Homesick, Shisha Lounge, Falling, Ni...   \n",
       "96  75944934             [Astronaut In The Ocean, Astronomical]   \n",
       "97  50821247                                         [Зацепила]   \n",
       "98  40548548  [lovely, Top 30 US, 13 Reasons Why, Break Ups ...   \n",
       "99    582507                                            [Голая]   \n",
       "\n",
       "                                             genres   \n",
       "0                                   [rock, allrock]  \\\n",
       "1                      [alternative, rock, allrock]   \n",
       "2                                  [numetal, metal]   \n",
       "3                                     [rusrap, rap]   \n",
       "4                                           [indie]   \n",
       "5                              [pop, rock, allrock]   \n",
       "6                               [soundtrack, indie]   \n",
       "7                                   [rock, allrock]   \n",
       "8                                     [alternative]   \n",
       "9                                     [pop, ruspop]   \n",
       "10                                            [pop]   \n",
       "11                                          [dance]   \n",
       "12                                            [rnb]   \n",
       "13                                    [pop, ruspop]   \n",
       "14                                            [rnb]   \n",
       "15                      [dance, electronics, house]   \n",
       "16                                    [electronics]   \n",
       "17                     [alternative, rock, allrock]   \n",
       "18                                  [rock, allrock]   \n",
       "19               [rock, films, soundtrack, allrock]   \n",
       "20                        [rock, hardrock, allrock]   \n",
       "21                             [local-indie, indie]   \n",
       "22                                          [indie]   \n",
       "23                                           [punk]   \n",
       "24                             [alternative, dance]   \n",
       "25                                          [indie]   \n",
       "26                                          [indie]   \n",
       "27                                  [rock, allrock]   \n",
       "28                                            [pop]   \n",
       "29                                    [rusrap, rap]   \n",
       "30                                    [pop, ruspop]   \n",
       "31                                          [dance]   \n",
       "32                              [hardrock, allrock]   \n",
       "33                                    [pop, ruspop]   \n",
       "34                             [electronics, house]   \n",
       "35                                    [pop, ruspop]   \n",
       "36                                    [pop, ruspop]   \n",
       "37                                           [punk]   \n",
       "38                               [rusrock, allrock]   \n",
       "39                                    [pop, ruspop]   \n",
       "40                                          [indie]   \n",
       "41                              [films, soundtrack]   \n",
       "42                               [rusrock, allrock]   \n",
       "43                               [rusrock, allrock]   \n",
       "44                                          [indie]   \n",
       "45  [alternative, rock, films, soundtrack, allrock]   \n",
       "46                                [foreignrap, rap]   \n",
       "47                                    [rusrap, rap]   \n",
       "48                               [ukrrock, allrock]   \n",
       "49                                            [pop]   \n",
       "50                                          [dance]   \n",
       "51                        [rock, hardrock, allrock]   \n",
       "52                                    [pop, ruspop]   \n",
       "53                               [rusrock, allrock]   \n",
       "54                                            [pop]   \n",
       "55                             [pop, rock, allrock]   \n",
       "56                                    [rusrap, rap]   \n",
       "57                                     [pop, dance]   \n",
       "58                                 [numetal, metal]   \n",
       "59                                            [pop]   \n",
       "60                             [dance, electronics]   \n",
       "61                            [classicmetal, metal]   \n",
       "62                                    [rusrap, rap]   \n",
       "63                                    [pop, ruspop]   \n",
       "64                                    [electronics]   \n",
       "65                                    [rusrap, rap]   \n",
       "66                                    [pop, ruspop]   \n",
       "67                                        [estrada]   \n",
       "68                                          [dance]   \n",
       "69                               [rusrock, allrock]   \n",
       "70                                    [pop, ruspop]   \n",
       "71                                            [pop]   \n",
       "72                                    [alternative]   \n",
       "73                                    [pop, ruspop]   \n",
       "74                                    [pop, ruspop]   \n",
       "75                              [hardrock, allrock]   \n",
       "76                                    [pop, ruspop]   \n",
       "77                                            [pop]   \n",
       "78                                        [allrock]   \n",
       "79                                    [rusrap, rap]   \n",
       "80                               [rusrock, allrock]   \n",
       "81                                [folk, caucasian]   \n",
       "82                                    [pop, ruspop]   \n",
       "83                               [rusrock, allrock]   \n",
       "84                                          [dance]   \n",
       "85                                            [pop]   \n",
       "86                              [hardrock, allrock]   \n",
       "87                                    [pop, ruspop]   \n",
       "88                                    [pop, ruspop]   \n",
       "89                                          [dance]   \n",
       "90                                  [rock, allrock]   \n",
       "91                                          [dance]   \n",
       "92                                    [alternative]   \n",
       "93                                    [pop, ruspop]   \n",
       "94                               [rusrock, allrock]   \n",
       "95                           [pop, foreignrap, rap]   \n",
       "96                                [foreignrap, rap]   \n",
       "97                                    [pop, ruspop]   \n",
       "98                                          [indie]   \n",
       "99                                    [pop, ruspop]   \n",
       "\n",
       "                                              artists  count_plays   \n",
       "0                                   [Imagine Dragons]          656  \\\n",
       "1                                           [Nirvana]          625   \n",
       "2                                       [Linkin Park]          588   \n",
       "3                      [Miyagi & Эндшпиль, Рем Дигга]          557   \n",
       "4                                             [KALEO]          514   \n",
       "5                                             [Sting]          506   \n",
       "6                                    [Rag'n'Bone Man]          504   \n",
       "7                                   [The Cranberries]          493   \n",
       "8                                 [The White Stripes]          492   \n",
       "9                                             [Dabro]          491   \n",
       "10                                       [Ed Sheeran]          481   \n",
       "11                          [Dynoro, Gigi D'Agostino]          481   \n",
       "12               [Tommee Profitt, Fleurie, Mellen Gi]          456   \n",
       "13                                           [Zivert]          455   \n",
       "14                                       [The Weeknd]          447   \n",
       "15                            [Timmy Trumpet, Savage]          445   \n",
       "16                                        [Sub Urban]          440   \n",
       "17                                      [Evanescence]          437   \n",
       "18                            [Red Hot Chili Peppers]          436   \n",
       "19                                            [Queen]          430   \n",
       "20                                         [Bon Jovi]          429   \n",
       "21                                             [RSAC]          427   \n",
       "22                                           [Hozier]          426   \n",
       "23                                     [Король и Шут]          419   \n",
       "24             [Robin Schulz, Lilly Wood & The Prick]          418   \n",
       "25                                [twenty one pilots]          416   \n",
       "26                                    [Billie Eilish]          414   \n",
       "27                                  [Imagine Dragons]          413   \n",
       "28                                      [Tones And I]          413   \n",
       "29                                  [HammAli & Navai]          407   \n",
       "30                        [Artik & Asti, Артём Качер]          406   \n",
       "31                    [Burak Yeter, Danelle Sandoval]          399   \n",
       "32                                            [AC/DC]          398   \n",
       "33                                          [NILETTO]          390   \n",
       "34                        [Aaron Smith, Krono, Luvli]          389   \n",
       "35                                             [JONY]          387   \n",
       "36                                 [Тима Белорусских]          386   \n",
       "37                                      [Порнофильмы]          378   \n",
       "38                                            [Сплин]          376   \n",
       "39                                           [Zivert]          374   \n",
       "40                                           [The xx]          371   \n",
       "41                                [twenty one pilots]          371   \n",
       "42                                          [Земфира]          362   \n",
       "43                                             [Жуки]          355   \n",
       "44                                [Portugal. The Man]          354   \n",
       "45                                  [Imagine Dragons]          350   \n",
       "46                                     [Coolio, L.V.]          345   \n",
       "47  [Баста, Скриптонит, Диана Арбенина, Сергей Боб...          345   \n",
       "48                                          [Бумбокс]          340   \n",
       "49                                    [Gotye, Kimbra]          338   \n",
       "50                                          [Minelli]          337   \n",
       "51                                            [Queen]          337   \n",
       "52                                 [Тима Белорусских]          332   \n",
       "53                                             [Би-2]          332   \n",
       "54                                         [No Doubt]          331   \n",
       "55           [Eurythmics, Annie Lennox, Dave Stewart]          331   \n",
       "56                                  [HammAli & Navai]          330   \n",
       "57                                            [KAZKA]          326   \n",
       "58                                      [Linkin Park]          325   \n",
       "59                                  [Michael Jackson]          323   \n",
       "60                                      [Duke Dumont]          322   \n",
       "61                                          [Кипелов]          321   \n",
       "62                                        [Макс Корж]          319   \n",
       "63                                   [Тайпан, Agunda]          317   \n",
       "64                                     [Intelligency]          315   \n",
       "65                                 [Джарахов, Markul]          315   \n",
       "66                                  [HammAli & Navai]          315   \n",
       "67                                           [Indila]          315   \n",
       "68                                        [SAINt JHN]          315   \n",
       "69                                             [Би-2]          314   \n",
       "70                                            [HENSY]          313   \n",
       "71                                     [Lana Del Rey]          313   \n",
       "72                                 [Three Days Grace]          312   \n",
       "73                                [GAYAZOV$ BROTHER$]          309   \n",
       "74                                     [Artik & Asti]          308   \n",
       "75                                        [Scorpions]          307   \n",
       "76                                           [Zivert]          307   \n",
       "77                                            [Adele]          305   \n",
       "78                                         [Måneskin]          305   \n",
       "79                                  [HammAli & Navai]          305   \n",
       "80                                             [Би-2]          304   \n",
       "81                                   [Султан Лагучев]          304   \n",
       "82                                           [#2Маши]          303   \n",
       "83                                         [АнимациЯ]          301   \n",
       "84                                      [Alan Walker]          301   \n",
       "85                                              [Zaz]          301   \n",
       "86                                        [Scorpions]          299   \n",
       "87                                  [Galibri & Mavik]          299   \n",
       "88                             [Rauf & Faik, NILETTO]          298   \n",
       "89                           [Filatov & Karas, Masha]          298   \n",
       "90                                  [Imagine Dragons]          297   \n",
       "91                          [MOUNT, Noize Generation]          292   \n",
       "92                                     [Fall Out Boy]          290   \n",
       "93                                           [Zivert]          289   \n",
       "94                                     [Король и Шут]          288   \n",
       "95                                    [Trevor Daniel]          287   \n",
       "96                                      [Masked Wolf]          287   \n",
       "97                                   [Артур Пирожков]          287   \n",
       "98                            [Billie Eilish, Khalid]          286   \n",
       "99                                          [Градусы]          286   \n",
       "\n",
       "    popularity_weighted  \n",
       "0                430336  \n",
       "1                390625  \n",
       "2                345744  \n",
       "3                310249  \n",
       "4                264196  \n",
       "5                256036  \n",
       "6                254016  \n",
       "7                243049  \n",
       "8                242064  \n",
       "9                241081  \n",
       "10               231361  \n",
       "11               231361  \n",
       "12               207936  \n",
       "13               207025  \n",
       "14               199809  \n",
       "15               198025  \n",
       "16               193600  \n",
       "17               190969  \n",
       "18               190096  \n",
       "19               184900  \n",
       "20               184041  \n",
       "21               182329  \n",
       "22               181476  \n",
       "23               175561  \n",
       "24               174724  \n",
       "25               173056  \n",
       "26               171396  \n",
       "27               170569  \n",
       "28               170569  \n",
       "29               165649  \n",
       "30               164836  \n",
       "31               159201  \n",
       "32               158404  \n",
       "33               152100  \n",
       "34               151321  \n",
       "35               149769  \n",
       "36               148996  \n",
       "37               142884  \n",
       "38               141376  \n",
       "39               139876  \n",
       "40               137641  \n",
       "41               137641  \n",
       "42               131044  \n",
       "43               126025  \n",
       "44               125316  \n",
       "45               122500  \n",
       "46               119025  \n",
       "47               119025  \n",
       "48               115600  \n",
       "49               114244  \n",
       "50               113569  \n",
       "51               113569  \n",
       "52               110224  \n",
       "53               110224  \n",
       "54               109561  \n",
       "55               109561  \n",
       "56               108900  \n",
       "57               106276  \n",
       "58               105625  \n",
       "59               104329  \n",
       "60               103684  \n",
       "61               103041  \n",
       "62               101761  \n",
       "63               100489  \n",
       "64                99225  \n",
       "65                99225  \n",
       "66                99225  \n",
       "67                99225  \n",
       "68                99225  \n",
       "69                98596  \n",
       "70                97969  \n",
       "71                97969  \n",
       "72                97344  \n",
       "73                95481  \n",
       "74                94864  \n",
       "75                94249  \n",
       "76                94249  \n",
       "77                93025  \n",
       "78                93025  \n",
       "79                93025  \n",
       "80                92416  \n",
       "81                92416  \n",
       "82                91809  \n",
       "83                90601  \n",
       "84                90601  \n",
       "85                90601  \n",
       "86                89401  \n",
       "87                89401  \n",
       "88                88804  \n",
       "89                88804  \n",
       "90                88209  \n",
       "91                85264  \n",
       "92                84100  \n",
       "93                83521  \n",
       "94                82944  \n",
       "95                82369  \n",
       "96                82369  \n",
       "97                82369  \n",
       "98                81796  \n",
       "99                81796  "
      ]
     },
     "metadata": {},
     "output_type": "display_data"
    }
   ],
   "source": [
    "with pd.option_context('display.max_rows', 100):\n",
    "    display(top_k_pop_items[[\"item_id\", \"albums\", \"genres\", \"artists\", \"count_plays\", \"popularity_weighted\"]])"
   ]
  },
  {
   "cell_type": "code",
   "execution_count": 64,
   "id": "3e772f6052ad09ba",
   "metadata": {
    "ExecuteTime": {
     "end_time": "2024-11-09T22:45:45.573340Z",
     "start_time": "2024-11-09T22:45:45.569733Z"
    }
   },
   "outputs": [],
   "source": [
    "top_k_pop_items.to_parquet(\"./data/top_popular.parquet\")"
   ]
  },
  {
   "cell_type": "markdown",
   "id": "3978a900d86e1a38",
   "metadata": {},
   "source": [
    "### 3.4 Персональные рекомендации"
   ]
  },
  {
   "cell_type": "markdown",
   "id": "7f4025622c1bc45b",
   "metadata": {},
   "source": [
    "Рассчитаем персональные рекомендации."
   ]
  },
  {
   "cell_type": "code",
   "execution_count": 65,
   "id": "3916190f29b7145",
   "metadata": {
    "ExecuteTime": {
     "end_time": "2024-11-09T22:45:45.599992Z",
     "start_time": "2024-11-09T22:45:45.573863Z"
    }
   },
   "outputs": [],
   "source": [
    "# создаём sparse-матрицу формата CSR \n",
    "user_item_matrix_train = scipy.sparse.csr_matrix((\n",
    "    events_train['user_id_enc'],\n",
    "    (events_train['user_id_enc'], events_train['item_id_enc'])),\n",
    "    dtype=np.int8\n",
    ")"
   ]
  },
  {
   "cell_type": "code",
   "execution_count": 66,
   "id": "f9e96496e1eafbad",
   "metadata": {
    "ExecuteTime": {
     "end_time": "2024-11-09T22:45:59.655910Z",
     "start_time": "2024-11-09T22:45:45.600591Z"
    }
   },
   "outputs": [
    {
     "data": {
      "application/vnd.jupyter.widget-view+json": {
       "model_id": "87560655bbda4131ae6907cc9ae4eadd",
       "version_major": 2,
       "version_minor": 0
      },
      "text/plain": [
       "  0%|          | 0/20 [00:00<?, ?it/s]"
      ]
     },
     "metadata": {},
     "output_type": "display_data"
    }
   ],
   "source": [
    "als_model = AlternatingLeastSquares(factors=30, iterations=20, regularization=0.05, random_state=42)\n",
    "als_model.fit(user_item_matrix_train)"
   ]
  },
  {
   "cell_type": "code",
   "execution_count": 67,
   "id": "ebebbb2259763c45",
   "metadata": {
    "ExecuteTime": {
     "end_time": "2024-11-09T22:45:59.658627Z",
     "start_time": "2024-11-09T22:45:59.656704Z"
    }
   },
   "outputs": [],
   "source": [
    "# получаем список всех возможных user_id (перекодированных)\n",
    "user_ids_encoded = range(len(user_encoder.classes_))"
   ]
  },
  {
   "cell_type": "code",
   "execution_count": 68,
   "id": "88c0225326267440",
   "metadata": {
    "ExecuteTime": {
     "end_time": "2024-11-09T22:48:47.986515Z",
     "start_time": "2024-11-09T22:45:59.659245Z"
    }
   },
   "outputs": [],
   "source": [
    "# получаем рекомендации для всех пользователей\n",
    "als_recommendations = als_model.recommend(\n",
    "    user_ids_encoded,\n",
    "    user_item_matrix_train[user_ids_encoded],\n",
    "    filter_already_liked_items=False, \n",
    "    N=RECOMMENDATIONS_PER_USER\n",
    ")"
   ]
  },
  {
   "cell_type": "markdown",
   "id": "27fc439a3394c8df",
   "metadata": {},
   "source": [
    "Код возвращает рекомендации как список списков, это не очень удобно. Преобразуем его в более удобный формат — табличный."
   ]
  },
  {
   "cell_type": "code",
   "execution_count": 69,
   "id": "3528737ba5666a46",
   "metadata": {
    "ExecuteTime": {
     "end_time": "2024-11-09T22:48:48.429707Z",
     "start_time": "2024-11-09T22:48:47.987969Z"
    }
   },
   "outputs": [],
   "source": [
    "# преобразуем полученные рекомендации в табличный формат\n",
    "item_ids_enc = als_recommendations[0]\n",
    "als_scores = als_recommendations[1]\n",
    "\n",
    "als_recommendations = pd.DataFrame({\n",
    "    \"user_id_enc\": user_ids_encoded,\n",
    "    \"item_id_enc\": item_ids_enc.tolist()}\n",
    ")\n",
    "als_recommendations = als_recommendations.explode([\"item_id_enc\"], ignore_index=True)\n",
    "\n",
    "# приводим типы данных\n",
    "als_recommendations[\"item_id_enc\"] = als_recommendations[\"item_id_enc\"].astype(\"int\")\n",
    "\n",
    "# получаем изначальные идентификаторы\n",
    "als_recommendations[\"user_id\"] = user_encoder.inverse_transform(als_recommendations[\"user_id_enc\"])\n",
    "als_recommendations[\"item_id\"] = item_encoder.inverse_transform(als_recommendations[\"item_id_enc\"])\n",
    "als_recommendations = als_recommendations.drop(columns=[\"user_id_enc\", \"item_id_enc\"])"
   ]
  },
  {
   "cell_type": "markdown",
   "id": "31c3898d81e9688c",
   "metadata": {},
   "source": [
    "Сохраним полученные рекомендации в файл."
   ]
  },
  {
   "cell_type": "code",
   "execution_count": 70,
   "id": "8b48e7ba39020771",
   "metadata": {
    "ExecuteTime": {
     "end_time": "2024-11-09T22:48:48.478749Z",
     "start_time": "2024-11-09T22:48:48.430424Z"
    }
   },
   "outputs": [],
   "source": [
    "als_recommendations.to_parquet(\"./data/als_recommendations.parquet\")"
   ]
  },
  {
   "cell_type": "markdown",
   "id": "86159460-cd9d-4b63-8248-604ea3c9aebf",
   "metadata": {},
   "source": []
  },
  {
   "cell_type": "markdown",
   "id": "5f09dc7e-7c91-4355-860a-b9cfb9f33f15",
   "metadata": {},
   "source": [
    "### 3.5 Похожие треки"
   ]
  },
  {
   "cell_type": "markdown",
   "id": "1dfcb683-b440-40a8-9975-894156a53872",
   "metadata": {},
   "source": [
    "Рассчитаем похожие, они позже пригодятся для онлайн-рекомендаций."
   ]
  },
  {
   "cell_type": "code",
   "execution_count": 71,
   "id": "ce370904-4c49-4152-8706-416074ea9b9a",
   "metadata": {
    "ExecuteTime": {
     "end_time": "2024-11-09T22:48:48.488943Z",
     "start_time": "2024-11-09T22:48:48.479365Z"
    }
   },
   "outputs": [],
   "source": [
    "# получим энкодированные идентификаторы всех объектов, известных нам из events_train\n",
    "train_item_ids_enc = events_train['item_id_enc'].unique()"
   ]
  },
  {
   "cell_type": "code",
   "execution_count": 72,
   "id": "5e4df15a4978c048",
   "metadata": {
    "ExecuteTime": {
     "end_time": "2024-11-09T22:50:39.979401Z",
     "start_time": "2024-11-09T22:48:48.489551Z"
    }
   },
   "outputs": [],
   "source": [
    "max_similar_items = 5\n",
    "# получаем списки похожих объектов, используя ранее полученную ALS-модель\n",
    "# метод similar_items возвращает и сам объект, как наиболее похожий\n",
    "# этот объект мы позже отфильтруем, но сейчас запросим на 1 больше\n",
    "similar_items = als_model.similar_items(train_item_ids_enc, N=max_similar_items + 1)"
   ]
  },
  {
   "cell_type": "code",
   "execution_count": 73,
   "id": "6bcebfb9ada9f786",
   "metadata": {
    "ExecuteTime": {
     "end_time": "2024-11-09T22:50:39.990379Z",
     "start_time": "2024-11-09T22:50:39.981159Z"
    }
   },
   "outputs": [],
   "source": [
    "# преобразуем полученные списки в табличный формат\n",
    "sim_item_item_ids_enc = similar_items[0]\n",
    "sim_item_scores = similar_items[1]\n",
    "similar_items = pd.DataFrame(columns=[\"item_id_enc\", \"sim_item_id_enc\", \"user_id_enc\"])\n",
    "\n",
    "# Преобразуем столбцы в соответствующие типы данных\n",
    "similar_items[\"user_id_enc\"] = similar_items[\"user_id_enc\"].astype(int)\n",
    "similar_items[\"sim_item_id_enc\"] = similar_items[\"sim_item_id_enc\"].astype(int)"
   ]
  },
  {
   "cell_type": "code",
   "execution_count": 74,
   "id": "bf04a4b9e3871b32",
   "metadata": {
    "ExecuteTime": {
     "end_time": "2024-11-09T22:50:40.354461Z",
     "start_time": "2024-11-09T22:50:39.991573Z"
    }
   },
   "outputs": [],
   "source": [
    "similar_items_list = []\n",
    "for item_id, sim_item_ids, sim_scores in zip(train_item_ids_enc, sim_item_item_ids_enc.tolist(), sim_item_scores.tolist()):\n",
    "    similar_items_list.append((item_id, sim_item_ids, sim_scores))"
   ]
  },
  {
   "cell_type": "code",
   "execution_count": 75,
   "id": "6177020ea9353269",
   "metadata": {
    "ExecuteTime": {
     "end_time": "2024-11-09T22:50:40.794768Z",
     "start_time": "2024-11-09T22:50:40.355166Z"
    }
   },
   "outputs": [],
   "source": [
    "# Создадим DataFrame из списка\n",
    "similar_items = pd.DataFrame(similar_items_list, columns=[\"item_id_enc\", \"sim_item_id_enc\", \"user_id_enc\"])\n",
    "similar_items = similar_items.explode([\"sim_item_id_enc\", \"user_id_enc\"], ignore_index=True)\n",
    "\n",
    "# Преобразуем столбцы в соответствующие типы данных\n",
    "similar_items[\"user_id_enc\"] = similar_items[\"user_id_enc\"].astype(int)\n",
    "similar_items[\"sim_item_id_enc\"] = similar_items[\"sim_item_id_enc\"].astype(int)"
   ]
  },
  {
   "cell_type": "code",
   "execution_count": 76,
   "id": "d537c46bb6d80a4f",
   "metadata": {
    "ExecuteTime": {
     "end_time": "2024-11-09T22:50:40.847357Z",
     "start_time": "2024-11-09T22:50:40.795505Z"
    }
   },
   "outputs": [],
   "source": [
    "# получаем изначальные идентификаторы\n",
    "similar_items[\"item_id_1\"] = item_encoder.inverse_transform(similar_items[\"item_id_enc\"])"
   ]
  },
  {
   "cell_type": "code",
   "execution_count": 77,
   "id": "d41efc9f63cf3b1a",
   "metadata": {
    "ExecuteTime": {
     "end_time": "2024-11-09T22:50:40.924160Z",
     "start_time": "2024-11-09T22:50:40.848060Z"
    }
   },
   "outputs": [],
   "source": [
    "# получаем изначальные идентификаторы\n",
    "similar_items[\"item_id_2\"] = item_encoder.inverse_transform(similar_items[\"sim_item_id_enc\"])"
   ]
  },
  {
   "cell_type": "code",
   "execution_count": 78,
   "id": "f9f89fd76d52cda",
   "metadata": {
    "ExecuteTime": {
     "end_time": "2024-11-09T22:50:40.932709Z",
     "start_time": "2024-11-09T22:50:40.924719Z"
    }
   },
   "outputs": [],
   "source": [
    "# убираем ненужные колонки\n",
    "similar_items = similar_items.drop(columns=[\"item_id_enc\", \"sim_item_id_enc\"])"
   ]
  },
  {
   "cell_type": "code",
   "execution_count": 79,
   "id": "f062a6b6c4b32f88",
   "metadata": {
    "ExecuteTime": {
     "end_time": "2024-11-09T22:50:40.935955Z",
     "start_time": "2024-11-09T22:50:40.933283Z"
    }
   },
   "outputs": [
    {
     "data": {
      "text/html": [
       "<div>\n",
       "<style scoped>\n",
       "    .dataframe tbody tr th:only-of-type {\n",
       "        vertical-align: middle;\n",
       "    }\n",
       "\n",
       "    .dataframe tbody tr th {\n",
       "        vertical-align: top;\n",
       "    }\n",
       "\n",
       "    .dataframe thead th {\n",
       "        text-align: right;\n",
       "    }\n",
       "</style>\n",
       "<table border=\"1\" class=\"dataframe\">\n",
       "  <thead>\n",
       "    <tr style=\"text-align: right;\">\n",
       "      <th></th>\n",
       "      <th>user_id_enc</th>\n",
       "      <th>item_id_1</th>\n",
       "      <th>item_id_2</th>\n",
       "    </tr>\n",
       "  </thead>\n",
       "  <tbody>\n",
       "    <tr>\n",
       "      <th>0</th>\n",
       "      <td>1</td>\n",
       "      <td>3581309</td>\n",
       "      <td>3581309</td>\n",
       "    </tr>\n",
       "    <tr>\n",
       "      <th>1</th>\n",
       "      <td>0</td>\n",
       "      <td>3581309</td>\n",
       "      <td>149855</td>\n",
       "    </tr>\n",
       "    <tr>\n",
       "      <th>2</th>\n",
       "      <td>0</td>\n",
       "      <td>3581309</td>\n",
       "      <td>82995049</td>\n",
       "    </tr>\n",
       "    <tr>\n",
       "      <th>3</th>\n",
       "      <td>0</td>\n",
       "      <td>3581309</td>\n",
       "      <td>15651153</td>\n",
       "    </tr>\n",
       "    <tr>\n",
       "      <th>4</th>\n",
       "      <td>0</td>\n",
       "      <td>3581309</td>\n",
       "      <td>4317602</td>\n",
       "    </tr>\n",
       "  </tbody>\n",
       "</table>\n",
       "</div>"
      ],
      "text/plain": [
       "   user_id_enc  item_id_1  item_id_2\n",
       "0            1    3581309    3581309\n",
       "1            0    3581309     149855\n",
       "2            0    3581309   82995049\n",
       "3            0    3581309   15651153\n",
       "4            0    3581309    4317602"
      ]
     },
     "execution_count": 79,
     "metadata": {},
     "output_type": "execute_result"
    }
   ],
   "source": [
    "# Выводим результат\n",
    "similar_items.head()"
   ]
  },
  {
   "cell_type": "code",
   "execution_count": 80,
   "id": "e670aa4be0174405",
   "metadata": {
    "ExecuteTime": {
     "end_time": "2024-11-09T22:50:40.957512Z",
     "start_time": "2024-11-09T22:50:40.936501Z"
    }
   },
   "outputs": [],
   "source": [
    "# убираем пары с одинаковыми объектами\n",
    "similar_items = similar_items.query(\"item_id_1 != item_id_2\")"
   ]
  },
  {
   "cell_type": "markdown",
   "id": "d72fba3d",
   "metadata": {},
   "source": [
    "Сохраним получившийся результат в файл"
   ]
  },
  {
   "cell_type": "code",
   "execution_count": 81,
   "id": "c23fb31712b98f82",
   "metadata": {
    "ExecuteTime": {
     "end_time": "2024-11-09T22:50:41.040756Z",
     "start_time": "2024-11-09T22:50:40.958084Z"
    }
   },
   "outputs": [],
   "source": [
    "similar_items.to_parquet(\"./data/similar.parquet\")"
   ]
  },
  {
   "cell_type": "markdown",
   "id": "0087a3e7-ca9f-42cd-944c-944222c1baef",
   "metadata": {},
   "source": [
    "### 3.6 Построение признаков"
   ]
  },
  {
   "cell_type": "markdown",
   "id": "e82a32e1-b90b-4eaf-9439-fc8deab9f34b",
   "metadata": {},
   "source": [
    "Построим три признака, для ранжирующей модели.\n",
    "1. Признак количества прослушиваний трека для каждого пользователя\n",
    "2. Признак средней позиции прослушивания для каждого трека пользователя\n",
    "3. Признак популярности трека: общее количество прослушиваний"
   ]
  },
  {
   "cell_type": "code",
   "execution_count": 82,
   "id": "7dd1e2cb301810df",
   "metadata": {
    "ExecuteTime": {
     "end_time": "2024-11-09T22:50:42.698089Z",
     "start_time": "2024-11-09T22:50:41.041494Z"
    }
   },
   "outputs": [],
   "source": [
    "# Создание уникальных числовых идентификаторов для пользователей и треков\n",
    "user_id_map = {id: idx for idx, id in enumerate(events_train['user_id'].unique())}\n",
    "item_id_map = {id: idx for idx, id in enumerate(events_train['item_id'].unique())}\n",
    "events_train['user_id_enc'] = events_train['user_id'].map(user_id_map)\n",
    "events_train['item_id_enc'] = events_train['item_id'].map(item_id_map)"
   ]
  },
  {
   "cell_type": "code",
   "execution_count": 83,
   "id": "00f84c35-f544-4c3d-ad53-9b1d2b684c75",
   "metadata": {
    "ExecuteTime": {
     "end_time": "2024-11-09T22:50:43.266366Z",
     "start_time": "2024-11-09T22:50:42.698739Z"
    }
   },
   "outputs": [],
   "source": [
    "# 1. Признак количества прослушиваний трека для каждого пользователя\n",
    "play_count = events_train.groupby(['user_id_enc', 'item_id_enc']).size().reset_index(name='play_count')\n",
    "\n",
    "# 2. Признак средней позиции прослушивания для каждого трека пользователя\n",
    "avg_track_seq = events_train.groupby(['user_id_enc', 'item_id_enc'])['track_seq'].mean().reset_index(name='avg_track_seq')\n",
    "\n",
    "# 3. Признак популярности трека: общее количество прослушиваний\n",
    "item_popularity = events_train.groupby('item_id_enc').size().reset_index(name='item_popularity')\n",
    "\n",
    "# Объединение признаков\n",
    "features = play_count.merge(avg_track_seq, on=['user_id_enc', 'item_id_enc'])\n",
    "features = features.merge(item_popularity, on='item_id_enc')"
   ]
  },
  {
   "cell_type": "code",
   "execution_count": 84,
   "id": "3da779830aab9364",
   "metadata": {
    "ExecuteTime": {
     "end_time": "2024-11-09T22:50:43.270255Z",
     "start_time": "2024-11-09T22:50:43.267160Z"
    }
   },
   "outputs": [
    {
     "data": {
      "text/html": [
       "<div>\n",
       "<style scoped>\n",
       "    .dataframe tbody tr th:only-of-type {\n",
       "        vertical-align: middle;\n",
       "    }\n",
       "\n",
       "    .dataframe tbody tr th {\n",
       "        vertical-align: top;\n",
       "    }\n",
       "\n",
       "    .dataframe thead th {\n",
       "        text-align: right;\n",
       "    }\n",
       "</style>\n",
       "<table border=\"1\" class=\"dataframe\">\n",
       "  <thead>\n",
       "    <tr style=\"text-align: right;\">\n",
       "      <th></th>\n",
       "      <th>user_id_enc</th>\n",
       "      <th>item_id_enc</th>\n",
       "      <th>play_count</th>\n",
       "      <th>avg_track_seq</th>\n",
       "      <th>item_popularity</th>\n",
       "    </tr>\n",
       "  </thead>\n",
       "  <tbody>\n",
       "    <tr>\n",
       "      <th>0</th>\n",
       "      <td>0</td>\n",
       "      <td>0</td>\n",
       "      <td>1</td>\n",
       "      <td>131.0</td>\n",
       "      <td>338</td>\n",
       "    </tr>\n",
       "    <tr>\n",
       "      <th>1</th>\n",
       "      <td>1096</td>\n",
       "      <td>0</td>\n",
       "      <td>1</td>\n",
       "      <td>634.0</td>\n",
       "      <td>338</td>\n",
       "    </tr>\n",
       "    <tr>\n",
       "      <th>2</th>\n",
       "      <td>1591</td>\n",
       "      <td>0</td>\n",
       "      <td>1</td>\n",
       "      <td>146.0</td>\n",
       "      <td>338</td>\n",
       "    </tr>\n",
       "    <tr>\n",
       "      <th>3</th>\n",
       "      <td>1654</td>\n",
       "      <td>0</td>\n",
       "      <td>1</td>\n",
       "      <td>11.0</td>\n",
       "      <td>338</td>\n",
       "    </tr>\n",
       "    <tr>\n",
       "      <th>4</th>\n",
       "      <td>1814</td>\n",
       "      <td>0</td>\n",
       "      <td>1</td>\n",
       "      <td>4.0</td>\n",
       "      <td>338</td>\n",
       "    </tr>\n",
       "  </tbody>\n",
       "</table>\n",
       "</div>"
      ],
      "text/plain": [
       "   user_id_enc  item_id_enc  play_count  avg_track_seq  item_popularity\n",
       "0            0            0           1          131.0              338\n",
       "1         1096            0           1          634.0              338\n",
       "2         1591            0           1          146.0              338\n",
       "3         1654            0           1           11.0              338\n",
       "4         1814            0           1            4.0              338"
      ]
     },
     "execution_count": 84,
     "metadata": {},
     "output_type": "execute_result"
    }
   ],
   "source": [
    "features.head()"
   ]
  },
  {
   "cell_type": "markdown",
   "id": "47bcf88d-b236-46f0-a6f3-38ddd64895fe",
   "metadata": {},
   "source": [
    "### 3.7 Ранжирование рекомендаций"
   ]
  },
  {
   "cell_type": "markdown",
   "id": "e8cd8223-3418-4493-8c87-1f76286ebda0",
   "metadata": {},
   "source": [
    "Построим ранжирующую модель, чтобы сделать рекомендации более точными. Отранжируем рекомендации."
   ]
  },
  {
   "cell_type": "code",
   "execution_count": 100,
   "id": "8cfeb28262b7795c",
   "metadata": {
    "ExecuteTime": {
     "end_time": "2024-11-09T22:50:43.286115Z",
     "start_time": "2024-11-09T22:50:43.276545Z"
    }
   },
   "outputs": [],
   "source": [
    "# Шаг 1: Определение весов для sparse-матрицы\n",
    "# Используем нормированное значение play_count и item_popularity как веса\n",
    "# при этом уменьшим влияние item_popularity, добавляя корень\n",
    "features['weight'] = features['play_count'] * (1 + np.sqrt(features['item_popularity'] + 1) / 10)"
   ]
  },
  {
   "cell_type": "code",
   "execution_count": 101,
   "id": "86e7eb695ec27519",
   "metadata": {
    "ExecuteTime": {
     "end_time": "2024-11-09T22:50:43.297100Z",
     "start_time": "2024-11-09T22:50:43.286605Z"
    }
   },
   "outputs": [],
   "source": [
    "# Создание sparse-матрицы с весами\n",
    "user_item_matrix_train = scipy.sparse.csr_matrix((\n",
    "    features['weight'],\n",
    "    (features['user_id_enc'], features['item_id_enc'])),\n",
    "    shape=(len(user_id_map), len(item_id_map)),\n",
    "    dtype=np.float32\n",
    ")"
   ]
  },
  {
   "cell_type": "code",
   "execution_count": 102,
   "id": "14da60be58816a2e",
   "metadata": {
    "ExecuteTime": {
     "end_time": "2024-11-09T22:50:56.997070Z",
     "start_time": "2024-11-09T22:50:43.297701Z"
    }
   },
   "outputs": [
    {
     "data": {
      "application/vnd.jupyter.widget-view+json": {
       "model_id": "d76a4048a7db423ab569f39ba1807535",
       "version_major": 2,
       "version_minor": 0
      },
      "text/plain": [
       "  0%|          | 0/20 [00:00<?, ?it/s]"
      ]
     },
     "metadata": {},
     "output_type": "display_data"
    }
   ],
   "source": [
    "# Шаг 4: Обучение модели ALS\n",
    "als_model = AlternatingLeastSquares(factors=50, iterations=20, regularization=0.05, random_state=42)\n",
    "als_model.fit(user_item_matrix_train)"
   ]
  },
  {
   "cell_type": "code",
   "execution_count": 103,
   "id": "c7feb4e149990832",
   "metadata": {
    "ExecuteTime": {
     "end_time": "2024-11-09T22:59:18.927341Z",
     "start_time": "2024-11-09T22:59:18.924473Z"
    }
   },
   "outputs": [],
   "source": [
    "# Функция для получения рекомендаций для одного пользователя\n",
    "def get_user_recommendations(user_id, user_idx, als_model, user_item_matrix_train, reverse_item_id_map):\n",
    "    # Получаем рекомендации для текущего пользователя\n",
    "    recommended_items, scores = als_model.recommend(\n",
    "        userid=user_idx,\n",
    "        user_items=user_item_matrix_train[user_idx],  # Передаем только данные для конкретного пользователя\n",
    "        N=RECOMMENDATIONS_PER_USER  # Количество рекомендаций на пользователя\n",
    "    )\n",
    "    \n",
    "    # Расшифровываем item_id с использованием обратного словаря\n",
    "    recommended_item_ids = [reverse_item_id_map[idx] for idx in recommended_items]\n",
    "    \n",
    "    # Формируем рекомендации для пользователя\n",
    "    user_recommendations = [{\n",
    "        'user_id': user_id,\n",
    "        'item_id': item_id,\n",
    "        'score': score\n",
    "    } for item_id, score in zip(recommended_item_ids, scores)]\n",
    "    \n",
    "    return user_recommendations"
   ]
  },
  {
   "cell_type": "code",
   "execution_count": 104,
   "id": "bbb54892db1d49d0",
   "metadata": {
    "ExecuteTime": {
     "end_time": "2024-11-09T23:05:36.645488Z",
     "start_time": "2024-11-09T22:59:20.142283Z"
    }
   },
   "outputs": [
    {
     "data": {
      "application/vnd.jupyter.widget-view+json": {
       "model_id": "469007f979504395a7d6a75167ab917a",
       "version_major": 2,
       "version_minor": 0
      },
      "text/plain": [
       "Generating Recommendations:   0%|          | 0/500267 [00:00<?, ?user/s]"
      ]
     },
     "metadata": {},
     "output_type": "display_data"
    }
   ],
   "source": [
    "# Генерация рекомендаций для каждого пользователя с использованием tqdm\n",
    "recommendations = []\n",
    "\n",
    "# Создаем обратный словарь для быстрого поиска item_id\n",
    "reverse_item_id_map = {v: k for k, v in item_id_map.items()}\n",
    "\n",
    "for user_id, user_idx in tqdm(user_id_map.items(), desc=\"Generating Recommendations\", unit=\"user\"):\n",
    "    recommendations.extend(\n",
    "        get_user_recommendations(user_id, user_idx, als_model, user_item_matrix_train, reverse_item_id_map)\n",
    "    )"
   ]
  },
  {
   "cell_type": "markdown",
   "id": "c4fbb6c5",
   "metadata": {},
   "source": [
    "Сохраним получившийся результат в файл"
   ]
  },
  {
   "cell_type": "code",
   "execution_count": 105,
   "id": "47e69103ad430c07",
   "metadata": {
    "ExecuteTime": {
     "end_time": "2024-11-09T23:05:49.909878Z",
     "start_time": "2024-11-09T23:05:43.181772Z"
    }
   },
   "outputs": [],
   "source": [
    "# Шаг 6: Сохранение рекомендаций в parquet-файл\n",
    "recommendations_df = pd.DataFrame(recommendations)\n",
    "recommendations_df.to_parquet('data/recommendations.parquet', index=False)"
   ]
  },
  {
   "cell_type": "markdown",
   "id": "b3c84071-45b5-4a15-a683-e0ab034a3128",
   "metadata": {},
   "source": [
    "### 3.8 Оценка качества"
   ]
  },
  {
   "cell_type": "markdown",
   "id": "1b107fe4-554e-42b1-87d9-c435a52bb77a",
   "metadata": {},
   "source": [
    "Проверим оценку качества трёх типов рекомендаций: \n",
    "\n",
    "- топ популярных\n",
    "- персональных, полученных при помощи ALS\n",
    "- итоговых\n",
    "  \n",
    "по четырем метрикам: recall, precision, coverage, novelty."
   ]
  },
  {
   "cell_type": "code",
   "execution_count": 106,
   "id": "94d6f388-aecb-443e-8647-14014e932d4d",
   "metadata": {
    "ExecuteTime": {
     "end_time": "2024-11-09T23:05:49.940294Z",
     "start_time": "2024-11-09T23:05:49.910848Z"
    }
   },
   "outputs": [],
   "source": [
    "# Чтение данных\n",
    "top_popular = pd.read_parquet('data/top_popular.parquet')\n",
    "als_recommendations = pd.read_parquet('data/als_recommendations.parquet')\n",
    "final_recommendations = pd.read_parquet('data/recommendations.parquet')"
   ]
  },
  {
   "cell_type": "code",
   "execution_count": 107,
   "id": "3dd001b7",
   "metadata": {
    "ExecuteTime": {
     "end_time": "2024-11-09T23:05:49.957858Z",
     "start_time": "2024-11-09T23:05:49.940782Z"
    }
   },
   "outputs": [],
   "source": [
    "# Данные взаимодействий пользователей (необходимо загрузить для вычисления релевантности)\n",
    "events = pd.read_parquet('data/events.parquet')  # Исходная история взаимодействий пользователей с треками"
   ]
  },
  {
   "cell_type": "code",
   "execution_count": 108,
   "id": "e14bbb345d6d46d6",
   "metadata": {
    "ExecuteTime": {
     "end_time": "2024-11-09T23:05:50.021984Z",
     "start_time": "2024-11-09T23:05:49.958937Z"
    }
   },
   "outputs": [],
   "source": [
    "user_item_pairs = events[['user_id', 'item_id']].drop_duplicates()\n",
    "\n",
    "# Словарь популярности для вычисления новизны\n",
    "popularity_dict = dict(zip(top_popular['item_id'], top_popular['popularity_weighted']))"
   ]
  },
  {
   "cell_type": "code",
   "execution_count": 109,
   "id": "72f0ef3ff90e1caa",
   "metadata": {
    "ExecuteTime": {
     "end_time": "2024-11-09T23:05:50.025058Z",
     "start_time": "2024-11-09T23:05:50.022649Z"
    }
   },
   "outputs": [],
   "source": [
    "def calculate_metrics(recommendations, user_item_pairs, popularity_dict):\n",
    "    # Уникальные пользователи и треки в рекомендациях\n",
    "    unique_items = recommendations['item_id'].unique()\n",
    "    \n",
    "    # Метрика coverage\n",
    "    coverage = len(unique_items) / len(top_popular['item_id'].unique())\n",
    "    \n",
    "    # Релевантные пары\n",
    "    relevant_pairs = user_item_pairs.set_index(['user_id', 'item_id']).index\n",
    "    recommended_pairs = recommendations.set_index(['user_id', 'item_id']).index\n",
    "    \n",
    "    # Метрика recall\n",
    "    recall = len(recommended_pairs.intersection(relevant_pairs)) / len(relevant_pairs)\n",
    "    \n",
    "    # Метрика precision\n",
    "    precision = len(recommended_pairs.intersection(relevant_pairs)) / len(recommended_pairs)\n",
    "    \n",
    "    # Метрика novelty\n",
    "    novelty_scores = recommendations['item_id'].map(lambda x: popularity_dict.get(x, np.nan))\n",
    "    novelty = novelty_scores.rank(method='max', ascending=False).mean()\n",
    "    \n",
    "    return recall, precision, coverage, novelty"
   ]
  },
  {
   "cell_type": "code",
   "execution_count": 110,
   "id": "8235433498e4d2b8",
   "metadata": {
    "ExecuteTime": {
     "end_time": "2024-11-09T23:05:50.230057Z",
     "start_time": "2024-11-09T23:05:50.025537Z"
    }
   },
   "outputs": [
    {
     "name": "stdout",
     "output_type": "stream",
     "text": [
      "Top Popular Recommendations:\n",
      "Recall: 0.0000, Precision: 0.0000, Coverage: 1.0000, Novelty: 50.8200\n"
     ]
    }
   ],
   "source": [
    "# Рассчёт метрик для каждой группы рекомендаций\n",
    "top_recall, top_precision, top_coverage, top_novelty = calculate_metrics(top_popular[['item_id']].assign(user_id=0), user_item_pairs, popularity_dict)\n",
    "print(\"Top Popular Recommendations:\")\n",
    "print(f\"Recall: {top_recall:.4f}, Precision: {top_precision:.4f}, Coverage: {top_coverage:.4f}, Novelty: {top_novelty:.4f}\")"
   ]
  },
  {
   "cell_type": "code",
   "execution_count": 111,
   "id": "70133b8681062129",
   "metadata": {
    "ExecuteTime": {
     "end_time": "2024-11-09T23:05:50.932058Z",
     "start_time": "2024-11-09T23:05:50.230624Z"
    }
   },
   "outputs": [
    {
     "name": "stdout",
     "output_type": "stream",
     "text": [
      "\n",
      "ALS Recommendations:\n",
      "Recall: 0.0882, Precision: 0.0444, Coverage: 26.7400, Novelty: 676631.6086\n"
     ]
    }
   ],
   "source": [
    "als_recall, als_precision, als_coverage, als_novelty = calculate_metrics(als_recommendations, user_item_pairs, popularity_dict)\n",
    "print(\"\\nALS Recommendations:\")\n",
    "print(f\"Recall: {als_recall:.4f}, Precision: {als_precision:.4f}, Coverage: {als_coverage:.4f}, Novelty: {als_novelty:.4f}\")"
   ]
  },
  {
   "cell_type": "code",
   "execution_count": 112,
   "id": "1ae0bd35b419c8df",
   "metadata": {
    "ExecuteTime": {
     "end_time": "2024-11-09T23:05:51.663171Z",
     "start_time": "2024-11-09T23:05:50.932605Z"
    }
   },
   "outputs": [
    {
     "name": "stdout",
     "output_type": "stream",
     "text": [
      "\n",
      "Final Recommendations:\n",
      "Recall: 0.0000, Precision: 0.0000, Coverage: 2.6200, Novelty: 1057185.1333\n"
     ]
    }
   ],
   "source": [
    "final_recall, final_precision, final_coverage, final_novelty = calculate_metrics(final_recommendations, user_item_pairs, popularity_dict)\n",
    "print(\"\\nFinal Recommendations:\")\n",
    "print(f\"Recall: {final_recall:.4f}, Precision: {final_precision:.4f}, Coverage: {final_coverage:.4f}, Novelty: {final_novelty:.4f}\")"
   ]
  },
  {
   "cell_type": "markdown",
   "id": "f1c8d38c-32b0-46a4-96f0-cd01dac708bc",
   "metadata": {},
   "source": [
    "### === 3.9 Выводы, метрики ==="
   ]
  },
  {
   "cell_type": "markdown",
   "id": "f7d7d5d8-7d1e-4fdf-a6cd-83e5ce92c684",
   "metadata": {},
   "source": [
    "Основные выводы при работе над расчётом рекомендаций, рассчитанные метрики."
   ]
  },
  {
   "cell_type": "markdown",
   "id": "e29a8441",
   "metadata": {},
   "source": [
    "1. **Top Popular Recommendations (топ популярных треков)**\n",
    "    - **Recall**: 0.0000\n",
    "    - **Precision**: 0.0000\n",
    "    - **Coverage**: 1.0000\n",
    "    - **Novelty**: 50.8200\n",
    "    \n",
    "    Топ популярных рекомендаций охватывает все доступные треки (Coverage = 1.0), что делает их доступными для всех пользователей. Однако показатели Recall и Precision равны нулю, что указывает на отсутствие персонализации — пользователи не получают релевантные для них рекомендации. Низкое значение Novelty говорит о том, что рекомендации сосредоточены на самых популярных треках, что может не подходить для пользователей с менее распространёнными музыкальными вкусами.\n",
    "    \n",
    "2. **ALS Recommendations (персонализированные рекомендации на основе ALS)**\n",
    "    - **Recall**: 0.0882\n",
    "    - **Precision**: 0.0444\n",
    "    - **Coverage**: 26.7400\n",
    "    - **Novelty**: 676631.6086\n",
    "    \n",
    "    ALS-рекомендации показывают лучшие показатели Recall и Precision, что указывает на персонализацию и более точное соответствие предпочтениям пользователей. Coverage составляет 26.74, что означает, что рекомендации охватывают ограниченное количество треков, однако этого достаточно для персонализации. Высокое значение Novelty указывает на включение в рекомендации менее популярных треков, что делает рекомендации разнообразнее и более интересными для пользователей с уникальными предпочтениями.\n",
    "    \n",
    "3. **Final Recommendations (итоговые рекомендации)**\n",
    "    - **Recall**: 0.0000\n",
    "    - **Precision**: 0.0000\n",
    "    - **Coverage**: 4.3900\n",
    "    - **Novelty**: 996169.7591\n",
    "    \n",
    "    Итоговые рекомендации имеют нулевые значения Recall и Precision, что свидетельствует о полном отсутствии релевантности для пользователей. Coverage равен 2.62, что указывает на низкий охват и предполагает, что только небольшое количество треков было рекомендовано. При этом высокое значение Novelty показывает, что рекомендации включают очень редкие и непопулярные треки, которые, вероятно, не интересны большинству пользователей.\n",
    "    \n",
    "\n",
    "### Рекомендации по улучшению\n",
    "\n",
    "- **Гибридный подход**: Комбинированная модель, которая использует как ALS для персонализации, так и популярные треки для расширения охвата, может улучшить как персонализацию, так и разнообразие рекомендаций.\n",
    "- **Оптимизация итоговой модели**: Необходимо пересмотреть алгоритм, генерирующий итоговые рекомендации, чтобы обеспечить релевантность для пользователей, возможно, добавив элементы персонализации или проверив корректность данных."
   ]
  },
  {
   "cell_type": "markdown",
   "id": "a8413cd2",
   "metadata": {},
   "source": []
  }
 ],
 "metadata": {
  "kernelspec": {
   "display_name": "Python 3 (ipykernel)",
   "language": "python",
   "name": "python3"
  },
  "language_info": {
   "codemirror_mode": {
    "name": "ipython",
    "version": 3
   },
   "file_extension": ".py",
   "mimetype": "text/x-python",
   "name": "python",
   "nbconvert_exporter": "python",
   "pygments_lexer": "ipython3",
   "version": "3.10.12"
  }
 },
 "nbformat": 4,
 "nbformat_minor": 5
}
