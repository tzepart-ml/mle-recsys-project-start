{
 "cells": [
  {
   "cell_type": "markdown",
   "id": "657ba731",
   "metadata": {},
   "source": [
    "Привет, меня зовут Артем Носенко и я буду проверять твой проект.\n",
    "<br>Небольшая вступительная часть и начнем работу)\n",
    "<br> Если не против, то предлагаю общаться на «ты». Если это не удобно - дай знать, и мы перейдем на \"вы\". Моя основная цель — не указать на совершенные ошибки, а поделиться своим опытом и помочь сделать твой проект лучше. Для этого я буду использовать разный стиль оформления комментариев.\n",
    "<div class=\"alert alert-block alert-success\">\n",
    "✔️ Все хорошо.\n",
    "</div>\n",
    "\n",
    "<div class=\"alert alert-warning\">\n",
    "⚠️ Критических замечаний нет, но есть возможность сделать твою работу лучше.\n",
    "</div>\n",
    "\n",
    "<div class=\"alert alert-block alert-danger\">\n",
    "❌ Если требуются исправления. Работа не может быть принята с красными комментариями.\n",
    "</div>\n",
    "\n",
    "\n",
    "Давай работать над проектом в диалоге: если ты что-то меняешь в проекте по моим рекомендациям — пиши об этом.\n",
    "Будет очень хорошо, если ты будешь помечать свои действия следующим образом:\n",
    "<div class=\"alert alert-block alert-info\">\n",
    "<b>Комментарий студента:</b> ...\n",
    "</div>\n",
    "Пожалуйста, не перемещай, не изменяй и не удаляй мои комментарии. Всё это поможет выполнить повторную проверку твоего проекта оперативнее».\n"
   ]
  },
  {
   "cell_type": "markdown",
   "id": "c65dc1f015cef865",
   "metadata": {},
   "source": [
    "# Проект. Создание рекомендательной системы. Часть 1"
   ]
  },
  {
   "cell_type": "markdown",
   "id": "c7c8a485084c943e",
   "metadata": {},
   "source": [
    "## Описание задачи\n",
    "\n",
    "На этот раз мы работаем с большим каталогом — более 70 млн треков. Чтобы пользователям было легче ориентироваться в столь обширном музыкальном потоке, нужно создать эффективную систему персональных рекомендаций.\n",
    "\n",
    "Для этого нужно облегчить пользовательский опыт, создав систему персональных рекомендаций."
   ]
  },
  {
   "cell_type": "markdown",
   "id": "918def3fbe4eaa25",
   "metadata": {},
   "source": [
    "## Данные\n",
    "\n",
    "Данные находятся в трёх файлах.\n",
    "\n",
    "Данные о треках — в файле `tracks.parquet`:\n",
    "\n",
    "- `track_id` — идентификатор музыкального трека;\n",
    "- `albums` — список идентификаторов альбомов, содержащих трек;\n",
    "- `artists` — список идентификаторов исполнителей трека;\n",
    "- `genres` — список идентификаторов жанров, к которым принадлежит трек.\n",
    "\n",
    "Имена артистов, названия альбомов, треков и жанров — в файле `catalog_names.parquet`:\n",
    "\n",
    "- `id` — идентификатор одной из каталожных единиц (трека, альбома, исполнителя, жанра);\n",
    "- `type` — тип идентификатора;\n",
    "- `name` — имя (название) каталожной единицы.\n",
    "\n",
    "Данные о том, какие пользователи прослушали тот или иной трек, — в файле `interactions.parquet` :\n",
    "\n",
    "- `user_id` — идентификатор пользователя,\n",
    "- `track_id` — идентификатор музыкального трека,\n",
    "- `track_seq` — номер места трека в истории пользователя,\n",
    "- `started_at` — дата начала прослушивания трека."
   ]
  },
  {
   "cell_type": "markdown",
   "id": "f4095ae4-7294-4b28-853e-88d235002c97",
   "metadata": {},
   "source": [
    "### Инициализация"
   ]
  },
  {
   "cell_type": "markdown",
   "id": "2f2318d2-9df8-4911-915e-15b725c44f8a",
   "metadata": {},
   "source": [
    "Загружаем библиотеки необходимые для выполнения кода ноутбука."
   ]
  },
  {
   "cell_type": "code",
   "execution_count": 1,
   "id": "662d04e7-1b0b-4e4a-9ddf-4526d7fef119",
   "metadata": {
    "ExecuteTime": {
     "end_time": "2024-11-12T00:05:59.883099Z",
     "start_time": "2024-11-12T00:05:58.634353Z"
    }
   },
   "outputs": [],
   "source": [
    "import os\n",
    "\n",
    "import pandas as pd\n",
    "import numpy as np\n",
    "import matplotlib.pyplot as plt\n",
    "import scipy\n",
    "from implicit.als import AlternatingLeastSquares\n",
    "import sklearn.preprocessing\n",
    "import warnings\n",
    "from tqdm.notebook import tqdm \n",
    "import mlflow\n",
    "from dotenv import load_dotenv"
   ]
  },
  {
   "cell_type": "code",
   "execution_count": 2,
   "id": "a1e7851f55456e9f",
   "metadata": {
    "ExecuteTime": {
     "end_time": "2024-11-12T00:05:59.885420Z",
     "start_time": "2024-11-12T00:05:59.884Z"
    }
   },
   "outputs": [],
   "source": [
    "warnings.filterwarnings('ignore')"
   ]
  },
  {
   "cell_type": "code",
   "execution_count": 3,
   "id": "37977d730ce8324",
   "metadata": {
    "ExecuteTime": {
     "end_time": "2024-11-12T00:05:59.887544Z",
     "start_time": "2024-11-12T00:05:59.885895Z"
    }
   },
   "outputs": [],
   "source": [
    "TRACKING_SERVER_HOST = \"127.0.0.1\"\n",
    "TRACKING_SERVER_PORT = 5000\n",
    "\n",
    "# Определяем константу для количества рекомендаций на пользователя\n",
    "RECOMMENDATIONS_PER_USER = 5"
   ]
  },
  {
   "cell_type": "code",
   "execution_count": 4,
   "id": "502b7cf1",
   "metadata": {
    "ExecuteTime": {
     "end_time": "2024-11-12T00:05:59.890566Z",
     "start_time": "2024-11-12T00:05:59.888522Z"
    }
   },
   "outputs": [],
   "source": [
    "load_dotenv(override=True)\n",
    "\n",
    "os.environ[\"MLFLOW_S3_ENDPOINT_URL\"] = \"https://storage.yandexcloud.net\"\n",
    "os.environ[\"AWS_ACCESS_KEY_ID\"] = os.getenv(\"AWS_ACCESS_KEY_ID\")\n",
    "os.environ[\"AWS_SECRET_ACCESS_KEY\"] = os.getenv(\"AWS_SECRET_ACCESS_KEY\")\n",
    "\n",
    "mlflow.set_tracking_uri(f\"http://{TRACKING_SERVER_HOST}:{TRACKING_SERVER_PORT}\")\n",
    "mlflow.set_registry_uri(f\"http://{TRACKING_SERVER_HOST}:{TRACKING_SERVER_PORT}\")"
   ]
  },
  {
   "cell_type": "markdown",
   "id": "e02b9b4c",
   "metadata": {},
   "source": [
    "<b>Комментарий от ревьюера v1</b>\n",
    "<div class=\"alert alert-block alert-success\">\n",
    "✔️ Импорты сделаны, отлично!\n",
    "</div>\n",
    "\n",
    "Импорты стоит располагать в отдельной ячейке и группировать по типам. Вот [тут](https://peps.python.org/pep-0008/#imports:~:text=Imports%20should%20be,library%20specific%20imports.) можно посмотреть, как в стандарте PEP8 оформляются импорты."
   ]
  },
  {
   "cell_type": "markdown",
   "id": "bf80fbc5-b660-4fac-8fbb-a5cae77313b3",
   "metadata": {},
   "source": [
    "## === ЭТАП 1 ==="
   ]
  },
  {
   "cell_type": "markdown",
   "id": "5263a8b3-fe99-4204-8a2e-105182792c11",
   "metadata": {},
   "source": [
    "### 1.1 Загрузка первичных данных"
   ]
  },
  {
   "cell_type": "markdown",
   "id": "1b54a6a5-1656-4e3c-99d1-49dc39451d33",
   "metadata": {},
   "source": [
    "Загружаем первичные данные из файлов:\n",
    "- tracks.parquet\n",
    "- catalog_names.parquet\n",
    "- interactions.parquet"
   ]
  },
  {
   "cell_type": "code",
   "execution_count": 5,
   "id": "5d4b8961-3f35-4e58-9d6b-3e2dbd2c4224",
   "metadata": {
    "ExecuteTime": {
     "end_time": "2024-11-12T00:06:03.162985Z",
     "start_time": "2024-11-12T00:05:59.890926Z"
    }
   },
   "outputs": [],
   "source": [
    "catalog_names = pd.read_parquet(\"./data/catalog_names.parquet\")\n",
    "interactions = pd.read_parquet(\"./data/interactions.parquet\")\n",
    "tracks = pd.read_parquet(\"./data/tracks.parquet\")"
   ]
  },
  {
   "cell_type": "markdown",
   "id": "3b4aa036",
   "metadata": {},
   "source": [
    "<b>Комментарий от ревьюера v1</b>\n",
    "<div class=\"alert alert-block alert-success\">\n",
    "✔️ ОК, подготовительная работа проведена, данные загружены!\n",
    "</div>"
   ]
  },
  {
   "cell_type": "code",
   "execution_count": 6,
   "id": "b194e3d3eb5bc322",
   "metadata": {
    "ExecuteTime": {
     "end_time": "2024-11-12T00:06:03.171559Z",
     "start_time": "2024-11-12T00:06:03.164270Z"
    }
   },
   "outputs": [
    {
     "name": "stdout",
     "output_type": "stream",
     "text": [
      "<class 'pandas.core.frame.DataFrame'>\n",
      "Index: 222629898 entries, 0 to 291\n",
      "Data columns (total 4 columns):\n",
      " #   Column      Dtype         \n",
      "---  ------      -----         \n",
      " 0   user_id     int32         \n",
      " 1   track_id    int32         \n",
      " 2   track_seq   int16         \n",
      " 3   started_at  datetime64[ns]\n",
      "dtypes: datetime64[ns](1), int16(1), int32(2)\n",
      "memory usage: 5.4 GB\n"
     ]
    }
   ],
   "source": [
    "interactions.info()"
   ]
  },
  {
   "cell_type": "markdown",
   "id": "223eee44",
   "metadata": {},
   "source": [
    "За основу возьмем взаимодействия ~1,3 млн пользователей. "
   ]
  },
  {
   "cell_type": "code",
   "execution_count": 7,
   "id": "7c95726556363a48",
   "metadata": {
    "ExecuteTime": {
     "end_time": "2024-11-12T00:06:10.815882Z",
     "start_time": "2024-11-12T00:06:03.172587Z"
    }
   },
   "outputs": [
    {
     "name": "stdout",
     "output_type": "stream",
     "text": [
      "<class 'pandas.core.frame.DataFrame'>\n",
      "Index: 1335779 entries, 130 to 21\n",
      "Data columns (total 4 columns):\n",
      " #   Column      Non-Null Count    Dtype         \n",
      "---  ------      --------------    -----         \n",
      " 0   user_id     1335779 non-null  int32         \n",
      " 1   track_id    1335779 non-null  int32         \n",
      " 2   track_seq   1335779 non-null  int16         \n",
      " 3   started_at  1335779 non-null  datetime64[ns]\n",
      "dtypes: datetime64[ns](1), int16(1), int32(2)\n",
      "memory usage: 33.1 MB\n",
      "<class 'pandas.core.frame.DataFrame'>\n",
      "Index: 253254 entries, 4 to 999999\n",
      "Data columns (total 4 columns):\n",
      " #   Column    Non-Null Count   Dtype \n",
      "---  ------    --------------   ----- \n",
      " 0   track_id  253254 non-null  int64 \n",
      " 1   albums    253254 non-null  object\n",
      " 2   artists   253254 non-null  object\n",
      " 3   genres    253254 non-null  object\n",
      "dtypes: int64(1), object(3)\n",
      "memory usage: 9.7+ MB\n"
     ]
    }
   ],
   "source": [
    "interactions = interactions.sample(frac=0.006, random_state=42)\n",
    "tracks = tracks[tracks['track_id'].isin(interactions['track_id'])]\n",
    "\n",
    "interactions.info()\n",
    "tracks.info()"
   ]
  },
  {
   "cell_type": "code",
   "execution_count": 8,
   "id": "70f7bdfe-175c-45c1-a2e9-d99f0f33be2e",
   "metadata": {
    "ExecuteTime": {
     "end_time": "2024-11-12T00:06:10.824972Z",
     "start_time": "2024-11-12T00:06:10.816917Z"
    }
   },
   "outputs": [
    {
     "data": {
      "text/html": [
       "<div>\n",
       "<style scoped>\n",
       "    .dataframe tbody tr th:only-of-type {\n",
       "        vertical-align: middle;\n",
       "    }\n",
       "\n",
       "    .dataframe tbody tr th {\n",
       "        vertical-align: top;\n",
       "    }\n",
       "\n",
       "    .dataframe thead th {\n",
       "        text-align: right;\n",
       "    }\n",
       "</style>\n",
       "<table border=\"1\" class=\"dataframe\">\n",
       "  <thead>\n",
       "    <tr style=\"text-align: right;\">\n",
       "      <th></th>\n",
       "      <th>id</th>\n",
       "      <th>type</th>\n",
       "      <th>name</th>\n",
       "    </tr>\n",
       "  </thead>\n",
       "  <tbody>\n",
       "    <tr>\n",
       "      <th>0</th>\n",
       "      <td>3</td>\n",
       "      <td>album</td>\n",
       "      <td>Taller Children</td>\n",
       "    </tr>\n",
       "    <tr>\n",
       "      <th>1</th>\n",
       "      <td>12</td>\n",
       "      <td>album</td>\n",
       "      <td>Wild Young Hearts</td>\n",
       "    </tr>\n",
       "    <tr>\n",
       "      <th>2</th>\n",
       "      <td>13</td>\n",
       "      <td>album</td>\n",
       "      <td>Lonesome Crow</td>\n",
       "    </tr>\n",
       "    <tr>\n",
       "      <th>3</th>\n",
       "      <td>17</td>\n",
       "      <td>album</td>\n",
       "      <td>Graffiti Soul</td>\n",
       "    </tr>\n",
       "    <tr>\n",
       "      <th>4</th>\n",
       "      <td>26</td>\n",
       "      <td>album</td>\n",
       "      <td>Blues Six Pack</td>\n",
       "    </tr>\n",
       "  </tbody>\n",
       "</table>\n",
       "</div>"
      ],
      "text/plain": [
       "   id   type               name\n",
       "0   3  album    Taller Children\n",
       "1  12  album  Wild Young Hearts\n",
       "2  13  album      Lonesome Crow\n",
       "3  17  album      Graffiti Soul\n",
       "4  26  album     Blues Six Pack"
      ]
     },
     "execution_count": 8,
     "metadata": {},
     "output_type": "execute_result"
    }
   ],
   "source": [
    "catalog_names.head()"
   ]
  },
  {
   "cell_type": "code",
   "execution_count": 9,
   "id": "14b396acb78bc81c",
   "metadata": {
    "ExecuteTime": {
     "end_time": "2024-11-12T00:06:10.828579Z",
     "start_time": "2024-11-12T00:06:10.825521Z"
    }
   },
   "outputs": [
    {
     "data": {
      "text/html": [
       "<div>\n",
       "<style scoped>\n",
       "    .dataframe tbody tr th:only-of-type {\n",
       "        vertical-align: middle;\n",
       "    }\n",
       "\n",
       "    .dataframe tbody tr th {\n",
       "        vertical-align: top;\n",
       "    }\n",
       "\n",
       "    .dataframe thead th {\n",
       "        text-align: right;\n",
       "    }\n",
       "</style>\n",
       "<table border=\"1\" class=\"dataframe\">\n",
       "  <thead>\n",
       "    <tr style=\"text-align: right;\">\n",
       "      <th></th>\n",
       "      <th>user_id</th>\n",
       "      <th>track_id</th>\n",
       "      <th>track_seq</th>\n",
       "      <th>started_at</th>\n",
       "    </tr>\n",
       "  </thead>\n",
       "  <tbody>\n",
       "    <tr>\n",
       "      <th>130</th>\n",
       "      <td>844258</td>\n",
       "      <td>3581309</td>\n",
       "      <td>131</td>\n",
       "      <td>2022-06-05</td>\n",
       "    </tr>\n",
       "    <tr>\n",
       "      <th>433</th>\n",
       "      <td>1091434</td>\n",
       "      <td>14937363</td>\n",
       "      <td>434</td>\n",
       "      <td>2022-06-29</td>\n",
       "    </tr>\n",
       "    <tr>\n",
       "      <th>526</th>\n",
       "      <td>73981</td>\n",
       "      <td>48591660</td>\n",
       "      <td>527</td>\n",
       "      <td>2022-09-26</td>\n",
       "    </tr>\n",
       "    <tr>\n",
       "      <th>9</th>\n",
       "      <td>78605</td>\n",
       "      <td>732405</td>\n",
       "      <td>10</td>\n",
       "      <td>2022-09-14</td>\n",
       "    </tr>\n",
       "    <tr>\n",
       "      <th>1202</th>\n",
       "      <td>1273064</td>\n",
       "      <td>40339506</td>\n",
       "      <td>1203</td>\n",
       "      <td>2022-08-24</td>\n",
       "    </tr>\n",
       "  </tbody>\n",
       "</table>\n",
       "</div>"
      ],
      "text/plain": [
       "      user_id  track_id  track_seq started_at\n",
       "130    844258   3581309        131 2022-06-05\n",
       "433   1091434  14937363        434 2022-06-29\n",
       "526     73981  48591660        527 2022-09-26\n",
       "9       78605    732405         10 2022-09-14\n",
       "1202  1273064  40339506       1203 2022-08-24"
      ]
     },
     "execution_count": 9,
     "metadata": {},
     "output_type": "execute_result"
    }
   ],
   "source": [
    "interactions.head()"
   ]
  },
  {
   "cell_type": "code",
   "execution_count": 10,
   "id": "c642bb4aab11d2d7",
   "metadata": {
    "ExecuteTime": {
     "end_time": "2024-11-12T00:06:10.834106Z",
     "start_time": "2024-11-12T00:06:10.830109Z"
    }
   },
   "outputs": [
    {
     "data": {
      "text/html": [
       "<div>\n",
       "<style scoped>\n",
       "    .dataframe tbody tr th:only-of-type {\n",
       "        vertical-align: middle;\n",
       "    }\n",
       "\n",
       "    .dataframe tbody tr th {\n",
       "        vertical-align: top;\n",
       "    }\n",
       "\n",
       "    .dataframe thead th {\n",
       "        text-align: right;\n",
       "    }\n",
       "</style>\n",
       "<table border=\"1\" class=\"dataframe\">\n",
       "  <thead>\n",
       "    <tr style=\"text-align: right;\">\n",
       "      <th></th>\n",
       "      <th>track_id</th>\n",
       "      <th>albums</th>\n",
       "      <th>artists</th>\n",
       "      <th>genres</th>\n",
       "    </tr>\n",
       "  </thead>\n",
       "  <tbody>\n",
       "    <tr>\n",
       "      <th>4</th>\n",
       "      <td>138</td>\n",
       "      <td>[12, 214, 322, 72275, 72292, 91199, 213505, 24...</td>\n",
       "      <td>[84]</td>\n",
       "      <td>[11]</td>\n",
       "    </tr>\n",
       "    <tr>\n",
       "      <th>7</th>\n",
       "      <td>141</td>\n",
       "      <td>[12, 214, 60093, 2490809, 10023160, 15635235, ...</td>\n",
       "      <td>[84]</td>\n",
       "      <td>[11]</td>\n",
       "    </tr>\n",
       "    <tr>\n",
       "      <th>9</th>\n",
       "      <td>144</td>\n",
       "      <td>[13, 99422]</td>\n",
       "      <td>[90]</td>\n",
       "      <td>[59, 102]</td>\n",
       "    </tr>\n",
       "    <tr>\n",
       "      <th>12</th>\n",
       "      <td>147</td>\n",
       "      <td>[13, 99422]</td>\n",
       "      <td>[90]</td>\n",
       "      <td>[59, 102]</td>\n",
       "    </tr>\n",
       "    <tr>\n",
       "      <th>14</th>\n",
       "      <td>149</td>\n",
       "      <td>[13, 99422]</td>\n",
       "      <td>[90]</td>\n",
       "      <td>[59, 102]</td>\n",
       "    </tr>\n",
       "  </tbody>\n",
       "</table>\n",
       "</div>"
      ],
      "text/plain": [
       "    track_id                                             albums artists  \\\n",
       "4        138  [12, 214, 322, 72275, 72292, 91199, 213505, 24...    [84]   \n",
       "7        141  [12, 214, 60093, 2490809, 10023160, 15635235, ...    [84]   \n",
       "9        144                                        [13, 99422]    [90]   \n",
       "12       147                                        [13, 99422]    [90]   \n",
       "14       149                                        [13, 99422]    [90]   \n",
       "\n",
       "       genres  \n",
       "4        [11]  \n",
       "7        [11]  \n",
       "9   [59, 102]  \n",
       "12  [59, 102]  \n",
       "14  [59, 102]  "
      ]
     },
     "execution_count": 10,
     "metadata": {},
     "output_type": "execute_result"
    }
   ],
   "source": [
    "tracks.head()"
   ]
  },
  {
   "cell_type": "markdown",
   "id": "e8f2a1f7-a05f-4f39-af90-5f4018aa6f9d",
   "metadata": {},
   "source": [
    "### 1.2 Обзор данных"
   ]
  },
  {
   "cell_type": "markdown",
   "id": "46a85307-896c-4fac-9fcf-f0dffa90889e",
   "metadata": {},
   "source": [
    "Проверяем данные, есть ли с ними явные проблемы."
   ]
  },
  {
   "cell_type": "code",
   "execution_count": 11,
   "id": "e8a4a916d8a62f57",
   "metadata": {
    "ExecuteTime": {
     "end_time": "2024-11-12T00:06:11.000133Z",
     "start_time": "2024-11-12T00:06:10.834593Z"
    }
   },
   "outputs": [],
   "source": [
    "# Проверка наличия треков с неизвестными исполнителями, альбомами, жанрами\n",
    "# Разделим catalog_names по типам для удобства\n",
    "artists = catalog_names[catalog_names['type'] == 'artist']\n",
    "albums = catalog_names[catalog_names['type'] == 'album']\n",
    "genres = catalog_names[catalog_names['type'] == 'genre']"
   ]
  },
  {
   "cell_type": "code",
   "execution_count": 12,
   "id": "a7b079114630d5d6",
   "metadata": {
    "ExecuteTime": {
     "end_time": "2024-11-12T00:06:11.003947Z",
     "start_time": "2024-11-12T00:06:11.000739Z"
    }
   },
   "outputs": [
    {
     "data": {
      "text/html": [
       "<div>\n",
       "<style scoped>\n",
       "    .dataframe tbody tr th:only-of-type {\n",
       "        vertical-align: middle;\n",
       "    }\n",
       "\n",
       "    .dataframe tbody tr th {\n",
       "        vertical-align: top;\n",
       "    }\n",
       "\n",
       "    .dataframe thead th {\n",
       "        text-align: right;\n",
       "    }\n",
       "</style>\n",
       "<table border=\"1\" class=\"dataframe\">\n",
       "  <thead>\n",
       "    <tr style=\"text-align: right;\">\n",
       "      <th></th>\n",
       "      <th>id</th>\n",
       "      <th>type</th>\n",
       "      <th>name</th>\n",
       "    </tr>\n",
       "  </thead>\n",
       "  <tbody>\n",
       "    <tr>\n",
       "      <th>658724</th>\n",
       "      <td>4</td>\n",
       "      <td>artist</td>\n",
       "      <td>Kenny Dorham</td>\n",
       "    </tr>\n",
       "    <tr>\n",
       "      <th>658725</th>\n",
       "      <td>5</td>\n",
       "      <td>artist</td>\n",
       "      <td>Max Roach</td>\n",
       "    </tr>\n",
       "    <tr>\n",
       "      <th>658726</th>\n",
       "      <td>7</td>\n",
       "      <td>artist</td>\n",
       "      <td>Francis Rossi</td>\n",
       "    </tr>\n",
       "    <tr>\n",
       "      <th>658727</th>\n",
       "      <td>9</td>\n",
       "      <td>artist</td>\n",
       "      <td>Status Quo</td>\n",
       "    </tr>\n",
       "    <tr>\n",
       "      <th>658728</th>\n",
       "      <td>12</td>\n",
       "      <td>artist</td>\n",
       "      <td>Phil Everly</td>\n",
       "    </tr>\n",
       "  </tbody>\n",
       "</table>\n",
       "</div>"
      ],
      "text/plain": [
       "        id    type           name\n",
       "658724   4  artist   Kenny Dorham\n",
       "658725   5  artist      Max Roach\n",
       "658726   7  artist  Francis Rossi\n",
       "658727   9  artist     Status Quo\n",
       "658728  12  artist    Phil Everly"
      ]
     },
     "execution_count": 12,
     "metadata": {},
     "output_type": "execute_result"
    }
   ],
   "source": [
    "artists.head()"
   ]
  },
  {
   "cell_type": "code",
   "execution_count": 13,
   "id": "9dfe2640743d2c12",
   "metadata": {
    "ExecuteTime": {
     "end_time": "2024-11-12T00:06:11.007943Z",
     "start_time": "2024-11-12T00:06:11.004506Z"
    }
   },
   "outputs": [
    {
     "data": {
      "text/html": [
       "<div>\n",
       "<style scoped>\n",
       "    .dataframe tbody tr th:only-of-type {\n",
       "        vertical-align: middle;\n",
       "    }\n",
       "\n",
       "    .dataframe tbody tr th {\n",
       "        vertical-align: top;\n",
       "    }\n",
       "\n",
       "    .dataframe thead th {\n",
       "        text-align: right;\n",
       "    }\n",
       "</style>\n",
       "<table border=\"1\" class=\"dataframe\">\n",
       "  <thead>\n",
       "    <tr style=\"text-align: right;\">\n",
       "      <th></th>\n",
       "      <th>id</th>\n",
       "      <th>type</th>\n",
       "      <th>name</th>\n",
       "    </tr>\n",
       "  </thead>\n",
       "  <tbody>\n",
       "    <tr>\n",
       "      <th>0</th>\n",
       "      <td>3</td>\n",
       "      <td>album</td>\n",
       "      <td>Taller Children</td>\n",
       "    </tr>\n",
       "    <tr>\n",
       "      <th>1</th>\n",
       "      <td>12</td>\n",
       "      <td>album</td>\n",
       "      <td>Wild Young Hearts</td>\n",
       "    </tr>\n",
       "    <tr>\n",
       "      <th>2</th>\n",
       "      <td>13</td>\n",
       "      <td>album</td>\n",
       "      <td>Lonesome Crow</td>\n",
       "    </tr>\n",
       "    <tr>\n",
       "      <th>3</th>\n",
       "      <td>17</td>\n",
       "      <td>album</td>\n",
       "      <td>Graffiti Soul</td>\n",
       "    </tr>\n",
       "    <tr>\n",
       "      <th>4</th>\n",
       "      <td>26</td>\n",
       "      <td>album</td>\n",
       "      <td>Blues Six Pack</td>\n",
       "    </tr>\n",
       "  </tbody>\n",
       "</table>\n",
       "</div>"
      ],
      "text/plain": [
       "   id   type               name\n",
       "0   3  album    Taller Children\n",
       "1  12  album  Wild Young Hearts\n",
       "2  13  album      Lonesome Crow\n",
       "3  17  album      Graffiti Soul\n",
       "4  26  album     Blues Six Pack"
      ]
     },
     "execution_count": 13,
     "metadata": {},
     "output_type": "execute_result"
    }
   ],
   "source": [
    "albums.head()"
   ]
  },
  {
   "cell_type": "code",
   "execution_count": 14,
   "id": "4768441da0b209fd",
   "metadata": {
    "ExecuteTime": {
     "end_time": "2024-11-12T00:06:11.011634Z",
     "start_time": "2024-11-12T00:06:11.008686Z"
    }
   },
   "outputs": [
    {
     "data": {
      "text/html": [
       "<div>\n",
       "<style scoped>\n",
       "    .dataframe tbody tr th:only-of-type {\n",
       "        vertical-align: middle;\n",
       "    }\n",
       "\n",
       "    .dataframe tbody tr th {\n",
       "        vertical-align: top;\n",
       "    }\n",
       "\n",
       "    .dataframe thead th {\n",
       "        text-align: right;\n",
       "    }\n",
       "</style>\n",
       "<table border=\"1\" class=\"dataframe\">\n",
       "  <thead>\n",
       "    <tr style=\"text-align: right;\">\n",
       "      <th></th>\n",
       "      <th>id</th>\n",
       "      <th>type</th>\n",
       "      <th>name</th>\n",
       "    </tr>\n",
       "  </thead>\n",
       "  <tbody>\n",
       "    <tr>\n",
       "      <th>812305</th>\n",
       "      <td>0</td>\n",
       "      <td>genre</td>\n",
       "      <td>all</td>\n",
       "    </tr>\n",
       "    <tr>\n",
       "      <th>812306</th>\n",
       "      <td>1</td>\n",
       "      <td>genre</td>\n",
       "      <td>eastern</td>\n",
       "    </tr>\n",
       "    <tr>\n",
       "      <th>812307</th>\n",
       "      <td>2</td>\n",
       "      <td>genre</td>\n",
       "      <td>rusrock</td>\n",
       "    </tr>\n",
       "    <tr>\n",
       "      <th>812308</th>\n",
       "      <td>3</td>\n",
       "      <td>genre</td>\n",
       "      <td>rusrap</td>\n",
       "    </tr>\n",
       "    <tr>\n",
       "      <th>812309</th>\n",
       "      <td>4</td>\n",
       "      <td>genre</td>\n",
       "      <td>postrock</td>\n",
       "    </tr>\n",
       "  </tbody>\n",
       "</table>\n",
       "</div>"
      ],
      "text/plain": [
       "        id   type      name\n",
       "812305   0  genre       all\n",
       "812306   1  genre   eastern\n",
       "812307   2  genre   rusrock\n",
       "812308   3  genre    rusrap\n",
       "812309   4  genre  postrock"
      ]
     },
     "execution_count": 14,
     "metadata": {},
     "output_type": "execute_result"
    }
   ],
   "source": [
    "genres.head()"
   ]
  },
  {
   "cell_type": "markdown",
   "id": "792214e9",
   "metadata": {},
   "source": [
    "Проверим, есть ли неизвестные исполнители, альбомы, жанры"
   ]
  },
  {
   "cell_type": "code",
   "execution_count": 15,
   "id": "fa630eb8f8dd8168",
   "metadata": {
    "ExecuteTime": {
     "end_time": "2024-11-12T00:06:16.289423Z",
     "start_time": "2024-11-12T00:06:11.012059Z"
    }
   },
   "outputs": [],
   "source": [
    "artistIds = artists['id'].values\n",
    "unknown_artists = (tracks['artists']\n",
    "                   .apply(lambda x: [artist for artist in x if artist not in artistIds])\n",
    "                   .explode()\n",
    "                   .unique())"
   ]
  },
  {
   "cell_type": "code",
   "execution_count": 16,
   "id": "7dfb73881072bf29",
   "metadata": {
    "ExecuteTime": {
     "end_time": "2024-11-12T00:07:12.073965Z",
     "start_time": "2024-11-12T00:06:16.290074Z"
    }
   },
   "outputs": [],
   "source": [
    "albumIds = albums['id'].values;\n",
    "unknown_albums = (tracks['albums']\n",
    "                  .apply(lambda x: [album for album in x if album not in albumIds])\n",
    "                  .explode()\n",
    "                  .unique())"
   ]
  },
  {
   "cell_type": "code",
   "execution_count": 17,
   "id": "3b9c090aa0623e01",
   "metadata": {
    "ExecuteTime": {
     "end_time": "2024-11-12T00:07:12.793608Z",
     "start_time": "2024-11-12T00:07:12.074682Z"
    }
   },
   "outputs": [],
   "source": [
    "genreIds = genres['id'].values\n",
    "unknown_genres = (tracks['genres']\n",
    "                  .apply(lambda x: [genre for genre in x if genre not in genreIds])\n",
    "                  .explode()\n",
    "                  .unique())"
   ]
  },
  {
   "cell_type": "code",
   "execution_count": 18,
   "id": "7d9c14e5de39e4ce",
   "metadata": {
    "ExecuteTime": {
     "end_time": "2024-11-12T00:07:12.795929Z",
     "start_time": "2024-11-12T00:07:12.794243Z"
    }
   },
   "outputs": [
    {
     "name": "stdout",
     "output_type": "stream",
     "text": [
      "Количество треков с неизвестными исполнителями: 1\n",
      "Количество треков с неизвестными альбомами: 1\n",
      "Количество треков с неизвестными жанрами: 28\n"
     ]
    }
   ],
   "source": [
    "# Выводим количество неизвестных артистов, альбомов, жанров\n",
    "print(\"Количество треков с неизвестными исполнителями:\", len(unknown_artists))\n",
    "print(\"Количество треков с неизвестными альбомами:\", len(unknown_albums))\n",
    "print(\"Количество треков с неизвестными жанрами:\", len(unknown_genres))"
   ]
  },
  {
   "cell_type": "code",
   "execution_count": 19,
   "id": "15ec59eedd9d771c",
   "metadata": {
    "ExecuteTime": {
     "end_time": "2024-11-12T00:07:12.798061Z",
     "start_time": "2024-11-12T00:07:12.796493Z"
    }
   },
   "outputs": [
    {
     "name": "stdout",
     "output_type": "stream",
     "text": [
      "[nan]\n"
     ]
    }
   ],
   "source": [
    "print(unknown_artists)"
   ]
  },
  {
   "cell_type": "code",
   "execution_count": 20,
   "id": "6ff753766da29ee5",
   "metadata": {
    "ExecuteTime": {
     "end_time": "2024-11-12T00:07:12.799981Z",
     "start_time": "2024-11-12T00:07:12.798593Z"
    }
   },
   "outputs": [
    {
     "name": "stdout",
     "output_type": "stream",
     "text": [
      "[nan]\n"
     ]
    }
   ],
   "source": [
    "print(unknown_albums)"
   ]
  },
  {
   "cell_type": "code",
   "execution_count": 21,
   "id": "226c684b1d9ffb8e",
   "metadata": {
    "ExecuteTime": {
     "end_time": "2024-11-12T00:07:12.801954Z",
     "start_time": "2024-11-12T00:07:12.800478Z"
    }
   },
   "outputs": [
    {
     "name": "stdout",
     "output_type": "stream",
     "text": [
      "[nan 162 163 151 157 169 164 161 158 155 165 154 156 159 168 167 153 160\n",
      " 152 133 126 132 146 131 130 135 166 134]\n"
     ]
    }
   ],
   "source": [
    "print(unknown_genres)"
   ]
  },
  {
   "cell_type": "markdown",
   "id": "318b573a-9e2d-4808-95db-60cfb8bbdb73",
   "metadata": {
    "slideshow": {
     "slide_type": ""
    },
    "tags": []
   },
   "source": [
    "### 1.3 Выводы"
   ]
  },
  {
   "cell_type": "markdown",
   "id": "c5381a4fe2f71641",
   "metadata": {},
   "source": [
    "Есть 30 неизвестных жанров. Заменим их на существующий жанр ALL (id=0)"
   ]
  },
  {
   "cell_type": "code",
   "execution_count": 22,
   "id": "883f8962dd6d738e",
   "metadata": {
    "ExecuteTime": {
     "end_time": "2024-11-12T00:07:12.805481Z",
     "start_time": "2024-11-12T00:07:12.802413Z"
    }
   },
   "outputs": [
    {
     "data": {
      "text/html": [
       "<div>\n",
       "<style scoped>\n",
       "    .dataframe tbody tr th:only-of-type {\n",
       "        vertical-align: middle;\n",
       "    }\n",
       "\n",
       "    .dataframe tbody tr th {\n",
       "        vertical-align: top;\n",
       "    }\n",
       "\n",
       "    .dataframe thead th {\n",
       "        text-align: right;\n",
       "    }\n",
       "</style>\n",
       "<table border=\"1\" class=\"dataframe\">\n",
       "  <thead>\n",
       "    <tr style=\"text-align: right;\">\n",
       "      <th></th>\n",
       "      <th>id</th>\n",
       "      <th>type</th>\n",
       "      <th>name</th>\n",
       "    </tr>\n",
       "  </thead>\n",
       "  <tbody>\n",
       "    <tr>\n",
       "      <th>812305</th>\n",
       "      <td>0</td>\n",
       "      <td>genre</td>\n",
       "      <td>all</td>\n",
       "    </tr>\n",
       "  </tbody>\n",
       "</table>\n",
       "</div>"
      ],
      "text/plain": [
       "        id   type name\n",
       "812305   0  genre  all"
      ]
     },
     "execution_count": 22,
     "metadata": {},
     "output_type": "execute_result"
    }
   ],
   "source": [
    "genres[genres['id'] == 0]"
   ]
  },
  {
   "cell_type": "code",
   "execution_count": 23,
   "id": "50d1a71de5a9019c",
   "metadata": {
    "ExecuteTime": {
     "end_time": "2024-11-12T00:07:12.807310Z",
     "start_time": "2024-11-12T00:07:12.806031Z"
    }
   },
   "outputs": [],
   "source": [
    "unknown_genres_set = set(unknown_genres)"
   ]
  },
  {
   "cell_type": "code",
   "execution_count": 24,
   "id": "b2110616cded1892",
   "metadata": {
    "ExecuteTime": {
     "end_time": "2024-11-12T00:07:12.818433Z",
     "start_time": "2024-11-12T00:07:12.807706Z"
    }
   },
   "outputs": [],
   "source": [
    "upd_tracks = tracks.copy()"
   ]
  },
  {
   "cell_type": "code",
   "execution_count": 25,
   "id": "e3a997743f359e5a",
   "metadata": {
    "ExecuteTime": {
     "end_time": "2024-11-12T00:07:13.010182Z",
     "start_time": "2024-11-12T00:07:12.818983Z"
    }
   },
   "outputs": [],
   "source": [
    "upd_tracks['genres'] = upd_tracks['genres'].apply(lambda genres_list: [0 if genre in unknown_genres_set else genre for genre in genres_list])"
   ]
  },
  {
   "cell_type": "code",
   "execution_count": 26,
   "id": "1467ff4cde6784ad",
   "metadata": {
    "ExecuteTime": {
     "end_time": "2024-11-12T00:07:13.639080Z",
     "start_time": "2024-11-12T00:07:13.014018Z"
    }
   },
   "outputs": [],
   "source": [
    "upd_unknown_genres = (upd_tracks['genres']\n",
    "                  .apply(lambda x: [genre for genre in x if genre not in genreIds])\n",
    "                  .explode()\n",
    "                  .unique())"
   ]
  },
  {
   "cell_type": "code",
   "execution_count": 27,
   "id": "be8089e7fde8c712",
   "metadata": {
    "ExecuteTime": {
     "end_time": "2024-11-12T00:07:13.641242Z",
     "start_time": "2024-11-12T00:07:13.639687Z"
    }
   },
   "outputs": [
    {
     "name": "stdout",
     "output_type": "stream",
     "text": [
      "[nan]\n"
     ]
    }
   ],
   "source": [
    "print(upd_unknown_genres)"
   ]
  },
  {
   "cell_type": "markdown",
   "id": "7c586b1a",
   "metadata": {},
   "source": [
    "<b>Комментарий от ревьюера v1</b>\n",
    "<div class=\"alert alert-block alert-success\">\n",
    "✔️ Отлично! Предобработка сделана, выводы сформированы!\n",
    "</div>"
   ]
  },
  {
   "cell_type": "markdown",
   "id": "7bc3296b-eba6-4333-a78d-b9304aa87e3d",
   "metadata": {},
   "source": [
    "## === ЭТАП 2 ==="
   ]
  },
  {
   "cell_type": "markdown",
   "id": "68e73960-fd38-4e15-8db0-9a25c35dfd25",
   "metadata": {},
   "source": [
    "### 2.1 EDA"
   ]
  },
  {
   "cell_type": "markdown",
   "id": "a30e823e-8e0f-4a76-a02e-8d1ba8bf0f8a",
   "metadata": {},
   "source": [
    "#### 2.1.1 Распределение количества прослушанных треков."
   ]
  },
  {
   "cell_type": "code",
   "execution_count": 28,
   "id": "be4d8b80-9fea-4a24-82b4-f9e87345a40f",
   "metadata": {
    "ExecuteTime": {
     "end_time": "2024-11-12T00:07:13.756221Z",
     "start_time": "2024-11-12T00:07:13.641738Z"
    }
   },
   "outputs": [
    {
     "data": {
      "image/png": "[encoded data removed]",
      "text/plain": [
       "<Figure size 1000x600 with 1 Axes>"
      ]
     },
     "metadata": {},
     "output_type": "display_data"
    }
   ],
   "source": [
    "user_track_counts = interactions['user_id'].value_counts()\n",
    "\n",
    "plt.figure(figsize=(10, 6))\n",
    "plt.hist(user_track_counts, bins=50, edgecolor='black')\n",
    "plt.title(\"Распределение количества прослушанных треков на пользователя\")\n",
    "plt.xlabel(\"Количество прослушанных треков\")\n",
    "plt.ylabel(\"Количество пользователей\")\n",
    "plt.show()"
   ]
  },
  {
   "cell_type": "code",
   "execution_count": 29,
   "id": "a0174081-8509-4260-aa68-bf8a1aff1864",
   "metadata": {
    "ExecuteTime": {
     "end_time": "2024-11-12T00:07:13.766384Z",
     "start_time": "2024-11-12T00:07:13.756786Z"
    }
   },
   "outputs": [
    {
     "data": {
      "text/plain": [
       "count    530728.000000\n",
       "mean          2.516881\n",
       "std           3.171394\n",
       "min           1.000000\n",
       "25%           1.000000\n",
       "50%           1.000000\n",
       "75%           3.000000\n",
       "max         100.000000\n",
       "Name: count, dtype: float64"
      ]
     },
     "execution_count": 29,
     "metadata": {},
     "output_type": "execute_result"
    }
   ],
   "source": [
    "user_track_counts.describe()"
   ]
  },
  {
   "cell_type": "markdown",
   "id": "e97d683c",
   "metadata": {},
   "source": [
    "<b>Комментарий от ревьюера v1</b>\n",
    "<div class=\"alert alert-block alert-success\">\n",
    "✔️ График построен, отлично!\n",
    "</div>\n",
    "\n",
    "<div class=\"alert alert-warning\">\n",
    "⚠️ По оси Y приведена видимо не частота верно?\n",
    "</div>\n",
    "\n",
    "<div class=\"alert alert-warning\">\n",
    "⚠️ Какой вывод можно сделать по этому графику?\n",
    "</div>"
   ]
  },
  {
   "cell_type": "markdown",
   "id": "10cbc9e1-942b-456a-9b4c-c129ded31531",
   "metadata": {},
   "source": [
    "<div class=\"alert alert-block alert-info\">\n",
    "<b>Комментарий студента:</b> Исправил наименование оси :)\n",
    "</div>\n",
    "\n",
    "<div class=\"alert alert-block alert-info\">\n",
    "<b>Комментарий студента:</b> Из графика видно, что большАя часть пользователей прослушала менее 10 треков (75% прослушали 3 и менее треков). Таким образом, есть небольшая группа пользователей с высокой активностью, но они составляют малую часть от общей базы пользователей.\n",
    "\n",
    "Имеет смысл исключить из анализа пользователей с очень низким количеством взаимодействий, чтобы сосредоточиться на активных пользователях.\n",
    "</div>"
   ]
  },
  {
   "cell_type": "code",
   "execution_count": 30,
   "id": "59b1c799-16aa-47c3-82a3-caccb13a80a2",
   "metadata": {
    "ExecuteTime": {
     "end_time": "2024-11-12T00:07:13.791600Z",
     "start_time": "2024-11-12T00:07:13.766925Z"
    }
   },
   "outputs": [],
   "source": [
    "active_users = user_track_counts[user_track_counts >= 3].index\n",
    "\n",
    "# Фильтруем исходный датасет, оставляя только записи активных пользователей\n",
    "interactions = interactions[interactions['user_id'].isin(active_users)]"
   ]
  },
  {
   "cell_type": "code",
   "execution_count": 31,
   "id": "0a35f94b-4624-4f84-bcb2-aaf2140e1760",
   "metadata": {
    "ExecuteTime": {
     "end_time": "2024-11-12T00:07:13.793762Z",
     "start_time": "2024-11-12T00:07:13.792161Z"
    }
   },
   "outputs": [
    {
     "name": "stdout",
     "output_type": "stream",
     "text": [
      "Количество записей после фильтрации: 848018\n"
     ]
    }
   ],
   "source": [
    "# Выводим размер фильтрованного датасета\n",
    "print(f\"Количество записей после фильтрации: {len(interactions)}\")"
   ]
  },
  {
   "cell_type": "markdown",
   "id": "d765519a-18dd-4d30-9e29-cc2d84cacd79",
   "metadata": {},
   "source": [
    "#### 2.1.2 Наиболее популярные треки"
   ]
  },
  {
   "cell_type": "code",
   "execution_count": 32,
   "id": "aecaf630-fde0-4860-b84a-42c933a9606e",
   "metadata": {
    "ExecuteTime": {
     "end_time": "2024-11-12T00:07:13.921281Z",
     "start_time": "2024-11-12T00:07:13.794246Z"
    }
   },
   "outputs": [],
   "source": [
    "popular_tracks = interactions['track_id'].value_counts().head(10)\n",
    "popular_track_names = pd.merge(popular_tracks.rename('count').reset_index(), \n",
    "                               catalog_names[catalog_names['type'] == 'track'][['id', 'name']], \n",
    "                               left_on='track_id', right_on='id', \n",
    "                               how='left').drop(columns=['id'])\n",
    "popular_track_names.rename(columns={'index': 'track_id', 'name': 'track_name'}, inplace=True)"
   ]
  },
  {
   "cell_type": "code",
   "execution_count": 33,
   "id": "d0c3d01dda56538f",
   "metadata": {
    "ExecuteTime": {
     "end_time": "2024-11-12T00:07:13.923818Z",
     "start_time": "2024-11-12T00:07:13.921835Z"
    }
   },
   "outputs": [
    {
     "name": "stdout",
     "output_type": "stream",
     "text": [
      "Наиболее популярные треки:\n",
      "   track_id  count               track_name\n",
      "0  33311009    304                 Believer\n",
      "1     53404    297  Smells Like Teen Spirit\n",
      "2    178529    295                     Numb\n",
      "3     37384    274                   Zombie\n",
      "4  60292250    269          Blinding Lights\n",
      "5   6705392    264        Seven Nation Army\n",
      "6    328683    240         Bring Me To Life\n",
      "7    148345    239          Californication\n",
      "8  51241318    238               In The End\n",
      "9    795836    232        Shape Of My Heart\n"
     ]
    }
   ],
   "source": [
    "print(\"Наиболее популярные треки:\")\n",
    "print(popular_track_names)"
   ]
  },
  {
   "cell_type": "markdown",
   "id": "e773ef27",
   "metadata": {},
   "source": [
    "<b>Комментарий от ревьюера v1</b>\n",
    "<div class=\"alert alert-block alert-success\">\n",
    "✔️ Выглядит логично, отлично!\n",
    "</div>"
   ]
  },
  {
   "cell_type": "markdown",
   "id": "b1c32a5a-d3be-4f96-8dd9-f7860951020c",
   "metadata": {},
   "source": [
    "#### 2.1.3 Наиболее популярные жанры"
   ]
  },
  {
   "cell_type": "code",
   "execution_count": 34,
   "id": "1bc50491-9235-4d3c-a6c2-297f7c05a959",
   "metadata": {
    "ExecuteTime": {
     "end_time": "2024-11-12T00:07:14.099508Z",
     "start_time": "2024-11-12T00:07:13.924318Z"
    }
   },
   "outputs": [],
   "source": [
    "# Разворачиваем список жанров в interactions и upd_tracks для анализа\n",
    "track_genres = upd_tracks[['track_id', 'genres']].explode('genres')\n",
    "merged_interactions = interactions.merge(track_genres, on='track_id', how='left')\n",
    "genre_counts = merged_interactions['genres'].value_counts().head(10)"
   ]
  },
  {
   "cell_type": "code",
   "execution_count": 35,
   "id": "7ef579f8244509cb",
   "metadata": {
    "ExecuteTime": {
     "end_time": "2024-11-12T00:07:14.102151Z",
     "start_time": "2024-11-12T00:07:14.100098Z"
    }
   },
   "outputs": [
    {
     "data": {
      "text/plain": [
       "genres\n",
       "11     193902\n",
       "75     144736\n",
       "102    122849\n",
       "3       94172\n",
       "20      86239\n",
       "68      80747\n",
       "16      58523\n",
       "47      54271\n",
       "14      51396\n",
       "2       50234\n",
       "Name: count, dtype: int64"
      ]
     },
     "execution_count": 35,
     "metadata": {},
     "output_type": "execute_result"
    }
   ],
   "source": [
    "genre_counts.head(20)"
   ]
  },
  {
   "cell_type": "code",
   "execution_count": 36,
   "id": "e8c53c6f1b460113",
   "metadata": {
    "ExecuteTime": {
     "end_time": "2024-11-12T00:07:14.151085Z",
     "start_time": "2024-11-12T00:07:14.102726Z"
    }
   },
   "outputs": [],
   "source": [
    "# Подключаем названия жанров\n",
    "popular_genres = pd.merge(genre_counts.rename('count').reset_index(), \n",
    "                          catalog_names[catalog_names['type'] == 'genre'][['id', 'name']], \n",
    "                          left_on='genres', right_on='id', \n",
    "                          how='left').drop(columns=['id'])\n",
    "popular_genres.rename(columns={'genres': 'genre_id', 'name': 'genre_name'}, inplace=True)"
   ]
  },
  {
   "cell_type": "code",
   "execution_count": 37,
   "id": "9a268cfebdec908",
   "metadata": {
    "ExecuteTime": {
     "end_time": "2024-11-12T00:07:14.153291Z",
     "start_time": "2024-11-12T00:07:14.151626Z"
    }
   },
   "outputs": [
    {
     "name": "stdout",
     "output_type": "stream",
     "text": [
      "\n",
      "Наиболее популярные жанры:\n",
      "   genre_id   count   genre_name\n",
      "0        11  193902          pop\n",
      "1        75  144736          rap\n",
      "2       102  122849      allrock\n",
      "3         3   94172       rusrap\n",
      "4        20   86239       ruspop\n",
      "5        68   80747  electronics\n",
      "6        16   58523        dance\n",
      "7        47   54271        metal\n",
      "8        14   51396         rock\n",
      "9         2   50234      rusrock\n"
     ]
    }
   ],
   "source": [
    "print(\"\\nНаиболее популярные жанры:\")\n",
    "print(popular_genres)"
   ]
  },
  {
   "cell_type": "markdown",
   "id": "f988fe28",
   "metadata": {},
   "source": [
    "<b>Комментарий от ревьюера v1</b>\n",
    "<div class=\"alert alert-block alert-success\">\n",
    "✔️ ОК!\n",
    "</div>"
   ]
  },
  {
   "cell_type": "markdown",
   "id": "15254e66-e80e-473b-ba24-abebea5ccac7",
   "metadata": {},
   "source": [
    "#### 2.1.3 Треки, которые никто не прослушал"
   ]
  },
  {
   "cell_type": "code",
   "execution_count": 38,
   "id": "50bc50c6-2d83-4c7e-97fa-3e7627978438",
   "metadata": {
    "ExecuteTime": {
     "end_time": "2024-11-12T00:07:14.184196Z",
     "start_time": "2024-11-12T00:07:14.153821Z"
    }
   },
   "outputs": [],
   "source": [
    "all_tracks = set(upd_tracks['track_id'].unique())\n",
    "listened_tracks = set(interactions['track_id'].unique())"
   ]
  },
  {
   "cell_type": "code",
   "execution_count": 39,
   "id": "342202633c8434fe",
   "metadata": {
    "ExecuteTime": {
     "end_time": "2024-11-12T00:07:14.208478Z",
     "start_time": "2024-11-12T00:07:14.184768Z"
    }
   },
   "outputs": [],
   "source": [
    "unlistened_tracks = all_tracks - listened_tracks"
   ]
  },
  {
   "cell_type": "code",
   "execution_count": 40,
   "id": "dae19247e936d1a3",
   "metadata": {
    "ExecuteTime": {
     "end_time": "2024-11-12T00:07:14.289160Z",
     "start_time": "2024-11-12T00:07:14.208914Z"
    }
   },
   "outputs": [
    {
     "name": "stdout",
     "output_type": "stream",
     "text": [
      "\n",
      "Треки, которые никто не прослушал:\n",
      "                id                                 name\n",
      "812475         138  Don't Upset The Rhythm (Go Baby Go)\n",
      "812480         144                             Leave Me\n",
      "812517         554                                Alive\n",
      "812533         643                           Breathless\n",
      "812546         857                              Lucille\n",
      "...            ...                                  ...\n",
      "1812385  101257386                                Daddy\n",
      "1812398  101308662                              Где ты?\n",
      "1812435  101389539                              БУЛЛИНГ\n",
      "1812438  101389542                              ПЕРЕВЕС\n",
      "1812470  101521819                               Вокзал\n",
      "\n",
      "[44619 rows x 2 columns]\n"
     ]
    }
   ],
   "source": [
    "# Получаем названия треков, которые никто не слушал\n",
    "unlistened_tracks_df = catalog_names[(catalog_names['type'] == 'track') & (catalog_names['id'].isin(unlistened_tracks))]\n",
    "print(\"\\nТреки, которые никто не прослушал:\")\n",
    "print(unlistened_tracks_df[['id', 'name']])"
   ]
  },
  {
   "cell_type": "markdown",
   "id": "0d850a07-ef1e-462f-891a-1cf89f2e24ef",
   "metadata": {},
   "source": [
    "### 2.2 Преобразование данных"
   ]
  },
  {
   "cell_type": "markdown",
   "id": "fabcf8d2-1192-4df5-b20b-fbb84689f57a",
   "metadata": {},
   "source": [
    "Преобразуем данные в формат, более пригодный для дальнейшего использования в расчётах рекомендаций."
   ]
  },
  {
   "cell_type": "code",
   "execution_count": 41,
   "id": "dacf9f2cd8adb528",
   "metadata": {
    "ExecuteTime": {
     "end_time": "2024-11-12T00:07:14.300264Z",
     "start_time": "2024-11-12T00:07:14.289761Z"
    }
   },
   "outputs": [
    {
     "data": {
      "text/html": [
       "<div>\n",
       "<style scoped>\n",
       "    .dataframe tbody tr th:only-of-type {\n",
       "        vertical-align: middle;\n",
       "    }\n",
       "\n",
       "    .dataframe tbody tr th {\n",
       "        vertical-align: top;\n",
       "    }\n",
       "\n",
       "    .dataframe thead th {\n",
       "        text-align: right;\n",
       "    }\n",
       "</style>\n",
       "<table border=\"1\" class=\"dataframe\">\n",
       "  <thead>\n",
       "    <tr style=\"text-align: right;\">\n",
       "      <th></th>\n",
       "      <th>track_id</th>\n",
       "      <th>albums</th>\n",
       "      <th>artists</th>\n",
       "      <th>genres</th>\n",
       "    </tr>\n",
       "  </thead>\n",
       "  <tbody>\n",
       "    <tr>\n",
       "      <th>4</th>\n",
       "      <td>138</td>\n",
       "      <td>[12, 214, 322, 72275, 72292, 91199, 213505, 24...</td>\n",
       "      <td>[84]</td>\n",
       "      <td>[11]</td>\n",
       "    </tr>\n",
       "    <tr>\n",
       "      <th>7</th>\n",
       "      <td>141</td>\n",
       "      <td>[12, 214, 60093, 2490809, 10023160, 15635235, ...</td>\n",
       "      <td>[84]</td>\n",
       "      <td>[11]</td>\n",
       "    </tr>\n",
       "    <tr>\n",
       "      <th>9</th>\n",
       "      <td>144</td>\n",
       "      <td>[13, 99422]</td>\n",
       "      <td>[90]</td>\n",
       "      <td>[59, 102]</td>\n",
       "    </tr>\n",
       "    <tr>\n",
       "      <th>12</th>\n",
       "      <td>147</td>\n",
       "      <td>[13, 99422]</td>\n",
       "      <td>[90]</td>\n",
       "      <td>[59, 102]</td>\n",
       "    </tr>\n",
       "    <tr>\n",
       "      <th>14</th>\n",
       "      <td>149</td>\n",
       "      <td>[13, 99422]</td>\n",
       "      <td>[90]</td>\n",
       "      <td>[59, 102]</td>\n",
       "    </tr>\n",
       "  </tbody>\n",
       "</table>\n",
       "</div>"
      ],
      "text/plain": [
       "    track_id                                             albums artists  \\\n",
       "4        138  [12, 214, 322, 72275, 72292, 91199, 213505, 24...    [84]   \n",
       "7        141  [12, 214, 60093, 2490809, 10023160, 15635235, ...    [84]   \n",
       "9        144                                        [13, 99422]    [90]   \n",
       "12       147                                        [13, 99422]    [90]   \n",
       "14       149                                        [13, 99422]    [90]   \n",
       "\n",
       "       genres  \n",
       "4        [11]  \n",
       "7        [11]  \n",
       "9   [59, 102]  \n",
       "12  [59, 102]  \n",
       "14  [59, 102]  "
      ]
     },
     "execution_count": 41,
     "metadata": {},
     "output_type": "execute_result"
    }
   ],
   "source": [
    "upd_tracks.head()"
   ]
  },
  {
   "cell_type": "code",
   "execution_count": 42,
   "id": "3108d196621381a5",
   "metadata": {
    "ExecuteTime": {
     "end_time": "2024-11-12T00:07:14.302373Z",
     "start_time": "2024-11-12T00:07:14.300771Z"
    }
   },
   "outputs": [],
   "source": [
    "genresDict = genres.set_index('id')['name'].to_dict()"
   ]
  },
  {
   "cell_type": "code",
   "execution_count": 43,
   "id": "b307f2a198f61762",
   "metadata": {
    "ExecuteTime": {
     "end_time": "2024-11-12T00:07:14.413743Z",
     "start_time": "2024-11-12T00:07:14.302772Z"
    }
   },
   "outputs": [],
   "source": [
    "upd_tracks['genres'] = upd_tracks['genres'].apply(lambda genres_list: [genresDict[genreId] for genreId in genres_list])"
   ]
  },
  {
   "cell_type": "code",
   "execution_count": 44,
   "id": "c9c5a454eb6bb650",
   "metadata": {
    "ExecuteTime": {
     "end_time": "2024-11-12T00:07:14.927235Z",
     "start_time": "2024-11-12T00:07:14.414234Z"
    }
   },
   "outputs": [],
   "source": [
    "albumsDict = albums.set_index('id')['name'].to_dict()\n",
    "upd_tracks['albums'] = upd_tracks['albums'].apply(lambda albums_list: [albumsDict[albumId] for albumId in albums_list])"
   ]
  },
  {
   "cell_type": "code",
   "execution_count": 45,
   "id": "e84fe12a442ed4ca",
   "metadata": {
    "ExecuteTime": {
     "end_time": "2024-11-12T00:07:15.167845Z",
     "start_time": "2024-11-12T00:07:14.927809Z"
    }
   },
   "outputs": [],
   "source": [
    "artistsDict = artists.set_index('id')['name'].to_dict()\n",
    "upd_tracks['artists'] = upd_tracks['artists'].apply(lambda artists_list: [artistsDict[artistId] for artistId in artists_list])"
   ]
  },
  {
   "cell_type": "code",
   "execution_count": 46,
   "id": "7b120b3176d573e7",
   "metadata": {
    "ExecuteTime": {
     "end_time": "2024-11-12T00:07:15.169897Z",
     "start_time": "2024-11-12T00:07:15.168348Z"
    }
   },
   "outputs": [],
   "source": [
    "upd_tracks.rename(columns={'track_id': 'item_id'}, inplace=True)"
   ]
  },
  {
   "cell_type": "code",
   "execution_count": 47,
   "id": "4907769f2662bec2",
   "metadata": {
    "ExecuteTime": {
     "end_time": "2024-11-12T00:07:15.173955Z",
     "start_time": "2024-11-12T00:07:15.170437Z"
    }
   },
   "outputs": [
    {
     "data": {
      "text/html": [
       "<div>\n",
       "<style scoped>\n",
       "    .dataframe tbody tr th:only-of-type {\n",
       "        vertical-align: middle;\n",
       "    }\n",
       "\n",
       "    .dataframe tbody tr th {\n",
       "        vertical-align: top;\n",
       "    }\n",
       "\n",
       "    .dataframe thead th {\n",
       "        text-align: right;\n",
       "    }\n",
       "</style>\n",
       "<table border=\"1\" class=\"dataframe\">\n",
       "  <thead>\n",
       "    <tr style=\"text-align: right;\">\n",
       "      <th></th>\n",
       "      <th>item_id</th>\n",
       "      <th>albums</th>\n",
       "      <th>artists</th>\n",
       "      <th>genres</th>\n",
       "    </tr>\n",
       "  </thead>\n",
       "  <tbody>\n",
       "    <tr>\n",
       "      <th>4</th>\n",
       "      <td>138</td>\n",
       "      <td>[Wild Young Hearts, Wild Young Hearts, Don't U...</td>\n",
       "      <td>[Noisettes]</td>\n",
       "      <td>[pop]</td>\n",
       "    </tr>\n",
       "    <tr>\n",
       "      <th>7</th>\n",
       "      <td>141</td>\n",
       "      <td>[Wild Young Hearts, Wild Young Hearts, I Am Wo...</td>\n",
       "      <td>[Noisettes]</td>\n",
       "      <td>[pop]</td>\n",
       "    </tr>\n",
       "    <tr>\n",
       "      <th>9</th>\n",
       "      <td>144</td>\n",
       "      <td>[Lonesome Crow, Lonesome Crow]</td>\n",
       "      <td>[Scorpions]</td>\n",
       "      <td>[hardrock, allrock]</td>\n",
       "    </tr>\n",
       "    <tr>\n",
       "      <th>12</th>\n",
       "      <td>147</td>\n",
       "      <td>[Lonesome Crow, Lonesome Crow]</td>\n",
       "      <td>[Scorpions]</td>\n",
       "      <td>[hardrock, allrock]</td>\n",
       "    </tr>\n",
       "    <tr>\n",
       "      <th>14</th>\n",
       "      <td>149</td>\n",
       "      <td>[Lonesome Crow, Lonesome Crow]</td>\n",
       "      <td>[Scorpions]</td>\n",
       "      <td>[hardrock, allrock]</td>\n",
       "    </tr>\n",
       "  </tbody>\n",
       "</table>\n",
       "</div>"
      ],
      "text/plain": [
       "    item_id                                             albums      artists  \\\n",
       "4       138  [Wild Young Hearts, Wild Young Hearts, Don't U...  [Noisettes]   \n",
       "7       141  [Wild Young Hearts, Wild Young Hearts, I Am Wo...  [Noisettes]   \n",
       "9       144                     [Lonesome Crow, Lonesome Crow]  [Scorpions]   \n",
       "12      147                     [Lonesome Crow, Lonesome Crow]  [Scorpions]   \n",
       "14      149                     [Lonesome Crow, Lonesome Crow]  [Scorpions]   \n",
       "\n",
       "                 genres  \n",
       "4                 [pop]  \n",
       "7                 [pop]  \n",
       "9   [hardrock, allrock]  \n",
       "12  [hardrock, allrock]  \n",
       "14  [hardrock, allrock]  "
      ]
     },
     "execution_count": 47,
     "metadata": {},
     "output_type": "execute_result"
    }
   ],
   "source": [
    "upd_tracks.head()"
   ]
  },
  {
   "cell_type": "code",
   "execution_count": 48,
   "id": "ecd58c8fa5c80260",
   "metadata": {
    "ExecuteTime": {
     "end_time": "2024-11-12T00:07:15.175770Z",
     "start_time": "2024-11-12T00:07:15.174433Z"
    }
   },
   "outputs": [],
   "source": [
    "interactions.rename(columns={'track_id': 'item_id'}, inplace=True)"
   ]
  },
  {
   "cell_type": "code",
   "execution_count": 49,
   "id": "af5a45d65ef21154",
   "metadata": {
    "ExecuteTime": {
     "end_time": "2024-11-12T00:07:15.178633Z",
     "start_time": "2024-11-12T00:07:15.176131Z"
    }
   },
   "outputs": [
    {
     "data": {
      "text/html": [
       "<div>\n",
       "<style scoped>\n",
       "    .dataframe tbody tr th:only-of-type {\n",
       "        vertical-align: middle;\n",
       "    }\n",
       "\n",
       "    .dataframe tbody tr th {\n",
       "        vertical-align: top;\n",
       "    }\n",
       "\n",
       "    .dataframe thead th {\n",
       "        text-align: right;\n",
       "    }\n",
       "</style>\n",
       "<table border=\"1\" class=\"dataframe\">\n",
       "  <thead>\n",
       "    <tr style=\"text-align: right;\">\n",
       "      <th></th>\n",
       "      <th>user_id</th>\n",
       "      <th>item_id</th>\n",
       "      <th>track_seq</th>\n",
       "      <th>started_at</th>\n",
       "    </tr>\n",
       "  </thead>\n",
       "  <tbody>\n",
       "    <tr>\n",
       "      <th>130</th>\n",
       "      <td>844258</td>\n",
       "      <td>3581309</td>\n",
       "      <td>131</td>\n",
       "      <td>2022-06-05</td>\n",
       "    </tr>\n",
       "    <tr>\n",
       "      <th>433</th>\n",
       "      <td>1091434</td>\n",
       "      <td>14937363</td>\n",
       "      <td>434</td>\n",
       "      <td>2022-06-29</td>\n",
       "    </tr>\n",
       "    <tr>\n",
       "      <th>526</th>\n",
       "      <td>73981</td>\n",
       "      <td>48591660</td>\n",
       "      <td>527</td>\n",
       "      <td>2022-09-26</td>\n",
       "    </tr>\n",
       "    <tr>\n",
       "      <th>1202</th>\n",
       "      <td>1273064</td>\n",
       "      <td>40339506</td>\n",
       "      <td>1203</td>\n",
       "      <td>2022-08-24</td>\n",
       "    </tr>\n",
       "    <tr>\n",
       "      <th>209</th>\n",
       "      <td>786184</td>\n",
       "      <td>35982907</td>\n",
       "      <td>210</td>\n",
       "      <td>2022-05-16</td>\n",
       "    </tr>\n",
       "  </tbody>\n",
       "</table>\n",
       "</div>"
      ],
      "text/plain": [
       "      user_id   item_id  track_seq started_at\n",
       "130    844258   3581309        131 2022-06-05\n",
       "433   1091434  14937363        434 2022-06-29\n",
       "526     73981  48591660        527 2022-09-26\n",
       "1202  1273064  40339506       1203 2022-08-24\n",
       "209    786184  35982907        210 2022-05-16"
      ]
     },
     "execution_count": 49,
     "metadata": {},
     "output_type": "execute_result"
    }
   ],
   "source": [
    "interactions.head()"
   ]
  },
  {
   "cell_type": "markdown",
   "id": "4d1be653-eed8-4fa0-a9c5-3811b080d71d",
   "metadata": {},
   "source": [
    "### 2.3 Сохранение данных"
   ]
  },
  {
   "cell_type": "markdown",
   "id": "36f1314a-3af3-4faf-a0b1-3045173d1500",
   "metadata": {},
   "source": [
    "Сохраним данные в двух файлах в персональном S3-бакете по пути `recsys/data/`:\n",
    "- `items.parquet` — все данные о музыкальных треках,\n",
    "- `events.parquet` — все данные о взаимодействиях."
   ]
  },
  {
   "cell_type": "code",
   "execution_count": 50,
   "id": "9f77af17-7705-4fae-9aad-db579b39faad",
   "metadata": {
    "ExecuteTime": {
     "end_time": "2024-11-12T00:07:15.383156Z",
     "start_time": "2024-11-12T00:07:15.179097Z"
    }
   },
   "outputs": [],
   "source": [
    "upd_tracks.to_parquet(\"./data/items.parquet\")"
   ]
  },
  {
   "cell_type": "code",
   "execution_count": 51,
   "id": "1bc6a25f19dc4140",
   "metadata": {
    "ExecuteTime": {
     "end_time": "2024-11-12T00:07:15.442395Z",
     "start_time": "2024-11-12T00:07:15.383674Z"
    }
   },
   "outputs": [],
   "source": [
    "interactions.to_parquet(\"./data/events.parquet\")"
   ]
  },
  {
   "cell_type": "markdown",
   "id": "72ecbbed-c560-44d9-9c14-86c7dc76f399",
   "metadata": {},
   "source": [
    "### 2.4 Очистка памяти"
   ]
  },
  {
   "cell_type": "markdown",
   "id": "b5358ede-ba6e-4c4f-bd73-5b9344f0ba79",
   "metadata": {},
   "source": [
    "Здесь, может понадобится очистка памяти для высвобождения ресурсов для выполнения кода ниже. \n",
    "\n",
    "Приведите соответствующие код, комментарии, например:\n",
    "- код для удаление более ненужных переменных,\n",
    "- комментарий, что следует перезапустить kernel, выполнить такие-то начальные секции и продолжить с этапа 3."
   ]
  },
  {
   "cell_type": "code",
   "execution_count": 52,
   "id": "767fe920-e12e-4ad8-b04e-56e8091fac9f",
   "metadata": {
    "ExecuteTime": {
     "end_time": "2024-11-12T00:07:15.444405Z",
     "start_time": "2024-11-12T00:07:15.442947Z"
    }
   },
   "outputs": [],
   "source": [
    "del tracks\n",
    "del upd_tracks\n",
    "del interactions\n",
    "del catalog_names"
   ]
  },
  {
   "cell_type": "markdown",
   "id": "515a9296",
   "metadata": {},
   "source": [
    "<b>Комментарий от ревьюера v1</b>\n",
    "\n",
    "<div class=\"alert alert-block alert-success\">\n",
    "✔️ EDA проведен, отлично!\n",
    "</div>\n",
    "\n",
    "<div class=\"alert alert-warning\">\n",
    "⚠️ После EDA хотелось бы видеть выводы и выдвинутые гипотезы, которые можно проверить при моделировании. Ведь в этом ценность EDA.\n",
    "</div>"
   ]
  },
  {
   "cell_type": "markdown",
   "id": "94e1cf61-333b-4827-92ba-fc575b8fc968",
   "metadata": {},
   "source": [
    "<div class=\"alert alert-block alert-info\">\n",
    "<b>Комментарий студента:</b>\n",
    "Распределение количества прослушанных пользователями треков имеет сильный перекос в сторону низких значений, что может создать сложность для построения модели, так как большинство пользователей имеет очень малое количество взаимодействий.\n",
    "\n",
    "Поэтому мы исключилил из выборки пользователей с очень низким количеством взаимодействий, чтобы сосредоточиться на активных пользователях.\n",
    "</div>"
   ]
  },
  {
   "cell_type": "markdown",
   "id": "708503df-ee89-4cf3-8489-093dc478e2a8",
   "metadata": {},
   "source": [
    "## === ЭТАП 3 ==="
   ]
  },
  {
   "cell_type": "markdown",
   "id": "fd77de22-e10f-4b42-85c1-8fb6f805fe68",
   "metadata": {},
   "source": [
    "### 3.1 Загрузка данных"
   ]
  },
  {
   "cell_type": "markdown",
   "id": "780a4241-1ecd-4a3e-bbb3-fc2f6ca94f68",
   "metadata": {},
   "source": [
    "Если необходимо, то загружаем items.parquet, events.parquet."
   ]
  },
  {
   "cell_type": "code",
   "execution_count": 53,
   "id": "f19fc8a5-bd2c-40d7-864a-ee75aca6d512",
   "metadata": {
    "ExecuteTime": {
     "end_time": "2024-11-12T00:07:15.600354Z",
     "start_time": "2024-11-12T00:07:15.444994Z"
    }
   },
   "outputs": [],
   "source": [
    "items = pd.read_parquet(\"./data/items.parquet\")"
   ]
  },
  {
   "cell_type": "code",
   "execution_count": 54,
   "id": "5db1e801-5845-4ce3-86f2-c2fa30f68cc5",
   "metadata": {
    "ExecuteTime": {
     "end_time": "2024-11-12T00:07:15.608971Z",
     "start_time": "2024-11-12T00:07:15.600888Z"
    }
   },
   "outputs": [],
   "source": [
    "events = pd.read_parquet(\"./data/events.parquet\")"
   ]
  },
  {
   "cell_type": "markdown",
   "id": "a694c023-6477-490b-939d-1cfa6f5f1b72",
   "metadata": {},
   "source": [
    "### 3.2 Разбиение данных"
   ]
  },
  {
   "cell_type": "markdown",
   "id": "fbd5f6e0-54e7-4428-8678-eabce505d82c",
   "metadata": {},
   "source": [
    "Разбиваем данные на тренировочную, тестовую выборки: в тренировочную все данные до 16 декабря 2022 года (не включительно)."
   ]
  },
  {
   "cell_type": "code",
   "execution_count": 55,
   "id": "00c2dfa5-d8a2-47d1-922e-6eefee2c62d1",
   "metadata": {
    "ExecuteTime": {
     "end_time": "2024-11-12T00:07:15.612235Z",
     "start_time": "2024-11-12T00:07:15.609509Z"
    }
   },
   "outputs": [],
   "source": [
    "# зададим точку разбиения\n",
    "train_test_global_time_split_date = pd.to_datetime(\"2022-12-16\")"
   ]
  },
  {
   "cell_type": "code",
   "execution_count": 56,
   "id": "26fe3e3c-8c5f-4437-bf13-9191adef08bb",
   "metadata": {
    "ExecuteTime": {
     "end_time": "2024-11-12T00:07:15.623990Z",
     "start_time": "2024-11-12T00:07:15.612695Z"
    }
   },
   "outputs": [],
   "source": [
    "train_test_global_time_split_idx = events[\"started_at\"] < train_test_global_time_split_date\n",
    "events_train = events[train_test_global_time_split_idx]\n",
    "events_test = events[~train_test_global_time_split_idx]"
   ]
  },
  {
   "cell_type": "code",
   "execution_count": 57,
   "id": "1e8b19ebb87d0537",
   "metadata": {
    "ExecuteTime": {
     "end_time": "2024-11-12T00:07:15.796467Z",
     "start_time": "2024-11-12T00:07:15.624632Z"
    }
   },
   "outputs": [],
   "source": [
    "# перекодируем идентификаторы пользователей:\n",
    "# из имеющихся в последовательность 0, 1, 2, ...\n",
    "user_encoder = sklearn.preprocessing.LabelEncoder()\n",
    "user_encoder.fit(events[\"user_id\"])\n",
    "events_train[\"user_id_enc\"] = user_encoder.transform(events_train[\"user_id\"])\n",
    "events_test[\"user_id_enc\"] = user_encoder.transform(events_test[\"user_id\"])"
   ]
  },
  {
   "cell_type": "code",
   "execution_count": 58,
   "id": "87ed7cae009ed1b5",
   "metadata": {
    "ExecuteTime": {
     "end_time": "2024-11-12T00:07:15.981059Z",
     "start_time": "2024-11-12T00:07:15.797049Z"
    }
   },
   "outputs": [],
   "source": [
    "# перекодируем идентификаторы объектов:\n",
    "# из имеющихся в последовательность 0, 1, 2, ...\n",
    "item_encoder = sklearn.preprocessing.LabelEncoder()\n",
    "item_encoder.fit(items[\"item_id\"])\n",
    "items[\"item_id_enc\"] = item_encoder.transform(items[\"item_id\"])\n",
    "events_train[\"item_id_enc\"] = item_encoder.transform(events_train[\"item_id\"])\n",
    "events_test[\"item_id_enc\"] = item_encoder.transform(events_test[\"item_id\"])"
   ]
  },
  {
   "cell_type": "code",
   "execution_count": 59,
   "id": "416feb7de471ef74",
   "metadata": {
    "ExecuteTime": {
     "end_time": "2024-11-12T00:07:15.990219Z",
     "start_time": "2024-11-12T00:07:15.981625Z"
    }
   },
   "outputs": [],
   "source": [
    "# количество пользователей в train и test\n",
    "users_train = events_train[\"user_id\"].drop_duplicates()\n",
    "users_test = events_test[\"user_id\"].drop_duplicates()"
   ]
  },
  {
   "cell_type": "code",
   "execution_count": 60,
   "id": "53008c9ad98b3dc0",
   "metadata": {
    "ExecuteTime": {
     "end_time": "2024-11-12T00:07:16.004133Z",
     "start_time": "2024-11-12T00:07:15.990653Z"
    }
   },
   "outputs": [],
   "source": [
    "# количество пользователей, которые есть и в train, и в test\n",
    "common_users = set(users_train) & set(users_test)"
   ]
  },
  {
   "cell_type": "code",
   "execution_count": 61,
   "id": "763e9e7087cefea9",
   "metadata": {
    "ExecuteTime": {
     "end_time": "2024-11-12T00:07:16.006167Z",
     "start_time": "2024-11-12T00:07:16.004715Z"
    }
   },
   "outputs": [
    {
     "name": "stdout",
     "output_type": "stream",
     "text": [
      "148633 29587 29146\n"
     ]
    }
   ],
   "source": [
    "print(len(users_train), len(users_test), len(common_users))"
   ]
  },
  {
   "cell_type": "markdown",
   "id": "eafb58b4",
   "metadata": {},
   "source": [
    "<b>Комментарий от ревьюера v1</b>\n",
    "\n",
    "<div class=\"alert alert-block alert-success\">\n",
    "    \n",
    "✔️ Отлично, выборки train / test сформированы. \n",
    "\n",
    "Выборки train / test можно получать несколькими способами (см. картинку ниже)\n",
    "</div>\n"
   ]
  },
  {
   "attachments": {
    "%D1%80%D0%B0%D0%B7%D0%B1%D0%B8%D0%B5%D0%BD%D0%B8%D0%B5.PNG": {
     "image/png": "[encoded data removed]"
    }
   },
   "cell_type": "markdown",
   "id": "0de08873",
   "metadata": {},
   "source": [
    "![%D1%80%D0%B0%D0%B7%D0%B1%D0%B8%D0%B5%D0%BD%D0%B8%D0%B5.PNG](attachment:%D1%80%D0%B0%D0%B7%D0%B1%D0%B8%D0%B5%D0%BD%D0%B8%D0%B5.PNG)"
   ]
  },
  {
   "cell_type": "markdown",
   "id": "0b1935a1-b49f-444f-ba88-5512856f1a59",
   "metadata": {},
   "source": [
    "<div class=\"alert alert-block alert-info\">\n",
    "<b>Комментарий студента:</b> Спасибо!\n",
    "</div>"
   ]
  },
  {
   "cell_type": "markdown",
   "id": "84c73289",
   "metadata": {},
   "source": [
    "[Ссылка на картинку](https://disk.yandex.ru/i/L6hBTf6KLYRa-g)"
   ]
  },
  {
   "cell_type": "markdown",
   "id": "c44124170631524c",
   "metadata": {},
   "source": [
    "«Холодные» пользователи — те, которые есть в test, но отсутствуют в train. Это соответствует хронологическому порядку, в котором и работает рекомендательная система."
   ]
  },
  {
   "cell_type": "code",
   "execution_count": 62,
   "id": "fd35d731bb433cc3",
   "metadata": {
    "ExecuteTime": {
     "end_time": "2024-11-12T00:07:16.019677Z",
     "start_time": "2024-11-12T00:07:16.006693Z"
    }
   },
   "outputs": [
    {
     "name": "stdout",
     "output_type": "stream",
     "text": [
      "441\n"
     ]
    }
   ],
   "source": [
    "cold_users = set(users_test) - set(users_train)\n",
    "\n",
    "print(len(cold_users))"
   ]
  },
  {
   "cell_type": "markdown",
   "id": "9131c7e6-8852-4556-b510-51f7253cc299",
   "metadata": {},
   "source": [
    "### 3.3 Топ популярных"
   ]
  },
  {
   "cell_type": "markdown",
   "id": "f9367a8f9cf4f998",
   "metadata": {},
   "source": [
    "Рассчитаем рекомендации как топ популярных.\n",
    "\n",
    "Завершите код, чтобы получить топ-100 наиболее популярных треках."
   ]
  },
  {
   "cell_type": "code",
   "execution_count": 63,
   "id": "5276cb850aafc5d7",
   "metadata": {
    "ExecuteTime": {
     "end_time": "2024-11-12T00:07:16.077307Z",
     "start_time": "2024-11-12T00:07:16.020209Z"
    }
   },
   "outputs": [],
   "source": [
    "item_popularity = events_train \\\n",
    "    .groupby([\"item_id\"]).agg(users=(\"user_id\", \"nunique\"), count_plays=(\"item_id\", \"count\")).reset_index()\n",
    "item_popularity[\"popularity_weighted\"] = item_popularity[\"users\"] * item_popularity[\"count_plays\"]\n",
    "\n",
    "# сортируем по убыванию взвешенной популярности\n",
    "item_popularity = item_popularity.sort_values(by=\"popularity_weighted\", ascending=False)"
   ]
  },
  {
   "cell_type": "code",
   "execution_count": 64,
   "id": "4f01bb1c4906aee2",
   "metadata": {
    "ExecuteTime": {
     "end_time": "2024-11-12T00:07:16.079249Z",
     "start_time": "2024-11-12T00:07:16.077826Z"
    }
   },
   "outputs": [],
   "source": [
    "top_k_pop_items = item_popularity.head(100)"
   ]
  },
  {
   "cell_type": "markdown",
   "id": "947cbc25914dec44",
   "metadata": {},
   "source": [
    "Добавив информацию о треках, можно просмотреть, какие попали в топ."
   ]
  },
  {
   "cell_type": "code",
   "execution_count": 65,
   "id": "381cea3249aafdf3",
   "metadata": {
    "ExecuteTime": {
     "end_time": "2024-11-12T00:07:16.095839Z",
     "start_time": "2024-11-12T00:07:16.079840Z"
    }
   },
   "outputs": [],
   "source": [
    "# добавляем информацию о треках\n",
    "top_k_pop_items = top_k_pop_items.merge(\n",
    "    items.set_index(\"item_id\")[[\"albums\", \"genres\", \"artists\"]], on=\"item_id\")"
   ]
  },
  {
   "cell_type": "code",
   "execution_count": 66,
   "id": "fbbb8f966ae2a94",
   "metadata": {
    "ExecuteTime": {
     "end_time": "2024-11-12T00:07:16.102763Z",
     "start_time": "2024-11-12T00:07:16.096318Z"
    }
   },
   "outputs": [
    {
     "data": {
      "text/html": [
       "<div>\n",
       "<style scoped>\n",
       "    .dataframe tbody tr th:only-of-type {\n",
       "        vertical-align: middle;\n",
       "    }\n",
       "\n",
       "    .dataframe tbody tr th {\n",
       "        vertical-align: top;\n",
       "    }\n",
       "\n",
       "    .dataframe thead th {\n",
       "        text-align: right;\n",
       "    }\n",
       "</style>\n",
       "<table border=\"1\" class=\"dataframe\">\n",
       "  <thead>\n",
       "    <tr style=\"text-align: right;\">\n",
       "      <th></th>\n",
       "      <th>item_id</th>\n",
       "      <th>albums</th>\n",
       "      <th>genres</th>\n",
       "      <th>artists</th>\n",
       "      <th>count_plays</th>\n",
       "      <th>popularity_weighted</th>\n",
       "    </tr>\n",
       "  </thead>\n",
       "  <tbody>\n",
       "    <tr>\n",
       "      <th>0</th>\n",
       "      <td>53404</td>\n",
       "      <td>[Nevermind, Nirvana, Nevermind, Nevermind, Nev...</td>\n",
       "      <td>[alternative, rock, allrock]</td>\n",
       "      <td>[Nirvana]</td>\n",
       "      <td>297</td>\n",
       "      <td>88209</td>\n",
       "    </tr>\n",
       "    <tr>\n",
       "      <th>1</th>\n",
       "      <td>33311009</td>\n",
       "      <td>[Shape Of Pop, NOW That's What I Call Music, E...</td>\n",
       "      <td>[rock, allrock]</td>\n",
       "      <td>[Imagine Dragons]</td>\n",
       "      <td>295</td>\n",
       "      <td>87025</td>\n",
       "    </tr>\n",
       "    <tr>\n",
       "      <th>2</th>\n",
       "      <td>178529</td>\n",
       "      <td>[Meteora, Meteora, Meteora, Meteora, 00s Rock ...</td>\n",
       "      <td>[numetal, metal]</td>\n",
       "      <td>[Linkin Park]</td>\n",
       "      <td>295</td>\n",
       "      <td>87025</td>\n",
       "    </tr>\n",
       "    <tr>\n",
       "      <th>3</th>\n",
       "      <td>37384</td>\n",
       "      <td>[Stars: The Best Of The Cranberries 1992-2002,...</td>\n",
       "      <td>[rock, allrock]</td>\n",
       "      <td>[The Cranberries]</td>\n",
       "      <td>274</td>\n",
       "      <td>75076</td>\n",
       "    </tr>\n",
       "    <tr>\n",
       "      <th>4</th>\n",
       "      <td>6705392</td>\n",
       "      <td>[Elephant, Seven Nation Army, Pay Close Attent...</td>\n",
       "      <td>[alternative]</td>\n",
       "      <td>[The White Stripes]</td>\n",
       "      <td>262</td>\n",
       "      <td>68644</td>\n",
       "    </tr>\n",
       "    <tr>\n",
       "      <th>...</th>\n",
       "      <td>...</td>\n",
       "      <td>...</td>\n",
       "      <td>...</td>\n",
       "      <td>...</td>\n",
       "      <td>...</td>\n",
       "      <td>...</td>\n",
       "    </tr>\n",
       "    <tr>\n",
       "      <th>95</th>\n",
       "      <td>645525</td>\n",
       "      <td>[The Gift Of Game, The Gift Of Game, Butterfly...</td>\n",
       "      <td>[alternative, numetal, metal]</td>\n",
       "      <td>[Crazy Town]</td>\n",
       "      <td>149</td>\n",
       "      <td>22201</td>\n",
       "    </tr>\n",
       "    <tr>\n",
       "      <th>96</th>\n",
       "      <td>765627</td>\n",
       "      <td>[Je Veux, Je Veux, Zaz, Cafe Puls Hits 2010, Z...</td>\n",
       "      <td>[pop]</td>\n",
       "      <td>[Zaz]</td>\n",
       "      <td>148</td>\n",
       "      <td>21904</td>\n",
       "    </tr>\n",
       "    <tr>\n",
       "      <th>97</th>\n",
       "      <td>2786721</td>\n",
       "      <td>[When We Stand Together, Here And Now, Here an...</td>\n",
       "      <td>[rock, allrock]</td>\n",
       "      <td>[Nickelback]</td>\n",
       "      <td>147</td>\n",
       "      <td>21609</td>\n",
       "    </tr>\n",
       "    <tr>\n",
       "      <th>98</th>\n",
       "      <td>42197229</td>\n",
       "      <td>[Natural, Origins, Origins, Больше хитов! Боль...</td>\n",
       "      <td>[rock, allrock]</td>\n",
       "      <td>[Imagine Dragons]</td>\n",
       "      <td>147</td>\n",
       "      <td>21609</td>\n",
       "    </tr>\n",
       "    <tr>\n",
       "      <th>99</th>\n",
       "      <td>38572747</td>\n",
       "      <td>[Звёзды только ночью, «Мир! Дружба! Жвачка!». ...</td>\n",
       "      <td>[local-indie, indie]</td>\n",
       "      <td>[гречка]</td>\n",
       "      <td>146</td>\n",
       "      <td>21316</td>\n",
       "    </tr>\n",
       "  </tbody>\n",
       "</table>\n",
       "<p>100 rows × 6 columns</p>\n",
       "</div>"
      ],
      "text/plain": [
       "     item_id                                             albums  \\\n",
       "0      53404  [Nevermind, Nirvana, Nevermind, Nevermind, Nev...   \n",
       "1   33311009  [Shape Of Pop, NOW That's What I Call Music, E...   \n",
       "2     178529  [Meteora, Meteora, Meteora, Meteora, 00s Rock ...   \n",
       "3      37384  [Stars: The Best Of The Cranberries 1992-2002,...   \n",
       "4    6705392  [Elephant, Seven Nation Army, Pay Close Attent...   \n",
       "..       ...                                                ...   \n",
       "95    645525  [The Gift Of Game, The Gift Of Game, Butterfly...   \n",
       "96    765627  [Je Veux, Je Veux, Zaz, Cafe Puls Hits 2010, Z...   \n",
       "97   2786721  [When We Stand Together, Here And Now, Here an...   \n",
       "98  42197229  [Natural, Origins, Origins, Больше хитов! Боль...   \n",
       "99  38572747  [Звёзды только ночью, «Мир! Дружба! Жвачка!». ...   \n",
       "\n",
       "                           genres              artists  count_plays  \\\n",
       "0    [alternative, rock, allrock]            [Nirvana]          297   \n",
       "1                 [rock, allrock]    [Imagine Dragons]          295   \n",
       "2                [numetal, metal]        [Linkin Park]          295   \n",
       "3                 [rock, allrock]    [The Cranberries]          274   \n",
       "4                   [alternative]  [The White Stripes]          262   \n",
       "..                            ...                  ...          ...   \n",
       "95  [alternative, numetal, metal]         [Crazy Town]          149   \n",
       "96                          [pop]                [Zaz]          148   \n",
       "97                [rock, allrock]         [Nickelback]          147   \n",
       "98                [rock, allrock]    [Imagine Dragons]          147   \n",
       "99           [local-indie, indie]             [гречка]          146   \n",
       "\n",
       "    popularity_weighted  \n",
       "0                 88209  \n",
       "1                 87025  \n",
       "2                 87025  \n",
       "3                 75076  \n",
       "4                 68644  \n",
       "..                  ...  \n",
       "95                22201  \n",
       "96                21904  \n",
       "97                21609  \n",
       "98                21609  \n",
       "99                21316  \n",
       "\n",
       "[100 rows x 6 columns]"
      ]
     },
     "metadata": {},
     "output_type": "display_data"
    }
   ],
   "source": [
    "with pd.option_context('display.max_rows', 30):\n",
    "    display(top_k_pop_items[[\"item_id\", \"albums\", \"genres\", \"artists\", \"count_plays\", \"popularity_weighted\"]])"
   ]
  },
  {
   "cell_type": "code",
   "execution_count": 67,
   "id": "3e772f6052ad09ba",
   "metadata": {
    "ExecuteTime": {
     "end_time": "2024-11-12T00:07:16.106371Z",
     "start_time": "2024-11-12T00:07:16.103219Z"
    }
   },
   "outputs": [],
   "source": [
    "top_k_pop_items.to_parquet(\"./data/top_popular.parquet\")"
   ]
  },
  {
   "cell_type": "markdown",
   "id": "7bfd24d6",
   "metadata": {},
   "source": [
    "<b>Комментарий от ревьюера v1</b>\n",
    "\n",
    "<div class=\"alert alert-block alert-success\">\n",
    "✔️ Отлично, неперсональные рекомендации сформированы!\n",
    "</div>\n",
    "\n",
    "<div class=\"alert alert-warning\">\n",
    "⚠️ Рекомендовать пользователю 100 треков кажется избыточным, не правда ли?\n",
    "</div>"
   ]
  },
  {
   "cell_type": "markdown",
   "id": "83f97465-f30b-474f-9212-7e090dd53841",
   "metadata": {},
   "source": [
    "<div class=\"alert alert-block alert-info\">\n",
    "<b>Комментарий студента:</b>\n",
    "Как я понял количество рекомендуемых пользователем треков мы будем регулировать на этапе получения рекомендаций. То есть я бы вынес регулирование количества рекомендаций на уровень бизнес-логики, а не на уровень данных\n",
    "</div>"
   ]
  },
  {
   "cell_type": "markdown",
   "id": "1c8a42c7-c408-4b67-a3af-451caf4069a5",
   "metadata": {},
   "source": [
    "<div class=\"alert alert-warning\">\n",
    "⚠️ На подумать: стоит ли учитывать при рекомендациях, что пользователь уже прослушивал трек из топа? То есть, стоил ли ему повторно рекомендовать трек из уже прослушанных.\n",
    "</div>"
   ]
  },
  {
   "cell_type": "markdown",
   "id": "4695f3fa-b514-4a2b-9f00-16c8e1e7593d",
   "metadata": {},
   "source": [
    "<div class=\"alert alert-block alert-info\">\n",
    "<b>Комментарий студента:</b>\n",
    "Я полагаю что стоит учитывать при рекомендациях, что пользователь уже прослушивал трек из топа и не рекомендовать повторно трек из уже прослушанных :)\n",
    "</div>"
   ]
  },
  {
   "cell_type": "markdown",
   "id": "3978a900d86e1a38",
   "metadata": {},
   "source": [
    "### 3.4 Персональные рекомендации"
   ]
  },
  {
   "cell_type": "markdown",
   "id": "7f4025622c1bc45b",
   "metadata": {},
   "source": [
    "Рассчитаем персональные рекомендации."
   ]
  },
  {
   "cell_type": "code",
   "execution_count": 68,
   "id": "3916190f29b7145",
   "metadata": {
    "ExecuteTime": {
     "end_time": "2024-11-12T00:07:16.124020Z",
     "start_time": "2024-11-12T00:07:16.106820Z"
    }
   },
   "outputs": [],
   "source": [
    "# создаём sparse-матрицу формата CSR \n",
    "user_item_matrix_train = scipy.sparse.csr_matrix((\n",
    "    events_train['user_id_enc'],\n",
    "    (events_train['user_id_enc'], events_train['item_id_enc'])),\n",
    "    dtype=np.int8\n",
    ")"
   ]
  },
  {
   "cell_type": "code",
   "execution_count": 69,
   "id": "f9e96496e1eafbad",
   "metadata": {
    "ExecuteTime": {
     "end_time": "2024-11-12T00:07:43.672220Z",
     "start_time": "2024-11-12T00:07:16.124590Z"
    }
   },
   "outputs": [
    {
     "data": {
      "application/vnd.jupyter.widget-view+json": {
       "model_id": "2c393238898644d29407931d6fcd7af1",
       "version_major": 2,
       "version_minor": 0
      },
      "text/plain": [
       "  0%|          | 0/20 [00:00<?, ?it/s]"
      ]
     },
     "metadata": {},
     "output_type": "display_data"
    }
   ],
   "source": [
    "als_model = AlternatingLeastSquares(factors=30, iterations=20, regularization=0.05, random_state=42)\n",
    "als_model.fit(user_item_matrix_train)"
   ]
  },
  {
   "cell_type": "code",
   "execution_count": 70,
   "id": "ebebbb2259763c45",
   "metadata": {
    "ExecuteTime": {
     "end_time": "2024-11-12T00:07:43.676386Z",
     "start_time": "2024-11-12T00:07:43.673762Z"
    }
   },
   "outputs": [],
   "source": [
    "# получаем список всех возможных user_id (перекодированных)\n",
    "user_ids_encoded = range(len(user_encoder.classes_))"
   ]
  },
  {
   "cell_type": "code",
   "execution_count": 71,
   "id": "88c0225326267440",
   "metadata": {
    "ExecuteTime": {
     "end_time": "2024-11-12T00:08:33.313423Z",
     "start_time": "2024-11-12T00:07:43.677496Z"
    }
   },
   "outputs": [],
   "source": [
    "# получаем рекомендации для всех пользователей\n",
    "als_recommendations = als_model.recommend(\n",
    "    user_ids_encoded,\n",
    "    user_item_matrix_train[user_ids_encoded],\n",
    "    filter_already_liked_items=False, \n",
    "    N=RECOMMENDATIONS_PER_USER\n",
    ")"
   ]
  },
  {
   "cell_type": "markdown",
   "id": "27fc439a3394c8df",
   "metadata": {},
   "source": [
    "Код возвращает рекомендации как список списков, это не очень удобно. Преобразуем его в более удобный формат — табличный."
   ]
  },
  {
   "cell_type": "code",
   "execution_count": 72,
   "id": "3528737ba5666a46",
   "metadata": {
    "ExecuteTime": {
     "end_time": "2024-11-12T00:08:33.488527Z",
     "start_time": "2024-11-12T00:08:33.314636Z"
    }
   },
   "outputs": [],
   "source": [
    "# преобразуем полученные рекомендации в табличный формат\n",
    "item_ids_enc = als_recommendations[0]\n",
    "als_scores = als_recommendations[1]\n",
    "\n",
    "als_recommendations = pd.DataFrame({\n",
    "    \"user_id_enc\": user_ids_encoded,\n",
    "    \"item_id_enc\": item_ids_enc.tolist()}\n",
    ")\n",
    "als_recommendations = als_recommendations.explode([\"item_id_enc\"], ignore_index=True)\n",
    "\n",
    "# приводим типы данных\n",
    "als_recommendations[\"item_id_enc\"] = als_recommendations[\"item_id_enc\"].astype(\"int\")\n",
    "\n",
    "# получаем изначальные идентификаторы\n",
    "als_recommendations[\"user_id\"] = user_encoder.inverse_transform(als_recommendations[\"user_id_enc\"])\n",
    "als_recommendations[\"item_id\"] = item_encoder.inverse_transform(als_recommendations[\"item_id_enc\"])\n",
    "als_recommendations = als_recommendations.drop(columns=[\"user_id_enc\", \"item_id_enc\"])"
   ]
  },
  {
   "cell_type": "markdown",
   "id": "31c3898d81e9688c",
   "metadata": {},
   "source": [
    "Сохраним полученные рекомендации в файл."
   ]
  },
  {
   "cell_type": "code",
   "execution_count": 73,
   "id": "8b48e7ba39020771",
   "metadata": {
    "ExecuteTime": {
     "end_time": "2024-11-12T00:08:33.532757Z",
     "start_time": "2024-11-12T00:08:33.489581Z"
    }
   },
   "outputs": [],
   "source": [
    "als_recommendations.to_parquet(\"./data/als_recommendations.parquet\")"
   ]
  },
  {
   "cell_type": "markdown",
   "id": "d999d46a",
   "metadata": {},
   "source": [
    "<b>Комментарий от ревьюера v1</b>\n",
    "\n",
    "<div class=\"alert alert-block alert-success\">\n",
    "✔️ Отлично, персональные рекомендации сформированы!\n",
    "</div>"
   ]
  },
  {
   "cell_type": "markdown",
   "id": "5f09dc7e-7c91-4355-860a-b9cfb9f33f15",
   "metadata": {},
   "source": [
    "### 3.5 Похожие треки"
   ]
  },
  {
   "cell_type": "markdown",
   "id": "1dfcb683-b440-40a8-9975-894156a53872",
   "metadata": {},
   "source": [
    "Рассчитаем похожие, они позже пригодятся для онлайн-рекомендаций."
   ]
  },
  {
   "cell_type": "code",
   "execution_count": 74,
   "id": "ce370904-4c49-4152-8706-416074ea9b9a",
   "metadata": {
    "ExecuteTime": {
     "end_time": "2024-11-12T00:08:33.557725Z",
     "start_time": "2024-11-12T00:08:33.548259Z"
    }
   },
   "outputs": [],
   "source": [
    "# получим энкодированные идентификаторы всех объектов, известных нам из events_train\n",
    "train_item_ids_enc = events_train['item_id_enc'].unique()"
   ]
  },
  {
   "cell_type": "code",
   "execution_count": 75,
   "id": "5e4df15a4978c048",
   "metadata": {
    "ExecuteTime": {
     "end_time": "2024-11-12T00:10:09.403190Z",
     "start_time": "2024-11-12T00:08:33.558782Z"
    }
   },
   "outputs": [],
   "source": [
    "max_similar_items = 5\n",
    "# получаем списки похожих объектов, используя ранее полученную ALS-модель\n",
    "# метод similar_items возвращает и сам объект, как наиболее похожий\n",
    "# этот объект мы позже отфильтруем, но сейчас запросим на 1 больше\n",
    "similar_items = als_model.similar_items(train_item_ids_enc, N=max_similar_items + 1)"
   ]
  },
  {
   "cell_type": "code",
   "execution_count": 76,
   "id": "6bcebfb9ada9f786",
   "metadata": {
    "ExecuteTime": {
     "end_time": "2024-11-12T00:10:09.410615Z",
     "start_time": "2024-11-12T00:10:09.404474Z"
    }
   },
   "outputs": [],
   "source": [
    "# преобразуем полученные списки в табличный формат\n",
    "sim_item_item_ids_enc = similar_items[0]\n",
    "sim_item_scores = similar_items[1]\n",
    "similar_items = pd.DataFrame(columns=[\"item_id_enc\", \"sim_item_id_enc\", \"user_id_enc\"])\n",
    "\n",
    "# Преобразуем столбцы в соответствующие типы данных\n",
    "similar_items[\"user_id_enc\"] = similar_items[\"user_id_enc\"].astype(int)\n",
    "similar_items[\"sim_item_id_enc\"] = similar_items[\"sim_item_id_enc\"].astype(int)"
   ]
  },
  {
   "cell_type": "code",
   "execution_count": 77,
   "id": "bf04a4b9e3871b32",
   "metadata": {
    "ExecuteTime": {
     "end_time": "2024-11-12T00:10:09.756162Z",
     "start_time": "2024-11-12T00:10:09.411849Z"
    }
   },
   "outputs": [],
   "source": [
    "similar_items_list = []\n",
    "for item_id, sim_item_ids, sim_scores in zip(train_item_ids_enc, sim_item_item_ids_enc.tolist(), sim_item_scores.tolist()):\n",
    "    similar_items_list.append((item_id, sim_item_ids, sim_scores))"
   ]
  },
  {
   "cell_type": "code",
   "execution_count": 78,
   "id": "6177020ea9353269",
   "metadata": {
    "ExecuteTime": {
     "end_time": "2024-11-12T00:10:10.121250Z",
     "start_time": "2024-11-12T00:10:09.756864Z"
    }
   },
   "outputs": [],
   "source": [
    "# Создадим DataFrame из списка\n",
    "similar_items = pd.DataFrame(similar_items_list, columns=[\"item_id_enc\", \"sim_item_id_enc\", \"user_id_enc\"])\n",
    "similar_items = similar_items.explode([\"sim_item_id_enc\", \"user_id_enc\"], ignore_index=True)\n",
    "\n",
    "# Преобразуем столбцы в соответствующие типы данных\n",
    "similar_items[\"user_id_enc\"] = similar_items[\"user_id_enc\"].astype(int)\n",
    "similar_items[\"sim_item_id_enc\"] = similar_items[\"sim_item_id_enc\"].astype(int)"
   ]
  },
  {
   "cell_type": "code",
   "execution_count": 79,
   "id": "d537c46bb6d80a4f",
   "metadata": {
    "ExecuteTime": {
     "end_time": "2024-11-12T00:10:10.165420Z",
     "start_time": "2024-11-12T00:10:10.121958Z"
    }
   },
   "outputs": [],
   "source": [
    "# получаем изначальные идентификаторы\n",
    "similar_items[\"item_id_1\"] = item_encoder.inverse_transform(similar_items[\"item_id_enc\"])"
   ]
  },
  {
   "cell_type": "code",
   "execution_count": 80,
   "id": "d41efc9f63cf3b1a",
   "metadata": {
    "ExecuteTime": {
     "end_time": "2024-11-12T00:10:10.227786Z",
     "start_time": "2024-11-12T00:10:10.165971Z"
    }
   },
   "outputs": [],
   "source": [
    "# получаем изначальные идентификаторы\n",
    "similar_items[\"item_id_2\"] = item_encoder.inverse_transform(similar_items[\"sim_item_id_enc\"])"
   ]
  },
  {
   "cell_type": "code",
   "execution_count": 81,
   "id": "f9f89fd76d52cda",
   "metadata": {
    "ExecuteTime": {
     "end_time": "2024-11-12T00:10:10.234838Z",
     "start_time": "2024-11-12T00:10:10.228426Z"
    }
   },
   "outputs": [],
   "source": [
    "# убираем ненужные колонки\n",
    "similar_items = similar_items.drop(columns=[\"item_id_enc\", \"sim_item_id_enc\"])"
   ]
  },
  {
   "cell_type": "code",
   "execution_count": 82,
   "id": "f062a6b6c4b32f88",
   "metadata": {
    "ExecuteTime": {
     "end_time": "2024-11-12T00:10:10.237838Z",
     "start_time": "2024-11-12T00:10:10.235353Z"
    }
   },
   "outputs": [
    {
     "data": {
      "text/html": [
       "<div>\n",
       "<style scoped>\n",
       "    .dataframe tbody tr th:only-of-type {\n",
       "        vertical-align: middle;\n",
       "    }\n",
       "\n",
       "    .dataframe tbody tr th {\n",
       "        vertical-align: top;\n",
       "    }\n",
       "\n",
       "    .dataframe thead th {\n",
       "        text-align: right;\n",
       "    }\n",
       "</style>\n",
       "<table border=\"1\" class=\"dataframe\">\n",
       "  <thead>\n",
       "    <tr style=\"text-align: right;\">\n",
       "      <th></th>\n",
       "      <th>user_id_enc</th>\n",
       "      <th>item_id_1</th>\n",
       "      <th>item_id_2</th>\n",
       "    </tr>\n",
       "  </thead>\n",
       "  <tbody>\n",
       "    <tr>\n",
       "      <th>0</th>\n",
       "      <td>1</td>\n",
       "      <td>3581309</td>\n",
       "      <td>3581309</td>\n",
       "    </tr>\n",
       "    <tr>\n",
       "      <th>1</th>\n",
       "      <td>0</td>\n",
       "      <td>3581309</td>\n",
       "      <td>373263</td>\n",
       "    </tr>\n",
       "    <tr>\n",
       "      <th>2</th>\n",
       "      <td>0</td>\n",
       "      <td>3581309</td>\n",
       "      <td>23127731</td>\n",
       "    </tr>\n",
       "    <tr>\n",
       "      <th>3</th>\n",
       "      <td>0</td>\n",
       "      <td>3581309</td>\n",
       "      <td>5608067</td>\n",
       "    </tr>\n",
       "    <tr>\n",
       "      <th>4</th>\n",
       "      <td>0</td>\n",
       "      <td>3581309</td>\n",
       "      <td>50175925</td>\n",
       "    </tr>\n",
       "  </tbody>\n",
       "</table>\n",
       "</div>"
      ],
      "text/plain": [
       "   user_id_enc  item_id_1  item_id_2\n",
       "0            1    3581309    3581309\n",
       "1            0    3581309     373263\n",
       "2            0    3581309   23127731\n",
       "3            0    3581309    5608067\n",
       "4            0    3581309   50175925"
      ]
     },
     "execution_count": 82,
     "metadata": {},
     "output_type": "execute_result"
    }
   ],
   "source": [
    "# Выводим результат\n",
    "similar_items.head()"
   ]
  },
  {
   "cell_type": "code",
   "execution_count": 83,
   "id": "e670aa4be0174405",
   "metadata": {
    "ExecuteTime": {
     "end_time": "2024-11-12T00:10:10.253741Z",
     "start_time": "2024-11-12T00:10:10.238329Z"
    }
   },
   "outputs": [],
   "source": [
    "# убираем пары с одинаковыми объектами\n",
    "similar_items = similar_items.query(\"item_id_1 != item_id_2\")"
   ]
  },
  {
   "cell_type": "markdown",
   "id": "5b5992cb8bfe37d",
   "metadata": {},
   "source": [
    "Проверим \"похожесть\" треки на нескольких примерах, визуализировав их?"
   ]
  },
  {
   "cell_type": "code",
   "execution_count": 84,
   "id": "abbd377eea4d4984",
   "metadata": {
    "ExecuteTime": {
     "end_time": "2024-11-12T00:10:10.289103Z",
     "start_time": "2024-11-12T00:10:10.254250Z"
    }
   },
   "outputs": [],
   "source": [
    "# Выберем несколько примеров для визуализации\n",
    "sample_tracks = similar_items.sample(5)  # выбираем 5 случайные пары для наглядности\n",
    "\n",
    "sample_tracks = sample_tracks.merge(items[['item_id', 'genres', 'artists', 'albums']],\n",
    "                                    left_on='item_id_1', right_on='item_id', how='left').rename(\n",
    "    columns={'genres': 'genres_1', 'artists': 'artists_1', 'albums': 'albums_1'}\n",
    ")\n",
    "\n",
    "sample_tracks = sample_tracks.merge(items[['item_id', 'genres', 'artists', 'albums']],\n",
    "                                    left_on='item_id_2', right_on='item_id', how='left').rename(\n",
    "    columns={'genres': 'genres_2', 'artists': 'artists_2', 'albums': 'albums_2'}\n",
    ")"
   ]
  },
  {
   "cell_type": "code",
   "execution_count": 85,
   "id": "f112905702c2277e",
   "metadata": {
    "ExecuteTime": {
     "end_time": "2024-11-12T00:10:10.292127Z",
     "start_time": "2024-11-12T00:10:10.289701Z"
    }
   },
   "outputs": [
    {
     "name": "stdout",
     "output_type": "stream",
     "text": [
      "Трек 41731928 похож на трек 41886574\n",
      "Жанры: ['electronics'] -> ['electronics']\n",
      "Исполнители: ['LIRANOV' 'RAFAL'] -> ['LIRANOV']\n",
      "Альбомы: ['Дурман'] -> ['Феромон']\n",
      "\n",
      "==================================================\n",
      "\n",
      "Трек 16299134 похож на трек 555000\n",
      "Жанры: ['pop'] -> ['pop']\n",
      "Исполнители: ['Tyler Ward' 'Alex G'] -> ['Selena Gomez & The Scene']\n",
      "Альбомы: ['Honestly'] -> ['Kiss & Tell' 'For You' 'Kiss & Tell']\n",
      "\n",
      "==================================================\n",
      "\n",
      "Трек 34174571 похож на трек 53837011\n",
      "Жанры: ['rnb'] -> ['electronics']\n",
      "Исполнители: ['Kiiara'] -> ['Jacques Greene' 'Cadence Weapon' 'Justin Strauss']\n",
      "Альбомы: ['Gold' 'Spring Music 2016' 'low kii savage' 'Winter Music 2017'] -> ['Night Service' 'Night Service']\n",
      "\n",
      "==================================================\n",
      "\n",
      "Трек 40302486 похож на трек 20645758\n",
      "Жанры: ['alternative'] -> ['pop']\n",
      "Исполнители: ['Thirty Seconds to Mars'] -> ['R5']\n",
      "Альбомы: ['AMERICA'] -> ['Smile' 'Sometime Last Night' 'Sometime Last Night' 'Young Stars 2015']\n",
      "\n",
      "==================================================\n",
      "\n",
      "Трек 534399 похож на трек 72329501\n",
      "Жанры: ['pop' 'ruspop'] -> ['dance']\n",
      "Исполнители: ['Винтаж'] -> ['Willy William' 'SWACQ']\n",
      "Альбомы: ['Sex'] -> ['Loco' 'Loco']\n",
      "\n",
      "==================================================\n",
      "\n"
     ]
    }
   ],
   "source": [
    "for index, row in sample_tracks.iterrows():\n",
    "    print(f\"Трек {row['item_id_1']} похож на трек {row['item_id_2']}\")\n",
    "    print(f\"Жанры: {row['genres_1']} -> {row['genres_2']}\")\n",
    "    print(f\"Исполнители: {row['artists_1']} -> {row['artists_2']}\")\n",
    "    print(f\"Альбомы: {row['albums_1']} -> {row['albums_2']}\")\n",
    "    print(\"\\n\" + \"=\"*50 + \"\\n\")"
   ]
  },
  {
   "cell_type": "markdown",
   "id": "d72fba3d",
   "metadata": {},
   "source": [
    "Сохраним получившийся результат в файл"
   ]
  },
  {
   "cell_type": "code",
   "execution_count": 86,
   "id": "c23fb31712b98f82",
   "metadata": {
    "ExecuteTime": {
     "end_time": "2024-11-12T00:10:10.351310Z",
     "start_time": "2024-11-12T00:10:10.292546Z"
    }
   },
   "outputs": [],
   "source": [
    "similar_items.to_parquet(\"./data/similar.parquet\")"
   ]
  },
  {
   "cell_type": "markdown",
   "id": "b1b71827",
   "metadata": {},
   "source": [
    "<b>Комментарий от ревьюера v1</b>\n",
    "\n",
    "<div class=\"alert alert-block alert-success\">\n",
    "✔️ Похожие треки сформированы.\n",
    "</div>\n",
    "\n",
    "<div class=\"alert alert-warning\">\n",
    "⚠️ Было бы полезно проверить \"похожесть\" треки на нескольких примерах, визуализировав их."
   ]
  },
  {
   "cell_type": "markdown",
   "id": "e74e570e-fa80-4198-8e4a-29ccf396f0c1",
   "metadata": {},
   "source": [
    "<div class=\"alert alert-block alert-info\">\n",
    "<b>Комментарий студента:</b>\n",
    "Да, это будет не лишним :) Добавил вывод нескольких примеров\n",
    "</div>"
   ]
  },
  {
   "cell_type": "markdown",
   "id": "0087a3e7-ca9f-42cd-944c-944222c1baef",
   "metadata": {},
   "source": [
    "### 3.6 Построение признаков"
   ]
  },
  {
   "cell_type": "markdown",
   "id": "e82a32e1-b90b-4eaf-9439-fc8deab9f34b",
   "metadata": {},
   "source": [
    "Построим три признака, для ранжирующей модели.\n",
    "1. Признак количества прослушиваний трека для каждого пользователя\n",
    "2. Признак средней позиции прослушивания для каждого трека пользователя\n",
    "3. Признак популярности трека: общее количество прослушиваний"
   ]
  },
  {
   "cell_type": "markdown",
   "id": "60eaf97cf571c079",
   "metadata": {},
   "source": [
    "Используем отложенную тестовую часть данных — назовём её events_labels, граница для которой будет \"2022-12-16\" + 30 дней = \"2023-01-15\""
   ]
  },
  {
   "cell_type": "code",
   "execution_count": 87,
   "id": "4e0cdd87a8996249",
   "metadata": {
    "ExecuteTime": {
     "end_time": "2024-11-12T00:10:10.354330Z",
     "start_time": "2024-11-12T00:10:10.351929Z"
    }
   },
   "outputs": [],
   "source": [
    "# задаём точку разбиения\n",
    "split_date_for_labels = pd.to_datetime(\"2023-01-15\")\n",
    "\n",
    "split_date_for_labels_idx = events_test[\"started_at\"] < split_date_for_labels\n",
    "events_labels = events_test[split_date_for_labels_idx].copy()"
   ]
  },
  {
   "cell_type": "code",
   "execution_count": 88,
   "id": "e39f7721e3fbba4f",
   "metadata": {
    "ExecuteTime": {
     "end_time": "2024-11-12T00:10:10.356762Z",
     "start_time": "2024-11-12T00:10:10.354748Z"
    }
   },
   "outputs": [
    {
     "data": {
      "text/plain": [
       "29587"
      ]
     },
     "execution_count": 88,
     "metadata": {},
     "output_type": "execute_result"
    }
   ],
   "source": [
    "len(events_labels['user_id'].unique())"
   ]
  },
  {
   "cell_type": "code",
   "execution_count": 89,
   "id": "7dd1e2cb301810df",
   "metadata": {
    "ExecuteTime": {
     "end_time": "2024-11-12T00:10:10.478809Z",
     "start_time": "2024-11-12T00:10:10.357199Z"
    }
   },
   "outputs": [],
   "source": [
    "# Создание уникальных числовых идентификаторов для пользователей и треков\n",
    "user_id_map = {id: idx for idx, id in enumerate(events_labels['user_id'].unique())}\n",
    "item_id_map = {id: idx for idx, id in enumerate(events_labels['item_id'].unique())}\n",
    "events_labels['user_id_enc'] = events_labels['user_id'].map(user_id_map)\n",
    "events_labels['item_id_enc'] = events_labels['item_id'].map(item_id_map)"
   ]
  },
  {
   "cell_type": "code",
   "execution_count": 90,
   "id": "00f84c35-f544-4c3d-ad53-9b1d2b684c75",
   "metadata": {
    "ExecuteTime": {
     "end_time": "2024-11-12T00:10:10.497543Z",
     "start_time": "2024-11-12T00:10:10.479408Z"
    }
   },
   "outputs": [],
   "source": [
    "# 1. Признак количества прослушиваний трека для каждого пользователя\n",
    "play_count = events_labels.groupby(['user_id_enc', 'item_id_enc']).size().reset_index(name='play_count')\n",
    "\n",
    "# 2. Признак средней позиции прослушивания для каждого трека пользователя\n",
    "avg_track_seq = events_labels.groupby(['user_id_enc', 'item_id_enc'])['track_seq'].mean().reset_index(name='avg_track_seq')\n",
    "\n",
    "# 3. Признак популярности трека: общее количество прослушиваний\n",
    "item_popularity = events_labels.groupby('item_id_enc').size().reset_index(name='item_popularity')\n",
    "\n",
    "# Объединение признаков\n",
    "features = play_count.merge(avg_track_seq, on=['user_id_enc', 'item_id_enc'])\n",
    "features = features.merge(item_popularity, on='item_id_enc')"
   ]
  },
  {
   "cell_type": "code",
   "execution_count": 91,
   "id": "3da779830aab9364",
   "metadata": {
    "ExecuteTime": {
     "end_time": "2024-11-12T00:10:10.500808Z",
     "start_time": "2024-11-12T00:10:10.498091Z"
    }
   },
   "outputs": [
    {
     "data": {
      "text/html": [
       "<div>\n",
       "<style scoped>\n",
       "    .dataframe tbody tr th:only-of-type {\n",
       "        vertical-align: middle;\n",
       "    }\n",
       "\n",
       "    .dataframe tbody tr th {\n",
       "        vertical-align: top;\n",
       "    }\n",
       "\n",
       "    .dataframe thead th {\n",
       "        text-align: right;\n",
       "    }\n",
       "</style>\n",
       "<table border=\"1\" class=\"dataframe\">\n",
       "  <thead>\n",
       "    <tr style=\"text-align: right;\">\n",
       "      <th></th>\n",
       "      <th>user_id_enc</th>\n",
       "      <th>item_id_enc</th>\n",
       "      <th>play_count</th>\n",
       "      <th>avg_track_seq</th>\n",
       "      <th>item_popularity</th>\n",
       "    </tr>\n",
       "  </thead>\n",
       "  <tbody>\n",
       "    <tr>\n",
       "      <th>0</th>\n",
       "      <td>0</td>\n",
       "      <td>0</td>\n",
       "      <td>1</td>\n",
       "      <td>608.0</td>\n",
       "      <td>13</td>\n",
       "    </tr>\n",
       "    <tr>\n",
       "      <th>1</th>\n",
       "      <td>1</td>\n",
       "      <td>1</td>\n",
       "      <td>1</td>\n",
       "      <td>192.0</td>\n",
       "      <td>1</td>\n",
       "    </tr>\n",
       "    <tr>\n",
       "      <th>2</th>\n",
       "      <td>1</td>\n",
       "      <td>13890</td>\n",
       "      <td>1</td>\n",
       "      <td>233.0</td>\n",
       "      <td>1</td>\n",
       "    </tr>\n",
       "    <tr>\n",
       "      <th>3</th>\n",
       "      <td>2</td>\n",
       "      <td>2</td>\n",
       "      <td>1</td>\n",
       "      <td>210.0</td>\n",
       "      <td>2</td>\n",
       "    </tr>\n",
       "    <tr>\n",
       "      <th>4</th>\n",
       "      <td>2</td>\n",
       "      <td>15274</td>\n",
       "      <td>1</td>\n",
       "      <td>148.0</td>\n",
       "      <td>1</td>\n",
       "    </tr>\n",
       "  </tbody>\n",
       "</table>\n",
       "</div>"
      ],
      "text/plain": [
       "   user_id_enc  item_id_enc  play_count  avg_track_seq  item_popularity\n",
       "0            0            0           1          608.0               13\n",
       "1            1            1           1          192.0                1\n",
       "2            1        13890           1          233.0                1\n",
       "3            2            2           1          210.0                2\n",
       "4            2        15274           1          148.0                1"
      ]
     },
     "execution_count": 91,
     "metadata": {},
     "output_type": "execute_result"
    }
   ],
   "source": [
    "features.head()"
   ]
  },
  {
   "cell_type": "markdown",
   "id": "47bcf88d-b236-46f0-a6f3-38ddd64895fe",
   "metadata": {},
   "source": [
    "### 3.7 Ранжирование рекомендаций"
   ]
  },
  {
   "cell_type": "markdown",
   "id": "e8cd8223-3418-4493-8c87-1f76286ebda0",
   "metadata": {},
   "source": [
    "Построим ранжирующую модель, чтобы сделать рекомендации более точными. Отранжируем рекомендации."
   ]
  },
  {
   "cell_type": "code",
   "execution_count": 92,
   "id": "8cfeb28262b7795c",
   "metadata": {
    "ExecuteTime": {
     "end_time": "2024-11-12T00:10:10.503665Z",
     "start_time": "2024-11-12T00:10:10.501336Z"
    }
   },
   "outputs": [],
   "source": [
    "# Шаг 1: Определение весов для sparse-матрицы\n",
    "# Используем нормированное значение play_count и item_popularity как веса\n",
    "# при этом уменьшим влияние item_popularity, добавляя корень\n",
    "features['weight'] = features['play_count'] * (1 + np.sqrt(features['item_popularity'] + 1) / 10)"
   ]
  },
  {
   "cell_type": "code",
   "execution_count": 93,
   "id": "86e7eb695ec27519",
   "metadata": {
    "ExecuteTime": {
     "end_time": "2024-11-12T00:10:10.506263Z",
     "start_time": "2024-11-12T00:10:10.504147Z"
    }
   },
   "outputs": [],
   "source": [
    "# Создание sparse-матрицы с весами\n",
    "user_item_matrix_train = scipy.sparse.csr_matrix((\n",
    "    features['weight'],\n",
    "    (features['user_id_enc'], features['item_id_enc'])),\n",
    "    shape=(len(user_id_map), len(item_id_map)),\n",
    "    dtype=np.float32\n",
    ")"
   ]
  },
  {
   "cell_type": "code",
   "execution_count": 94,
   "id": "14da60be58816a2e",
   "metadata": {
    "ExecuteTime": {
     "end_time": "2024-11-12T00:10:24.528627Z",
     "start_time": "2024-11-12T00:10:10.506683Z"
    }
   },
   "outputs": [
    {
     "data": {
      "application/vnd.jupyter.widget-view+json": {
       "model_id": "3134bffc563f436aaebad7913c1da55f",
       "version_major": 2,
       "version_minor": 0
      },
      "text/plain": [
       "  0%|          | 0/20 [00:00<?, ?it/s]"
      ]
     },
     "metadata": {},
     "output_type": "display_data"
    }
   ],
   "source": [
    "# Шаг 4: Обучение модели ALS\n",
    "als_model = AlternatingLeastSquares(factors=50, iterations=20, regularization=0.05, random_state=42)\n",
    "als_model.fit(user_item_matrix_train)"
   ]
  },
  {
   "cell_type": "code",
   "execution_count": 95,
   "id": "c7feb4e149990832",
   "metadata": {
    "ExecuteTime": {
     "end_time": "2024-11-12T00:10:24.533733Z",
     "start_time": "2024-11-12T00:10:24.529927Z"
    }
   },
   "outputs": [],
   "source": [
    "# Функция для получения рекомендаций для одного пользователя\n",
    "def get_user_recommendations(user_id, user_idx, als_model, user_item_matrix_train, reverse_item_id_map):\n",
    "    # Получаем рекомендации для текущего пользователя\n",
    "    recommended_items, scores = als_model.recommend(\n",
    "        userid=user_idx,\n",
    "        user_items=user_item_matrix_train[user_idx],  # Передаем только данные для конкретного пользователя\n",
    "        N=RECOMMENDATIONS_PER_USER  # Количество рекомендаций на пользователя\n",
    "    )\n",
    "    \n",
    "    # Расшифровываем item_id с использованием обратного словаря\n",
    "    recommended_item_ids = [reverse_item_id_map[idx] for idx in recommended_items]\n",
    "    \n",
    "    # Формируем рекомендации для пользователя\n",
    "    user_recommendations = [{\n",
    "        'user_id': user_id,\n",
    "        'item_id': item_id,\n",
    "        'score': score\n",
    "    } for item_id, score in zip(recommended_item_ids, scores)]\n",
    "    \n",
    "    return user_recommendations"
   ]
  },
  {
   "cell_type": "code",
   "execution_count": 96,
   "id": "bbb54892db1d49d0",
   "metadata": {
    "ExecuteTime": {
     "end_time": "2024-11-12T00:10:31.259748Z",
     "start_time": "2024-11-12T00:10:24.534901Z"
    }
   },
   "outputs": [
    {
     "data": {
      "application/vnd.jupyter.widget-view+json": {
       "model_id": "aa50bc8bb1c54d4ab9179a282a240cae",
       "version_major": 2,
       "version_minor": 0
      },
      "text/plain": [
       "Generating Recommendations:   0%|          | 0/29587 [00:00<?, ?user/s]"
      ]
     },
     "metadata": {},
     "output_type": "display_data"
    }
   ],
   "source": [
    "# Генерация рекомендаций для каждого пользователя с использованием tqdm\n",
    "recommendations = []\n",
    "\n",
    "# Создаем обратный словарь для быстрого поиска item_id\n",
    "reverse_item_id_map = {v: k for k, v in item_id_map.items()}\n",
    "\n",
    "for user_id, user_idx in tqdm(user_id_map.items(), desc=\"Generating Recommendations\", unit=\"user\"):\n",
    "    recommendations.extend(\n",
    "        get_user_recommendations(user_id, user_idx, als_model, user_item_matrix_train, reverse_item_id_map)\n",
    "    )"
   ]
  },
  {
   "cell_type": "markdown",
   "id": "c4fbb6c5",
   "metadata": {},
   "source": [
    "Сохраним получившийся результат в файл"
   ]
  },
  {
   "cell_type": "code",
   "execution_count": 97,
   "id": "47e69103ad430c07",
   "metadata": {
    "ExecuteTime": {
     "end_time": "2024-11-12T00:10:32.027917Z",
     "start_time": "2024-11-12T00:10:31.261566Z"
    }
   },
   "outputs": [],
   "source": [
    "# Шаг 6: Сохранение рекомендаций в parquet-файл\n",
    "recommendations_df = pd.DataFrame(recommendations)\n",
    "recommendations_df.to_parquet('data/recommendations.parquet', index=False)"
   ]
  },
  {
   "cell_type": "markdown",
   "id": "d79d5ed7",
   "metadata": {},
   "source": [
    "<b>Комментарий от ревьюера v1</b>\n",
    "\n",
    "<div class=\"alert alert-block alert-success\">\n",
    "✔️ Ранжирующая модель построена.\n",
    "</div>\n",
    "\n",
    "<div class=\"alert alert-warning\">\n",
    "⚠️ Для обучения ранжирующей модели стоит использовать дополнительную отложенную выборку. Схема обучения двухстадийных рекомендаций приведена ниже:"
   ]
  },
  {
   "cell_type": "markdown",
   "id": "c244345b-7ead-40e8-8d92-31fd3902b756",
   "metadata": {},
   "source": [
    "<div class=\"alert alert-block alert-info\">\n",
    "<b>Комментарий студента:</b>\n",
    "Добавил использование дополнительной выборки (+30 дней)\n",
    "</div>"
   ]
  },
  {
   "attachments": {
    "photo_2024-08-06_00-53-28.jpg": {
     "image/jpeg": "[encoded data removed]"
    }
   },
   "cell_type": "markdown",
   "id": "dd30efb5",
   "metadata": {},
   "source": [
    "![photo_2024-08-06_00-53-28.jpg](attachment:photo_2024-08-06_00-53-28.jpg)"
   ]
  },
  {
   "cell_type": "markdown",
   "id": "82d7e043",
   "metadata": {},
   "source": [
    "[Схема](https://disk.yandex.ru/i/OmvEZsAn9PakDQ)"
   ]
  },
  {
   "cell_type": "markdown",
   "id": "b3c84071-45b5-4a15-a683-e0ab034a3128",
   "metadata": {},
   "source": [
    "### 3.8 Оценка качества"
   ]
  },
  {
   "cell_type": "markdown",
   "id": "1b107fe4-554e-42b1-87d9-c435a52bb77a",
   "metadata": {},
   "source": [
    "Проверим оценку качества трёх типов рекомендаций: \n",
    "\n",
    "- топ популярных\n",
    "- персональных, полученных при помощи ALS\n",
    "- итоговых\n",
    "  \n",
    "по четырем метрикам: recall, precision, coverage, novelty."
   ]
  },
  {
   "cell_type": "code",
   "execution_count": 98,
   "id": "94d6f388-aecb-443e-8647-14014e932d4d",
   "metadata": {
    "ExecuteTime": {
     "end_time": "2024-11-12T00:10:32.037717Z",
     "start_time": "2024-11-12T00:10:32.028536Z"
    }
   },
   "outputs": [],
   "source": [
    "# Чтение данных\n",
    "top_popular = pd.read_parquet('data/top_popular.parquet')\n",
    "als_recommendations = pd.read_parquet('data/als_recommendations.parquet')\n",
    "final_recommendations = pd.read_parquet('data/recommendations.parquet')"
   ]
  },
  {
   "cell_type": "code",
   "execution_count": 99,
   "id": "3dd001b7",
   "metadata": {
    "ExecuteTime": {
     "end_time": "2024-11-12T00:10:32.045609Z",
     "start_time": "2024-11-12T00:10:32.038414Z"
    }
   },
   "outputs": [],
   "source": [
    "# Данные взаимодействий пользователей (необходимо загрузить для вычисления релевантности)\n",
    "events = pd.read_parquet('data/events.parquet')  # Исходная история взаимодействий пользователей с треками"
   ]
  },
  {
   "cell_type": "code",
   "execution_count": 100,
   "id": "e14bbb345d6d46d6",
   "metadata": {
    "ExecuteTime": {
     "end_time": "2024-11-12T00:10:32.070872Z",
     "start_time": "2024-11-12T00:10:32.046134Z"
    }
   },
   "outputs": [],
   "source": [
    "user_item_pairs = events[['user_id', 'item_id']].drop_duplicates()\n",
    "\n",
    "# Словарь популярности для вычисления новизны\n",
    "popularity_dict = dict(zip(top_popular['item_id'], top_popular['popularity_weighted']))"
   ]
  },
  {
   "cell_type": "code",
   "execution_count": 101,
   "id": "72f0ef3ff90e1caa",
   "metadata": {
    "ExecuteTime": {
     "end_time": "2024-11-12T00:10:32.073945Z",
     "start_time": "2024-11-12T00:10:32.071541Z"
    }
   },
   "outputs": [],
   "source": [
    "def calculate_metrics(recommendations, user_item_pairs, popularity_dict):\n",
    "    # Уникальные пользователи и треки в рекомендациях\n",
    "    unique_items = recommendations['item_id'].unique()\n",
    "    \n",
    "    # Метрика coverage\n",
    "    coverage = len(unique_items) / len(top_popular['item_id'].unique())\n",
    "    \n",
    "    # Релевантные пары\n",
    "    relevant_pairs = user_item_pairs.set_index(['user_id', 'item_id']).index\n",
    "    recommended_pairs = recommendations.set_index(['user_id', 'item_id']).index\n",
    "    \n",
    "    # Метрика recall\n",
    "    recall = len(recommended_pairs.intersection(relevant_pairs)) / len(relevant_pairs)\n",
    "    \n",
    "    # Метрика precision\n",
    "    precision = len(recommended_pairs.intersection(relevant_pairs)) / len(recommended_pairs)\n",
    "    \n",
    "    # Метрика novelty\n",
    "    novelty_scores = recommendations['item_id'].map(lambda x: popularity_dict.get(x, np.nan))\n",
    "    novelty = novelty_scores.rank(method='max', ascending=False).mean()\n",
    "    \n",
    "    return recall, precision, coverage, novelty"
   ]
  },
  {
   "cell_type": "code",
   "execution_count": 102,
   "id": "8235433498e4d2b8",
   "metadata": {
    "ExecuteTime": {
     "end_time": "2024-11-12T00:10:32.171121Z",
     "start_time": "2024-11-12T00:10:32.074463Z"
    }
   },
   "outputs": [
    {
     "name": "stdout",
     "output_type": "stream",
     "text": [
      "Top Popular Recommendations:\n",
      "Recall: 0.0000, Precision: 0.0000, Coverage: 1.0000, Novelty: 51.0600\n"
     ]
    }
   ],
   "source": [
    "# Рассчёт метрик для каждой группы рекомендаций\n",
    "top_recall, top_precision, top_coverage, top_novelty = calculate_metrics(top_popular[['item_id']].assign(user_id=0), user_item_pairs, popularity_dict)\n",
    "print(\"Top Popular Recommendations:\")\n",
    "print(f\"Recall: {top_recall:.4f}, Precision: {top_precision:.4f}, Coverage: {top_coverage:.4f}, Novelty: {top_novelty:.4f}\")"
   ]
  },
  {
   "cell_type": "code",
   "execution_count": 103,
   "id": "70133b8681062129",
   "metadata": {
    "ExecuteTime": {
     "end_time": "2024-11-12T00:10:32.486865Z",
     "start_time": "2024-11-12T00:10:32.171683Z"
    }
   },
   "outputs": [
    {
     "name": "stdout",
     "output_type": "stream",
     "text": [
      "\n",
      "ALS Recommendations:\n",
      "Recall: 0.0671, Precision: 0.0763, Coverage: 31.6200, Novelty: 171658.4763\n"
     ]
    }
   ],
   "source": [
    "als_recall, als_precision, als_coverage, als_novelty = calculate_metrics(als_recommendations, user_item_pairs, popularity_dict)\n",
    "print(\"\\nALS Recommendations:\")\n",
    "print(f\"Recall: {als_recall:.4f}, Precision: {als_precision:.4f}, Coverage: {als_coverage:.4f}, Novelty: {als_novelty:.4f}\")"
   ]
  },
  {
   "cell_type": "code",
   "execution_count": 104,
   "id": "1ae0bd35b419c8df",
   "metadata": {
    "ExecuteTime": {
     "end_time": "2024-11-12T00:10:32.623617Z",
     "start_time": "2024-11-12T00:10:32.487338Z"
    }
   },
   "outputs": [
    {
     "name": "stdout",
     "output_type": "stream",
     "text": [
      "\n",
      "Final Recommendations:\n",
      "Recall: 0.0000, Precision: 0.0002, Coverage: 2.2100, Novelty: 8690.3093\n"
     ]
    }
   ],
   "source": [
    "final_recall, final_precision, final_coverage, final_novelty = calculate_metrics(final_recommendations, user_item_pairs, popularity_dict)\n",
    "print(\"\\nFinal Recommendations:\")\n",
    "print(f\"Recall: {final_recall:.4f}, Precision: {final_precision:.4f}, Coverage: {final_coverage:.4f}, Novelty: {final_novelty:.4f}\")"
   ]
  },
  {
   "cell_type": "markdown",
   "id": "f1c8d38c-32b0-46a4-96f0-cd01dac708bc",
   "metadata": {},
   "source": [
    "### === 3.9 Выводы, метрики ==="
   ]
  },
  {
   "cell_type": "markdown",
   "id": "f7d7d5d8-7d1e-4fdf-a6cd-83e5ce92c684",
   "metadata": {},
   "source": [
    "Основные выводы при работе над расчётом рекомендаций, рассчитанные метрики."
   ]
  },
  {
   "cell_type": "markdown",
   "id": "e29a8441",
   "metadata": {},
   "source": [
    "1. **Top Popular Recommendations (топ популярных треков)**\n",
    "    - **Recall**: 0.0000\n",
    "    - **Precision**: 0.0000\n",
    "    - **Coverage**: 1.0000\n",
    "    - **Novelty**: 50.8200\n",
    "    \n",
    "    Топ популярных рекомендаций охватывает все доступные треки (Coverage = 1.0), что делает их доступными для всех пользователей. Однако показатели Recall и Precision равны нулю, что указывает на отсутствие персонализации — пользователи не получают релевантные для них рекомендации. Низкое значение Novelty говорит о том, что рекомендации сосредоточены на самых популярных треках, что может не подходить для пользователей с менее распространёнными музыкальными вкусами.\n",
    "    \n",
    "2. **ALS Recommendations (персонализированные рекомендации на основе ALS)**\n",
    "    - **Recall**: 0.0671\n",
    "    - **Precision**: 0.0763\n",
    "    - **Coverage**: 31.62\n",
    "    - **Novelty**: 171658.4763\n",
    "    \n",
    "    ALS-рекомендации показывают лучшие показатели Recall и Precision, что указывает на персонализацию и более точное соответствие предпочтениям пользователей. Coverage составляет 31.62, что означает, что рекомендации охватывают ограниченное количество треков, однако этого достаточно для персонализации. Высокое значение Novelty указывает на включение в рекомендации менее популярных треков, что делает рекомендации разнообразнее и более интересными для пользователей с уникальными предпочтениями.\n",
    "    \n",
    "3. **Final Recommendations (итоговые рекомендации)**\n",
    "    - **Recall**: 0.0000\n",
    "    - **Precision**: 0.0000\n",
    "    - **Coverage**: 2.2100\n",
    "    - **Novelty**: 8690.3093\n",
    "    \n",
    "    Итоговые рекомендации имеют нулевые значения Recall и Precision, что свидетельствует о полном отсутствии релевантности для пользователей. Coverage равен 2.21, что указывает на низкий охват и предполагает, что только небольшое количество треков было рекомендовано. При этом высокое значение Novelty показывает, что рекомендации включают очень редкие и непопулярные треки, которые, вероятно, не интересны большинству пользователей.\n",
    "    \n",
    "\n",
    "### Рекомендации по улучшению\n",
    "\n",
    "- **Гибридный подход**: Комбинированная модель, которая использует как ALS для персонализации, так и популярные треки для расширения охвата, может улучшить как персонализацию, так и разнообразие рекомендаций.\n",
    "- **Оптимизация итоговой модели**: Необходимо пересмотреть алгоритм, генерирующий итоговые рекомендации, чтобы обеспечить релевантность для пользователей, возможно, добавив элементы персонализации или проверив корректность данных."
   ]
  },
  {
   "cell_type": "markdown",
   "id": "cd716781",
   "metadata": {},
   "source": [
    "## === Выгрузка результирующих файлов в AWS ==="
   ]
  },
  {
   "cell_type": "code",
   "execution_count": 105,
   "id": "652195b0",
   "metadata": {
    "ExecuteTime": {
     "end_time": "2024-11-12T00:10:32.625581Z",
     "start_time": "2024-11-12T00:10:32.624125Z"
    }
   },
   "outputs": [],
   "source": [
    "# каталог локальных файлов и их назначения в S3 через MLflow\n",
    "files_to_upload = {\n",
    "    'data/items.parquet': 'recsys/data/items.parquet',\n",
    "    'data/events.parquet': 'recsys/data/events.parquet',\n",
    "    'data/top_popular.parquet': 'recsys/recommendations/top_popular.parquet',\n",
    "    'data/als_recommendations.parquet': 'recsys/recommendations/als_recommendations.parquet',\n",
    "    'data/similar.parquet': 'recsys/recommendations/similar.parquet',\n",
    "    'data/recommendations.parquet': 'recsys/recommendations/recommendations.parquet'\n",
    "}"
   ]
  },
  {
   "cell_type": "code",
   "execution_count": 106,
   "id": "8a7e25bf",
   "metadata": {
    "ExecuteTime": {
     "end_time": "2024-11-12T00:10:32.627357Z",
     "start_time": "2024-11-12T00:10:32.626099Z"
    }
   },
   "outputs": [],
   "source": [
    "# Начало записи эксперимента в MLflow\n",
    "with mlflow.start_run() as run:\n",
    "    for local_path, artifact_path in files_to_upload.items():\n",
    "        print(f\"Загрузка {local_path} в MLflow как {artifact_path}...\")\n",
    "        # Логируем файл в MLflow, он автоматически загрузится в S3\n",
    "        mlflow.log_artifact(local_path, artifact_path=artifact_path)\n",
    "        print(f\"{local_path} успешно загружен в {artifact_path}.\")"
   ]
  },
  {
   "cell_type": "markdown",
   "id": "0692e1f1",
   "metadata": {},
   "source": [
    " Общий вывод\n",
    "\n",
    "<div class=\"alert alert-block alert-success\">\n",
    "    \n",
    "\n",
    "Спасибо за работу, у тебя получился отличный проект!\\\n",
    "Выводы очень развернутые и верные!\n",
    "Удалось протестировать различные алгоритмы для формирования рекомендаций.  \n",
    "Есть небольшие советы, просьба ознакомиться с ними. Я готов принять твой проект, если у тебя нет ко мне вопросов - присылай мне его обратно и я его приму.\\\n",
    "Если есть вопросы или желание улучшить твой проект - оставь вопросы комментарии после этой ячейки. Постараюсь тебе помочь с ответами и улучшением твоего проекта! \n",
    "</div>\n",
    "\n",
    "Для дальнейшего изучения стоит ознакомиться с библиотеками:\n",
    "- [Implicit](https://github.com/benfred/implicit)\n",
    "- [RecTools](https://github.com/MobileTeleSystems/RecTools)\n",
    "- [RePlay](https://github.com/sb-ai-lab/RePlay)\n",
    "- [LightFM](https://github.com/lyst/lightfm)\n",
    "   \n",
    "Прочитать:\n",
    "- обзорную [статью](https://education.yandex.ru/handbook/ml/article/intro-recsys) и ее продолжение.\n",
    "- полазить на [сайте](https://paperswithcode.com/task/recommendation-systems). Тут очень много примеров реальных рекомендательных систем с имплементацией.\n"
   ]
  },
  {
   "cell_type": "markdown",
   "id": "a8413cd2",
   "metadata": {},
   "source": []
  }
 ],
 "metadata": {
  "kernelspec": {
   "display_name": "Python 3 (ipykernel)",
   "language": "python",
   "name": "python3"
  },
  "language_info": {
   "codemirror_mode": {
    "name": "ipython",
    "version": 3
   },
   "file_extension": ".py",
   "mimetype": "text/x-python",
   "name": "python",
   "nbconvert_exporter": "python",
   "pygments_lexer": "ipython3",
   "version": "3.11.8"
  },
  "toc": {
   "base_numbering": 1,
   "nav_menu": {},
   "number_sections": true,
   "sideBar": true,
   "skip_h1_title": true,
   "title_cell": "Table of Contents",
   "title_sidebar": "Contents",
   "toc_cell": false,
   "toc_position": {},
   "toc_section_display": true,
   "toc_window_display": false
  }
 },
 "nbformat": 4,
 "nbformat_minor": 5
}
