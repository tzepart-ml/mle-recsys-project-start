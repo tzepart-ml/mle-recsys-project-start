{
 "cells": [
  {
   "metadata": {},
   "cell_type": "markdown",
   "source": "# Проект. Создание рекомендательной системы. Часть 1",
   "id": "c65dc1f015cef865"
  },
  {
   "metadata": {},
   "cell_type": "markdown",
   "source": [
    "## Описание задачи\n",
    "\n",
    "На этот раз мы работаем с большим каталогом — более 70 млн треков. Чтобы пользователям было легче ориентироваться в столь обширном музыкальном потоке, нужно создать эффективную систему персональных рекомендаций.\n",
    "\n",
    "Для этого нужно облегчить пользовательский опыт, создав систему персональных рекомендаций."
   ],
   "id": "c7c8a485084c943e"
  },
  {
   "metadata": {},
   "cell_type": "markdown",
   "source": [
    "## Данные\n",
    "\n",
    "Данные находятся в трёх файлах.\n",
    "\n",
    "Данные о треках — в файле `tracks.parquet`:\n",
    "\n",
    "- `track_id` — идентификатор музыкального трека;\n",
    "- `albums` — список идентификаторов альбомов, содержащих трек;\n",
    "- `artists` — список идентификаторов исполнителей трека;\n",
    "- `genres` — список идентификаторов жанров, к которым принадлежит трек.\n",
    "\n",
    "Имена артистов, названия альбомов, треков и жанров — в файле `catalog_names.parquet`:\n",
    "\n",
    "- `id` — идентификатор одной из каталожных единиц (трека, альбома, исполнителя, жанра);\n",
    "- `type` — тип идентификатора;\n",
    "- `name` — имя (название) каталожной единицы.\n",
    "\n",
    "Данные о том, какие пользователи прослушали тот или иной трек, — в файле `interactions.parquet` :\n",
    "\n",
    "- `user_id` — идентификатор пользователя,\n",
    "- `track_id` — идентификатор музыкального трека,\n",
    "- `track_seq` — номер места трека в истории пользователя,\n",
    "- `started_at` — дата начала прослушивания трека."
   ],
   "id": "918def3fbe4eaa25"
  },
  {
   "metadata": {},
   "cell_type": "markdown",
   "source": "### Инициализация",
   "id": "f4095ae4-7294-4b28-853e-88d235002c97"
  },
  {
   "cell_type": "markdown",
   "id": "2f2318d2-9df8-4911-915e-15b725c44f8a",
   "metadata": {},
   "source": [
    "Загружаем библиотеки необходимые для выполнения кода ноутбука."
   ]
  },
  {
   "cell_type": "code",
   "id": "662d04e7-1b0b-4e4a-9ddf-4526d7fef119",
   "metadata": {
    "ExecuteTime": {
     "end_time": "2024-11-07T01:28:11.829019Z",
     "start_time": "2024-11-07T01:28:10.964413Z"
    }
   },
   "source": [
    "import pandas as pd\n",
    "import numpy as np\n",
    "import matplotlib.pyplot as plt\n",
    "import scipy\n",
    "from implicit.als import AlternatingLeastSquares\n",
    "import sklearn.preprocessing\n",
    "import warnings\n",
    "from concurrent.futures import ThreadPoolExecutor\n",
    "from tqdm.notebook import tqdm "
   ],
   "outputs": [],
   "execution_count": 1
  },
  {
   "metadata": {
    "ExecuteTime": {
     "end_time": "2024-11-07T01:28:11.878583Z",
     "start_time": "2024-11-07T01:28:11.876867Z"
    }
   },
   "cell_type": "code",
   "source": "warnings.filterwarnings('ignore')",
   "id": "a1e7851f55456e9f",
   "outputs": [],
   "execution_count": 2
  },
  {
   "cell_type": "markdown",
   "id": "bf80fbc5-b660-4fac-8fbb-a5cae77313b3",
   "metadata": {},
   "source": "## === ЭТАП 1 ==="
  },
  {
   "cell_type": "markdown",
   "id": "5263a8b3-fe99-4204-8a2e-105182792c11",
   "metadata": {},
   "source": "### 1.1 Загрузка первичных данных"
  },
  {
   "cell_type": "markdown",
   "id": "1b54a6a5-1656-4e3c-99d1-49dc39451d33",
   "metadata": {},
   "source": [
    "Загружаем первичные данные из файлов:\n",
    "- tracks.parquet\n",
    "- catalog_names.parquet\n",
    "- interactions.parquet"
   ]
  },
  {
   "cell_type": "code",
   "id": "5d4b8961-3f35-4e58-9d6b-3e2dbd2c4224",
   "metadata": {
    "ExecuteTime": {
     "end_time": "2024-11-07T01:28:14.699430Z",
     "start_time": "2024-11-07T01:28:11.914437Z"
    }
   },
   "source": [
    "catalog_names = pd.read_parquet(\"./data/catalog_names.parquet\")\n",
    "interactions = pd.read_parquet(\"./data/interactions.parquet\")\n",
    "tracks = pd.read_parquet(\"./data/tracks.parquet\")"
   ],
   "outputs": [],
   "execution_count": 3
  },
  {
   "metadata": {
    "ExecuteTime": {
     "end_time": "2024-11-07T01:28:14.719558Z",
     "start_time": "2024-11-07T01:28:14.701119Z"
    }
   },
   "cell_type": "code",
   "source": "interactions.info()",
   "id": "b194e3d3eb5bc322",
   "outputs": [
    {
     "name": "stdout",
     "output_type": "stream",
     "text": [
      "<class 'pandas.core.frame.DataFrame'>\n",
      "Index: 222629898 entries, 0 to 291\n",
      "Data columns (total 4 columns):\n",
      " #   Column      Dtype         \n",
      "---  ------      -----         \n",
      " 0   user_id     int32         \n",
      " 1   track_id    int32         \n",
      " 2   track_seq   int16         \n",
      " 3   started_at  datetime64[ns]\n",
      "dtypes: datetime64[ns](1), int16(1), int32(2)\n",
      "memory usage: 5.4 GB\n"
     ]
    }
   ],
   "execution_count": 4
  },
  {
   "metadata": {
    "ExecuteTime": {
     "end_time": "2024-11-07T01:28:21.363251Z",
     "start_time": "2024-11-07T01:28:14.720175Z"
    }
   },
   "cell_type": "code",
   "source": [
    "interactions = interactions.sample(frac=0.0005, random_state=42)\n",
    "tracks = tracks[tracks['track_id'].isin(interactions['track_id'])]\n",
    "\n",
    "interactions.info()\n",
    "tracks.info()"
   ],
   "id": "7c95726556363a48",
   "outputs": [
    {
     "name": "stdout",
     "output_type": "stream",
     "text": [
      "<class 'pandas.core.frame.DataFrame'>\n",
      "Index: 111315 entries, 130 to 213\n",
      "Data columns (total 4 columns):\n",
      " #   Column      Non-Null Count   Dtype         \n",
      "---  ------      --------------   -----         \n",
      " 0   user_id     111315 non-null  int32         \n",
      " 1   track_id    111315 non-null  int32         \n",
      " 2   track_seq   111315 non-null  int16         \n",
      " 3   started_at  111315 non-null  datetime64[ns]\n",
      "dtypes: datetime64[ns](1), int16(1), int32(2)\n",
      "memory usage: 2.8 MB\n",
      "<class 'pandas.core.frame.DataFrame'>\n",
      "Index: 58144 entries, 12 to 999813\n",
      "Data columns (total 4 columns):\n",
      " #   Column    Non-Null Count  Dtype \n",
      "---  ------    --------------  ----- \n",
      " 0   track_id  58144 non-null  int64 \n",
      " 1   albums    58144 non-null  object\n",
      " 2   artists   58144 non-null  object\n",
      " 3   genres    58144 non-null  object\n",
      "dtypes: int64(1), object(3)\n",
      "memory usage: 2.2+ MB\n"
     ]
    }
   ],
   "execution_count": 5
  },
  {
   "cell_type": "code",
   "id": "70f7bdfe-175c-45c1-a2e9-d99f0f33be2e",
   "metadata": {
    "ExecuteTime": {
     "end_time": "2024-11-07T01:28:21.371641Z",
     "start_time": "2024-11-07T01:28:21.364888Z"
    }
   },
   "source": "catalog_names.head()",
   "outputs": [
    {
     "data": {
      "text/plain": [
       "   id   type               name\n",
       "0   3  album    Taller Children\n",
       "1  12  album  Wild Young Hearts\n",
       "2  13  album      Lonesome Crow\n",
       "3  17  album      Graffiti Soul\n",
       "4  26  album     Blues Six Pack"
      ],
      "text/html": [
       "<div>\n",
       "<style scoped>\n",
       "    .dataframe tbody tr th:only-of-type {\n",
       "        vertical-align: middle;\n",
       "    }\n",
       "\n",
       "    .dataframe tbody tr th {\n",
       "        vertical-align: top;\n",
       "    }\n",
       "\n",
       "    .dataframe thead th {\n",
       "        text-align: right;\n",
       "    }\n",
       "</style>\n",
       "<table border=\"1\" class=\"dataframe\">\n",
       "  <thead>\n",
       "    <tr style=\"text-align: right;\">\n",
       "      <th></th>\n",
       "      <th>id</th>\n",
       "      <th>type</th>\n",
       "      <th>name</th>\n",
       "    </tr>\n",
       "  </thead>\n",
       "  <tbody>\n",
       "    <tr>\n",
       "      <th>0</th>\n",
       "      <td>3</td>\n",
       "      <td>album</td>\n",
       "      <td>Taller Children</td>\n",
       "    </tr>\n",
       "    <tr>\n",
       "      <th>1</th>\n",
       "      <td>12</td>\n",
       "      <td>album</td>\n",
       "      <td>Wild Young Hearts</td>\n",
       "    </tr>\n",
       "    <tr>\n",
       "      <th>2</th>\n",
       "      <td>13</td>\n",
       "      <td>album</td>\n",
       "      <td>Lonesome Crow</td>\n",
       "    </tr>\n",
       "    <tr>\n",
       "      <th>3</th>\n",
       "      <td>17</td>\n",
       "      <td>album</td>\n",
       "      <td>Graffiti Soul</td>\n",
       "    </tr>\n",
       "    <tr>\n",
       "      <th>4</th>\n",
       "      <td>26</td>\n",
       "      <td>album</td>\n",
       "      <td>Blues Six Pack</td>\n",
       "    </tr>\n",
       "  </tbody>\n",
       "</table>\n",
       "</div>"
      ]
     },
     "execution_count": 6,
     "metadata": {},
     "output_type": "execute_result"
    }
   ],
   "execution_count": 6
  },
  {
   "metadata": {
    "ExecuteTime": {
     "end_time": "2024-11-07T01:28:21.375027Z",
     "start_time": "2024-11-07T01:28:21.372150Z"
    }
   },
   "cell_type": "code",
   "source": "interactions.head()",
   "id": "14b396acb78bc81c",
   "outputs": [
    {
     "data": {
      "text/plain": [
       "      user_id  track_id  track_seq started_at\n",
       "130    844258   3581309        131 2022-06-05\n",
       "433   1091434  14937363        434 2022-06-29\n",
       "526     73981  48591660        527 2022-09-26\n",
       "9       78605    732405         10 2022-09-14\n",
       "1202  1273064  40339506       1203 2022-08-24"
      ],
      "text/html": [
       "<div>\n",
       "<style scoped>\n",
       "    .dataframe tbody tr th:only-of-type {\n",
       "        vertical-align: middle;\n",
       "    }\n",
       "\n",
       "    .dataframe tbody tr th {\n",
       "        vertical-align: top;\n",
       "    }\n",
       "\n",
       "    .dataframe thead th {\n",
       "        text-align: right;\n",
       "    }\n",
       "</style>\n",
       "<table border=\"1\" class=\"dataframe\">\n",
       "  <thead>\n",
       "    <tr style=\"text-align: right;\">\n",
       "      <th></th>\n",
       "      <th>user_id</th>\n",
       "      <th>track_id</th>\n",
       "      <th>track_seq</th>\n",
       "      <th>started_at</th>\n",
       "    </tr>\n",
       "  </thead>\n",
       "  <tbody>\n",
       "    <tr>\n",
       "      <th>130</th>\n",
       "      <td>844258</td>\n",
       "      <td>3581309</td>\n",
       "      <td>131</td>\n",
       "      <td>2022-06-05</td>\n",
       "    </tr>\n",
       "    <tr>\n",
       "      <th>433</th>\n",
       "      <td>1091434</td>\n",
       "      <td>14937363</td>\n",
       "      <td>434</td>\n",
       "      <td>2022-06-29</td>\n",
       "    </tr>\n",
       "    <tr>\n",
       "      <th>526</th>\n",
       "      <td>73981</td>\n",
       "      <td>48591660</td>\n",
       "      <td>527</td>\n",
       "      <td>2022-09-26</td>\n",
       "    </tr>\n",
       "    <tr>\n",
       "      <th>9</th>\n",
       "      <td>78605</td>\n",
       "      <td>732405</td>\n",
       "      <td>10</td>\n",
       "      <td>2022-09-14</td>\n",
       "    </tr>\n",
       "    <tr>\n",
       "      <th>1202</th>\n",
       "      <td>1273064</td>\n",
       "      <td>40339506</td>\n",
       "      <td>1203</td>\n",
       "      <td>2022-08-24</td>\n",
       "    </tr>\n",
       "  </tbody>\n",
       "</table>\n",
       "</div>"
      ]
     },
     "execution_count": 7,
     "metadata": {},
     "output_type": "execute_result"
    }
   ],
   "execution_count": 7
  },
  {
   "metadata": {
    "ExecuteTime": {
     "end_time": "2024-11-07T01:28:21.379716Z",
     "start_time": "2024-11-07T01:28:21.375586Z"
    }
   },
   "cell_type": "code",
   "source": "tracks.head()",
   "id": "c642bb4aab11d2d7",
   "outputs": [
    {
     "data": {
      "text/plain": [
       "    track_id                                             albums artists  \\\n",
       "12       147                                        [13, 99422]    [90]   \n",
       "41       549  [48, 9967, 88412, 169026, 170703, 9019675, 959...   [451]   \n",
       "45       553  [48, 463, 473, 9967, 10655, 37052, 88412, 8841...   [451]   \n",
       "50       558  [48, 9967, 88412, 169026, 169155, 9035988, 921...   [451]   \n",
       "54       562  [48, 9967, 11309, 11317, 67947, 72275, 88412, ...   [451]   \n",
       "\n",
       "          genres  \n",
       "12     [59, 102]  \n",
       "41      [11, 68]  \n",
       "45  [11, 68, 74]  \n",
       "50      [11, 68]  \n",
       "54      [11, 68]  "
      ],
      "text/html": [
       "<div>\n",
       "<style scoped>\n",
       "    .dataframe tbody tr th:only-of-type {\n",
       "        vertical-align: middle;\n",
       "    }\n",
       "\n",
       "    .dataframe tbody tr th {\n",
       "        vertical-align: top;\n",
       "    }\n",
       "\n",
       "    .dataframe thead th {\n",
       "        text-align: right;\n",
       "    }\n",
       "</style>\n",
       "<table border=\"1\" class=\"dataframe\">\n",
       "  <thead>\n",
       "    <tr style=\"text-align: right;\">\n",
       "      <th></th>\n",
       "      <th>track_id</th>\n",
       "      <th>albums</th>\n",
       "      <th>artists</th>\n",
       "      <th>genres</th>\n",
       "    </tr>\n",
       "  </thead>\n",
       "  <tbody>\n",
       "    <tr>\n",
       "      <th>12</th>\n",
       "      <td>147</td>\n",
       "      <td>[13, 99422]</td>\n",
       "      <td>[90]</td>\n",
       "      <td>[59, 102]</td>\n",
       "    </tr>\n",
       "    <tr>\n",
       "      <th>41</th>\n",
       "      <td>549</td>\n",
       "      <td>[48, 9967, 88412, 169026, 170703, 9019675, 959...</td>\n",
       "      <td>[451]</td>\n",
       "      <td>[11, 68]</td>\n",
       "    </tr>\n",
       "    <tr>\n",
       "      <th>45</th>\n",
       "      <td>553</td>\n",
       "      <td>[48, 463, 473, 9967, 10655, 37052, 88412, 8841...</td>\n",
       "      <td>[451]</td>\n",
       "      <td>[11, 68, 74]</td>\n",
       "    </tr>\n",
       "    <tr>\n",
       "      <th>50</th>\n",
       "      <td>558</td>\n",
       "      <td>[48, 9967, 88412, 169026, 169155, 9035988, 921...</td>\n",
       "      <td>[451]</td>\n",
       "      <td>[11, 68]</td>\n",
       "    </tr>\n",
       "    <tr>\n",
       "      <th>54</th>\n",
       "      <td>562</td>\n",
       "      <td>[48, 9967, 11309, 11317, 67947, 72275, 88412, ...</td>\n",
       "      <td>[451]</td>\n",
       "      <td>[11, 68]</td>\n",
       "    </tr>\n",
       "  </tbody>\n",
       "</table>\n",
       "</div>"
      ]
     },
     "execution_count": 8,
     "metadata": {},
     "output_type": "execute_result"
    }
   ],
   "execution_count": 8
  },
  {
   "cell_type": "markdown",
   "id": "e8f2a1f7-a05f-4f39-af90-5f4018aa6f9d",
   "metadata": {},
   "source": "### 1.2 Обзор данных"
  },
  {
   "cell_type": "markdown",
   "id": "46a85307-896c-4fac-9fcf-f0dffa90889e",
   "metadata": {},
   "source": [
    "Проверяем данные, есть ли с ними явные проблемы."
   ]
  },
  {
   "cell_type": "code",
   "id": "c9f8f17e-9b56-4f5a-a463-f694a993effb",
   "metadata": {
    "ExecuteTime": {
     "end_time": "2024-11-07T01:28:21.381515Z",
     "start_time": "2024-11-07T01:28:21.380240Z"
    }
   },
   "source": [
    "# Проверка типов данных\n",
    "print(\"Tracks Data Types:\")\n",
    "# print(tracks.dtypes)"
   ],
   "outputs": [
    {
     "name": "stdout",
     "output_type": "stream",
     "text": [
      "Tracks Data Types:\n"
     ]
    }
   ],
   "execution_count": 9
  },
  {
   "metadata": {
    "ExecuteTime": {
     "end_time": "2024-11-07T01:28:21.383295Z",
     "start_time": "2024-11-07T01:28:21.381981Z"
    }
   },
   "cell_type": "code",
   "source": [
    "print(\"\\nCatalog Names Data Types:\")\n",
    "# print(catalog_names.dtypes)"
   ],
   "id": "a32a48ce9e2fcce9",
   "outputs": [
    {
     "name": "stdout",
     "output_type": "stream",
     "text": [
      "\n",
      "Catalog Names Data Types:\n"
     ]
    }
   ],
   "execution_count": 10
  },
  {
   "metadata": {
    "ExecuteTime": {
     "end_time": "2024-11-07T01:28:21.385068Z",
     "start_time": "2024-11-07T01:28:21.383791Z"
    }
   },
   "cell_type": "code",
   "source": [
    "print(\"\\nInteractions Data Types:\")\n",
    "# print(interactions.dtypes)"
   ],
   "id": "6c123f2fce180498",
   "outputs": [
    {
     "name": "stdout",
     "output_type": "stream",
     "text": [
      "\n",
      "Interactions Data Types:\n"
     ]
    }
   ],
   "execution_count": 11
  },
  {
   "metadata": {
    "ExecuteTime": {
     "end_time": "2024-11-07T01:28:21.547072Z",
     "start_time": "2024-11-07T01:28:21.386727Z"
    }
   },
   "cell_type": "code",
   "source": [
    "# Проверка наличия треков с неизвестными исполнителями, альбомами, жанрами\n",
    "# Разделим catalog_names по типам для удобства\n",
    "artists = catalog_names[catalog_names['type'] == 'artist']\n",
    "albums = catalog_names[catalog_names['type'] == 'album']\n",
    "genres = catalog_names[catalog_names['type'] == 'genre']"
   ],
   "id": "e8a4a916d8a62f57",
   "outputs": [],
   "execution_count": 12
  },
  {
   "metadata": {
    "ExecuteTime": {
     "end_time": "2024-11-07T01:28:21.550967Z",
     "start_time": "2024-11-07T01:28:21.547623Z"
    }
   },
   "cell_type": "code",
   "source": "artists.head()",
   "id": "a7b079114630d5d6",
   "outputs": [
    {
     "data": {
      "text/plain": [
       "        id    type           name\n",
       "658724   4  artist   Kenny Dorham\n",
       "658725   5  artist      Max Roach\n",
       "658726   7  artist  Francis Rossi\n",
       "658727   9  artist     Status Quo\n",
       "658728  12  artist    Phil Everly"
      ],
      "text/html": [
       "<div>\n",
       "<style scoped>\n",
       "    .dataframe tbody tr th:only-of-type {\n",
       "        vertical-align: middle;\n",
       "    }\n",
       "\n",
       "    .dataframe tbody tr th {\n",
       "        vertical-align: top;\n",
       "    }\n",
       "\n",
       "    .dataframe thead th {\n",
       "        text-align: right;\n",
       "    }\n",
       "</style>\n",
       "<table border=\"1\" class=\"dataframe\">\n",
       "  <thead>\n",
       "    <tr style=\"text-align: right;\">\n",
       "      <th></th>\n",
       "      <th>id</th>\n",
       "      <th>type</th>\n",
       "      <th>name</th>\n",
       "    </tr>\n",
       "  </thead>\n",
       "  <tbody>\n",
       "    <tr>\n",
       "      <th>658724</th>\n",
       "      <td>4</td>\n",
       "      <td>artist</td>\n",
       "      <td>Kenny Dorham</td>\n",
       "    </tr>\n",
       "    <tr>\n",
       "      <th>658725</th>\n",
       "      <td>5</td>\n",
       "      <td>artist</td>\n",
       "      <td>Max Roach</td>\n",
       "    </tr>\n",
       "    <tr>\n",
       "      <th>658726</th>\n",
       "      <td>7</td>\n",
       "      <td>artist</td>\n",
       "      <td>Francis Rossi</td>\n",
       "    </tr>\n",
       "    <tr>\n",
       "      <th>658727</th>\n",
       "      <td>9</td>\n",
       "      <td>artist</td>\n",
       "      <td>Status Quo</td>\n",
       "    </tr>\n",
       "    <tr>\n",
       "      <th>658728</th>\n",
       "      <td>12</td>\n",
       "      <td>artist</td>\n",
       "      <td>Phil Everly</td>\n",
       "    </tr>\n",
       "  </tbody>\n",
       "</table>\n",
       "</div>"
      ]
     },
     "execution_count": 13,
     "metadata": {},
     "output_type": "execute_result"
    }
   ],
   "execution_count": 13
  },
  {
   "metadata": {
    "ExecuteTime": {
     "end_time": "2024-11-07T01:28:21.554458Z",
     "start_time": "2024-11-07T01:28:21.551623Z"
    }
   },
   "cell_type": "code",
   "source": "albums.head()",
   "id": "9dfe2640743d2c12",
   "outputs": [
    {
     "data": {
      "text/plain": [
       "   id   type               name\n",
       "0   3  album    Taller Children\n",
       "1  12  album  Wild Young Hearts\n",
       "2  13  album      Lonesome Crow\n",
       "3  17  album      Graffiti Soul\n",
       "4  26  album     Blues Six Pack"
      ],
      "text/html": [
       "<div>\n",
       "<style scoped>\n",
       "    .dataframe tbody tr th:only-of-type {\n",
       "        vertical-align: middle;\n",
       "    }\n",
       "\n",
       "    .dataframe tbody tr th {\n",
       "        vertical-align: top;\n",
       "    }\n",
       "\n",
       "    .dataframe thead th {\n",
       "        text-align: right;\n",
       "    }\n",
       "</style>\n",
       "<table border=\"1\" class=\"dataframe\">\n",
       "  <thead>\n",
       "    <tr style=\"text-align: right;\">\n",
       "      <th></th>\n",
       "      <th>id</th>\n",
       "      <th>type</th>\n",
       "      <th>name</th>\n",
       "    </tr>\n",
       "  </thead>\n",
       "  <tbody>\n",
       "    <tr>\n",
       "      <th>0</th>\n",
       "      <td>3</td>\n",
       "      <td>album</td>\n",
       "      <td>Taller Children</td>\n",
       "    </tr>\n",
       "    <tr>\n",
       "      <th>1</th>\n",
       "      <td>12</td>\n",
       "      <td>album</td>\n",
       "      <td>Wild Young Hearts</td>\n",
       "    </tr>\n",
       "    <tr>\n",
       "      <th>2</th>\n",
       "      <td>13</td>\n",
       "      <td>album</td>\n",
       "      <td>Lonesome Crow</td>\n",
       "    </tr>\n",
       "    <tr>\n",
       "      <th>3</th>\n",
       "      <td>17</td>\n",
       "      <td>album</td>\n",
       "      <td>Graffiti Soul</td>\n",
       "    </tr>\n",
       "    <tr>\n",
       "      <th>4</th>\n",
       "      <td>26</td>\n",
       "      <td>album</td>\n",
       "      <td>Blues Six Pack</td>\n",
       "    </tr>\n",
       "  </tbody>\n",
       "</table>\n",
       "</div>"
      ]
     },
     "execution_count": 14,
     "metadata": {},
     "output_type": "execute_result"
    }
   ],
   "execution_count": 14
  },
  {
   "metadata": {
    "ExecuteTime": {
     "end_time": "2024-11-07T01:28:21.557451Z",
     "start_time": "2024-11-07T01:28:21.554956Z"
    }
   },
   "cell_type": "code",
   "source": "genres.head()",
   "id": "4768441da0b209fd",
   "outputs": [
    {
     "data": {
      "text/plain": [
       "        id   type      name\n",
       "812305   0  genre       all\n",
       "812306   1  genre   eastern\n",
       "812307   2  genre   rusrock\n",
       "812308   3  genre    rusrap\n",
       "812309   4  genre  postrock"
      ],
      "text/html": [
       "<div>\n",
       "<style scoped>\n",
       "    .dataframe tbody tr th:only-of-type {\n",
       "        vertical-align: middle;\n",
       "    }\n",
       "\n",
       "    .dataframe tbody tr th {\n",
       "        vertical-align: top;\n",
       "    }\n",
       "\n",
       "    .dataframe thead th {\n",
       "        text-align: right;\n",
       "    }\n",
       "</style>\n",
       "<table border=\"1\" class=\"dataframe\">\n",
       "  <thead>\n",
       "    <tr style=\"text-align: right;\">\n",
       "      <th></th>\n",
       "      <th>id</th>\n",
       "      <th>type</th>\n",
       "      <th>name</th>\n",
       "    </tr>\n",
       "  </thead>\n",
       "  <tbody>\n",
       "    <tr>\n",
       "      <th>812305</th>\n",
       "      <td>0</td>\n",
       "      <td>genre</td>\n",
       "      <td>all</td>\n",
       "    </tr>\n",
       "    <tr>\n",
       "      <th>812306</th>\n",
       "      <td>1</td>\n",
       "      <td>genre</td>\n",
       "      <td>eastern</td>\n",
       "    </tr>\n",
       "    <tr>\n",
       "      <th>812307</th>\n",
       "      <td>2</td>\n",
       "      <td>genre</td>\n",
       "      <td>rusrock</td>\n",
       "    </tr>\n",
       "    <tr>\n",
       "      <th>812308</th>\n",
       "      <td>3</td>\n",
       "      <td>genre</td>\n",
       "      <td>rusrap</td>\n",
       "    </tr>\n",
       "    <tr>\n",
       "      <th>812309</th>\n",
       "      <td>4</td>\n",
       "      <td>genre</td>\n",
       "      <td>postrock</td>\n",
       "    </tr>\n",
       "  </tbody>\n",
       "</table>\n",
       "</div>"
      ]
     },
     "execution_count": 15,
     "metadata": {},
     "output_type": "execute_result"
    }
   ],
   "execution_count": 15
  },
  {
   "metadata": {
    "ExecuteTime": {
     "end_time": "2024-11-07T01:28:22.800041Z",
     "start_time": "2024-11-07T01:28:21.557950Z"
    }
   },
   "cell_type": "code",
   "source": [
    "# Проверим, есть ли неизвестные исполнители, альбомы, жанры\n",
    "artistIds = artists['id'].values\n",
    "unknown_artists = (tracks['artists']\n",
    "                   .apply(lambda x: [artist for artist in x if artist not in artistIds])\n",
    "                   .explode()\n",
    "                   .unique())"
   ],
   "id": "fa630eb8f8dd8168",
   "outputs": [],
   "execution_count": 16
  },
  {
   "metadata": {
    "ExecuteTime": {
     "end_time": "2024-11-07T01:28:37.826118Z",
     "start_time": "2024-11-07T01:28:22.800716Z"
    }
   },
   "cell_type": "code",
   "source": [
    "albumIds = albums['id'].values;\n",
    "unknown_albums = (tracks['albums']\n",
    "                  .apply(lambda x: [album for album in x if album not in albumIds])\n",
    "                  .explode()\n",
    "                  .unique())"
   ],
   "id": "7dfb73881072bf29",
   "outputs": [],
   "execution_count": 17
  },
  {
   "metadata": {
    "ExecuteTime": {
     "end_time": "2024-11-07T01:28:37.984196Z",
     "start_time": "2024-11-07T01:28:37.826822Z"
    }
   },
   "cell_type": "code",
   "source": [
    "genreIds = genres['id'].values\n",
    "unknown_genres = (tracks['genres']\n",
    "                  .apply(lambda x: [genre for genre in x if genre not in genreIds])\n",
    "                  .explode()\n",
    "                  .unique())"
   ],
   "id": "3b9c090aa0623e01",
   "outputs": [],
   "execution_count": 18
  },
  {
   "metadata": {
    "ExecuteTime": {
     "end_time": "2024-11-07T01:28:37.986541Z",
     "start_time": "2024-11-07T01:28:37.984846Z"
    }
   },
   "cell_type": "code",
   "source": [
    "# Выводим количество неизвестных артистов, альбомов, жанров\n",
    "print(\"Количество треков с неизвестными исполнителями:\", len(unknown_artists))\n",
    "print(\"Количество треков с неизвестными альбомами:\", len(unknown_albums))\n",
    "print(\"Количество треков с неизвестными жанрами:\", len(unknown_genres))"
   ],
   "id": "7d9c14e5de39e4ce",
   "outputs": [
    {
     "name": "stdout",
     "output_type": "stream",
     "text": [
      "Количество треков с неизвестными исполнителями: 1\n",
      "Количество треков с неизвестными альбомами: 1\n",
      "Количество треков с неизвестными жанрами: 24\n"
     ]
    }
   ],
   "execution_count": 19
  },
  {
   "metadata": {
    "ExecuteTime": {
     "end_time": "2024-11-07T01:28:37.988497Z",
     "start_time": "2024-11-07T01:28:37.987111Z"
    }
   },
   "cell_type": "code",
   "source": "print(unknown_artists)",
   "id": "15ec59eedd9d771c",
   "outputs": [
    {
     "name": "stdout",
     "output_type": "stream",
     "text": [
      "[nan]\n"
     ]
    }
   ],
   "execution_count": 20
  },
  {
   "metadata": {
    "ExecuteTime": {
     "end_time": "2024-11-07T01:28:37.990310Z",
     "start_time": "2024-11-07T01:28:37.989003Z"
    }
   },
   "cell_type": "code",
   "source": "print(unknown_albums)",
   "id": "6ff753766da29ee5",
   "outputs": [
    {
     "name": "stdout",
     "output_type": "stream",
     "text": [
      "[nan]\n"
     ]
    }
   ],
   "execution_count": 21
  },
  {
   "metadata": {
    "ExecuteTime": {
     "end_time": "2024-11-07T01:28:37.992195Z",
     "start_time": "2024-11-07T01:28:37.990814Z"
    }
   },
   "cell_type": "code",
   "source": "print(unknown_genres)",
   "id": "226c684b1d9ffb8e",
   "outputs": [
    {
     "name": "stdout",
     "output_type": "stream",
     "text": [
      "[nan 163 157 169 164 161 162 155 158 165 154 151 156 159 167 153 160 168\n",
      " 152 126 130 146 134 131]\n"
     ]
    }
   ],
   "execution_count": 22
  },
  {
   "cell_type": "markdown",
   "id": "318b573a-9e2d-4808-95db-60cfb8bbdb73",
   "metadata": {
    "editable": true,
    "slideshow": {
     "slide_type": ""
    },
    "tags": []
   },
   "source": "### 1.3 Выводы"
  },
  {
   "cell_type": "markdown",
   "id": "caa96e12-36a8-4401-8f11-98627a49ae9d",
   "metadata": {},
   "source": [
    "Приведём выводы по первому знакомству с данными:\n",
    "- есть ли с данными явные проблемы,\n",
    "- какие корректирующие действия (в целом) были предприняты."
   ]
  },
  {
   "metadata": {},
   "cell_type": "markdown",
   "source": "Есть 30 неизвестных жанров.",
   "id": "c5381a4fe2f71641"
  },
  {
   "metadata": {
    "ExecuteTime": {
     "end_time": "2024-11-07T01:28:37.995335Z",
     "start_time": "2024-11-07T01:28:37.992697Z"
    }
   },
   "cell_type": "code",
   "source": "genres[genres['id'] == 0]",
   "id": "883f8962dd6d738e",
   "outputs": [
    {
     "data": {
      "text/plain": [
       "        id   type name\n",
       "812305   0  genre  all"
      ],
      "text/html": [
       "<div>\n",
       "<style scoped>\n",
       "    .dataframe tbody tr th:only-of-type {\n",
       "        vertical-align: middle;\n",
       "    }\n",
       "\n",
       "    .dataframe tbody tr th {\n",
       "        vertical-align: top;\n",
       "    }\n",
       "\n",
       "    .dataframe thead th {\n",
       "        text-align: right;\n",
       "    }\n",
       "</style>\n",
       "<table border=\"1\" class=\"dataframe\">\n",
       "  <thead>\n",
       "    <tr style=\"text-align: right;\">\n",
       "      <th></th>\n",
       "      <th>id</th>\n",
       "      <th>type</th>\n",
       "      <th>name</th>\n",
       "    </tr>\n",
       "  </thead>\n",
       "  <tbody>\n",
       "    <tr>\n",
       "      <th>812305</th>\n",
       "      <td>0</td>\n",
       "      <td>genre</td>\n",
       "      <td>all</td>\n",
       "    </tr>\n",
       "  </tbody>\n",
       "</table>\n",
       "</div>"
      ]
     },
     "execution_count": 23,
     "metadata": {},
     "output_type": "execute_result"
    }
   ],
   "execution_count": 23
  },
  {
   "metadata": {
    "ExecuteTime": {
     "end_time": "2024-11-07T01:28:37.996972Z",
     "start_time": "2024-11-07T01:28:37.995827Z"
    }
   },
   "cell_type": "code",
   "source": "unknown_genres_set = set(unknown_genres)",
   "id": "50d1a71de5a9019c",
   "outputs": [],
   "execution_count": 24
  },
  {
   "metadata": {
    "ExecuteTime": {
     "end_time": "2024-11-07T01:28:37.999965Z",
     "start_time": "2024-11-07T01:28:37.997466Z"
    }
   },
   "cell_type": "code",
   "source": "upd_tracks = tracks.copy()",
   "id": "b2110616cded1892",
   "outputs": [],
   "execution_count": 25
  },
  {
   "metadata": {
    "ExecuteTime": {
     "end_time": "2024-11-07T01:28:38.062720Z",
     "start_time": "2024-11-07T01:28:38.000479Z"
    }
   },
   "cell_type": "code",
   "source": "upd_tracks['genres'] = upd_tracks['genres'].apply(lambda genres_list: [0 if genre in unknown_genres_set else genre for genre in genres_list])",
   "id": "e3a997743f359e5a",
   "outputs": [],
   "execution_count": 26
  },
  {
   "metadata": {
    "ExecuteTime": {
     "end_time": "2024-11-07T01:28:38.226136Z",
     "start_time": "2024-11-07T01:28:38.063291Z"
    }
   },
   "cell_type": "code",
   "source": [
    "upd_unknown_genres = (upd_tracks['genres']\n",
    "                  .apply(lambda x: [genre for genre in x if genre not in genreIds])\n",
    "                  .explode()\n",
    "                  .unique())"
   ],
   "id": "1467ff4cde6784ad",
   "outputs": [],
   "execution_count": 27
  },
  {
   "metadata": {
    "ExecuteTime": {
     "end_time": "2024-11-07T01:28:38.228246Z",
     "start_time": "2024-11-07T01:28:38.226683Z"
    }
   },
   "cell_type": "code",
   "source": "print(upd_unknown_genres)",
   "id": "be8089e7fde8c712",
   "outputs": [
    {
     "name": "stdout",
     "output_type": "stream",
     "text": [
      "[nan]\n"
     ]
    }
   ],
   "execution_count": 28
  },
  {
   "cell_type": "markdown",
   "id": "7bc3296b-eba6-4333-a78d-b9304aa87e3d",
   "metadata": {},
   "source": "## === ЭТАП 2 ==="
  },
  {
   "cell_type": "markdown",
   "id": "68e73960-fd38-4e15-8db0-9a25c35dfd25",
   "metadata": {},
   "source": "### 2.1 EDA"
  },
  {
   "cell_type": "markdown",
   "id": "a30e823e-8e0f-4a76-a02e-8d1ba8bf0f8a",
   "metadata": {},
   "source": "#### 2.1.1 Распределение количества прослушанных треков."
  },
  {
   "cell_type": "code",
   "id": "9bf5eaba-35f7-4da7-be59-9ab4a34b2423",
   "metadata": {
    "ExecuteTime": {
     "end_time": "2024-11-07T01:28:38.234819Z",
     "start_time": "2024-11-07T01:28:38.229059Z"
    }
   },
   "source": "user_track_counts = interactions['user_id'].value_counts()",
   "outputs": [],
   "execution_count": 29
  },
  {
   "metadata": {
    "ExecuteTime": {
     "end_time": "2024-11-07T01:28:38.243064Z",
     "start_time": "2024-11-07T01:28:38.238633Z"
    }
   },
   "cell_type": "code",
   "source": "user_track_counts.describe()",
   "id": "b67d4ef654ef25cd",
   "outputs": [
    {
     "data": {
      "text/plain": [
       "count    93162.000000\n",
       "mean         1.194854\n",
       "std          0.566636\n",
       "min          1.000000\n",
       "25%          1.000000\n",
       "50%          1.000000\n",
       "75%          1.000000\n",
       "max         11.000000\n",
       "Name: count, dtype: float64"
      ]
     },
     "execution_count": 30,
     "metadata": {},
     "output_type": "execute_result"
    }
   ],
   "execution_count": 30
  },
  {
   "metadata": {
    "ExecuteTime": {
     "end_time": "2024-11-07T01:28:38.245417Z",
     "start_time": "2024-11-07T01:28:38.243534Z"
    }
   },
   "cell_type": "code",
   "source": "user_track_counts.max()",
   "id": "388bced6994bd592",
   "outputs": [
    {
     "data": {
      "text/plain": [
       "11"
      ]
     },
     "execution_count": 31,
     "metadata": {},
     "output_type": "execute_result"
    }
   ],
   "execution_count": 31
  },
  {
   "metadata": {
    "ExecuteTime": {
     "end_time": "2024-11-07T01:28:38.331314Z",
     "start_time": "2024-11-07T01:28:38.245903Z"
    }
   },
   "cell_type": "code",
   "source": [
    "plt.figure(figsize=(10, 6))\n",
    "plt.hist(user_track_counts, bins=30, edgecolor='black')\n",
    "plt.title(\"Распределение количества прослушанных треков на пользователя\")\n",
    "plt.xlabel(\"Количество прослушанных треков\")\n",
    "plt.ylabel(\"Частота\")\n",
    "plt.show()"
   ],
   "id": "1149e3fc334fea6f",
   "outputs": [
    {
     "data": {
      "text/plain": [
       "<Figure size 1000x600 with 1 Axes>"
      ],
      "image/png": "[encoded data removed]"
     },
     "metadata": {},
     "output_type": "display_data"
    }
   ],
   "execution_count": 32
  },
  {
   "cell_type": "markdown",
   "id": "d765519a-18dd-4d30-9e29-cc2d84cacd79",
   "metadata": {},
   "source": "#### 2.1.2 Наиболее популярные треки"
  },
  {
   "cell_type": "code",
   "id": "aecaf630-fde0-4860-b84a-42c933a9606e",
   "metadata": {
    "ExecuteTime": {
     "end_time": "2024-11-07T01:28:38.450283Z",
     "start_time": "2024-11-07T01:28:38.331946Z"
    }
   },
   "source": [
    "popular_tracks = interactions['track_id'].value_counts().head(10)\n",
    "popular_track_names = pd.merge(popular_tracks.rename('count').reset_index(), \n",
    "                               catalog_names[catalog_names['type'] == 'track'][['id', 'name']], \n",
    "                               left_on='track_id', right_on='id', \n",
    "                               how='left').drop(columns=['id'])\n",
    "popular_track_names.rename(columns={'index': 'track_id', 'name': 'track_name'}, inplace=True)"
   ],
   "outputs": [],
   "execution_count": 33
  },
  {
   "metadata": {
    "ExecuteTime": {
     "end_time": "2024-11-07T01:28:38.453697Z",
     "start_time": "2024-11-07T01:28:38.450904Z"
    }
   },
   "cell_type": "code",
   "source": [
    "print(\"Наиболее популярные треки:\")\n",
    "print(popular_track_names)"
   ],
   "id": "d0c3d01dda56538f",
   "outputs": [
    {
     "name": "stdout",
     "output_type": "stream",
     "text": [
      "Наиболее популярные треки:\n",
      "   track_id  count               track_name\n",
      "0  33311009     55                 Believer\n",
      "1  51241318     51               In The End\n",
      "2  35505245     49               I Got Love\n",
      "3    178529     47                     Numb\n",
      "4    148345     45          Californication\n",
      "5     37384     45                   Zombie\n",
      "6  54798445     44                   Прятки\n",
      "7  18385776     44                   Freaks\n",
      "8     53404     44  Smells Like Teen Spirit\n",
      "9  24692821     43           Way Down We Go\n"
     ]
    }
   ],
   "execution_count": 34
  },
  {
   "cell_type": "markdown",
   "id": "b1c32a5a-d3be-4f96-8dd9-f7860951020c",
   "metadata": {},
   "source": "#### 2.1.3 Наиболее популярные жанры"
  },
  {
   "cell_type": "code",
   "id": "1bc50491-9235-4d3c-a6c2-297f7c05a959",
   "metadata": {
    "ExecuteTime": {
     "end_time": "2024-11-07T01:28:38.484996Z",
     "start_time": "2024-11-07T01:28:38.454631Z"
    }
   },
   "source": [
    "# Разворачиваем список жанров в interactions и upd_tracks для анализа\n",
    "track_genres = upd_tracks[['track_id', 'genres']].explode('genres')\n",
    "merged_interactions = interactions.merge(track_genres, on='track_id', how='left')\n",
    "genre_counts = merged_interactions['genres'].value_counts().head(10)"
   ],
   "outputs": [],
   "execution_count": 35
  },
  {
   "metadata": {
    "ExecuteTime": {
     "end_time": "2024-11-07T01:28:38.488384Z",
     "start_time": "2024-11-07T01:28:38.485659Z"
    }
   },
   "cell_type": "code",
   "source": "genre_counts.head(20)",
   "id": "7ef579f8244509cb",
   "outputs": [
    {
     "data": {
      "text/plain": [
       "genres\n",
       "11     27574\n",
       "75     18973\n",
       "102    15591\n",
       "20     13242\n",
       "3      12737\n",
       "68     10055\n",
       "16      8207\n",
       "2       6525\n",
       "14      6462\n",
       "47      6303\n",
       "Name: count, dtype: int64"
      ]
     },
     "execution_count": 36,
     "metadata": {},
     "output_type": "execute_result"
    }
   ],
   "execution_count": 36
  },
  {
   "metadata": {
    "ExecuteTime": {
     "end_time": "2024-11-07T01:28:38.541497Z",
     "start_time": "2024-11-07T01:28:38.489015Z"
    }
   },
   "cell_type": "code",
   "source": [
    "# Подключаем названия жанров\n",
    "popular_genres = pd.merge(genre_counts.rename('count').reset_index(), \n",
    "                          catalog_names[catalog_names['type'] == 'genre'][['id', 'name']], \n",
    "                          left_on='genres', right_on='id', \n",
    "                          how='left').drop(columns=['id'])\n",
    "popular_genres.rename(columns={'genres': 'genre_id', 'name': 'genre_name'}, inplace=True)"
   ],
   "id": "e8c53c6f1b460113",
   "outputs": [],
   "execution_count": 37
  },
  {
   "metadata": {
    "ExecuteTime": {
     "end_time": "2024-11-07T01:28:38.543853Z",
     "start_time": "2024-11-07T01:28:38.541975Z"
    }
   },
   "cell_type": "code",
   "source": [
    "print(\"\\nНаиболее популярные жанры:\")\n",
    "print(popular_genres)"
   ],
   "id": "9a268cfebdec908",
   "outputs": [
    {
     "name": "stdout",
     "output_type": "stream",
     "text": [
      "\n",
      "Наиболее популярные жанры:\n",
      "   genre_id  count   genre_name\n",
      "0        11  27574          pop\n",
      "1        75  18973          rap\n",
      "2       102  15591      allrock\n",
      "3        20  13242       ruspop\n",
      "4         3  12737       rusrap\n",
      "5        68  10055  electronics\n",
      "6        16   8207        dance\n",
      "7         2   6525      rusrock\n",
      "8        14   6462         rock\n",
      "9        47   6303        metal\n"
     ]
    }
   ],
   "execution_count": 38
  },
  {
   "cell_type": "markdown",
   "id": "15254e66-e80e-473b-ba24-abebea5ccac7",
   "metadata": {},
   "source": "#### 2.1.3 Треки, которые никто не прослушал"
  },
  {
   "cell_type": "code",
   "id": "50bc50c6-2d83-4c7e-97fa-3e7627978438",
   "metadata": {
    "ExecuteTime": {
     "end_time": "2024-11-07T01:28:38.551958Z",
     "start_time": "2024-11-07T01:28:38.544366Z"
    }
   },
   "source": [
    "all_tracks = set(upd_tracks['track_id'].unique())\n",
    "listened_tracks = set(interactions['track_id'].unique())"
   ],
   "outputs": [],
   "execution_count": 39
  },
  {
   "metadata": {
    "ExecuteTime": {
     "end_time": "2024-11-07T01:28:38.559854Z",
     "start_time": "2024-11-07T01:28:38.552514Z"
    }
   },
   "cell_type": "code",
   "source": "unlistened_tracks = all_tracks - listened_tracks",
   "id": "342202633c8434fe",
   "outputs": [],
   "execution_count": 40
  },
  {
   "metadata": {
    "ExecuteTime": {
     "end_time": "2024-11-07T01:28:38.610050Z",
     "start_time": "2024-11-07T01:28:38.560442Z"
    }
   },
   "cell_type": "code",
   "source": [
    "# Получаем названия треков, которые никто не слушал\n",
    "unlistened_tracks_df = catalog_names[(catalog_names['type'] == 'track') & (catalog_names['id'].isin(unlistened_tracks))]\n",
    "print(\"\\nТреки, которые никто не прослушал:\")\n",
    "print(unlistened_tracks_df[['id', 'name']])"
   ],
   "id": "dae19247e936d1a3",
   "outputs": [
    {
     "name": "stdout",
     "output_type": "stream",
     "text": [
      "\n",
      "Треки, которые никто не прослушал:\n",
      "Empty DataFrame\n",
      "Columns: [id, name]\n",
      "Index: []\n"
     ]
    }
   ],
   "execution_count": 41
  },
  {
   "cell_type": "markdown",
   "id": "0d850a07-ef1e-462f-891a-1cf89f2e24ef",
   "metadata": {},
   "source": "### 2.2 Преобразование данных"
  },
  {
   "cell_type": "markdown",
   "id": "fabcf8d2-1192-4df5-b20b-fbb84689f57a",
   "metadata": {},
   "source": [
    "Преобразуем данные в формат, более пригодный для дальнейшего использования в расчётах рекомендаций."
   ]
  },
  {
   "metadata": {
    "ExecuteTime": {
     "end_time": "2024-11-07T01:28:38.616540Z",
     "start_time": "2024-11-07T01:28:38.610582Z"
    }
   },
   "cell_type": "code",
   "source": "upd_tracks.head()",
   "id": "dacf9f2cd8adb528",
   "outputs": [
    {
     "data": {
      "text/plain": [
       "    track_id                                             albums artists  \\\n",
       "12       147                                        [13, 99422]    [90]   \n",
       "41       549  [48, 9967, 88412, 169026, 170703, 9019675, 959...   [451]   \n",
       "45       553  [48, 463, 473, 9967, 10655, 37052, 88412, 8841...   [451]   \n",
       "50       558  [48, 9967, 88412, 169026, 169155, 9035988, 921...   [451]   \n",
       "54       562  [48, 9967, 11309, 11317, 67947, 72275, 88412, ...   [451]   \n",
       "\n",
       "          genres  \n",
       "12     [59, 102]  \n",
       "41      [11, 68]  \n",
       "45  [11, 68, 74]  \n",
       "50      [11, 68]  \n",
       "54      [11, 68]  "
      ],
      "text/html": [
       "<div>\n",
       "<style scoped>\n",
       "    .dataframe tbody tr th:only-of-type {\n",
       "        vertical-align: middle;\n",
       "    }\n",
       "\n",
       "    .dataframe tbody tr th {\n",
       "        vertical-align: top;\n",
       "    }\n",
       "\n",
       "    .dataframe thead th {\n",
       "        text-align: right;\n",
       "    }\n",
       "</style>\n",
       "<table border=\"1\" class=\"dataframe\">\n",
       "  <thead>\n",
       "    <tr style=\"text-align: right;\">\n",
       "      <th></th>\n",
       "      <th>track_id</th>\n",
       "      <th>albums</th>\n",
       "      <th>artists</th>\n",
       "      <th>genres</th>\n",
       "    </tr>\n",
       "  </thead>\n",
       "  <tbody>\n",
       "    <tr>\n",
       "      <th>12</th>\n",
       "      <td>147</td>\n",
       "      <td>[13, 99422]</td>\n",
       "      <td>[90]</td>\n",
       "      <td>[59, 102]</td>\n",
       "    </tr>\n",
       "    <tr>\n",
       "      <th>41</th>\n",
       "      <td>549</td>\n",
       "      <td>[48, 9967, 88412, 169026, 170703, 9019675, 959...</td>\n",
       "      <td>[451]</td>\n",
       "      <td>[11, 68]</td>\n",
       "    </tr>\n",
       "    <tr>\n",
       "      <th>45</th>\n",
       "      <td>553</td>\n",
       "      <td>[48, 463, 473, 9967, 10655, 37052, 88412, 8841...</td>\n",
       "      <td>[451]</td>\n",
       "      <td>[11, 68, 74]</td>\n",
       "    </tr>\n",
       "    <tr>\n",
       "      <th>50</th>\n",
       "      <td>558</td>\n",
       "      <td>[48, 9967, 88412, 169026, 169155, 9035988, 921...</td>\n",
       "      <td>[451]</td>\n",
       "      <td>[11, 68]</td>\n",
       "    </tr>\n",
       "    <tr>\n",
       "      <th>54</th>\n",
       "      <td>562</td>\n",
       "      <td>[48, 9967, 11309, 11317, 67947, 72275, 88412, ...</td>\n",
       "      <td>[451]</td>\n",
       "      <td>[11, 68]</td>\n",
       "    </tr>\n",
       "  </tbody>\n",
       "</table>\n",
       "</div>"
      ]
     },
     "execution_count": 42,
     "metadata": {},
     "output_type": "execute_result"
    }
   ],
   "execution_count": 42
  },
  {
   "metadata": {
    "ExecuteTime": {
     "end_time": "2024-11-07T01:28:38.618869Z",
     "start_time": "2024-11-07T01:28:38.617134Z"
    }
   },
   "cell_type": "code",
   "source": "genresDict = genres.set_index('id')['name'].to_dict()",
   "id": "3108d196621381a5",
   "outputs": [],
   "execution_count": 43
  },
  {
   "metadata": {
    "ExecuteTime": {
     "end_time": "2024-11-07T01:28:38.636477Z",
     "start_time": "2024-11-07T01:28:38.619419Z"
    }
   },
   "cell_type": "code",
   "source": "upd_tracks['genres'] = upd_tracks['genres'].apply(lambda genres_list: [genresDict[genreId] for genreId in genres_list])",
   "id": "b307f2a198f61762",
   "outputs": [],
   "execution_count": 44
  },
  {
   "metadata": {
    "ExecuteTime": {
     "end_time": "2024-11-07T01:28:38.965270Z",
     "start_time": "2024-11-07T01:28:38.637033Z"
    }
   },
   "cell_type": "code",
   "source": [
    "albumsDict = albums.set_index('id')['name'].to_dict()\n",
    "upd_tracks['albums'] = upd_tracks['albums'].apply(lambda albums_list: [albumsDict[albumId] for albumId in albums_list])"
   ],
   "id": "c9c5a454eb6bb650",
   "outputs": [],
   "execution_count": 45
  },
  {
   "metadata": {
    "ExecuteTime": {
     "end_time": "2024-11-07T01:28:39.096352Z",
     "start_time": "2024-11-07T01:28:38.965961Z"
    }
   },
   "cell_type": "code",
   "source": [
    "artistsDict = artists.set_index('id')['name'].to_dict()\n",
    "upd_tracks['artists'] = upd_tracks['artists'].apply(lambda artists_list: [artistsDict[artistId] for artistId in artists_list])"
   ],
   "id": "e84fe12a442ed4ca",
   "outputs": [],
   "execution_count": 46
  },
  {
   "metadata": {
    "ExecuteTime": {
     "end_time": "2024-11-07T01:28:39.098710Z",
     "start_time": "2024-11-07T01:28:39.097100Z"
    }
   },
   "cell_type": "code",
   "source": "upd_tracks.rename(columns={'track_id': 'item_id'}, inplace=True)",
   "id": "7b120b3176d573e7",
   "outputs": [],
   "execution_count": 47
  },
  {
   "metadata": {
    "ExecuteTime": {
     "end_time": "2024-11-07T01:28:39.103516Z",
     "start_time": "2024-11-07T01:28:39.099328Z"
    }
   },
   "cell_type": "code",
   "source": "upd_tracks.head()",
   "id": "4907769f2662bec2",
   "outputs": [
    {
     "data": {
      "text/plain": [
       "    item_id                                             albums  \\\n",
       "12      147                     [Lonesome Crow, Lonesome Crow]   \n",
       "41      549  [THE E.N.D. (THE ENERGY NEVER DIES), THE E.N.D...   \n",
       "45      553  [THE E.N.D. (THE ENERGY NEVER DIES), Boom Boom...   \n",
       "50      558  [THE E.N.D. (THE ENERGY NEVER DIES), THE E.N.D...   \n",
       "54      562  [THE E.N.D. (THE ENERGY NEVER DIES), THE E.N.D...   \n",
       "\n",
       "              artists                   genres  \n",
       "12        [Scorpions]      [hardrock, allrock]  \n",
       "41  [Black Eyed Peas]       [pop, electronics]  \n",
       "45  [Black Eyed Peas]  [pop, electronics, rnb]  \n",
       "50  [Black Eyed Peas]       [pop, electronics]  \n",
       "54  [Black Eyed Peas]       [pop, electronics]  "
      ],
      "text/html": [
       "<div>\n",
       "<style scoped>\n",
       "    .dataframe tbody tr th:only-of-type {\n",
       "        vertical-align: middle;\n",
       "    }\n",
       "\n",
       "    .dataframe tbody tr th {\n",
       "        vertical-align: top;\n",
       "    }\n",
       "\n",
       "    .dataframe thead th {\n",
       "        text-align: right;\n",
       "    }\n",
       "</style>\n",
       "<table border=\"1\" class=\"dataframe\">\n",
       "  <thead>\n",
       "    <tr style=\"text-align: right;\">\n",
       "      <th></th>\n",
       "      <th>item_id</th>\n",
       "      <th>albums</th>\n",
       "      <th>artists</th>\n",
       "      <th>genres</th>\n",
       "    </tr>\n",
       "  </thead>\n",
       "  <tbody>\n",
       "    <tr>\n",
       "      <th>12</th>\n",
       "      <td>147</td>\n",
       "      <td>[Lonesome Crow, Lonesome Crow]</td>\n",
       "      <td>[Scorpions]</td>\n",
       "      <td>[hardrock, allrock]</td>\n",
       "    </tr>\n",
       "    <tr>\n",
       "      <th>41</th>\n",
       "      <td>549</td>\n",
       "      <td>[THE E.N.D. (THE ENERGY NEVER DIES), THE E.N.D...</td>\n",
       "      <td>[Black Eyed Peas]</td>\n",
       "      <td>[pop, electronics]</td>\n",
       "    </tr>\n",
       "    <tr>\n",
       "      <th>45</th>\n",
       "      <td>553</td>\n",
       "      <td>[THE E.N.D. (THE ENERGY NEVER DIES), Boom Boom...</td>\n",
       "      <td>[Black Eyed Peas]</td>\n",
       "      <td>[pop, electronics, rnb]</td>\n",
       "    </tr>\n",
       "    <tr>\n",
       "      <th>50</th>\n",
       "      <td>558</td>\n",
       "      <td>[THE E.N.D. (THE ENERGY NEVER DIES), THE E.N.D...</td>\n",
       "      <td>[Black Eyed Peas]</td>\n",
       "      <td>[pop, electronics]</td>\n",
       "    </tr>\n",
       "    <tr>\n",
       "      <th>54</th>\n",
       "      <td>562</td>\n",
       "      <td>[THE E.N.D. (THE ENERGY NEVER DIES), THE E.N.D...</td>\n",
       "      <td>[Black Eyed Peas]</td>\n",
       "      <td>[pop, electronics]</td>\n",
       "    </tr>\n",
       "  </tbody>\n",
       "</table>\n",
       "</div>"
      ]
     },
     "execution_count": 48,
     "metadata": {},
     "output_type": "execute_result"
    }
   ],
   "execution_count": 48
  },
  {
   "metadata": {
    "ExecuteTime": {
     "end_time": "2024-11-07T01:28:39.105679Z",
     "start_time": "2024-11-07T01:28:39.104050Z"
    }
   },
   "cell_type": "code",
   "source": "interactions.rename(columns={'track_id': 'item_id'}, inplace=True)",
   "id": "ecd58c8fa5c80260",
   "outputs": [],
   "execution_count": 49
  },
  {
   "metadata": {
    "ExecuteTime": {
     "end_time": "2024-11-07T01:28:39.108838Z",
     "start_time": "2024-11-07T01:28:39.106078Z"
    }
   },
   "cell_type": "code",
   "source": "interactions.head()",
   "id": "af5a45d65ef21154",
   "outputs": [
    {
     "data": {
      "text/plain": [
       "      user_id   item_id  track_seq started_at\n",
       "130    844258   3581309        131 2022-06-05\n",
       "433   1091434  14937363        434 2022-06-29\n",
       "526     73981  48591660        527 2022-09-26\n",
       "9       78605    732405         10 2022-09-14\n",
       "1202  1273064  40339506       1203 2022-08-24"
      ],
      "text/html": [
       "<div>\n",
       "<style scoped>\n",
       "    .dataframe tbody tr th:only-of-type {\n",
       "        vertical-align: middle;\n",
       "    }\n",
       "\n",
       "    .dataframe tbody tr th {\n",
       "        vertical-align: top;\n",
       "    }\n",
       "\n",
       "    .dataframe thead th {\n",
       "        text-align: right;\n",
       "    }\n",
       "</style>\n",
       "<table border=\"1\" class=\"dataframe\">\n",
       "  <thead>\n",
       "    <tr style=\"text-align: right;\">\n",
       "      <th></th>\n",
       "      <th>user_id</th>\n",
       "      <th>item_id</th>\n",
       "      <th>track_seq</th>\n",
       "      <th>started_at</th>\n",
       "    </tr>\n",
       "  </thead>\n",
       "  <tbody>\n",
       "    <tr>\n",
       "      <th>130</th>\n",
       "      <td>844258</td>\n",
       "      <td>3581309</td>\n",
       "      <td>131</td>\n",
       "      <td>2022-06-05</td>\n",
       "    </tr>\n",
       "    <tr>\n",
       "      <th>433</th>\n",
       "      <td>1091434</td>\n",
       "      <td>14937363</td>\n",
       "      <td>434</td>\n",
       "      <td>2022-06-29</td>\n",
       "    </tr>\n",
       "    <tr>\n",
       "      <th>526</th>\n",
       "      <td>73981</td>\n",
       "      <td>48591660</td>\n",
       "      <td>527</td>\n",
       "      <td>2022-09-26</td>\n",
       "    </tr>\n",
       "    <tr>\n",
       "      <th>9</th>\n",
       "      <td>78605</td>\n",
       "      <td>732405</td>\n",
       "      <td>10</td>\n",
       "      <td>2022-09-14</td>\n",
       "    </tr>\n",
       "    <tr>\n",
       "      <th>1202</th>\n",
       "      <td>1273064</td>\n",
       "      <td>40339506</td>\n",
       "      <td>1203</td>\n",
       "      <td>2022-08-24</td>\n",
       "    </tr>\n",
       "  </tbody>\n",
       "</table>\n",
       "</div>"
      ]
     },
     "execution_count": 50,
     "metadata": {},
     "output_type": "execute_result"
    }
   ],
   "execution_count": 50
  },
  {
   "cell_type": "markdown",
   "id": "4d1be653-eed8-4fa0-a9c5-3811b080d71d",
   "metadata": {},
   "source": "### 2.3 Сохранение данных"
  },
  {
   "cell_type": "markdown",
   "id": "36f1314a-3af3-4faf-a0b1-3045173d1500",
   "metadata": {},
   "source": [
    "Сохраним данные в двух файлах в персональном S3-бакете по пути `recsys/data/`:\n",
    "- `items.parquet` — все данные о музыкальных треках,\n",
    "- `events.parquet` — все данные о взаимодействиях."
   ]
  },
  {
   "cell_type": "code",
   "id": "9f77af17-7705-4fae-9aad-db579b39faad",
   "metadata": {
    "ExecuteTime": {
     "end_time": "2024-11-07T01:28:39.175872Z",
     "start_time": "2024-11-07T01:28:39.109367Z"
    }
   },
   "source": "upd_tracks.to_parquet(\"./data/items.parquet\")",
   "outputs": [],
   "execution_count": 51
  },
  {
   "metadata": {
    "ExecuteTime": {
     "end_time": "2024-11-07T01:28:39.189178Z",
     "start_time": "2024-11-07T01:28:39.176474Z"
    }
   },
   "cell_type": "code",
   "source": "interactions.to_parquet(\"./data/events.parquet\")",
   "id": "1bc6a25f19dc4140",
   "outputs": [],
   "execution_count": 52
  },
  {
   "cell_type": "markdown",
   "id": "72ecbbed-c560-44d9-9c14-86c7dc76f399",
   "metadata": {},
   "source": "### 2.4 Очистка памяти"
  },
  {
   "cell_type": "markdown",
   "id": "b5358ede-ba6e-4c4f-bd73-5b9344f0ba79",
   "metadata": {},
   "source": [
    "Здесь, может понадобится очистка памяти для высвобождения ресурсов для выполнения кода ниже. \n",
    "\n",
    "Приведите соответствующие код, комментарии, например:\n",
    "- код для удаление более ненужных переменных,\n",
    "- комментарий, что следует перезапустить kernel, выполнить такие-то начальные секции и продолжить с этапа 3."
   ]
  },
  {
   "cell_type": "code",
   "id": "767fe920-e12e-4ad8-b04e-56e8091fac9f",
   "metadata": {
    "ExecuteTime": {
     "end_time": "2024-11-07T01:28:39.191253Z",
     "start_time": "2024-11-07T01:28:39.189743Z"
    }
   },
   "source": [
    "del tracks\n",
    "del upd_tracks\n",
    "del interactions\n",
    "del catalog_names"
   ],
   "outputs": [],
   "execution_count": 53
  },
  {
   "cell_type": "markdown",
   "id": "708503df-ee89-4cf3-8489-093dc478e2a8",
   "metadata": {},
   "source": "## === ЭТАП 3 ==="
  },
  {
   "cell_type": "markdown",
   "id": "fd77de22-e10f-4b42-85c1-8fb6f805fe68",
   "metadata": {},
   "source": "### 3.1 Загрузка данных"
  },
  {
   "cell_type": "markdown",
   "id": "780a4241-1ecd-4a3e-bbb3-fc2f6ca94f68",
   "metadata": {},
   "source": [
    "Если необходимо, то загружаем items.parquet, events.parquet."
   ]
  },
  {
   "cell_type": "code",
   "id": "f19fc8a5-bd2c-40d7-864a-ee75aca6d512",
   "metadata": {
    "ExecuteTime": {
     "end_time": "2024-11-07T01:28:39.240278Z",
     "start_time": "2024-11-07T01:28:39.191786Z"
    }
   },
   "source": "items = pd.read_parquet(\"./data/items.parquet\")",
   "outputs": [],
   "execution_count": 54
  },
  {
   "cell_type": "code",
   "id": "5db1e801-5845-4ce3-86f2-c2fa30f68cc5",
   "metadata": {
    "ExecuteTime": {
     "end_time": "2024-11-07T01:28:39.245452Z",
     "start_time": "2024-11-07T01:28:39.240866Z"
    }
   },
   "source": "events = pd.read_parquet(\"./data/events.parquet\")",
   "outputs": [],
   "execution_count": 55
  },
  {
   "cell_type": "markdown",
   "id": "a694c023-6477-490b-939d-1cfa6f5f1b72",
   "metadata": {},
   "source": "### 3.2 Разбиение данных"
  },
  {
   "cell_type": "markdown",
   "id": "fbd5f6e0-54e7-4428-8678-eabce505d82c",
   "metadata": {},
   "source": [
    "Разбиваем данные на тренировочную, тестовую выборки."
   ]
  },
  {
   "cell_type": "code",
   "id": "00c2dfa5-d8a2-47d1-922e-6eefee2c62d1",
   "metadata": {
    "ExecuteTime": {
     "end_time": "2024-11-07T01:28:39.248912Z",
     "start_time": "2024-11-07T01:28:39.246010Z"
    }
   },
   "source": [
    "# зададим точку разбиения\n",
    "train_test_global_time_split_date = pd.to_datetime(\"2022-12-16\")"
   ],
   "outputs": [],
   "execution_count": 56
  },
  {
   "cell_type": "code",
   "id": "26fe3e3c-8c5f-4437-bf13-9191adef08bb",
   "metadata": {
    "ExecuteTime": {
     "end_time": "2024-11-07T01:28:39.252921Z",
     "start_time": "2024-11-07T01:28:39.249453Z"
    }
   },
   "source": [
    "train_test_global_time_split_idx = events[\"started_at\"] < train_test_global_time_split_date\n",
    "events_train = events[train_test_global_time_split_idx]\n",
    "events_test = events[~train_test_global_time_split_idx]"
   ],
   "outputs": [],
   "execution_count": 57
  },
  {
   "metadata": {
    "ExecuteTime": {
     "end_time": "2024-11-07T01:28:39.281319Z",
     "start_time": "2024-11-07T01:28:39.253456Z"
    }
   },
   "cell_type": "code",
   "source": [
    "# перекодируем идентификаторы пользователей:\n",
    "# из имеющихся в последовательность 0, 1, 2, ...\n",
    "user_encoder = sklearn.preprocessing.LabelEncoder()\n",
    "user_encoder.fit(events[\"user_id\"])\n",
    "events_train[\"user_id_enc\"] = user_encoder.transform(events_train[\"user_id\"])\n",
    "events_test[\"user_id_enc\"] = user_encoder.transform(events_test[\"user_id\"])"
   ],
   "id": "1e8b19ebb87d0537",
   "outputs": [],
   "execution_count": 58
  },
  {
   "metadata": {
    "ExecuteTime": {
     "end_time": "2024-11-07T01:28:39.309985Z",
     "start_time": "2024-11-07T01:28:39.282070Z"
    }
   },
   "cell_type": "code",
   "source": [
    "# перекодируем идентификаторы объектов:\n",
    "# из имеющихся в последовательность 0, 1, 2, ...\n",
    "item_encoder = sklearn.preprocessing.LabelEncoder()\n",
    "item_encoder.fit(items[\"item_id\"])\n",
    "items[\"item_id_enc\"] = item_encoder.transform(items[\"item_id\"])\n",
    "events_train[\"item_id_enc\"] = item_encoder.transform(events_train[\"item_id\"])\n",
    "events_test[\"item_id_enc\"] = item_encoder.transform(events_test[\"item_id\"])"
   ],
   "id": "87ed7cae009ed1b5",
   "outputs": [],
   "execution_count": 59
  },
  {
   "metadata": {
    "ExecuteTime": {
     "end_time": "2024-11-07T01:28:39.313968Z",
     "start_time": "2024-11-07T01:28:39.310591Z"
    }
   },
   "cell_type": "code",
   "source": [
    "# количество пользователей в train и test\n",
    "users_train = events_train[\"user_id\"].drop_duplicates()\n",
    "users_test = events_test[\"user_id\"].drop_duplicates()"
   ],
   "id": "416feb7de471ef74",
   "outputs": [],
   "execution_count": 60
  },
  {
   "metadata": {
    "ExecuteTime": {
     "end_time": "2024-11-07T01:28:39.323075Z",
     "start_time": "2024-11-07T01:28:39.314479Z"
    }
   },
   "cell_type": "code",
   "source": [
    "# количество пользователей, которые есть и в train, и в test\n",
    "common_users = set(users_train) & set(users_test)"
   ],
   "id": "53008c9ad98b3dc0",
   "outputs": [],
   "execution_count": 61
  },
  {
   "metadata": {
    "ExecuteTime": {
     "end_time": "2024-11-07T01:28:39.325045Z",
     "start_time": "2024-11-07T01:28:39.323609Z"
    }
   },
   "cell_type": "code",
   "source": "print(len(users_train), len(users_test), len(common_users))",
   "id": "763e9e7087cefea9",
   "outputs": [
    {
     "name": "stdout",
     "output_type": "stream",
     "text": [
      "87512 6849 1199\n"
     ]
    }
   ],
   "execution_count": 62
  },
  {
   "metadata": {},
   "cell_type": "markdown",
   "source": "«Холодные» пользователи — те, которые есть в test, но отсутствуют в train. Это соответствует хронологическому порядку, в котором и работает рекомендательная система.",
   "id": "c44124170631524c"
  },
  {
   "metadata": {
    "ExecuteTime": {
     "end_time": "2024-11-07T01:28:39.333773Z",
     "start_time": "2024-11-07T01:28:39.325556Z"
    }
   },
   "cell_type": "code",
   "source": [
    "cold_users = set(users_test) - set(users_train)\n",
    "\n",
    "print(len(cold_users))"
   ],
   "id": "fd35d731bb433cc3",
   "outputs": [
    {
     "name": "stdout",
     "output_type": "stream",
     "text": [
      "5650\n"
     ]
    }
   ],
   "execution_count": 63
  },
  {
   "cell_type": "markdown",
   "id": "9131c7e6-8852-4556-b510-51f7253cc299",
   "metadata": {},
   "source": "### 3.3 Топ популярных"
  },
  {
   "metadata": {},
   "cell_type": "markdown",
   "source": [
    "Рассчитаем рекомендации как топ популярных.\n",
    "\n",
    "Завершите код, чтобы получить топ-100 наиболее популярных треках."
   ],
   "id": "f9367a8f9cf4f998"
  },
  {
   "metadata": {
    "ExecuteTime": {
     "end_time": "2024-11-07T01:28:39.349606Z",
     "start_time": "2024-11-07T01:28:39.334316Z"
    }
   },
   "cell_type": "code",
   "source": [
    "item_popularity = events_train \\\n",
    "    .groupby([\"item_id\"]).agg(users=(\"user_id\", \"nunique\"), count_plays=(\"item_id\", \"count\")).reset_index()\n",
    "item_popularity[\"popularity_weighted\"] = item_popularity[\"users\"] * item_popularity[\"count_plays\"]\n",
    "\n",
    "# сортируем по убыванию взвешенной популярности\n",
    "item_popularity = item_popularity.sort_values(by=\"popularity_weighted\", ascending=False)"
   ],
   "id": "5276cb850aafc5d7",
   "outputs": [],
   "execution_count": 64
  },
  {
   "metadata": {
    "ExecuteTime": {
     "end_time": "2024-11-07T01:28:39.351551Z",
     "start_time": "2024-11-07T01:28:39.350206Z"
    }
   },
   "cell_type": "code",
   "source": "top_k_pop_items = item_popularity.head(100)",
   "id": "4f01bb1c4906aee2",
   "outputs": [],
   "execution_count": 65
  },
  {
   "metadata": {},
   "cell_type": "markdown",
   "source": "Добавив информацию о треках, можно просмотреть, какие попали в топ.",
   "id": "947cbc25914dec44"
  },
  {
   "metadata": {
    "ExecuteTime": {
     "end_time": "2024-11-07T01:28:39.357980Z",
     "start_time": "2024-11-07T01:28:39.352135Z"
    }
   },
   "cell_type": "code",
   "source": [
    "# добавляем информацию о треках\n",
    "top_k_pop_items = top_k_pop_items.merge(\n",
    "    items.set_index(\"item_id\")[[\"albums\", \"genres\", \"artists\"]], on=\"item_id\")"
   ],
   "id": "381cea3249aafdf3",
   "outputs": [],
   "execution_count": 66
  },
  {
   "metadata": {
    "ExecuteTime": {
     "end_time": "2024-11-07T01:28:39.385472Z",
     "start_time": "2024-11-07T01:28:39.358536Z"
    }
   },
   "cell_type": "code",
   "source": [
    "with pd.option_context('display.max_rows', 100):\n",
    "    display(top_k_pop_items[[\"item_id\", \"albums\", \"genres\", \"artists\", \"count_plays\", \"popularity_weighted\"]])"
   ],
   "id": "fbbb8f966ae2a94",
   "outputs": [
    {
     "data": {
      "text/plain": [
       "     item_id                                             albums  \\\n",
       "0   33311009  [Shape Of Pop, NOW That's What I Call Music, E...   \n",
       "1   35505245                           [I Got Love, I Got Love]   \n",
       "2   51241318  [In the End, Christian TikTok, Trending Now 20...   \n",
       "3     178529  [Meteora, Meteora, Meteora, Meteora, 00s Rock ...   \n",
       "4      37384  [Stars: The Best Of The Cranberries 1992-2002,...   \n",
       "5     148345  [Greatest Hits, Californication, Californicati...   \n",
       "6     328683  [Fallen, Daredevil - The Album (Music From The...   \n",
       "7   24692821  [Way down We Go, Summer Music 2016, A/B, DFM D...   \n",
       "8   18385776  [Freaks, Freaks, Metro FM Dance Hits 2015, Тан...   \n",
       "9      53404  [Nevermind, Nirvana, Nevermind, Nevermind, Nev...   \n",
       "10  54798445                                           [Прятки]   \n",
       "11   6705392  [Elephant, Seven Nation Army, Pay Close Attent...   \n",
       "12  32947997            [Shape of You, ÷, ÷, Summer Vibes, Pop]   \n",
       "13   2758009  [Innuendo, Innuendo, Bohemian Rhapsody, Greate...   \n",
       "14  60292250  [Blinding Lights, After Hours, After Hours, Af...   \n",
       "15     48951  [Crush, Now 5, Bon Jovi Greatest Hits - The Ul...   \n",
       "16  45499814  [Life, Life, Made in Russia, Fresh Dance, Life...   \n",
       "17    795836  [Ten Summoner's Tales, 25 Years, The Best Of 2...   \n",
       "18  21519270                                           [Dancin]   \n",
       "19  17079396  [Take Me To Church, Hozier, Hozier, Hozier, Лу...   \n",
       "20    694683     [Highway To Hell, Highway to Hell, Iron Man 2]   \n",
       "21  29544272  [Human, Human, Some Chillout Music, Music Made...   \n",
       "22  49961817     [Грустный дэнс, 7 (Part 1), Spring Music 2019]   \n",
       "23  43942453                                        [АРГУМЕНТЫ]   \n",
       "24  50685843                              [Акустический альбом]   \n",
       "25  52395280                                     [Paris, Paris]   \n",
       "26  52380688                                          [Любимка]   \n",
       "27  39257277  [In My Mind, In My Mind, Dance Hits 2019 - Sum...   \n",
       "28  19152669  [Centuries, American Beauty/American Psycho, A...   \n",
       "29     52100  [The Singles Collection, No Doubt, Tragic King...   \n",
       "30  44184116                                        [Незабудка]   \n",
       "31  39089632                                [Гранатовый альбом]   \n",
       "32  56776952                                     [2 типа людей]   \n",
       "33  33977439  [Feel It Still, Woodstock, Summer House, Summe...   \n",
       "34  29569939  [Tuesday, Танцевальный рай 37, Hit List 2016, ...   \n",
       "35   9282507                     [Родина, Navigator Records 15]   \n",
       "36  39946957                                             [Сияй]   \n",
       "37  51516485  [WHEN WE ALL FALL ASLEEP, WHERE DO WE GO?, 202...   \n",
       "38   3581309  [Making Mirrors, Somebody That I Used To Know,...   \n",
       "39  65851540                                           [Юность]   \n",
       "40  43052381                                    [Мокрые кроссы]   \n",
       "41   6679078                                               [xx]   \n",
       "42  47627256                                 [Cradles, Cradles]   \n",
       "43   9047114                                        [Батарейка]   \n",
       "44  57921154                                           [Комета]   \n",
       "45  23559960  [Stressed Out, Blurryface, Spring Music 2016, ...   \n",
       "46  76434671             [Горький вкус, Горячие Хиты Кавказа 2]   \n",
       "47  44279380  [Karma, Teta Records - Nr 1! Best of 2018, Пла...   \n",
       "48  29611476  [Heathens, Suicide Squad: The Album, Suicide S...   \n",
       "49  70619465                          [Если тебе будет грустно]   \n",
       "50  66869588                                             [Краш]   \n",
       "51  35170143  [Whatever It Takes, Gaming Flow, Evolve, Verif...   \n",
       "52  24663745  [Ocean Drive, Ocean Drive, Blasé Boys Club, Fr...   \n",
       "53    280972  [Rocky Balboa: The Best Of Rocky, Survivor Gre...   \n",
       "54    137670  [Rhino Hi-Five: Coolio, Songs You Know:  Ol' S...   \n",
       "55  37258117  [В диапазоне между отчаянием и надеждой, Панки...   \n",
       "56  34976783  [Thunder, Summer Songs, NOW That's What I Call...   \n",
       "57  16298499  [Dernière Danse, Mini World, Mini World, Reina...   \n",
       "58  17902234  [Prayer in C, Prayer, Winter Music 2015, Winte...   \n",
       "59  61565558                      [Луна не знает пути, СОЮЗ 63]   \n",
       "60  81848875                                 [Федерико Феллини]   \n",
       "61  84382282                                      [Я в моменте]   \n",
       "62    628320  [Thriller, Michael Jackson: The Ultimate Colle...   \n",
       "63  73376988                                    [Ягода малинка]   \n",
       "64  38275100                                           [Chosen]   \n",
       "65    765627  [Je Veux, Je Veux, Zaz, Cafe Puls Hits 2010, Z...   \n",
       "66  45130892                                   [Мама, я танцую]   \n",
       "67    630670  [Rise And Fall, Rage And Grace, Rise And Fall,...   \n",
       "68     10216  [True 90s, Crazy World, Face The Heat / Crazy ...   \n",
       "69  75944934             [Astronaut In The Ocean, Astronomical]   \n",
       "70  55561798                                [August, Renovatio]   \n",
       "71    595258                                          [Вавилон]   \n",
       "72  50834580                       [Девочка-война, ZHARA Vol.1]   \n",
       "73    582507                                            [Голая]   \n",
       "74    732405                           [ПРОСТИ МЕНЯ МОЯ ЛЮБОВЬ]   \n",
       "75   1710811  [Greatest Hits, News Of The World, News Of The...   \n",
       "76  62244864                                     [Покинула чат]   \n",
       "77  10270285  [Young And Beautiful, Music From Baz Luhrmann'...   \n",
       "78  57799893  [Roses, Fresh Dance, Yeni Dünya Special Dance ...   \n",
       "79  56920237  [Vinyl #1, Первый танцевальный. Vol. 18, Vinyl...   \n",
       "80  42197229  [Natural, Origins, Origins, Больше хитов! Боль...   \n",
       "81  56204557  [Dance Monkey, The Kids Are Coming, 100 Greate...   \n",
       "82  26790968  [Unstoppable, This Is Acting, Танцевальный рай...   \n",
       "83   2786721  [When We Stand Together, Here And Now, Here an...   \n",
       "84    707386  [Epic, Their Law The Singles 1990 - 2005, The ...   \n",
       "85  65320824                                       [Пропаганда]   \n",
       "86    114334  [Waking Up, All The Right Moves, Edited, Wakin...   \n",
       "87     96089  [Essential Bands, Essential Bands, Blur: The B...   \n",
       "88  39548431                                           [Медина]   \n",
       "89  49125069                   [Твой первый диск - моя кассета]   \n",
       "90  25995209  [Faded, Men's Health: Beach Body Workout, KISS...   \n",
       "91  33308946                                    [Family бізнес]   \n",
       "92  28123186                                        [Избранное]   \n",
       "93  68562711                                       [Сияй, Сияй]   \n",
       "94  53694971  [BALENCIAGA, GANGSTER MUSIC, Vol. 1, Best Radi...   \n",
       "95  34735046                                       [Providence]   \n",
       "96  19801149  [The Art of Translation, The Greatest Hits, Th...   \n",
       "97    214489  [By The Way, By the Way, The Studio Album Coll...   \n",
       "98  53117514                                            [Прочь]   \n",
       "99  83063895                                           [Птичка]   \n",
       "\n",
       "                                genres  \\\n",
       "0                      [rock, allrock]   \n",
       "1                        [rusrap, rap]   \n",
       "2                                [rnb]   \n",
       "3                     [numetal, metal]   \n",
       "4                      [rock, allrock]   \n",
       "5                      [rock, allrock]   \n",
       "6         [alternative, rock, allrock]   \n",
       "7                              [indie]   \n",
       "8          [dance, electronics, house]   \n",
       "9         [alternative, rock, allrock]   \n",
       "10                       [rusrap, rap]   \n",
       "11                       [alternative]   \n",
       "12                               [pop]   \n",
       "13  [rock, films, soundtrack, allrock]   \n",
       "14                               [rnb]   \n",
       "15           [rock, hardrock, allrock]   \n",
       "16                       [pop, ruspop]   \n",
       "17                [pop, rock, allrock]   \n",
       "18                [electronics, house]   \n",
       "19                             [indie]   \n",
       "20                 [hardrock, allrock]   \n",
       "21                 [soundtrack, indie]   \n",
       "22                       [pop, ruspop]   \n",
       "23                [local-indie, indie]   \n",
       "24                              [punk]   \n",
       "25                       [electronics]   \n",
       "26                       [pop, ruspop]   \n",
       "27                             [dance]   \n",
       "28                       [alternative]   \n",
       "29                               [pop]   \n",
       "30                       [pop, ruspop]   \n",
       "31                  [rusrock, allrock]   \n",
       "32                       [rusrap, rap]   \n",
       "33                             [indie]   \n",
       "34                             [dance]   \n",
       "35                  [rusrock, allrock]   \n",
       "36                       [pop, ruspop]   \n",
       "37                             [indie]   \n",
       "38                               [pop]   \n",
       "39                       [pop, ruspop]   \n",
       "40                       [pop, ruspop]   \n",
       "41                             [indie]   \n",
       "42                       [electronics]   \n",
       "43                  [rusrock, allrock]   \n",
       "44                       [pop, ruspop]   \n",
       "45                             [indie]   \n",
       "46                   [folk, caucasian]   \n",
       "47                        [pop, dance]   \n",
       "48                 [films, soundtrack]   \n",
       "49                       [pop, ruspop]   \n",
       "50                       [pop, ruspop]   \n",
       "51                     [rock, allrock]   \n",
       "52                [dance, electronics]   \n",
       "53           [rock, hardrock, allrock]   \n",
       "54                   [foreignrap, rap]   \n",
       "55                              [punk]   \n",
       "56                     [rock, allrock]   \n",
       "57                           [estrada]   \n",
       "58                [alternative, dance]   \n",
       "59                       [pop, ruspop]   \n",
       "60                       [pop, ruspop]   \n",
       "61                       [rusrap, rap]   \n",
       "62                               [pop]   \n",
       "63                       [pop, ruspop]   \n",
       "64                           [allrock]   \n",
       "65                               [pop]   \n",
       "66                       [pop, ruspop]   \n",
       "67                              [punk]   \n",
       "68                 [hardrock, allrock]   \n",
       "69                   [foreignrap, rap]   \n",
       "70                       [electronics]   \n",
       "71               [classicmetal, metal]   \n",
       "72                       [rusrap, rap]   \n",
       "73                       [pop, ruspop]   \n",
       "74                  [rusrock, allrock]   \n",
       "75           [rock, hardrock, allrock]   \n",
       "76                       [pop, ruspop]   \n",
       "77                               [pop]   \n",
       "78                             [dance]   \n",
       "79                       [pop, ruspop]   \n",
       "80                     [rock, allrock]   \n",
       "81                               [pop]   \n",
       "82                               [pop]   \n",
       "83                     [rock, allrock]   \n",
       "84                  [electronics, all]   \n",
       "85                             [dance]   \n",
       "86                [pop, rock, allrock]   \n",
       "87                     [rock, allrock]   \n",
       "88                       [rusrap, rap]   \n",
       "89                       [pop, ruspop]   \n",
       "90                             [dance]   \n",
       "91                  [ukrrock, allrock]   \n",
       "92                  [rusrock, allrock]   \n",
       "93                       [pop, ruspop]   \n",
       "94                             [dance]   \n",
       "95                       [electronics]   \n",
       "96                   [foreignrap, rap]   \n",
       "97                     [rock, allrock]   \n",
       "98                       [pop, ruspop]   \n",
       "99                       [pop, ruspop]   \n",
       "\n",
       "                                   artists  count_plays  popularity_weighted  \n",
       "0                        [Imagine Dragons]           52                 2704  \n",
       "1           [Miyagi & Эндшпиль, Рем Дигга]           48                 2304  \n",
       "2     [Tommee Profitt, Fleurie, Mellen Gi]           47                 2209  \n",
       "3                            [Linkin Park]           46                 2116  \n",
       "4                        [The Cranberries]           45                 2025  \n",
       "5                  [Red Hot Chili Peppers]           44                 1936  \n",
       "6                            [Evanescence]           43                 1849  \n",
       "7                                  [KALEO]           43                 1849  \n",
       "8                  [Timmy Trumpet, Savage]           42                 1764  \n",
       "9                                [Nirvana]           42                 1764  \n",
       "10                       [HammAli & Navai]           41                 1681  \n",
       "11                     [The White Stripes]           40                 1600  \n",
       "12                            [Ed Sheeran]           40                 1600  \n",
       "13                                 [Queen]           40                 1600  \n",
       "14                            [The Weeknd]           39                 1521  \n",
       "15                              [Bon Jovi]           39                 1521  \n",
       "16                                [Zivert]           39                 1521  \n",
       "17                                 [Sting]           39                 1521  \n",
       "18             [Aaron Smith, Krono, Luvli]           38                 1444  \n",
       "19                                [Hozier]           38                 1444  \n",
       "20                                 [AC/DC]           38                 1444  \n",
       "21                        [Rag'n'Bone Man]           37                 1369  \n",
       "22             [Artik & Asti, Артём Качер]           37                 1369  \n",
       "23                                  [RSAC]           37                 1369  \n",
       "24                          [Король и Шут]           37                 1369  \n",
       "25                                  [Else]           37                 1369  \n",
       "26                               [NILETTO]           36                 1296  \n",
       "27               [Dynoro, Gigi D'Agostino]           36                 1296  \n",
       "28                          [Fall Out Boy]           36                 1296  \n",
       "29                              [No Doubt]           36                 1296  \n",
       "30                      [Тима Белорусских]           35                 1225  \n",
       "31                                 [Сплин]           35                 1225  \n",
       "32                             [Макс Корж]           35                 1225  \n",
       "33                     [Portugal. The Man]           35                 1225  \n",
       "34         [Burak Yeter, Danelle Sandoval]           34                 1156  \n",
       "35                              [АнимациЯ]           34                 1156  \n",
       "36                                [Zivert]           34                 1156  \n",
       "37                         [Billie Eilish]           34                 1156  \n",
       "38                         [Gotye, Kimbra]           34                 1156  \n",
       "39                                 [Dabro]           33                 1089  \n",
       "40                      [Тима Белорусских]           32                 1024  \n",
       "41                                [The xx]           32                 1024  \n",
       "42                             [Sub Urban]           32                 1024  \n",
       "43                                  [Жуки]           32                 1024  \n",
       "44                                  [JONY]           31                  961  \n",
       "45                     [twenty one pilots]           31                  961  \n",
       "46                        [Султан Лагучев]           31                  961  \n",
       "47                                 [KAZKA]           31                  961  \n",
       "48                     [twenty one pilots]           31                  961  \n",
       "49                  [Rauf & Faik, NILETTO]           30                  900  \n",
       "50                   [Клава Кока, NILETTO]           30                  900  \n",
       "51                       [Imagine Dragons]           30                  900  \n",
       "52                           [Duke Dumont]           30                  900  \n",
       "53                              [Survivor]           30                  900  \n",
       "54                          [Coolio, L.V.]           30                  900  \n",
       "55                           [Порнофильмы]           30                  900  \n",
       "56                       [Imagine Dragons]           29                  841  \n",
       "57                                [Indila]           29                  841  \n",
       "58  [Robin Schulz, Lilly Wood & The Prick]           29                  841  \n",
       "59                        [Тайпан, Agunda]           29                  841  \n",
       "60                       [Galibri & Mavik]           29                  841  \n",
       "61                      [Джарахов, Markul]           29                  841  \n",
       "62                       [Michael Jackson]           29                  841  \n",
       "63                                 [ХАБИБ]           29                  841  \n",
       "64                              [Måneskin]           28                  784  \n",
       "65                                   [Zaz]           28                  784  \n",
       "66                                [#2Маши]           28                  784  \n",
       "67                         [The Offspring]           28                  784  \n",
       "68                             [Scorpions]           28                  784  \n",
       "69                           [Masked Wolf]           28                  784  \n",
       "70                          [Intelligency]           28                  784  \n",
       "71                               [Кипелов]           28                  784  \n",
       "72                       [HammAli & Navai]           28                  784  \n",
       "73                               [Градусы]           27                  729  \n",
       "74                               [Земфира]           27                  729  \n",
       "75                                 [Queen]           27                  729  \n",
       "76                            [Клава Кока]           27                  729  \n",
       "77                          [Lana Del Rey]           27                  729  \n",
       "78                             [SAINt JHN]           27                  729  \n",
       "79                                [Zivert]           27                  729  \n",
       "80                       [Imagine Dragons]           27                  729  \n",
       "81                           [Tones And I]           27                  729  \n",
       "82                                   [Sia]           27                  729  \n",
       "83                            [Nickelback]           27                  729  \n",
       "84                           [The Prodigy]           26                  676  \n",
       "85                           [DEAD BLONDE]           26                  676  \n",
       "86                           [OneRepublic]           26                  676  \n",
       "87                                  [Blur]           26                  676  \n",
       "88                            [Jah Khalib]           26                  676  \n",
       "89                      [Тима Белорусских]           26                  676  \n",
       "90                           [Alan Walker]           26                  676  \n",
       "91                               [Бумбокс]           26                  676  \n",
       "92                          [Агата Кристи]           26                  676  \n",
       "93                                [Ramil']           26                  676  \n",
       "94                                  [FILV]           26                  676  \n",
       "95                       [Hippie Sabotage]           26                  676  \n",
       "96                        [Grits, TobyMac]           26                  676  \n",
       "97                 [Red Hot Chili Peppers]           26                  676  \n",
       "98                       [TERNOVOY, AMCHI]           25                  625  \n",
       "99                       [HammAli & Navai]           25                  625  "
      ],
      "text/html": [
       "<div>\n",
       "<style scoped>\n",
       "    .dataframe tbody tr th:only-of-type {\n",
       "        vertical-align: middle;\n",
       "    }\n",
       "\n",
       "    .dataframe tbody tr th {\n",
       "        vertical-align: top;\n",
       "    }\n",
       "\n",
       "    .dataframe thead th {\n",
       "        text-align: right;\n",
       "    }\n",
       "</style>\n",
       "<table border=\"1\" class=\"dataframe\">\n",
       "  <thead>\n",
       "    <tr style=\"text-align: right;\">\n",
       "      <th></th>\n",
       "      <th>item_id</th>\n",
       "      <th>albums</th>\n",
       "      <th>genres</th>\n",
       "      <th>artists</th>\n",
       "      <th>count_plays</th>\n",
       "      <th>popularity_weighted</th>\n",
       "    </tr>\n",
       "  </thead>\n",
       "  <tbody>\n",
       "    <tr>\n",
       "      <th>0</th>\n",
       "      <td>33311009</td>\n",
       "      <td>[Shape Of Pop, NOW That's What I Call Music, E...</td>\n",
       "      <td>[rock, allrock]</td>\n",
       "      <td>[Imagine Dragons]</td>\n",
       "      <td>52</td>\n",
       "      <td>2704</td>\n",
       "    </tr>\n",
       "    <tr>\n",
       "      <th>1</th>\n",
       "      <td>35505245</td>\n",
       "      <td>[I Got Love, I Got Love]</td>\n",
       "      <td>[rusrap, rap]</td>\n",
       "      <td>[Miyagi &amp; Эндшпиль, Рем Дигга]</td>\n",
       "      <td>48</td>\n",
       "      <td>2304</td>\n",
       "    </tr>\n",
       "    <tr>\n",
       "      <th>2</th>\n",
       "      <td>51241318</td>\n",
       "      <td>[In the End, Christian TikTok, Trending Now 20...</td>\n",
       "      <td>[rnb]</td>\n",
       "      <td>[Tommee Profitt, Fleurie, Mellen Gi]</td>\n",
       "      <td>47</td>\n",
       "      <td>2209</td>\n",
       "    </tr>\n",
       "    <tr>\n",
       "      <th>3</th>\n",
       "      <td>178529</td>\n",
       "      <td>[Meteora, Meteora, Meteora, Meteora, 00s Rock ...</td>\n",
       "      <td>[numetal, metal]</td>\n",
       "      <td>[Linkin Park]</td>\n",
       "      <td>46</td>\n",
       "      <td>2116</td>\n",
       "    </tr>\n",
       "    <tr>\n",
       "      <th>4</th>\n",
       "      <td>37384</td>\n",
       "      <td>[Stars: The Best Of The Cranberries 1992-2002,...</td>\n",
       "      <td>[rock, allrock]</td>\n",
       "      <td>[The Cranberries]</td>\n",
       "      <td>45</td>\n",
       "      <td>2025</td>\n",
       "    </tr>\n",
       "    <tr>\n",
       "      <th>5</th>\n",
       "      <td>148345</td>\n",
       "      <td>[Greatest Hits, Californication, Californicati...</td>\n",
       "      <td>[rock, allrock]</td>\n",
       "      <td>[Red Hot Chili Peppers]</td>\n",
       "      <td>44</td>\n",
       "      <td>1936</td>\n",
       "    </tr>\n",
       "    <tr>\n",
       "      <th>6</th>\n",
       "      <td>328683</td>\n",
       "      <td>[Fallen, Daredevil - The Album (Music From The...</td>\n",
       "      <td>[alternative, rock, allrock]</td>\n",
       "      <td>[Evanescence]</td>\n",
       "      <td>43</td>\n",
       "      <td>1849</td>\n",
       "    </tr>\n",
       "    <tr>\n",
       "      <th>7</th>\n",
       "      <td>24692821</td>\n",
       "      <td>[Way down We Go, Summer Music 2016, A/B, DFM D...</td>\n",
       "      <td>[indie]</td>\n",
       "      <td>[KALEO]</td>\n",
       "      <td>43</td>\n",
       "      <td>1849</td>\n",
       "    </tr>\n",
       "    <tr>\n",
       "      <th>8</th>\n",
       "      <td>18385776</td>\n",
       "      <td>[Freaks, Freaks, Metro FM Dance Hits 2015, Тан...</td>\n",
       "      <td>[dance, electronics, house]</td>\n",
       "      <td>[Timmy Trumpet, Savage]</td>\n",
       "      <td>42</td>\n",
       "      <td>1764</td>\n",
       "    </tr>\n",
       "    <tr>\n",
       "      <th>9</th>\n",
       "      <td>53404</td>\n",
       "      <td>[Nevermind, Nirvana, Nevermind, Nevermind, Nev...</td>\n",
       "      <td>[alternative, rock, allrock]</td>\n",
       "      <td>[Nirvana]</td>\n",
       "      <td>42</td>\n",
       "      <td>1764</td>\n",
       "    </tr>\n",
       "    <tr>\n",
       "      <th>10</th>\n",
       "      <td>54798445</td>\n",
       "      <td>[Прятки]</td>\n",
       "      <td>[rusrap, rap]</td>\n",
       "      <td>[HammAli &amp; Navai]</td>\n",
       "      <td>41</td>\n",
       "      <td>1681</td>\n",
       "    </tr>\n",
       "    <tr>\n",
       "      <th>11</th>\n",
       "      <td>6705392</td>\n",
       "      <td>[Elephant, Seven Nation Army, Pay Close Attent...</td>\n",
       "      <td>[alternative]</td>\n",
       "      <td>[The White Stripes]</td>\n",
       "      <td>40</td>\n",
       "      <td>1600</td>\n",
       "    </tr>\n",
       "    <tr>\n",
       "      <th>12</th>\n",
       "      <td>32947997</td>\n",
       "      <td>[Shape of You, ÷, ÷, Summer Vibes, Pop]</td>\n",
       "      <td>[pop]</td>\n",
       "      <td>[Ed Sheeran]</td>\n",
       "      <td>40</td>\n",
       "      <td>1600</td>\n",
       "    </tr>\n",
       "    <tr>\n",
       "      <th>13</th>\n",
       "      <td>2758009</td>\n",
       "      <td>[Innuendo, Innuendo, Bohemian Rhapsody, Greate...</td>\n",
       "      <td>[rock, films, soundtrack, allrock]</td>\n",
       "      <td>[Queen]</td>\n",
       "      <td>40</td>\n",
       "      <td>1600</td>\n",
       "    </tr>\n",
       "    <tr>\n",
       "      <th>14</th>\n",
       "      <td>60292250</td>\n",
       "      <td>[Blinding Lights, After Hours, After Hours, Af...</td>\n",
       "      <td>[rnb]</td>\n",
       "      <td>[The Weeknd]</td>\n",
       "      <td>39</td>\n",
       "      <td>1521</td>\n",
       "    </tr>\n",
       "    <tr>\n",
       "      <th>15</th>\n",
       "      <td>48951</td>\n",
       "      <td>[Crush, Now 5, Bon Jovi Greatest Hits - The Ul...</td>\n",
       "      <td>[rock, hardrock, allrock]</td>\n",
       "      <td>[Bon Jovi]</td>\n",
       "      <td>39</td>\n",
       "      <td>1521</td>\n",
       "    </tr>\n",
       "    <tr>\n",
       "      <th>16</th>\n",
       "      <td>45499814</td>\n",
       "      <td>[Life, Life, Made in Russia, Fresh Dance, Life...</td>\n",
       "      <td>[pop, ruspop]</td>\n",
       "      <td>[Zivert]</td>\n",
       "      <td>39</td>\n",
       "      <td>1521</td>\n",
       "    </tr>\n",
       "    <tr>\n",
       "      <th>17</th>\n",
       "      <td>795836</td>\n",
       "      <td>[Ten Summoner's Tales, 25 Years, The Best Of 2...</td>\n",
       "      <td>[pop, rock, allrock]</td>\n",
       "      <td>[Sting]</td>\n",
       "      <td>39</td>\n",
       "      <td>1521</td>\n",
       "    </tr>\n",
       "    <tr>\n",
       "      <th>18</th>\n",
       "      <td>21519270</td>\n",
       "      <td>[Dancin]</td>\n",
       "      <td>[electronics, house]</td>\n",
       "      <td>[Aaron Smith, Krono, Luvli]</td>\n",
       "      <td>38</td>\n",
       "      <td>1444</td>\n",
       "    </tr>\n",
       "    <tr>\n",
       "      <th>19</th>\n",
       "      <td>17079396</td>\n",
       "      <td>[Take Me To Church, Hozier, Hozier, Hozier, Лу...</td>\n",
       "      <td>[indie]</td>\n",
       "      <td>[Hozier]</td>\n",
       "      <td>38</td>\n",
       "      <td>1444</td>\n",
       "    </tr>\n",
       "    <tr>\n",
       "      <th>20</th>\n",
       "      <td>694683</td>\n",
       "      <td>[Highway To Hell, Highway to Hell, Iron Man 2]</td>\n",
       "      <td>[hardrock, allrock]</td>\n",
       "      <td>[AC/DC]</td>\n",
       "      <td>38</td>\n",
       "      <td>1444</td>\n",
       "    </tr>\n",
       "    <tr>\n",
       "      <th>21</th>\n",
       "      <td>29544272</td>\n",
       "      <td>[Human, Human, Some Chillout Music, Music Made...</td>\n",
       "      <td>[soundtrack, indie]</td>\n",
       "      <td>[Rag'n'Bone Man]</td>\n",
       "      <td>37</td>\n",
       "      <td>1369</td>\n",
       "    </tr>\n",
       "    <tr>\n",
       "      <th>22</th>\n",
       "      <td>49961817</td>\n",
       "      <td>[Грустный дэнс, 7 (Part 1), Spring Music 2019]</td>\n",
       "      <td>[pop, ruspop]</td>\n",
       "      <td>[Artik &amp; Asti, Артём Качер]</td>\n",
       "      <td>37</td>\n",
       "      <td>1369</td>\n",
       "    </tr>\n",
       "    <tr>\n",
       "      <th>23</th>\n",
       "      <td>43942453</td>\n",
       "      <td>[АРГУМЕНТЫ]</td>\n",
       "      <td>[local-indie, indie]</td>\n",
       "      <td>[RSAC]</td>\n",
       "      <td>37</td>\n",
       "      <td>1369</td>\n",
       "    </tr>\n",
       "    <tr>\n",
       "      <th>24</th>\n",
       "      <td>50685843</td>\n",
       "      <td>[Акустический альбом]</td>\n",
       "      <td>[punk]</td>\n",
       "      <td>[Король и Шут]</td>\n",
       "      <td>37</td>\n",
       "      <td>1369</td>\n",
       "    </tr>\n",
       "    <tr>\n",
       "      <th>25</th>\n",
       "      <td>52395280</td>\n",
       "      <td>[Paris, Paris]</td>\n",
       "      <td>[electronics]</td>\n",
       "      <td>[Else]</td>\n",
       "      <td>37</td>\n",
       "      <td>1369</td>\n",
       "    </tr>\n",
       "    <tr>\n",
       "      <th>26</th>\n",
       "      <td>52380688</td>\n",
       "      <td>[Любимка]</td>\n",
       "      <td>[pop, ruspop]</td>\n",
       "      <td>[NILETTO]</td>\n",
       "      <td>36</td>\n",
       "      <td>1296</td>\n",
       "    </tr>\n",
       "    <tr>\n",
       "      <th>27</th>\n",
       "      <td>39257277</td>\n",
       "      <td>[In My Mind, In My Mind, Dance Hits 2019 - Sum...</td>\n",
       "      <td>[dance]</td>\n",
       "      <td>[Dynoro, Gigi D'Agostino]</td>\n",
       "      <td>36</td>\n",
       "      <td>1296</td>\n",
       "    </tr>\n",
       "    <tr>\n",
       "      <th>28</th>\n",
       "      <td>19152669</td>\n",
       "      <td>[Centuries, American Beauty/American Psycho, A...</td>\n",
       "      <td>[alternative]</td>\n",
       "      <td>[Fall Out Boy]</td>\n",
       "      <td>36</td>\n",
       "      <td>1296</td>\n",
       "    </tr>\n",
       "    <tr>\n",
       "      <th>29</th>\n",
       "      <td>52100</td>\n",
       "      <td>[The Singles Collection, No Doubt, Tragic King...</td>\n",
       "      <td>[pop]</td>\n",
       "      <td>[No Doubt]</td>\n",
       "      <td>36</td>\n",
       "      <td>1296</td>\n",
       "    </tr>\n",
       "    <tr>\n",
       "      <th>30</th>\n",
       "      <td>44184116</td>\n",
       "      <td>[Незабудка]</td>\n",
       "      <td>[pop, ruspop]</td>\n",
       "      <td>[Тима Белорусских]</td>\n",
       "      <td>35</td>\n",
       "      <td>1225</td>\n",
       "    </tr>\n",
       "    <tr>\n",
       "      <th>31</th>\n",
       "      <td>39089632</td>\n",
       "      <td>[Гранатовый альбом]</td>\n",
       "      <td>[rusrock, allrock]</td>\n",
       "      <td>[Сплин]</td>\n",
       "      <td>35</td>\n",
       "      <td>1225</td>\n",
       "    </tr>\n",
       "    <tr>\n",
       "      <th>32</th>\n",
       "      <td>56776952</td>\n",
       "      <td>[2 типа людей]</td>\n",
       "      <td>[rusrap, rap]</td>\n",
       "      <td>[Макс Корж]</td>\n",
       "      <td>35</td>\n",
       "      <td>1225</td>\n",
       "    </tr>\n",
       "    <tr>\n",
       "      <th>33</th>\n",
       "      <td>33977439</td>\n",
       "      <td>[Feel It Still, Woodstock, Summer House, Summe...</td>\n",
       "      <td>[indie]</td>\n",
       "      <td>[Portugal. The Man]</td>\n",
       "      <td>35</td>\n",
       "      <td>1225</td>\n",
       "    </tr>\n",
       "    <tr>\n",
       "      <th>34</th>\n",
       "      <td>29569939</td>\n",
       "      <td>[Tuesday, Танцевальный рай 37, Hit List 2016, ...</td>\n",
       "      <td>[dance]</td>\n",
       "      <td>[Burak Yeter, Danelle Sandoval]</td>\n",
       "      <td>34</td>\n",
       "      <td>1156</td>\n",
       "    </tr>\n",
       "    <tr>\n",
       "      <th>35</th>\n",
       "      <td>9282507</td>\n",
       "      <td>[Родина, Navigator Records 15]</td>\n",
       "      <td>[rusrock, allrock]</td>\n",
       "      <td>[АнимациЯ]</td>\n",
       "      <td>34</td>\n",
       "      <td>1156</td>\n",
       "    </tr>\n",
       "    <tr>\n",
       "      <th>36</th>\n",
       "      <td>39946957</td>\n",
       "      <td>[Сияй]</td>\n",
       "      <td>[pop, ruspop]</td>\n",
       "      <td>[Zivert]</td>\n",
       "      <td>34</td>\n",
       "      <td>1156</td>\n",
       "    </tr>\n",
       "    <tr>\n",
       "      <th>37</th>\n",
       "      <td>51516485</td>\n",
       "      <td>[WHEN WE ALL FALL ASLEEP, WHERE DO WE GO?, 202...</td>\n",
       "      <td>[indie]</td>\n",
       "      <td>[Billie Eilish]</td>\n",
       "      <td>34</td>\n",
       "      <td>1156</td>\n",
       "    </tr>\n",
       "    <tr>\n",
       "      <th>38</th>\n",
       "      <td>3581309</td>\n",
       "      <td>[Making Mirrors, Somebody That I Used To Know,...</td>\n",
       "      <td>[pop]</td>\n",
       "      <td>[Gotye, Kimbra]</td>\n",
       "      <td>34</td>\n",
       "      <td>1156</td>\n",
       "    </tr>\n",
       "    <tr>\n",
       "      <th>39</th>\n",
       "      <td>65851540</td>\n",
       "      <td>[Юность]</td>\n",
       "      <td>[pop, ruspop]</td>\n",
       "      <td>[Dabro]</td>\n",
       "      <td>33</td>\n",
       "      <td>1089</td>\n",
       "    </tr>\n",
       "    <tr>\n",
       "      <th>40</th>\n",
       "      <td>43052381</td>\n",
       "      <td>[Мокрые кроссы]</td>\n",
       "      <td>[pop, ruspop]</td>\n",
       "      <td>[Тима Белорусских]</td>\n",
       "      <td>32</td>\n",
       "      <td>1024</td>\n",
       "    </tr>\n",
       "    <tr>\n",
       "      <th>41</th>\n",
       "      <td>6679078</td>\n",
       "      <td>[xx]</td>\n",
       "      <td>[indie]</td>\n",
       "      <td>[The xx]</td>\n",
       "      <td>32</td>\n",
       "      <td>1024</td>\n",
       "    </tr>\n",
       "    <tr>\n",
       "      <th>42</th>\n",
       "      <td>47627256</td>\n",
       "      <td>[Cradles, Cradles]</td>\n",
       "      <td>[electronics]</td>\n",
       "      <td>[Sub Urban]</td>\n",
       "      <td>32</td>\n",
       "      <td>1024</td>\n",
       "    </tr>\n",
       "    <tr>\n",
       "      <th>43</th>\n",
       "      <td>9047114</td>\n",
       "      <td>[Батарейка]</td>\n",
       "      <td>[rusrock, allrock]</td>\n",
       "      <td>[Жуки]</td>\n",
       "      <td>32</td>\n",
       "      <td>1024</td>\n",
       "    </tr>\n",
       "    <tr>\n",
       "      <th>44</th>\n",
       "      <td>57921154</td>\n",
       "      <td>[Комета]</td>\n",
       "      <td>[pop, ruspop]</td>\n",
       "      <td>[JONY]</td>\n",
       "      <td>31</td>\n",
       "      <td>961</td>\n",
       "    </tr>\n",
       "    <tr>\n",
       "      <th>45</th>\n",
       "      <td>23559960</td>\n",
       "      <td>[Stressed Out, Blurryface, Spring Music 2016, ...</td>\n",
       "      <td>[indie]</td>\n",
       "      <td>[twenty one pilots]</td>\n",
       "      <td>31</td>\n",
       "      <td>961</td>\n",
       "    </tr>\n",
       "    <tr>\n",
       "      <th>46</th>\n",
       "      <td>76434671</td>\n",
       "      <td>[Горький вкус, Горячие Хиты Кавказа 2]</td>\n",
       "      <td>[folk, caucasian]</td>\n",
       "      <td>[Султан Лагучев]</td>\n",
       "      <td>31</td>\n",
       "      <td>961</td>\n",
       "    </tr>\n",
       "    <tr>\n",
       "      <th>47</th>\n",
       "      <td>44279380</td>\n",
       "      <td>[Karma, Teta Records - Nr 1! Best of 2018, Пла...</td>\n",
       "      <td>[pop, dance]</td>\n",
       "      <td>[KAZKA]</td>\n",
       "      <td>31</td>\n",
       "      <td>961</td>\n",
       "    </tr>\n",
       "    <tr>\n",
       "      <th>48</th>\n",
       "      <td>29611476</td>\n",
       "      <td>[Heathens, Suicide Squad: The Album, Suicide S...</td>\n",
       "      <td>[films, soundtrack]</td>\n",
       "      <td>[twenty one pilots]</td>\n",
       "      <td>31</td>\n",
       "      <td>961</td>\n",
       "    </tr>\n",
       "    <tr>\n",
       "      <th>49</th>\n",
       "      <td>70619465</td>\n",
       "      <td>[Если тебе будет грустно]</td>\n",
       "      <td>[pop, ruspop]</td>\n",
       "      <td>[Rauf &amp; Faik, NILETTO]</td>\n",
       "      <td>30</td>\n",
       "      <td>900</td>\n",
       "    </tr>\n",
       "    <tr>\n",
       "      <th>50</th>\n",
       "      <td>66869588</td>\n",
       "      <td>[Краш]</td>\n",
       "      <td>[pop, ruspop]</td>\n",
       "      <td>[Клава Кока, NILETTO]</td>\n",
       "      <td>30</td>\n",
       "      <td>900</td>\n",
       "    </tr>\n",
       "    <tr>\n",
       "      <th>51</th>\n",
       "      <td>35170143</td>\n",
       "      <td>[Whatever It Takes, Gaming Flow, Evolve, Verif...</td>\n",
       "      <td>[rock, allrock]</td>\n",
       "      <td>[Imagine Dragons]</td>\n",
       "      <td>30</td>\n",
       "      <td>900</td>\n",
       "    </tr>\n",
       "    <tr>\n",
       "      <th>52</th>\n",
       "      <td>24663745</td>\n",
       "      <td>[Ocean Drive, Ocean Drive, Blasé Boys Club, Fr...</td>\n",
       "      <td>[dance, electronics]</td>\n",
       "      <td>[Duke Dumont]</td>\n",
       "      <td>30</td>\n",
       "      <td>900</td>\n",
       "    </tr>\n",
       "    <tr>\n",
       "      <th>53</th>\n",
       "      <td>280972</td>\n",
       "      <td>[Rocky Balboa: The Best Of Rocky, Survivor Gre...</td>\n",
       "      <td>[rock, hardrock, allrock]</td>\n",
       "      <td>[Survivor]</td>\n",
       "      <td>30</td>\n",
       "      <td>900</td>\n",
       "    </tr>\n",
       "    <tr>\n",
       "      <th>54</th>\n",
       "      <td>137670</td>\n",
       "      <td>[Rhino Hi-Five: Coolio, Songs You Know:  Ol' S...</td>\n",
       "      <td>[foreignrap, rap]</td>\n",
       "      <td>[Coolio, L.V.]</td>\n",
       "      <td>30</td>\n",
       "      <td>900</td>\n",
       "    </tr>\n",
       "    <tr>\n",
       "      <th>55</th>\n",
       "      <td>37258117</td>\n",
       "      <td>[В диапазоне между отчаянием и надеждой, Панки...</td>\n",
       "      <td>[punk]</td>\n",
       "      <td>[Порнофильмы]</td>\n",
       "      <td>30</td>\n",
       "      <td>900</td>\n",
       "    </tr>\n",
       "    <tr>\n",
       "      <th>56</th>\n",
       "      <td>34976783</td>\n",
       "      <td>[Thunder, Summer Songs, NOW That's What I Call...</td>\n",
       "      <td>[rock, allrock]</td>\n",
       "      <td>[Imagine Dragons]</td>\n",
       "      <td>29</td>\n",
       "      <td>841</td>\n",
       "    </tr>\n",
       "    <tr>\n",
       "      <th>57</th>\n",
       "      <td>16298499</td>\n",
       "      <td>[Dernière Danse, Mini World, Mini World, Reina...</td>\n",
       "      <td>[estrada]</td>\n",
       "      <td>[Indila]</td>\n",
       "      <td>29</td>\n",
       "      <td>841</td>\n",
       "    </tr>\n",
       "    <tr>\n",
       "      <th>58</th>\n",
       "      <td>17902234</td>\n",
       "      <td>[Prayer in C, Prayer, Winter Music 2015, Winte...</td>\n",
       "      <td>[alternative, dance]</td>\n",
       "      <td>[Robin Schulz, Lilly Wood &amp; The Prick]</td>\n",
       "      <td>29</td>\n",
       "      <td>841</td>\n",
       "    </tr>\n",
       "    <tr>\n",
       "      <th>59</th>\n",
       "      <td>61565558</td>\n",
       "      <td>[Луна не знает пути, СОЮЗ 63]</td>\n",
       "      <td>[pop, ruspop]</td>\n",
       "      <td>[Тайпан, Agunda]</td>\n",
       "      <td>29</td>\n",
       "      <td>841</td>\n",
       "    </tr>\n",
       "    <tr>\n",
       "      <th>60</th>\n",
       "      <td>81848875</td>\n",
       "      <td>[Федерико Феллини]</td>\n",
       "      <td>[pop, ruspop]</td>\n",
       "      <td>[Galibri &amp; Mavik]</td>\n",
       "      <td>29</td>\n",
       "      <td>841</td>\n",
       "    </tr>\n",
       "    <tr>\n",
       "      <th>61</th>\n",
       "      <td>84382282</td>\n",
       "      <td>[Я в моменте]</td>\n",
       "      <td>[rusrap, rap]</td>\n",
       "      <td>[Джарахов, Markul]</td>\n",
       "      <td>29</td>\n",
       "      <td>841</td>\n",
       "    </tr>\n",
       "    <tr>\n",
       "      <th>62</th>\n",
       "      <td>628320</td>\n",
       "      <td>[Thriller, Michael Jackson: The Ultimate Colle...</td>\n",
       "      <td>[pop]</td>\n",
       "      <td>[Michael Jackson]</td>\n",
       "      <td>29</td>\n",
       "      <td>841</td>\n",
       "    </tr>\n",
       "    <tr>\n",
       "      <th>63</th>\n",
       "      <td>73376988</td>\n",
       "      <td>[Ягода малинка]</td>\n",
       "      <td>[pop, ruspop]</td>\n",
       "      <td>[ХАБИБ]</td>\n",
       "      <td>29</td>\n",
       "      <td>841</td>\n",
       "    </tr>\n",
       "    <tr>\n",
       "      <th>64</th>\n",
       "      <td>38275100</td>\n",
       "      <td>[Chosen]</td>\n",
       "      <td>[allrock]</td>\n",
       "      <td>[Måneskin]</td>\n",
       "      <td>28</td>\n",
       "      <td>784</td>\n",
       "    </tr>\n",
       "    <tr>\n",
       "      <th>65</th>\n",
       "      <td>765627</td>\n",
       "      <td>[Je Veux, Je Veux, Zaz, Cafe Puls Hits 2010, Z...</td>\n",
       "      <td>[pop]</td>\n",
       "      <td>[Zaz]</td>\n",
       "      <td>28</td>\n",
       "      <td>784</td>\n",
       "    </tr>\n",
       "    <tr>\n",
       "      <th>66</th>\n",
       "      <td>45130892</td>\n",
       "      <td>[Мама, я танцую]</td>\n",
       "      <td>[pop, ruspop]</td>\n",
       "      <td>[#2Маши]</td>\n",
       "      <td>28</td>\n",
       "      <td>784</td>\n",
       "    </tr>\n",
       "    <tr>\n",
       "      <th>67</th>\n",
       "      <td>630670</td>\n",
       "      <td>[Rise And Fall, Rage And Grace, Rise And Fall,...</td>\n",
       "      <td>[punk]</td>\n",
       "      <td>[The Offspring]</td>\n",
       "      <td>28</td>\n",
       "      <td>784</td>\n",
       "    </tr>\n",
       "    <tr>\n",
       "      <th>68</th>\n",
       "      <td>10216</td>\n",
       "      <td>[True 90s, Crazy World, Face The Heat / Crazy ...</td>\n",
       "      <td>[hardrock, allrock]</td>\n",
       "      <td>[Scorpions]</td>\n",
       "      <td>28</td>\n",
       "      <td>784</td>\n",
       "    </tr>\n",
       "    <tr>\n",
       "      <th>69</th>\n",
       "      <td>75944934</td>\n",
       "      <td>[Astronaut In The Ocean, Astronomical]</td>\n",
       "      <td>[foreignrap, rap]</td>\n",
       "      <td>[Masked Wolf]</td>\n",
       "      <td>28</td>\n",
       "      <td>784</td>\n",
       "    </tr>\n",
       "    <tr>\n",
       "      <th>70</th>\n",
       "      <td>55561798</td>\n",
       "      <td>[August, Renovatio]</td>\n",
       "      <td>[electronics]</td>\n",
       "      <td>[Intelligency]</td>\n",
       "      <td>28</td>\n",
       "      <td>784</td>\n",
       "    </tr>\n",
       "    <tr>\n",
       "      <th>71</th>\n",
       "      <td>595258</td>\n",
       "      <td>[Вавилон]</td>\n",
       "      <td>[classicmetal, metal]</td>\n",
       "      <td>[Кипелов]</td>\n",
       "      <td>28</td>\n",
       "      <td>784</td>\n",
       "    </tr>\n",
       "    <tr>\n",
       "      <th>72</th>\n",
       "      <td>50834580</td>\n",
       "      <td>[Девочка-война, ZHARA Vol.1]</td>\n",
       "      <td>[rusrap, rap]</td>\n",
       "      <td>[HammAli &amp; Navai]</td>\n",
       "      <td>28</td>\n",
       "      <td>784</td>\n",
       "    </tr>\n",
       "    <tr>\n",
       "      <th>73</th>\n",
       "      <td>582507</td>\n",
       "      <td>[Голая]</td>\n",
       "      <td>[pop, ruspop]</td>\n",
       "      <td>[Градусы]</td>\n",
       "      <td>27</td>\n",
       "      <td>729</td>\n",
       "    </tr>\n",
       "    <tr>\n",
       "      <th>74</th>\n",
       "      <td>732405</td>\n",
       "      <td>[ПРОСТИ МЕНЯ МОЯ ЛЮБОВЬ]</td>\n",
       "      <td>[rusrock, allrock]</td>\n",
       "      <td>[Земфира]</td>\n",
       "      <td>27</td>\n",
       "      <td>729</td>\n",
       "    </tr>\n",
       "    <tr>\n",
       "      <th>75</th>\n",
       "      <td>1710811</td>\n",
       "      <td>[Greatest Hits, News Of The World, News Of The...</td>\n",
       "      <td>[rock, hardrock, allrock]</td>\n",
       "      <td>[Queen]</td>\n",
       "      <td>27</td>\n",
       "      <td>729</td>\n",
       "    </tr>\n",
       "    <tr>\n",
       "      <th>76</th>\n",
       "      <td>62244864</td>\n",
       "      <td>[Покинула чат]</td>\n",
       "      <td>[pop, ruspop]</td>\n",
       "      <td>[Клава Кока]</td>\n",
       "      <td>27</td>\n",
       "      <td>729</td>\n",
       "    </tr>\n",
       "    <tr>\n",
       "      <th>77</th>\n",
       "      <td>10270285</td>\n",
       "      <td>[Young And Beautiful, Music From Baz Luhrmann'...</td>\n",
       "      <td>[pop]</td>\n",
       "      <td>[Lana Del Rey]</td>\n",
       "      <td>27</td>\n",
       "      <td>729</td>\n",
       "    </tr>\n",
       "    <tr>\n",
       "      <th>78</th>\n",
       "      <td>57799893</td>\n",
       "      <td>[Roses, Fresh Dance, Yeni Dünya Special Dance ...</td>\n",
       "      <td>[dance]</td>\n",
       "      <td>[SAINt JHN]</td>\n",
       "      <td>27</td>\n",
       "      <td>729</td>\n",
       "    </tr>\n",
       "    <tr>\n",
       "      <th>79</th>\n",
       "      <td>56920237</td>\n",
       "      <td>[Vinyl #1, Первый танцевальный. Vol. 18, Vinyl...</td>\n",
       "      <td>[pop, ruspop]</td>\n",
       "      <td>[Zivert]</td>\n",
       "      <td>27</td>\n",
       "      <td>729</td>\n",
       "    </tr>\n",
       "    <tr>\n",
       "      <th>80</th>\n",
       "      <td>42197229</td>\n",
       "      <td>[Natural, Origins, Origins, Больше хитов! Боль...</td>\n",
       "      <td>[rock, allrock]</td>\n",
       "      <td>[Imagine Dragons]</td>\n",
       "      <td>27</td>\n",
       "      <td>729</td>\n",
       "    </tr>\n",
       "    <tr>\n",
       "      <th>81</th>\n",
       "      <td>56204557</td>\n",
       "      <td>[Dance Monkey, The Kids Are Coming, 100 Greate...</td>\n",
       "      <td>[pop]</td>\n",
       "      <td>[Tones And I]</td>\n",
       "      <td>27</td>\n",
       "      <td>729</td>\n",
       "    </tr>\n",
       "    <tr>\n",
       "      <th>82</th>\n",
       "      <td>26790968</td>\n",
       "      <td>[Unstoppable, This Is Acting, Танцевальный рай...</td>\n",
       "      <td>[pop]</td>\n",
       "      <td>[Sia]</td>\n",
       "      <td>27</td>\n",
       "      <td>729</td>\n",
       "    </tr>\n",
       "    <tr>\n",
       "      <th>83</th>\n",
       "      <td>2786721</td>\n",
       "      <td>[When We Stand Together, Here And Now, Here an...</td>\n",
       "      <td>[rock, allrock]</td>\n",
       "      <td>[Nickelback]</td>\n",
       "      <td>27</td>\n",
       "      <td>729</td>\n",
       "    </tr>\n",
       "    <tr>\n",
       "      <th>84</th>\n",
       "      <td>707386</td>\n",
       "      <td>[Epic, Their Law The Singles 1990 - 2005, The ...</td>\n",
       "      <td>[electronics, all]</td>\n",
       "      <td>[The Prodigy]</td>\n",
       "      <td>26</td>\n",
       "      <td>676</td>\n",
       "    </tr>\n",
       "    <tr>\n",
       "      <th>85</th>\n",
       "      <td>65320824</td>\n",
       "      <td>[Пропаганда]</td>\n",
       "      <td>[dance]</td>\n",
       "      <td>[DEAD BLONDE]</td>\n",
       "      <td>26</td>\n",
       "      <td>676</td>\n",
       "    </tr>\n",
       "    <tr>\n",
       "      <th>86</th>\n",
       "      <td>114334</td>\n",
       "      <td>[Waking Up, All The Right Moves, Edited, Wakin...</td>\n",
       "      <td>[pop, rock, allrock]</td>\n",
       "      <td>[OneRepublic]</td>\n",
       "      <td>26</td>\n",
       "      <td>676</td>\n",
       "    </tr>\n",
       "    <tr>\n",
       "      <th>87</th>\n",
       "      <td>96089</td>\n",
       "      <td>[Essential Bands, Essential Bands, Blur: The B...</td>\n",
       "      <td>[rock, allrock]</td>\n",
       "      <td>[Blur]</td>\n",
       "      <td>26</td>\n",
       "      <td>676</td>\n",
       "    </tr>\n",
       "    <tr>\n",
       "      <th>88</th>\n",
       "      <td>39548431</td>\n",
       "      <td>[Медина]</td>\n",
       "      <td>[rusrap, rap]</td>\n",
       "      <td>[Jah Khalib]</td>\n",
       "      <td>26</td>\n",
       "      <td>676</td>\n",
       "    </tr>\n",
       "    <tr>\n",
       "      <th>89</th>\n",
       "      <td>49125069</td>\n",
       "      <td>[Твой первый диск - моя кассета]</td>\n",
       "      <td>[pop, ruspop]</td>\n",
       "      <td>[Тима Белорусских]</td>\n",
       "      <td>26</td>\n",
       "      <td>676</td>\n",
       "    </tr>\n",
       "    <tr>\n",
       "      <th>90</th>\n",
       "      <td>25995209</td>\n",
       "      <td>[Faded, Men's Health: Beach Body Workout, KISS...</td>\n",
       "      <td>[dance]</td>\n",
       "      <td>[Alan Walker]</td>\n",
       "      <td>26</td>\n",
       "      <td>676</td>\n",
       "    </tr>\n",
       "    <tr>\n",
       "      <th>91</th>\n",
       "      <td>33308946</td>\n",
       "      <td>[Family бізнес]</td>\n",
       "      <td>[ukrrock, allrock]</td>\n",
       "      <td>[Бумбокс]</td>\n",
       "      <td>26</td>\n",
       "      <td>676</td>\n",
       "    </tr>\n",
       "    <tr>\n",
       "      <th>92</th>\n",
       "      <td>28123186</td>\n",
       "      <td>[Избранное]</td>\n",
       "      <td>[rusrock, allrock]</td>\n",
       "      <td>[Агата Кристи]</td>\n",
       "      <td>26</td>\n",
       "      <td>676</td>\n",
       "    </tr>\n",
       "    <tr>\n",
       "      <th>93</th>\n",
       "      <td>68562711</td>\n",
       "      <td>[Сияй, Сияй]</td>\n",
       "      <td>[pop, ruspop]</td>\n",
       "      <td>[Ramil']</td>\n",
       "      <td>26</td>\n",
       "      <td>676</td>\n",
       "    </tr>\n",
       "    <tr>\n",
       "      <th>94</th>\n",
       "      <td>53694971</td>\n",
       "      <td>[BALENCIAGA, GANGSTER MUSIC, Vol. 1, Best Radi...</td>\n",
       "      <td>[dance]</td>\n",
       "      <td>[FILV]</td>\n",
       "      <td>26</td>\n",
       "      <td>676</td>\n",
       "    </tr>\n",
       "    <tr>\n",
       "      <th>95</th>\n",
       "      <td>34735046</td>\n",
       "      <td>[Providence]</td>\n",
       "      <td>[electronics]</td>\n",
       "      <td>[Hippie Sabotage]</td>\n",
       "      <td>26</td>\n",
       "      <td>676</td>\n",
       "    </tr>\n",
       "    <tr>\n",
       "      <th>96</th>\n",
       "      <td>19801149</td>\n",
       "      <td>[The Art of Translation, The Greatest Hits, Th...</td>\n",
       "      <td>[foreignrap, rap]</td>\n",
       "      <td>[Grits, TobyMac]</td>\n",
       "      <td>26</td>\n",
       "      <td>676</td>\n",
       "    </tr>\n",
       "    <tr>\n",
       "      <th>97</th>\n",
       "      <td>214489</td>\n",
       "      <td>[By The Way, By the Way, The Studio Album Coll...</td>\n",
       "      <td>[rock, allrock]</td>\n",
       "      <td>[Red Hot Chili Peppers]</td>\n",
       "      <td>26</td>\n",
       "      <td>676</td>\n",
       "    </tr>\n",
       "    <tr>\n",
       "      <th>98</th>\n",
       "      <td>53117514</td>\n",
       "      <td>[Прочь]</td>\n",
       "      <td>[pop, ruspop]</td>\n",
       "      <td>[TERNOVOY, AMCHI]</td>\n",
       "      <td>25</td>\n",
       "      <td>625</td>\n",
       "    </tr>\n",
       "    <tr>\n",
       "      <th>99</th>\n",
       "      <td>83063895</td>\n",
       "      <td>[Птичка]</td>\n",
       "      <td>[pop, ruspop]</td>\n",
       "      <td>[HammAli &amp; Navai]</td>\n",
       "      <td>25</td>\n",
       "      <td>625</td>\n",
       "    </tr>\n",
       "  </tbody>\n",
       "</table>\n",
       "</div>"
      ]
     },
     "metadata": {},
     "output_type": "display_data"
    }
   ],
   "execution_count": 67
  },
  {
   "metadata": {
    "ExecuteTime": {
     "end_time": "2024-11-07T01:28:39.389284Z",
     "start_time": "2024-11-07T01:28:39.386055Z"
    }
   },
   "cell_type": "code",
   "source": "top_k_pop_items.to_parquet(\"./data/top_popular.parquet\")",
   "id": "3e772f6052ad09ba",
   "outputs": [],
   "execution_count": 68
  },
  {
   "metadata": {},
   "cell_type": "markdown",
   "source": "### 3.4 Персональные рекомендации",
   "id": "3978a900d86e1a38"
  },
  {
   "metadata": {},
   "cell_type": "markdown",
   "source": "Рассчитаем персональные рекомендации.",
   "id": "7f4025622c1bc45b"
  },
  {
   "metadata": {
    "ExecuteTime": {
     "end_time": "2024-11-07T01:28:39.393410Z",
     "start_time": "2024-11-07T01:28:39.389715Z"
    }
   },
   "cell_type": "code",
   "source": [
    "# создаём sparse-матрицу формата CSR \n",
    "user_item_matrix_train = scipy.sparse.csr_matrix((\n",
    "    events_train['user_id_enc'],\n",
    "    (events_train['user_id_enc'], events_train['item_id_enc'])),\n",
    "    dtype=np.int8\n",
    ")"
   ],
   "id": "3916190f29b7145",
   "outputs": [],
   "execution_count": 69
  },
  {
   "metadata": {
    "ExecuteTime": {
     "end_time": "2024-11-07T01:29:10.261929Z",
     "start_time": "2024-11-07T01:28:39.393911Z"
    }
   },
   "cell_type": "code",
   "source": [
    "als_model = AlternatingLeastSquares(factors=50, iterations=20, regularization=0.05, random_state=42)\n",
    "als_model.fit(user_item_matrix_train)"
   ],
   "id": "f9e96496e1eafbad",
   "outputs": [
    {
     "data": {
      "text/plain": [
       "  0%|          | 0/20 [00:00<?, ?it/s]"
      ],
      "application/vnd.jupyter.widget-view+json": {
       "version_major": 2,
       "version_minor": 0,
       "model_id": "e5c5cdb80a314e0bbf63281285e013fb"
      }
     },
     "metadata": {},
     "output_type": "display_data"
    }
   ],
   "execution_count": 70
  },
  {
   "metadata": {
    "ExecuteTime": {
     "end_time": "2024-11-07T01:29:10.267340Z",
     "start_time": "2024-11-07T01:29:10.263342Z"
    }
   },
   "cell_type": "code",
   "source": [
    "# получаем список всех возможных user_id (перекодированных)\n",
    "user_ids_encoded = range(len(user_encoder.classes_))"
   ],
   "id": "ebebbb2259763c45",
   "outputs": [],
   "execution_count": 71
  },
  {
   "metadata": {
    "ExecuteTime": {
     "end_time": "2024-11-07T01:29:17.407892Z",
     "start_time": "2024-11-07T01:29:10.268424Z"
    }
   },
   "cell_type": "code",
   "source": [
    "# получаем рекомендации для всех пользователей\n",
    "als_recommendations = als_model.recommend(\n",
    "    user_ids_encoded,\n",
    "    user_item_matrix_train[user_ids_encoded],\n",
    "    filter_already_liked_items=False, \n",
    "    N=10\n",
    ")"
   ],
   "id": "88c0225326267440",
   "outputs": [],
   "execution_count": 72
  },
  {
   "metadata": {},
   "cell_type": "markdown",
   "source": "Код возвращает рекомендации как список списков, это не очень удобно. Преобразуем его в более удобный формат — табличный.",
   "id": "27fc439a3394c8df"
  },
  {
   "metadata": {
    "ExecuteTime": {
     "end_time": "2024-11-07T01:29:17.637714Z",
     "start_time": "2024-11-07T01:29:17.410028Z"
    }
   },
   "cell_type": "code",
   "source": [
    "# преобразуем полученные рекомендации в табличный формат\n",
    "item_ids_enc = als_recommendations[0]\n",
    "als_scores = als_recommendations[1]\n",
    "\n",
    "als_recommendations = pd.DataFrame({\n",
    "    \"user_id_enc\": user_ids_encoded,\n",
    "    \"item_id_enc\": item_ids_enc.tolist()}\n",
    ")\n",
    "als_recommendations = als_recommendations.explode([\"item_id_enc\"], ignore_index=True)\n",
    "\n",
    "# приводим типы данных\n",
    "als_recommendations[\"item_id_enc\"] = als_recommendations[\"item_id_enc\"].astype(\"int\")\n",
    "\n",
    "# получаем изначальные идентификаторы\n",
    "als_recommendations[\"user_id\"] = user_encoder.inverse_transform(als_recommendations[\"user_id_enc\"])\n",
    "als_recommendations[\"item_id\"] = item_encoder.inverse_transform(als_recommendations[\"item_id_enc\"])\n",
    "als_recommendations = als_recommendations.drop(columns=[\"user_id_enc\", \"item_id_enc\"])"
   ],
   "id": "3528737ba5666a46",
   "outputs": [],
   "execution_count": 73
  },
  {
   "metadata": {},
   "cell_type": "markdown",
   "source": "Сохраним полученные рекомендации в файл.",
   "id": "31c3898d81e9688c"
  },
  {
   "metadata": {
    "ExecuteTime": {
     "end_time": "2024-11-07T01:29:17.679145Z",
     "start_time": "2024-11-07T01:29:17.639236Z"
    }
   },
   "cell_type": "code",
   "source": "als_recommendations.to_parquet(\"./data/als_recommendations.parquet\")",
   "id": "8b48e7ba39020771",
   "outputs": [],
   "execution_count": 74
  },
  {
   "cell_type": "markdown",
   "id": "86159460-cd9d-4b63-8248-604ea3c9aebf",
   "metadata": {},
   "source": ""
  },
  {
   "cell_type": "markdown",
   "id": "5f09dc7e-7c91-4355-860a-b9cfb9f33f15",
   "metadata": {},
   "source": "### 3.5 Похожие треки"
  },
  {
   "cell_type": "markdown",
   "id": "1dfcb683-b440-40a8-9975-894156a53872",
   "metadata": {},
   "source": [
    "Рассчитаем похожие, они позже пригодятся для онлайн-рекомендаций."
   ]
  },
  {
   "cell_type": "code",
   "id": "ce370904-4c49-4152-8706-416074ea9b9a",
   "metadata": {
    "ExecuteTime": {
     "end_time": "2024-11-07T01:29:17.682632Z",
     "start_time": "2024-11-07T01:29:17.679770Z"
    }
   },
   "source": [
    "# получим энкодированные идентификаторы всех объектов, известных нам из events_train\n",
    "train_item_ids_enc = events_train['item_id_enc'].unique()"
   ],
   "outputs": [],
   "execution_count": 75
  },
  {
   "metadata": {
    "ExecuteTime": {
     "end_time": "2024-11-07T01:29:23.741779Z",
     "start_time": "2024-11-07T01:29:17.683138Z"
    }
   },
   "cell_type": "code",
   "source": [
    "max_similar_items = 10\n",
    "# получаем списки похожих объектов, используя ранее полученную ALS-модель\n",
    "# метод similar_items возвращает и сам объект, как наиболее похожий\n",
    "# этот объект мы позже отфильтруем, но сейчас запросим на 1 больше\n",
    "similar_items = als_model.similar_items(train_item_ids_enc, N=max_similar_items + 1)"
   ],
   "id": "5e4df15a4978c048",
   "outputs": [],
   "execution_count": 76
  },
  {
   "metadata": {
    "ExecuteTime": {
     "end_time": "2024-11-07T01:29:23.767469Z",
     "start_time": "2024-11-07T01:29:23.743635Z"
    }
   },
   "cell_type": "code",
   "source": [
    "# преобразуем полученные списки в табличный формат\n",
    "sim_item_item_ids_enc = similar_items[0]\n",
    "sim_item_scores = similar_items[1]\n",
    "similar_items = pd.DataFrame(columns=[\"item_id_enc\", \"sim_item_id_enc\", \"user_id_enc\"])\n",
    "\n",
    "# Convert columns to the appropriate data types\n",
    "similar_items[\"user_id_enc\"] = similar_items[\"user_id_enc\"].astype(int)\n",
    "similar_items[\"sim_item_id_enc\"] = similar_items[\"sim_item_id_enc\"].astype(int)"
   ],
   "id": "6bcebfb9ada9f786",
   "outputs": [],
   "execution_count": 77
  },
  {
   "metadata": {
    "ExecuteTime": {
     "end_time": "2024-11-07T01:29:23.923554Z",
     "start_time": "2024-11-07T01:29:23.777956Z"
    }
   },
   "cell_type": "code",
   "source": [
    "\n",
    "similar_items_list = []\n",
    "for item_id, sim_item_ids, sim_scores in zip(train_item_ids_enc, sim_item_item_ids_enc.tolist(),\n",
    "                                             sim_item_scores.tolist()):\n",
    "    similar_items_list.append((item_id, sim_item_ids, sim_scores))"
   ],
   "id": "bf04a4b9e3871b32",
   "outputs": [],
   "execution_count": 78
  },
  {
   "metadata": {
    "ExecuteTime": {
     "end_time": "2024-11-07T01:29:24.085839Z",
     "start_time": "2024-11-07T01:29:23.925243Z"
    }
   },
   "cell_type": "code",
   "source": [
    "# Create DataFrame from the list\n",
    "similar_items = pd.DataFrame(similar_items_list, columns=[\"item_id_enc\", \"sim_item_id_enc\", \"user_id_enc\"])\n",
    "similar_items = similar_items.explode([\"sim_item_id_enc\", \"user_id_enc\"], ignore_index=True)\n",
    "\n",
    "# Convert columns to the appropriate data types\n",
    "similar_items[\"user_id_enc\"] = similar_items[\"user_id_enc\"].astype(int)\n",
    "similar_items[\"sim_item_id_enc\"] = similar_items[\"sim_item_id_enc\"].astype(int)"
   ],
   "id": "6177020ea9353269",
   "outputs": [],
   "execution_count": 79
  },
  {
   "metadata": {
    "ExecuteTime": {
     "end_time": "2024-11-07T01:29:24.104907Z",
     "start_time": "2024-11-07T01:29:24.086564Z"
    }
   },
   "cell_type": "code",
   "source": [
    "# получаем изначальные идентификаторы\n",
    "similar_items[\"item_id_1\"] = item_encoder.inverse_transform(similar_items[\"item_id_enc\"])"
   ],
   "id": "d537c46bb6d80a4f",
   "outputs": [],
   "execution_count": 80
  },
  {
   "metadata": {
    "ExecuteTime": {
     "end_time": "2024-11-07T01:29:24.142195Z",
     "start_time": "2024-11-07T01:29:24.106889Z"
    }
   },
   "cell_type": "code",
   "source": [
    "# получаем изначальные идентификаторы\n",
    "similar_items[\"item_id_2\"] = item_encoder.inverse_transform(similar_items[\"sim_item_id_enc\"])"
   ],
   "id": "d41efc9f63cf3b1a",
   "outputs": [],
   "execution_count": 81
  },
  {
   "metadata": {
    "ExecuteTime": {
     "end_time": "2024-11-07T01:29:24.149127Z",
     "start_time": "2024-11-07T01:29:24.142927Z"
    }
   },
   "cell_type": "code",
   "source": [
    "# убираем ненужные колонки\n",
    "similar_items = similar_items.drop(columns=[\"item_id_enc\", \"sim_item_id_enc\"])"
   ],
   "id": "f9f89fd76d52cda",
   "outputs": [],
   "execution_count": 82
  },
  {
   "metadata": {
    "ExecuteTime": {
     "end_time": "2024-11-07T01:29:24.153369Z",
     "start_time": "2024-11-07T01:29:24.149951Z"
    }
   },
   "cell_type": "code",
   "source": [
    "# Выводим результат\n",
    "similar_items.head()"
   ],
   "id": "f062a6b6c4b32f88",
   "outputs": [
    {
     "data": {
      "text/plain": [
       "   user_id_enc  item_id_1  item_id_2\n",
       "0            1    3581309    3581309\n",
       "1            0    3581309   56614830\n",
       "2            0    3581309   14618106\n",
       "3            0    3581309   37875334\n",
       "4            0    3581309   42995305"
      ],
      "text/html": [
       "<div>\n",
       "<style scoped>\n",
       "    .dataframe tbody tr th:only-of-type {\n",
       "        vertical-align: middle;\n",
       "    }\n",
       "\n",
       "    .dataframe tbody tr th {\n",
       "        vertical-align: top;\n",
       "    }\n",
       "\n",
       "    .dataframe thead th {\n",
       "        text-align: right;\n",
       "    }\n",
       "</style>\n",
       "<table border=\"1\" class=\"dataframe\">\n",
       "  <thead>\n",
       "    <tr style=\"text-align: right;\">\n",
       "      <th></th>\n",
       "      <th>user_id_enc</th>\n",
       "      <th>item_id_1</th>\n",
       "      <th>item_id_2</th>\n",
       "    </tr>\n",
       "  </thead>\n",
       "  <tbody>\n",
       "    <tr>\n",
       "      <th>0</th>\n",
       "      <td>1</td>\n",
       "      <td>3581309</td>\n",
       "      <td>3581309</td>\n",
       "    </tr>\n",
       "    <tr>\n",
       "      <th>1</th>\n",
       "      <td>0</td>\n",
       "      <td>3581309</td>\n",
       "      <td>56614830</td>\n",
       "    </tr>\n",
       "    <tr>\n",
       "      <th>2</th>\n",
       "      <td>0</td>\n",
       "      <td>3581309</td>\n",
       "      <td>14618106</td>\n",
       "    </tr>\n",
       "    <tr>\n",
       "      <th>3</th>\n",
       "      <td>0</td>\n",
       "      <td>3581309</td>\n",
       "      <td>37875334</td>\n",
       "    </tr>\n",
       "    <tr>\n",
       "      <th>4</th>\n",
       "      <td>0</td>\n",
       "      <td>3581309</td>\n",
       "      <td>42995305</td>\n",
       "    </tr>\n",
       "  </tbody>\n",
       "</table>\n",
       "</div>"
      ]
     },
     "execution_count": 83,
     "metadata": {},
     "output_type": "execute_result"
    }
   ],
   "execution_count": 83
  },
  {
   "metadata": {
    "ExecuteTime": {
     "end_time": "2024-11-07T01:29:24.175677Z",
     "start_time": "2024-11-07T01:29:24.161315Z"
    }
   },
   "cell_type": "code",
   "source": [
    "# убираем пары с одинаковыми объектами\n",
    "similar_items = similar_items.query(\"item_id_1 != item_id_2\")"
   ],
   "id": "e670aa4be0174405",
   "outputs": [],
   "execution_count": 84
  },
  {
   "metadata": {
    "ExecuteTime": {
     "end_time": "2024-11-07T01:29:24.223337Z",
     "start_time": "2024-11-07T01:29:24.176775Z"
    }
   },
   "cell_type": "code",
   "source": "similar_items.to_parquet(\"./data/similar.parquet\")",
   "id": "c23fb31712b98f82",
   "outputs": [],
   "execution_count": 85
  },
  {
   "cell_type": "markdown",
   "id": "0087a3e7-ca9f-42cd-944c-944222c1baef",
   "metadata": {},
   "source": "### 3.6 Построение признаков"
  },
  {
   "cell_type": "markdown",
   "id": "e82a32e1-b90b-4eaf-9439-fc8deab9f34b",
   "metadata": {},
   "source": [
    "Построим три признака, можно больше, для ранжирующей модели."
   ]
  },
  {
   "metadata": {
    "ExecuteTime": {
     "end_time": "2024-11-07T01:29:24.712217Z",
     "start_time": "2024-11-07T01:29:24.224029Z"
    }
   },
   "cell_type": "code",
   "source": [
    "# Создание уникальных числовых идентификаторов для пользователей и треков\n",
    "user_id_map = {id: idx for idx, id in enumerate(events_train['user_id'].unique())}\n",
    "item_id_map = {id: idx for idx, id in enumerate(events_train['item_id'].unique())}\n",
    "events_train['user_id_enc'] = events_train['user_id'].map(user_id_map)\n",
    "events_train['item_id_enc'] = events_train['item_id'].map(item_id_map)"
   ],
   "id": "7dd1e2cb301810df",
   "outputs": [],
   "execution_count": 86
  },
  {
   "metadata": {
    "ExecuteTime": {
     "end_time": "2024-11-07T01:29:24.755738Z",
     "start_time": "2024-11-07T01:29:24.713867Z"
    }
   },
   "cell_type": "code",
   "source": [
    "# 1. Признак количества прослушиваний трека для каждого пользователя\n",
    "play_count = events_train.groupby(['user_id_enc', 'item_id_enc']).size().reset_index(name='play_count')\n",
    "\n",
    "# 2. Признак средней позиции прослушивания для каждого трека пользователя\n",
    "avg_track_seq = events_train.groupby(['user_id_enc', 'item_id_enc'])['track_seq'].mean().reset_index(name='avg_track_seq')\n",
    "\n",
    "# 3. Признак популярности трека: общее количество прослушиваний\n",
    "item_popularity = events_train.groupby('item_id_enc').size().reset_index(name='item_popularity')\n",
    "\n",
    "# Объединение признаков\n",
    "features = play_count.merge(avg_track_seq, on=['user_id_enc', 'item_id_enc'])\n",
    "features = features.merge(item_popularity, on='item_id_enc')"
   ],
   "id": "00f84c35-f544-4c3d-ad53-9b1d2b684c75",
   "outputs": [],
   "execution_count": 87
  },
  {
   "metadata": {
    "ExecuteTime": {
     "end_time": "2024-11-07T01:29:24.759689Z",
     "start_time": "2024-11-07T01:29:24.756476Z"
    }
   },
   "cell_type": "code",
   "source": "features.head()",
   "id": "3da779830aab9364",
   "outputs": [
    {
     "data": {
      "text/plain": [
       "   user_id_enc  item_id_enc  play_count  avg_track_seq  item_popularity\n",
       "0            0            0           1          131.0               34\n",
       "1            1            1           1          434.0               16\n",
       "2            1         7116           1         1105.0               14\n",
       "3            2            2           1          527.0                2\n",
       "4            2        33468           1          700.0                1"
      ],
      "text/html": [
       "<div>\n",
       "<style scoped>\n",
       "    .dataframe tbody tr th:only-of-type {\n",
       "        vertical-align: middle;\n",
       "    }\n",
       "\n",
       "    .dataframe tbody tr th {\n",
       "        vertical-align: top;\n",
       "    }\n",
       "\n",
       "    .dataframe thead th {\n",
       "        text-align: right;\n",
       "    }\n",
       "</style>\n",
       "<table border=\"1\" class=\"dataframe\">\n",
       "  <thead>\n",
       "    <tr style=\"text-align: right;\">\n",
       "      <th></th>\n",
       "      <th>user_id_enc</th>\n",
       "      <th>item_id_enc</th>\n",
       "      <th>play_count</th>\n",
       "      <th>avg_track_seq</th>\n",
       "      <th>item_popularity</th>\n",
       "    </tr>\n",
       "  </thead>\n",
       "  <tbody>\n",
       "    <tr>\n",
       "      <th>0</th>\n",
       "      <td>0</td>\n",
       "      <td>0</td>\n",
       "      <td>1</td>\n",
       "      <td>131.0</td>\n",
       "      <td>34</td>\n",
       "    </tr>\n",
       "    <tr>\n",
       "      <th>1</th>\n",
       "      <td>1</td>\n",
       "      <td>1</td>\n",
       "      <td>1</td>\n",
       "      <td>434.0</td>\n",
       "      <td>16</td>\n",
       "    </tr>\n",
       "    <tr>\n",
       "      <th>2</th>\n",
       "      <td>1</td>\n",
       "      <td>7116</td>\n",
       "      <td>1</td>\n",
       "      <td>1105.0</td>\n",
       "      <td>14</td>\n",
       "    </tr>\n",
       "    <tr>\n",
       "      <th>3</th>\n",
       "      <td>2</td>\n",
       "      <td>2</td>\n",
       "      <td>1</td>\n",
       "      <td>527.0</td>\n",
       "      <td>2</td>\n",
       "    </tr>\n",
       "    <tr>\n",
       "      <th>4</th>\n",
       "      <td>2</td>\n",
       "      <td>33468</td>\n",
       "      <td>1</td>\n",
       "      <td>700.0</td>\n",
       "      <td>1</td>\n",
       "    </tr>\n",
       "  </tbody>\n",
       "</table>\n",
       "</div>"
      ]
     },
     "execution_count": 88,
     "metadata": {},
     "output_type": "execute_result"
    }
   ],
   "execution_count": 88
  },
  {
   "cell_type": "markdown",
   "id": "47bcf88d-b236-46f0-a6f3-38ddd64895fe",
   "metadata": {},
   "source": "### 3.7 Ранжирование рекомендаций"
  },
  {
   "cell_type": "markdown",
   "id": "e8cd8223-3418-4493-8c87-1f76286ebda0",
   "metadata": {},
   "source": [
    "Построим ранжирующую модель, чтобы сделать рекомендации более точными. Отранжируем рекомендации."
   ]
  },
  {
   "metadata": {
    "ExecuteTime": {
     "end_time": "2024-11-07T01:29:24.762487Z",
     "start_time": "2024-11-07T01:29:24.760312Z"
    }
   },
   "cell_type": "code",
   "source": [
    "# Шаг 1: Определение весов для sparse-матрицы\n",
    "# Используем нормированное значение play_count и item_popularity как веса\n",
    "features['weight'] = features['play_count'] * (1 + np.log1p(features['item_popularity']))"
   ],
   "id": "8cfeb28262b7795c",
   "outputs": [],
   "execution_count": 89
  },
  {
   "metadata": {
    "ExecuteTime": {
     "end_time": "2024-11-07T01:29:24.765554Z",
     "start_time": "2024-11-07T01:29:24.763021Z"
    }
   },
   "cell_type": "code",
   "source": [
    "# Создание sparse-матрицы с весами\n",
    "user_item_matrix_train = scipy.sparse.csr_matrix((\n",
    "    features['weight'],\n",
    "    (features['user_id_enc'], features['item_id_enc'])),\n",
    "    shape=(len(user_id_map), len(item_id_map)),\n",
    "    dtype=np.float32\n",
    ")"
   ],
   "id": "86e7eb695ec27519",
   "outputs": [],
   "execution_count": 90
  },
  {
   "metadata": {
    "ExecuteTime": {
     "end_time": "2024-11-07T01:29:54.177303Z",
     "start_time": "2024-11-07T01:29:24.766090Z"
    }
   },
   "cell_type": "code",
   "source": [
    "# Шаг 4: Обучение модели ALS\n",
    "als_model = AlternatingLeastSquares(factors=50, iterations=20, regularization=0.05, random_state=42)\n",
    "als_model.fit(user_item_matrix_train)"
   ],
   "id": "14da60be58816a2e",
   "outputs": [
    {
     "data": {
      "text/plain": [
       "  0%|          | 0/20 [00:00<?, ?it/s]"
      ],
      "application/vnd.jupyter.widget-view+json": {
       "version_major": 2,
       "version_minor": 0,
       "model_id": "8644352488bb450c910af224a09aeefc"
      }
     },
     "metadata": {},
     "output_type": "display_data"
    }
   ],
   "execution_count": 91
  },
  {
   "metadata": {
    "ExecuteTime": {
     "end_time": "2024-11-07T01:29:54.182337Z",
     "start_time": "2024-11-07T01:29:54.178467Z"
    }
   },
   "cell_type": "code",
   "source": [
    "# Функция для получения рекомендаций для одного пользователя\n",
    "def get_user_recommendations(user_id, user_idx, als_model, user_item_matrix_train, item_id_map):\n",
    "    # Получаем рекомендации для текущего пользователя\n",
    "    recommended_items, scores = als_model.recommend(\n",
    "        userid=user_idx,\n",
    "        user_items=user_item_matrix_train[user_idx],  # Передаем только данные для конкретного пользователя\n",
    "        N=10  # Количество рекомендаций на пользователя\n",
    "    )\n",
    "    \n",
    "    # Расшифровываем item_id\n",
    "    recommended_item_ids = [list(item_id_map.keys())[list(item_id_map.values()).index(idx)] for idx in recommended_items]\n",
    "    \n",
    "    # Формируем рекомендации для пользователя\n",
    "    user_recommendations = [{\n",
    "        'user_id': user_id,\n",
    "        'item_id': item_id,\n",
    "        'score': score\n",
    "    } for item_id, score in zip(recommended_item_ids, scores)]\n",
    "    \n",
    "    return user_recommendations"
   ],
   "id": "c7feb4e149990832",
   "outputs": [],
   "execution_count": 92
  },
  {
   "metadata": {
    "ExecuteTime": {
     "end_time": "2024-11-07T02:20:42.806002Z",
     "start_time": "2024-11-07T01:29:54.184004Z"
    }
   },
   "cell_type": "code",
   "source": [
    "# Генерация рекомендаций для каждого пользователя с использованием многопоточности\n",
    "recommendations = []\n",
    "\n",
    "# Используем ThreadPoolExecutor для распараллеливания с tqdm\n",
    "with ThreadPoolExecutor() as executor:\n",
    "    # Запускаем задания и отслеживаем их с помощью tqdm\n",
    "    futures = [\n",
    "        executor.submit(get_user_recommendations, user_id, user_idx, als_model, user_item_matrix_train, item_id_map)\n",
    "        for user_id, user_idx in user_id_map.items()\n",
    "    ]\n",
    "    \n",
    "    # Используем tqdm для отображения прогресса в Jupyter\n",
    "    for future in tqdm(futures, desc=\"Generating Recommendations\", unit=\"user\"):\n",
    "        recommendations.extend(future.result())"
   ],
   "id": "bbb54892db1d49d0",
   "outputs": [
    {
     "data": {
      "text/plain": [
       "Generating Recommendations:   0%|          | 0/87512 [00:00<?, ?user/s]"
      ],
      "application/vnd.jupyter.widget-view+json": {
       "version_major": 2,
       "version_minor": 0,
       "model_id": "816decfdf75e4a5e93a3e4bd3d6fbe3f"
      }
     },
     "metadata": {},
     "output_type": "display_data"
    }
   ],
   "execution_count": 93
  },
  {
   "metadata": {
    "ExecuteTime": {
     "end_time": "2024-11-07T02:20:46.637900Z",
     "start_time": "2024-11-07T02:20:42.806675Z"
    }
   },
   "cell_type": "code",
   "source": [
    "# Шаг 6: Сохранение рекомендаций в parquet-файл\n",
    "recommendations_df = pd.DataFrame(recommendations)\n",
    "recommendations_df.to_parquet('data/recommendations.parquet', index=False)"
   ],
   "id": "47e69103ad430c07",
   "outputs": [],
   "execution_count": 94
  },
  {
   "cell_type": "markdown",
   "id": "b3c84071-45b5-4a15-a683-e0ab034a3128",
   "metadata": {},
   "source": "### 3.8 Оценка качества"
  },
  {
   "cell_type": "markdown",
   "id": "1b107fe4-554e-42b1-87d9-c435a52bb77a",
   "metadata": {},
   "source": [
    "Проверим оценку качества трёх типов рекомендаций: \n",
    "\n",
    "- топ популярных,\n",
    "- персональных, полученных при помощи ALS,\n",
    "- итоговых\n",
    "  \n",
    "по четырем метрикам: recall, precision, coverage, novelty."
   ]
  },
  {
   "cell_type": "code",
   "id": "94d6f388-aecb-443e-8647-14014e932d4d",
   "metadata": {
    "ExecuteTime": {
     "end_time": "2024-11-07T02:20:46.655106Z",
     "start_time": "2024-11-07T02:20:46.638554Z"
    }
   },
   "source": [
    "# Чтение данных\n",
    "top_popular = pd.read_parquet('data/top_popular.parquet')\n",
    "als_recommendations = pd.read_parquet('data/als_recommendations.parquet')\n",
    "final_recommendations = pd.read_parquet('data/recommendations.parquet')\n",
    "# Данные взаимодействий пользователей (необходимо загрузить для вычисления релевантности)\n",
    "events = pd.read_parquet('data/events.parquet')  # Исходная история взаимодействий пользователей с треками"
   ],
   "outputs": [],
   "execution_count": 95
  },
  {
   "metadata": {
    "ExecuteTime": {
     "end_time": "2024-11-07T02:20:46.661401Z",
     "start_time": "2024-11-07T02:20:46.655809Z"
    }
   },
   "cell_type": "code",
   "source": [
    "user_item_pairs = events[['user_id', 'item_id']].drop_duplicates()\n",
    "\n",
    "# Словарь популярности для вычисления новизны\n",
    "popularity_dict = dict(zip(top_popular['item_id'], top_popular['popularity_weighted']))"
   ],
   "id": "e14bbb345d6d46d6",
   "outputs": [],
   "execution_count": 96
  },
  {
   "metadata": {
    "ExecuteTime": {
     "end_time": "2024-11-07T02:20:46.664435Z",
     "start_time": "2024-11-07T02:20:46.661928Z"
    }
   },
   "cell_type": "code",
   "source": [
    "def calculate_metrics(recommendations, user_item_pairs, popularity_dict):\n",
    "    # Уникальные пользователи и треки в рекомендациях\n",
    "    unique_items = recommendations['item_id'].unique()\n",
    "    \n",
    "    # Метрика coverage\n",
    "    coverage = len(unique_items) / len(top_popular['item_id'].unique())\n",
    "    \n",
    "    # Релевантные пары\n",
    "    relevant_pairs = user_item_pairs.set_index(['user_id', 'item_id']).index\n",
    "    recommended_pairs = recommendations.set_index(['user_id', 'item_id']).index\n",
    "    \n",
    "    # Метрика recall\n",
    "    recall = len(recommended_pairs.intersection(relevant_pairs)) / len(relevant_pairs)\n",
    "    \n",
    "    # Метрика precision\n",
    "    precision = len(recommended_pairs.intersection(relevant_pairs)) / len(recommended_pairs)\n",
    "    \n",
    "    # Метрика novelty\n",
    "    novelty_scores = recommendations['item_id'].map(lambda x: popularity_dict.get(x, np.nan))\n",
    "    novelty = novelty_scores.rank(method='max', ascending=False).mean()\n",
    "    \n",
    "    return recall, precision, coverage, novelty"
   ],
   "id": "72f0ef3ff90e1caa",
   "outputs": [],
   "execution_count": 97
  },
  {
   "metadata": {
    "ExecuteTime": {
     "end_time": "2024-11-07T02:20:46.695913Z",
     "start_time": "2024-11-07T02:20:46.664934Z"
    }
   },
   "cell_type": "code",
   "source": [
    "# Рассчёт метрик для каждой группы рекомендаций\n",
    "print(\"Top Popular Recommendations:\")\n",
    "top_recall, top_precision, top_coverage, top_novelty = calculate_metrics(top_popular[['item_id']].assign(user_id=0), user_item_pairs, popularity_dict)\n",
    "print(f\"Recall: {top_recall:.4f}, Precision: {top_precision:.4f}, Coverage: {top_coverage:.4f}, Novelty: {top_novelty:.4f}\")"
   ],
   "id": "8235433498e4d2b8",
   "outputs": [
    {
     "name": "stdout",
     "output_type": "stream",
     "text": [
      "Top Popular Recommendations:\n",
      "Recall: 0.0000, Precision: 0.0000, Coverage: 1.0000, Novelty: 53.4400\n"
     ]
    }
   ],
   "execution_count": 98
  },
  {
   "metadata": {
    "ExecuteTime": {
     "end_time": "2024-11-07T02:20:46.953299Z",
     "start_time": "2024-11-07T02:20:46.696476Z"
    }
   },
   "cell_type": "code",
   "source": [
    "print(\"\\nALS Recommendations:\")\n",
    "als_recall, als_precision, als_coverage, als_novelty = calculate_metrics(als_recommendations, user_item_pairs, popularity_dict)\n",
    "print(f\"Recall: {als_recall:.4f}, Precision: {als_precision:.4f}, Coverage: {als_coverage:.4f}, Novelty: {als_novelty:.4f}\")"
   ],
   "id": "70133b8681062129",
   "outputs": [
    {
     "name": "stdout",
     "output_type": "stream",
     "text": [
      "\n",
      "ALS Recommendations:\n",
      "Recall: 0.2459, Precision: 0.0294, Coverage: 101.9400, Novelty: 144142.3736\n"
     ]
    }
   ],
   "execution_count": 99
  },
  {
   "metadata": {
    "ExecuteTime": {
     "end_time": "2024-11-07T02:20:47.226703Z",
     "start_time": "2024-11-07T02:20:46.953893Z"
    }
   },
   "cell_type": "code",
   "source": [
    "print(\"\\nFinal Recommendations:\")\n",
    "final_recall, final_precision, final_coverage, final_novelty = calculate_metrics(final_recommendations, user_item_pairs, popularity_dict)\n",
    "print(f\"Recall: {final_recall:.4f}, Precision: {final_precision:.4f}, Coverage: {final_coverage:.4f}, Novelty: {final_novelty:.4f}\")"
   ],
   "id": "1ae0bd35b419c8df",
   "outputs": [
    {
     "name": "stdout",
     "output_type": "stream",
     "text": [
      "\n",
      "Final Recommendations:\n",
      "Recall: 0.0000, Precision: 0.0000, Coverage: 4.5500, Novelty: 316434.1799\n"
     ]
    }
   ],
   "execution_count": 100
  },
  {
   "cell_type": "markdown",
   "id": "f1c8d38c-32b0-46a4-96f0-cd01dac708bc",
   "metadata": {},
   "source": "### === 3.9 Выводы, метрики ==="
  },
  {
   "cell_type": "markdown",
   "id": "f7d7d5d8-7d1e-4fdf-a6cd-83e5ce92c684",
   "metadata": {},
   "source": [
    "Основные выводы при работе над расчётом рекомендаций, рассчитанные метрики."
   ]
  },
  {
   "cell_type": "code",
   "id": "6403097d-db36-46d9-8952-613c9bd51b05",
   "metadata": {
    "ExecuteTime": {
     "end_time": "2024-11-07T02:20:47.228270Z",
     "start_time": "2024-11-07T02:20:47.227191Z"
    }
   },
   "source": [],
   "outputs": [],
   "execution_count": 100
  }
 ],
 "metadata": {
  "kernelspec": {
   "display_name": "Python 3 (ipykernel)",
   "language": "python",
   "name": "python3"
  },
  "language_info": {
   "codemirror_mode": {
    "name": "ipython",
    "version": 3
   },
   "file_extension": ".py",
   "mimetype": "text/x-python",
   "name": "python",
   "nbconvert_exporter": "python",
   "pygments_lexer": "ipython3",
   "version": "3.9.13"
  }
 },
 "nbformat": 4,
 "nbformat_minor": 5
}
