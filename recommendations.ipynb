{
 "cells": [
  {
   "cell_type": "markdown",
   "id": "f4095ae4-7294-4b28-853e-88d235002c97",
   "metadata": {},
   "source": "### Инициализация"
  },
  {
   "cell_type": "markdown",
   "id": "2f2318d2-9df8-4911-915e-15b725c44f8a",
   "metadata": {},
   "source": [
    "Загружаем библиотеки необходимые для выполнения кода ноутбука."
   ]
  },
  {
   "cell_type": "code",
   "id": "662d04e7-1b0b-4e4a-9ddf-4526d7fef119",
   "metadata": {
    "ExecuteTime": {
     "end_time": "2024-11-03T18:04:32.622069Z",
     "start_time": "2024-11-03T18:04:32.610659Z"
    }
   },
   "source": [
    "import pandas as pd\n",
    "import numpy as np\n",
    "import matplotlib.pyplot as plt"
   ],
   "outputs": [],
   "execution_count": 215
  },
  {
   "cell_type": "markdown",
   "id": "bf80fbc5-b660-4fac-8fbb-a5cae77313b3",
   "metadata": {},
   "source": "## === ЭТАП 1 ==="
  },
  {
   "cell_type": "markdown",
   "id": "5263a8b3-fe99-4204-8a2e-105182792c11",
   "metadata": {},
   "source": "### 1.1 Загрузка первичных данных"
  },
  {
   "cell_type": "markdown",
   "id": "1b54a6a5-1656-4e3c-99d1-49dc39451d33",
   "metadata": {},
   "source": [
    "Загружаем первичные данные из файлов:\n",
    "- tracks.parquet\n",
    "- catalog_names.parquet\n",
    "- interactions.parquet"
   ]
  },
  {
   "cell_type": "code",
   "id": "5d4b8961-3f35-4e58-9d6b-3e2dbd2c4224",
   "metadata": {
    "ExecuteTime": {
     "end_time": "2024-10-31T23:23:11.503064Z",
     "start_time": "2024-10-31T23:23:06.908389Z"
    }
   },
   "source": [
    "catalog_names = pd.read_parquet(\"./data/catalog_names.parquet\")\n",
    "interactions = pd.read_parquet(\"./data/interactions.parquet\")\n",
    "tracks = pd.read_parquet(\"./data/tracks.parquet\")"
   ],
   "outputs": [],
   "execution_count": 96
  },
  {
   "cell_type": "code",
   "id": "70f7bdfe-175c-45c1-a2e9-d99f0f33be2e",
   "metadata": {
    "ExecuteTime": {
     "end_time": "2024-10-31T23:23:11.518787Z",
     "start_time": "2024-10-31T23:23:11.512061Z"
    }
   },
   "source": "catalog_names.head()",
   "outputs": [
    {
     "data": {
      "text/plain": [
       "   id   type               name\n",
       "0   3  album    Taller Children\n",
       "1  12  album  Wild Young Hearts\n",
       "2  13  album      Lonesome Crow\n",
       "3  17  album      Graffiti Soul\n",
       "4  26  album     Blues Six Pack"
      ],
      "text/html": [
       "<div>\n",
       "<style scoped>\n",
       "    .dataframe tbody tr th:only-of-type {\n",
       "        vertical-align: middle;\n",
       "    }\n",
       "\n",
       "    .dataframe tbody tr th {\n",
       "        vertical-align: top;\n",
       "    }\n",
       "\n",
       "    .dataframe thead th {\n",
       "        text-align: right;\n",
       "    }\n",
       "</style>\n",
       "<table border=\"1\" class=\"dataframe\">\n",
       "  <thead>\n",
       "    <tr style=\"text-align: right;\">\n",
       "      <th></th>\n",
       "      <th>id</th>\n",
       "      <th>type</th>\n",
       "      <th>name</th>\n",
       "    </tr>\n",
       "  </thead>\n",
       "  <tbody>\n",
       "    <tr>\n",
       "      <th>0</th>\n",
       "      <td>3</td>\n",
       "      <td>album</td>\n",
       "      <td>Taller Children</td>\n",
       "    </tr>\n",
       "    <tr>\n",
       "      <th>1</th>\n",
       "      <td>12</td>\n",
       "      <td>album</td>\n",
       "      <td>Wild Young Hearts</td>\n",
       "    </tr>\n",
       "    <tr>\n",
       "      <th>2</th>\n",
       "      <td>13</td>\n",
       "      <td>album</td>\n",
       "      <td>Lonesome Crow</td>\n",
       "    </tr>\n",
       "    <tr>\n",
       "      <th>3</th>\n",
       "      <td>17</td>\n",
       "      <td>album</td>\n",
       "      <td>Graffiti Soul</td>\n",
       "    </tr>\n",
       "    <tr>\n",
       "      <th>4</th>\n",
       "      <td>26</td>\n",
       "      <td>album</td>\n",
       "      <td>Blues Six Pack</td>\n",
       "    </tr>\n",
       "  </tbody>\n",
       "</table>\n",
       "</div>"
      ]
     },
     "execution_count": 97,
     "metadata": {},
     "output_type": "execute_result"
    }
   ],
   "execution_count": 97
  },
  {
   "metadata": {
    "ExecuteTime": {
     "end_time": "2024-10-31T23:23:11.525830Z",
     "start_time": "2024-10-31T23:23:11.519464Z"
    }
   },
   "cell_type": "code",
   "source": "interactions.head()",
   "id": "14b396acb78bc81c",
   "outputs": [
    {
     "data": {
      "text/plain": [
       "   user_id  track_id  track_seq started_at\n",
       "0        0     99262          1 2022-07-17\n",
       "1        0    589498          2 2022-07-19\n",
       "2        0    590262          3 2022-07-21\n",
       "3        0    590303          4 2022-07-22\n",
       "4        0    590692          5 2022-07-22"
      ],
      "text/html": [
       "<div>\n",
       "<style scoped>\n",
       "    .dataframe tbody tr th:only-of-type {\n",
       "        vertical-align: middle;\n",
       "    }\n",
       "\n",
       "    .dataframe tbody tr th {\n",
       "        vertical-align: top;\n",
       "    }\n",
       "\n",
       "    .dataframe thead th {\n",
       "        text-align: right;\n",
       "    }\n",
       "</style>\n",
       "<table border=\"1\" class=\"dataframe\">\n",
       "  <thead>\n",
       "    <tr style=\"text-align: right;\">\n",
       "      <th></th>\n",
       "      <th>user_id</th>\n",
       "      <th>track_id</th>\n",
       "      <th>track_seq</th>\n",
       "      <th>started_at</th>\n",
       "    </tr>\n",
       "  </thead>\n",
       "  <tbody>\n",
       "    <tr>\n",
       "      <th>0</th>\n",
       "      <td>0</td>\n",
       "      <td>99262</td>\n",
       "      <td>1</td>\n",
       "      <td>2022-07-17</td>\n",
       "    </tr>\n",
       "    <tr>\n",
       "      <th>1</th>\n",
       "      <td>0</td>\n",
       "      <td>589498</td>\n",
       "      <td>2</td>\n",
       "      <td>2022-07-19</td>\n",
       "    </tr>\n",
       "    <tr>\n",
       "      <th>2</th>\n",
       "      <td>0</td>\n",
       "      <td>590262</td>\n",
       "      <td>3</td>\n",
       "      <td>2022-07-21</td>\n",
       "    </tr>\n",
       "    <tr>\n",
       "      <th>3</th>\n",
       "      <td>0</td>\n",
       "      <td>590303</td>\n",
       "      <td>4</td>\n",
       "      <td>2022-07-22</td>\n",
       "    </tr>\n",
       "    <tr>\n",
       "      <th>4</th>\n",
       "      <td>0</td>\n",
       "      <td>590692</td>\n",
       "      <td>5</td>\n",
       "      <td>2022-07-22</td>\n",
       "    </tr>\n",
       "  </tbody>\n",
       "</table>\n",
       "</div>"
      ]
     },
     "execution_count": 98,
     "metadata": {},
     "output_type": "execute_result"
    }
   ],
   "execution_count": 98
  },
  {
   "metadata": {
    "ExecuteTime": {
     "end_time": "2024-10-31T23:23:11.531483Z",
     "start_time": "2024-10-31T23:23:11.527080Z"
    }
   },
   "cell_type": "code",
   "source": "tracks.head()",
   "id": "c642bb4aab11d2d7",
   "outputs": [
    {
     "data": {
      "text/plain": [
       "   track_id                                             albums artists  \\\n",
       "0        26                                       [3, 2490753]    [16]   \n",
       "1        38                                       [3, 2490753]    [16]   \n",
       "2       135                                 [12, 214, 2490809]    [84]   \n",
       "3       136                                 [12, 214, 2490809]    [84]   \n",
       "4       138  [12, 214, 322, 72275, 72292, 91199, 213505, 24...    [84]   \n",
       "\n",
       "     genres  \n",
       "0  [11, 21]  \n",
       "1  [11, 21]  \n",
       "2      [11]  \n",
       "3      [11]  \n",
       "4      [11]  "
      ],
      "text/html": [
       "<div>\n",
       "<style scoped>\n",
       "    .dataframe tbody tr th:only-of-type {\n",
       "        vertical-align: middle;\n",
       "    }\n",
       "\n",
       "    .dataframe tbody tr th {\n",
       "        vertical-align: top;\n",
       "    }\n",
       "\n",
       "    .dataframe thead th {\n",
       "        text-align: right;\n",
       "    }\n",
       "</style>\n",
       "<table border=\"1\" class=\"dataframe\">\n",
       "  <thead>\n",
       "    <tr style=\"text-align: right;\">\n",
       "      <th></th>\n",
       "      <th>track_id</th>\n",
       "      <th>albums</th>\n",
       "      <th>artists</th>\n",
       "      <th>genres</th>\n",
       "    </tr>\n",
       "  </thead>\n",
       "  <tbody>\n",
       "    <tr>\n",
       "      <th>0</th>\n",
       "      <td>26</td>\n",
       "      <td>[3, 2490753]</td>\n",
       "      <td>[16]</td>\n",
       "      <td>[11, 21]</td>\n",
       "    </tr>\n",
       "    <tr>\n",
       "      <th>1</th>\n",
       "      <td>38</td>\n",
       "      <td>[3, 2490753]</td>\n",
       "      <td>[16]</td>\n",
       "      <td>[11, 21]</td>\n",
       "    </tr>\n",
       "    <tr>\n",
       "      <th>2</th>\n",
       "      <td>135</td>\n",
       "      <td>[12, 214, 2490809]</td>\n",
       "      <td>[84]</td>\n",
       "      <td>[11]</td>\n",
       "    </tr>\n",
       "    <tr>\n",
       "      <th>3</th>\n",
       "      <td>136</td>\n",
       "      <td>[12, 214, 2490809]</td>\n",
       "      <td>[84]</td>\n",
       "      <td>[11]</td>\n",
       "    </tr>\n",
       "    <tr>\n",
       "      <th>4</th>\n",
       "      <td>138</td>\n",
       "      <td>[12, 214, 322, 72275, 72292, 91199, 213505, 24...</td>\n",
       "      <td>[84]</td>\n",
       "      <td>[11]</td>\n",
       "    </tr>\n",
       "  </tbody>\n",
       "</table>\n",
       "</div>"
      ]
     },
     "execution_count": 99,
     "metadata": {},
     "output_type": "execute_result"
    }
   ],
   "execution_count": 99
  },
  {
   "cell_type": "markdown",
   "id": "e8f2a1f7-a05f-4f39-af90-5f4018aa6f9d",
   "metadata": {},
   "source": "### 1.2 Обзор данных"
  },
  {
   "cell_type": "markdown",
   "id": "46a85307-896c-4fac-9fcf-f0dffa90889e",
   "metadata": {},
   "source": [
    "Проверяем данные, есть ли с ними явные проблемы."
   ]
  },
  {
   "cell_type": "code",
   "id": "c9f8f17e-9b56-4f5a-a463-f694a993effb",
   "metadata": {
    "ExecuteTime": {
     "end_time": "2024-10-31T23:23:11.533544Z",
     "start_time": "2024-10-31T23:23:11.532102Z"
    }
   },
   "source": [
    "# Проверка типов данных\n",
    "print(\"Tracks Data Types:\")\n",
    "# print(tracks.dtypes)"
   ],
   "outputs": [
    {
     "name": "stdout",
     "output_type": "stream",
     "text": [
      "Tracks Data Types:\n"
     ]
    }
   ],
   "execution_count": 100
  },
  {
   "metadata": {
    "ExecuteTime": {
     "end_time": "2024-10-31T23:23:11.535115Z",
     "start_time": "2024-10-31T23:23:11.533917Z"
    }
   },
   "cell_type": "code",
   "source": [
    "print(\"\\nCatalog Names Data Types:\")\n",
    "# print(catalog_names.dtypes)"
   ],
   "id": "a32a48ce9e2fcce9",
   "outputs": [
    {
     "name": "stdout",
     "output_type": "stream",
     "text": [
      "\n",
      "Catalog Names Data Types:\n"
     ]
    }
   ],
   "execution_count": 101
  },
  {
   "metadata": {
    "ExecuteTime": {
     "end_time": "2024-10-31T23:23:11.536891Z",
     "start_time": "2024-10-31T23:23:11.535624Z"
    }
   },
   "cell_type": "code",
   "source": [
    "print(\"\\nInteractions Data Types:\")\n",
    "# print(interactions.dtypes)"
   ],
   "id": "6c123f2fce180498",
   "outputs": [
    {
     "name": "stdout",
     "output_type": "stream",
     "text": [
      "\n",
      "Interactions Data Types:\n"
     ]
    }
   ],
   "execution_count": 102
  },
  {
   "metadata": {
    "ExecuteTime": {
     "end_time": "2024-10-31T23:23:11.762583Z",
     "start_time": "2024-10-31T23:23:11.537400Z"
    }
   },
   "cell_type": "code",
   "source": [
    "# Проверка наличия треков с неизвестными исполнителями, альбомами, жанрами\n",
    "# Разделим catalog_names по типам для удобства\n",
    "artists = catalog_names[catalog_names['type'] == 'artist']\n",
    "albums = catalog_names[catalog_names['type'] == 'album']\n",
    "genres = catalog_names[catalog_names['type'] == 'genre']"
   ],
   "id": "e8a4a916d8a62f57",
   "outputs": [],
   "execution_count": 103
  },
  {
   "metadata": {
    "ExecuteTime": {
     "end_time": "2024-10-31T23:23:11.766067Z",
     "start_time": "2024-10-31T23:23:11.763091Z"
    }
   },
   "cell_type": "code",
   "source": "artists.head()",
   "id": "a7b079114630d5d6",
   "outputs": [
    {
     "data": {
      "text/plain": [
       "        id    type           name\n",
       "658724   4  artist   Kenny Dorham\n",
       "658725   5  artist      Max Roach\n",
       "658726   7  artist  Francis Rossi\n",
       "658727   9  artist     Status Quo\n",
       "658728  12  artist    Phil Everly"
      ],
      "text/html": [
       "<div>\n",
       "<style scoped>\n",
       "    .dataframe tbody tr th:only-of-type {\n",
       "        vertical-align: middle;\n",
       "    }\n",
       "\n",
       "    .dataframe tbody tr th {\n",
       "        vertical-align: top;\n",
       "    }\n",
       "\n",
       "    .dataframe thead th {\n",
       "        text-align: right;\n",
       "    }\n",
       "</style>\n",
       "<table border=\"1\" class=\"dataframe\">\n",
       "  <thead>\n",
       "    <tr style=\"text-align: right;\">\n",
       "      <th></th>\n",
       "      <th>id</th>\n",
       "      <th>type</th>\n",
       "      <th>name</th>\n",
       "    </tr>\n",
       "  </thead>\n",
       "  <tbody>\n",
       "    <tr>\n",
       "      <th>658724</th>\n",
       "      <td>4</td>\n",
       "      <td>artist</td>\n",
       "      <td>Kenny Dorham</td>\n",
       "    </tr>\n",
       "    <tr>\n",
       "      <th>658725</th>\n",
       "      <td>5</td>\n",
       "      <td>artist</td>\n",
       "      <td>Max Roach</td>\n",
       "    </tr>\n",
       "    <tr>\n",
       "      <th>658726</th>\n",
       "      <td>7</td>\n",
       "      <td>artist</td>\n",
       "      <td>Francis Rossi</td>\n",
       "    </tr>\n",
       "    <tr>\n",
       "      <th>658727</th>\n",
       "      <td>9</td>\n",
       "      <td>artist</td>\n",
       "      <td>Status Quo</td>\n",
       "    </tr>\n",
       "    <tr>\n",
       "      <th>658728</th>\n",
       "      <td>12</td>\n",
       "      <td>artist</td>\n",
       "      <td>Phil Everly</td>\n",
       "    </tr>\n",
       "  </tbody>\n",
       "</table>\n",
       "</div>"
      ]
     },
     "execution_count": 104,
     "metadata": {},
     "output_type": "execute_result"
    }
   ],
   "execution_count": 104
  },
  {
   "metadata": {
    "ExecuteTime": {
     "end_time": "2024-10-31T23:23:11.771567Z",
     "start_time": "2024-10-31T23:23:11.768209Z"
    }
   },
   "cell_type": "code",
   "source": "albums.head()",
   "id": "9dfe2640743d2c12",
   "outputs": [
    {
     "data": {
      "text/plain": [
       "   id   type               name\n",
       "0   3  album    Taller Children\n",
       "1  12  album  Wild Young Hearts\n",
       "2  13  album      Lonesome Crow\n",
       "3  17  album      Graffiti Soul\n",
       "4  26  album     Blues Six Pack"
      ],
      "text/html": [
       "<div>\n",
       "<style scoped>\n",
       "    .dataframe tbody tr th:only-of-type {\n",
       "        vertical-align: middle;\n",
       "    }\n",
       "\n",
       "    .dataframe tbody tr th {\n",
       "        vertical-align: top;\n",
       "    }\n",
       "\n",
       "    .dataframe thead th {\n",
       "        text-align: right;\n",
       "    }\n",
       "</style>\n",
       "<table border=\"1\" class=\"dataframe\">\n",
       "  <thead>\n",
       "    <tr style=\"text-align: right;\">\n",
       "      <th></th>\n",
       "      <th>id</th>\n",
       "      <th>type</th>\n",
       "      <th>name</th>\n",
       "    </tr>\n",
       "  </thead>\n",
       "  <tbody>\n",
       "    <tr>\n",
       "      <th>0</th>\n",
       "      <td>3</td>\n",
       "      <td>album</td>\n",
       "      <td>Taller Children</td>\n",
       "    </tr>\n",
       "    <tr>\n",
       "      <th>1</th>\n",
       "      <td>12</td>\n",
       "      <td>album</td>\n",
       "      <td>Wild Young Hearts</td>\n",
       "    </tr>\n",
       "    <tr>\n",
       "      <th>2</th>\n",
       "      <td>13</td>\n",
       "      <td>album</td>\n",
       "      <td>Lonesome Crow</td>\n",
       "    </tr>\n",
       "    <tr>\n",
       "      <th>3</th>\n",
       "      <td>17</td>\n",
       "      <td>album</td>\n",
       "      <td>Graffiti Soul</td>\n",
       "    </tr>\n",
       "    <tr>\n",
       "      <th>4</th>\n",
       "      <td>26</td>\n",
       "      <td>album</td>\n",
       "      <td>Blues Six Pack</td>\n",
       "    </tr>\n",
       "  </tbody>\n",
       "</table>\n",
       "</div>"
      ]
     },
     "execution_count": 105,
     "metadata": {},
     "output_type": "execute_result"
    }
   ],
   "execution_count": 105
  },
  {
   "metadata": {
    "ExecuteTime": {
     "end_time": "2024-10-31T23:23:11.774898Z",
     "start_time": "2024-10-31T23:23:11.772093Z"
    }
   },
   "cell_type": "code",
   "source": "genres.head()",
   "id": "4768441da0b209fd",
   "outputs": [
    {
     "data": {
      "text/plain": [
       "        id   type      name\n",
       "812305   0  genre       all\n",
       "812306   1  genre   eastern\n",
       "812307   2  genre   rusrock\n",
       "812308   3  genre    rusrap\n",
       "812309   4  genre  postrock"
      ],
      "text/html": [
       "<div>\n",
       "<style scoped>\n",
       "    .dataframe tbody tr th:only-of-type {\n",
       "        vertical-align: middle;\n",
       "    }\n",
       "\n",
       "    .dataframe tbody tr th {\n",
       "        vertical-align: top;\n",
       "    }\n",
       "\n",
       "    .dataframe thead th {\n",
       "        text-align: right;\n",
       "    }\n",
       "</style>\n",
       "<table border=\"1\" class=\"dataframe\">\n",
       "  <thead>\n",
       "    <tr style=\"text-align: right;\">\n",
       "      <th></th>\n",
       "      <th>id</th>\n",
       "      <th>type</th>\n",
       "      <th>name</th>\n",
       "    </tr>\n",
       "  </thead>\n",
       "  <tbody>\n",
       "    <tr>\n",
       "      <th>812305</th>\n",
       "      <td>0</td>\n",
       "      <td>genre</td>\n",
       "      <td>all</td>\n",
       "    </tr>\n",
       "    <tr>\n",
       "      <th>812306</th>\n",
       "      <td>1</td>\n",
       "      <td>genre</td>\n",
       "      <td>eastern</td>\n",
       "    </tr>\n",
       "    <tr>\n",
       "      <th>812307</th>\n",
       "      <td>2</td>\n",
       "      <td>genre</td>\n",
       "      <td>rusrock</td>\n",
       "    </tr>\n",
       "    <tr>\n",
       "      <th>812308</th>\n",
       "      <td>3</td>\n",
       "      <td>genre</td>\n",
       "      <td>rusrap</td>\n",
       "    </tr>\n",
       "    <tr>\n",
       "      <th>812309</th>\n",
       "      <td>4</td>\n",
       "      <td>genre</td>\n",
       "      <td>postrock</td>\n",
       "    </tr>\n",
       "  </tbody>\n",
       "</table>\n",
       "</div>"
      ]
     },
     "execution_count": 106,
     "metadata": {},
     "output_type": "execute_result"
    }
   ],
   "execution_count": 106
  },
  {
   "metadata": {
    "ExecuteTime": {
     "end_time": "2024-10-31T23:23:31.470415Z",
     "start_time": "2024-10-31T23:23:11.775435Z"
    }
   },
   "cell_type": "code",
   "source": [
    "# Проверим, есть ли неизвестные исполнители, альбомы, жанры\n",
    "artistIds = artists['id'].values\n",
    "unknown_artists = (tracks['artists']\n",
    "                   .apply(lambda x: [artist for artist in x if artist not in artistIds])\n",
    "                   .explode()\n",
    "                   .unique())"
   ],
   "id": "fa630eb8f8dd8168",
   "outputs": [],
   "execution_count": 107
  },
  {
   "metadata": {
    "ExecuteTime": {
     "end_time": "2024-10-31T23:26:43.933199Z",
     "start_time": "2024-10-31T23:23:31.471132Z"
    }
   },
   "cell_type": "code",
   "source": [
    "albumIds = albums['id'].values;\n",
    "unknown_albums = (tracks['albums']\n",
    "                  .apply(lambda x: [album for album in x if album not in albumIds])\n",
    "                  .explode()\n",
    "                  .unique())"
   ],
   "id": "7dfb73881072bf29",
   "outputs": [],
   "execution_count": 108
  },
  {
   "metadata": {
    "ExecuteTime": {
     "end_time": "2024-10-31T23:26:46.591885Z",
     "start_time": "2024-10-31T23:26:43.934631Z"
    }
   },
   "cell_type": "code",
   "source": [
    "genreIds = genres['id'].values\n",
    "unknown_genres = (tracks['genres']\n",
    "                  .apply(lambda x: [genre for genre in x if genre not in genreIds])\n",
    "                  .explode()\n",
    "                  .unique())"
   ],
   "id": "3b9c090aa0623e01",
   "outputs": [],
   "execution_count": 109
  },
  {
   "metadata": {
    "ExecuteTime": {
     "end_time": "2024-10-31T23:26:46.594329Z",
     "start_time": "2024-10-31T23:26:46.592645Z"
    }
   },
   "cell_type": "code",
   "source": [
    "# Выводим количество неизвестных артистов, альбомов, жанров\n",
    "print(\"Количество треков с неизвестными исполнителями:\", len(unknown_artists))\n",
    "print(\"Количество треков с неизвестными альбомами:\", len(unknown_albums))\n",
    "print(\"Количество треков с неизвестными жанрами:\", len(unknown_genres))"
   ],
   "id": "7d9c14e5de39e4ce",
   "outputs": [
    {
     "name": "stdout",
     "output_type": "stream",
     "text": [
      "Количество треков с неизвестными исполнителями: 1\n",
      "Количество треков с неизвестными альбомами: 1\n",
      "Количество треков с неизвестными жанрами: 31\n"
     ]
    }
   ],
   "execution_count": 110
  },
  {
   "metadata": {
    "ExecuteTime": {
     "end_time": "2024-10-31T23:26:46.596400Z",
     "start_time": "2024-10-31T23:26:46.594939Z"
    }
   },
   "cell_type": "code",
   "source": "print(unknown_artists)",
   "id": "15ec59eedd9d771c",
   "outputs": [
    {
     "name": "stdout",
     "output_type": "stream",
     "text": [
      "[nan]\n"
     ]
    }
   ],
   "execution_count": 111
  },
  {
   "metadata": {
    "ExecuteTime": {
     "end_time": "2024-10-31T23:26:46.598219Z",
     "start_time": "2024-10-31T23:26:46.596913Z"
    }
   },
   "cell_type": "code",
   "source": "print(unknown_albums)",
   "id": "6ff753766da29ee5",
   "outputs": [
    {
     "name": "stdout",
     "output_type": "stream",
     "text": [
      "[nan]\n"
     ]
    }
   ],
   "execution_count": 112
  },
  {
   "metadata": {
    "ExecuteTime": {
     "end_time": "2024-10-31T23:26:46.600003Z",
     "start_time": "2024-10-31T23:26:46.598672Z"
    }
   },
   "cell_type": "code",
   "source": "print(unknown_genres)",
   "id": "226c684b1d9ffb8e",
   "outputs": [
    {
     "name": "stdout",
     "output_type": "stream",
     "text": [
      "[nan 164 162 163 159 151 157 169 153 161 158 167 155 165 154 156 160 152\n",
      " 168 124 150 133 134 126 132 130 166 131 135 146 148]\n"
     ]
    }
   ],
   "execution_count": 113
  },
  {
   "cell_type": "markdown",
   "id": "318b573a-9e2d-4808-95db-60cfb8bbdb73",
   "metadata": {
    "editable": true,
    "slideshow": {
     "slide_type": ""
    },
    "tags": []
   },
   "source": "### 1.3 Выводы"
  },
  {
   "cell_type": "markdown",
   "id": "caa96e12-36a8-4401-8f11-98627a49ae9d",
   "metadata": {},
   "source": [
    "Приведём выводы по первому знакомству с данными:\n",
    "- есть ли с данными явные проблемы,\n",
    "- какие корректирующие действия (в целом) были предприняты."
   ]
  },
  {
   "metadata": {},
   "cell_type": "markdown",
   "source": "Есть 30 неизвестных жанров.",
   "id": "c5381a4fe2f71641"
  },
  {
   "metadata": {
    "ExecuteTime": {
     "end_time": "2024-10-31T23:26:46.603277Z",
     "start_time": "2024-10-31T23:26:46.600459Z"
    }
   },
   "cell_type": "code",
   "source": "genres[genres['id'] == 0]",
   "id": "883f8962dd6d738e",
   "outputs": [
    {
     "data": {
      "text/plain": [
       "        id   type name\n",
       "812305   0  genre  all"
      ],
      "text/html": [
       "<div>\n",
       "<style scoped>\n",
       "    .dataframe tbody tr th:only-of-type {\n",
       "        vertical-align: middle;\n",
       "    }\n",
       "\n",
       "    .dataframe tbody tr th {\n",
       "        vertical-align: top;\n",
       "    }\n",
       "\n",
       "    .dataframe thead th {\n",
       "        text-align: right;\n",
       "    }\n",
       "</style>\n",
       "<table border=\"1\" class=\"dataframe\">\n",
       "  <thead>\n",
       "    <tr style=\"text-align: right;\">\n",
       "      <th></th>\n",
       "      <th>id</th>\n",
       "      <th>type</th>\n",
       "      <th>name</th>\n",
       "    </tr>\n",
       "  </thead>\n",
       "  <tbody>\n",
       "    <tr>\n",
       "      <th>812305</th>\n",
       "      <td>0</td>\n",
       "      <td>genre</td>\n",
       "      <td>all</td>\n",
       "    </tr>\n",
       "  </tbody>\n",
       "</table>\n",
       "</div>"
      ]
     },
     "execution_count": 114,
     "metadata": {},
     "output_type": "execute_result"
    }
   ],
   "execution_count": 114
  },
  {
   "metadata": {
    "ExecuteTime": {
     "end_time": "2024-10-31T23:26:46.605033Z",
     "start_time": "2024-10-31T23:26:46.603722Z"
    }
   },
   "cell_type": "code",
   "source": "unknown_genres_set = set(unknown_genres)",
   "id": "50d1a71de5a9019c",
   "outputs": [],
   "execution_count": 115
  },
  {
   "metadata": {
    "ExecuteTime": {
     "end_time": "2024-10-31T23:32:53.364612Z",
     "start_time": "2024-10-31T23:32:53.321462Z"
    }
   },
   "cell_type": "code",
   "source": "upd_tracks = tracks.copy()",
   "id": "b2110616cded1892",
   "outputs": [],
   "execution_count": 138
  },
  {
   "metadata": {
    "ExecuteTime": {
     "end_time": "2024-10-31T23:32:54.132561Z",
     "start_time": "2024-10-31T23:32:53.579495Z"
    }
   },
   "cell_type": "code",
   "source": "upd_tracks['genres'] = upd_tracks['genres'].apply(lambda genres_list: [0 if genre in unknown_genres_set else genre for genre in genres_list])",
   "id": "e3a997743f359e5a",
   "outputs": [],
   "execution_count": 139
  },
  {
   "metadata": {
    "ExecuteTime": {
     "end_time": "2024-10-31T23:32:56.331742Z",
     "start_time": "2024-10-31T23:32:54.133502Z"
    }
   },
   "cell_type": "code",
   "source": [
    "upd_unknown_genres = (upd_tracks['genres']\n",
    "                  .apply(lambda x: [genre for genre in x if genre not in genreIds])\n",
    "                  .explode()\n",
    "                  .unique())"
   ],
   "id": "1467ff4cde6784ad",
   "outputs": [],
   "execution_count": 140
  },
  {
   "metadata": {
    "ExecuteTime": {
     "end_time": "2024-10-31T23:32:56.334163Z",
     "start_time": "2024-10-31T23:32:56.332513Z"
    }
   },
   "cell_type": "code",
   "source": "print(upd_unknown_genres)",
   "id": "be8089e7fde8c712",
   "outputs": [
    {
     "name": "stdout",
     "output_type": "stream",
     "text": [
      "[nan]\n"
     ]
    }
   ],
   "execution_count": 141
  },
  {
   "cell_type": "markdown",
   "id": "7bc3296b-eba6-4333-a78d-b9304aa87e3d",
   "metadata": {},
   "source": "## === ЭТАП 2 ==="
  },
  {
   "cell_type": "markdown",
   "id": "68e73960-fd38-4e15-8db0-9a25c35dfd25",
   "metadata": {},
   "source": "### 2.1 EDA"
  },
  {
   "cell_type": "markdown",
   "id": "a30e823e-8e0f-4a76-a02e-8d1ba8bf0f8a",
   "metadata": {},
   "source": "#### 2.1.1 Распределение количества прослушанных треков."
  },
  {
   "cell_type": "code",
   "id": "9bf5eaba-35f7-4da7-be59-9ab4a34b2423",
   "metadata": {
    "ExecuteTime": {
     "end_time": "2024-10-31T23:43:43.864118Z",
     "start_time": "2024-10-31T23:43:43.183239Z"
    }
   },
   "source": "user_track_counts = interactions['user_id'].value_counts()",
   "outputs": [],
   "execution_count": 143
  },
  {
   "metadata": {
    "ExecuteTime": {
     "end_time": "2024-10-31T23:46:26.568633Z",
     "start_time": "2024-10-31T23:46:26.529168Z"
    }
   },
   "cell_type": "code",
   "source": "user_track_counts.describe()",
   "id": "b67d4ef654ef25cd",
   "outputs": [
    {
     "data": {
      "text/plain": [
       "count    1.373221e+06\n",
       "mean     1.621224e+02\n",
       "std      3.512846e+02\n",
       "min      1.000000e+00\n",
       "25%      2.300000e+01\n",
       "50%      5.500000e+01\n",
       "75%      1.540000e+02\n",
       "max      1.663700e+04\n",
       "Name: count, dtype: float64"
      ]
     },
     "execution_count": 147,
     "metadata": {},
     "output_type": "execute_result"
    }
   ],
   "execution_count": 147
  },
  {
   "metadata": {
    "ExecuteTime": {
     "end_time": "2024-10-31T23:47:04.355263Z",
     "start_time": "2024-10-31T23:47:04.351807Z"
    }
   },
   "cell_type": "code",
   "source": "user_track_counts.max()",
   "id": "388bced6994bd592",
   "outputs": [
    {
     "data": {
      "text/plain": [
       "16637"
      ]
     },
     "execution_count": 148,
     "metadata": {},
     "output_type": "execute_result"
    }
   ],
   "execution_count": 148
  },
  {
   "metadata": {
    "ExecuteTime": {
     "end_time": "2024-10-31T23:43:44.276081Z",
     "start_time": "2024-10-31T23:43:44.156124Z"
    }
   },
   "cell_type": "code",
   "source": [
    "plt.figure(figsize=(10, 6))\n",
    "plt.hist(user_track_counts, bins=30, edgecolor='black')\n",
    "plt.title(\"Распределение количества прослушанных треков на пользователя\")\n",
    "plt.xlabel(\"Количество прослушанных треков\")\n",
    "plt.ylabel(\"Частота\")\n",
    "plt.show()"
   ],
   "id": "1149e3fc334fea6f",
   "outputs": [
    {
     "data": {
      "text/plain": [
       "<Figure size 1000x600 with 1 Axes>"
      ],
      "image/png": "[encoded data removed]"
     },
     "metadata": {},
     "output_type": "display_data"
    }
   ],
   "execution_count": 144
  },
  {
   "cell_type": "markdown",
   "id": "d765519a-18dd-4d30-9e29-cc2d84cacd79",
   "metadata": {},
   "source": "#### 2.1.2 Наиболее популярные треки"
  },
  {
   "cell_type": "code",
   "id": "aecaf630-fde0-4860-b84a-42c933a9606e",
   "metadata": {
    "ExecuteTime": {
     "end_time": "2024-10-31T23:49:28.135997Z",
     "start_time": "2024-10-31T23:49:25.633157Z"
    }
   },
   "source": [
    "popular_tracks = interactions['track_id'].value_counts().head(10)\n",
    "popular_track_names = pd.merge(popular_tracks.rename('count').reset_index(), \n",
    "                               catalog_names[catalog_names['type'] == 'track'][['id', 'name']], \n",
    "                               left_on='track_id', right_on='id', \n",
    "                               how='left').drop(columns=['id'])\n",
    "popular_track_names.rename(columns={'index': 'track_id', 'name': 'track_name'}, inplace=True)"
   ],
   "outputs": [],
   "execution_count": 149
  },
  {
   "metadata": {
    "ExecuteTime": {
     "end_time": "2024-10-31T23:49:29.115897Z",
     "start_time": "2024-10-31T23:49:29.113150Z"
    }
   },
   "cell_type": "code",
   "source": [
    "print(\"Наиболее популярные треки:\")\n",
    "print(popular_track_names)"
   ],
   "id": "d0c3d01dda56538f",
   "outputs": [
    {
     "name": "stdout",
     "output_type": "stream",
     "text": [
      "Наиболее популярные треки:\n",
      "   track_id   count               track_name\n",
      "0     53404  111062  Smells Like Teen Spirit\n",
      "1  33311009  106921                 Believer\n",
      "2    178529  101924                     Numb\n",
      "3  35505245   99490               I Got Love\n",
      "4  65851540   86670                   Юность\n",
      "5  24692821   86246           Way Down We Go\n",
      "6  32947997   85886             Shape of You\n",
      "7  51241318   85244               In The End\n",
      "8    795836   85042        Shape Of My Heart\n",
      "9  45499814   84748                     Life\n"
     ]
    }
   ],
   "execution_count": 150
  },
  {
   "cell_type": "markdown",
   "id": "b1c32a5a-d3be-4f96-8dd9-f7860951020c",
   "metadata": {},
   "source": "#### 2.1.3 Наиболее популярные жанры"
  },
  {
   "cell_type": "code",
   "id": "1bc50491-9235-4d3c-a6c2-297f7c05a959",
   "metadata": {
    "ExecuteTime": {
     "end_time": "2024-10-31T23:52:22.219470Z",
     "start_time": "2024-10-31T23:50:19.147783Z"
    }
   },
   "source": [
    "# Разворачиваем список жанров в interactions и upd_tracks для анализа\n",
    "track_genres = upd_tracks[['track_id', 'genres']].explode('genres')\n",
    "merged_interactions = interactions.merge(track_genres, on='track_id', how='left')\n",
    "genre_counts = merged_interactions['genres'].value_counts().head(10)"
   ],
   "outputs": [],
   "execution_count": 151
  },
  {
   "metadata": {
    "ExecuteTime": {
     "end_time": "2024-10-31T23:52:58.804266Z",
     "start_time": "2024-10-31T23:52:58.800450Z"
    }
   },
   "cell_type": "code",
   "source": "genre_counts.head(20)",
   "id": "7ef579f8244509cb",
   "outputs": [
    {
     "data": {
      "text/plain": [
       "genres\n",
       "11     55578312\n",
       "75     37799821\n",
       "102    31092013\n",
       "20     26626241\n",
       "3      25303695\n",
       "68     20120981\n",
       "16     16291557\n",
       "2      13166147\n",
       "14     12772644\n",
       "47     12437375\n",
       "Name: count, dtype: int64"
      ]
     },
     "execution_count": 153,
     "metadata": {},
     "output_type": "execute_result"
    }
   ],
   "execution_count": 153
  },
  {
   "metadata": {
    "ExecuteTime": {
     "end_time": "2024-10-31T23:55:26.544114Z",
     "start_time": "2024-10-31T23:55:26.477172Z"
    }
   },
   "cell_type": "code",
   "source": [
    "# Подключаем названия жанров\n",
    "popular_genres = pd.merge(genre_counts.rename('count').reset_index(), \n",
    "                          catalog_names[catalog_names['type'] == 'genre'][['id', 'name']], \n",
    "                          left_on='genres', right_on='id', \n",
    "                          how='left').drop(columns=['id'])\n",
    "popular_genres.rename(columns={'genres': 'genre_id', 'name': 'genre_name'}, inplace=True)"
   ],
   "id": "e8c53c6f1b460113",
   "outputs": [],
   "execution_count": 155
  },
  {
   "metadata": {
    "ExecuteTime": {
     "end_time": "2024-10-31T23:55:28.062584Z",
     "start_time": "2024-10-31T23:55:28.060104Z"
    }
   },
   "cell_type": "code",
   "source": [
    "print(\"\\nНаиболее популярные жанры:\")\n",
    "print(popular_genres)"
   ],
   "id": "9a268cfebdec908",
   "outputs": [
    {
     "name": "stdout",
     "output_type": "stream",
     "text": [
      "\n",
      "Наиболее популярные жанры:\n",
      "   genre_id     count   genre_name\n",
      "0        11  55578312          pop\n",
      "1        75  37799821          rap\n",
      "2       102  31092013      allrock\n",
      "3        20  26626241       ruspop\n",
      "4         3  25303695       rusrap\n",
      "5        68  20120981  electronics\n",
      "6        16  16291557        dance\n",
      "7         2  13166147      rusrock\n",
      "8        14  12772644         rock\n",
      "9        47  12437375        metal\n"
     ]
    }
   ],
   "execution_count": 156
  },
  {
   "cell_type": "markdown",
   "id": "15254e66-e80e-473b-ba24-abebea5ccac7",
   "metadata": {},
   "source": "#### 2.1.3 Треки, которые никто не прослушал"
  },
  {
   "cell_type": "code",
   "id": "50bc50c6-2d83-4c7e-97fa-3e7627978438",
   "metadata": {
    "ExecuteTime": {
     "end_time": "2024-11-01T00:00:10.852205Z",
     "start_time": "2024-11-01T00:00:10.097185Z"
    }
   },
   "source": [
    "all_tracks = set(upd_tracks['track_id'].unique())\n",
    "listened_tracks = set(interactions['track_id'].unique())"
   ],
   "outputs": [],
   "execution_count": 163
  },
  {
   "metadata": {
    "ExecuteTime": {
     "end_time": "2024-11-01T00:00:12.218396Z",
     "start_time": "2024-11-01T00:00:12.076553Z"
    }
   },
   "cell_type": "code",
   "source": "unlistened_tracks = all_tracks - listened_tracks",
   "id": "342202633c8434fe",
   "outputs": [],
   "execution_count": 165
  },
  {
   "metadata": {
    "ExecuteTime": {
     "end_time": "2024-10-31T23:56:09.322881Z",
     "start_time": "2024-10-31T23:56:09.271383Z"
    }
   },
   "cell_type": "code",
   "source": [
    "# Получаем названия треков, которые никто не слушал\n",
    "unlistened_tracks_df = catalog_names[(catalog_names['type'] == 'track') & (catalog_names['id'].isin(unlistened_tracks))]\n",
    "print(\"\\nТреки, которые никто не прослушал:\")\n",
    "print(unlistened_tracks_df[['id', 'name']])"
   ],
   "id": "dae19247e936d1a3",
   "outputs": [
    {
     "name": "stdout",
     "output_type": "stream",
     "text": [
      "\n",
      "Треки, которые никто не прослушал:\n",
      "Empty DataFrame\n",
      "Columns: [id, name]\n",
      "Index: []\n"
     ]
    }
   ],
   "execution_count": 158
  },
  {
   "cell_type": "markdown",
   "id": "0d850a07-ef1e-462f-891a-1cf89f2e24ef",
   "metadata": {},
   "source": "### 2.2 Преобразование данных"
  },
  {
   "cell_type": "markdown",
   "id": "fabcf8d2-1192-4df5-b20b-fbb84689f57a",
   "metadata": {},
   "source": [
    "Преобразуем данные в формат, более пригодный для дальнейшего использования в расчётах рекомендаций."
   ]
  },
  {
   "metadata": {
    "ExecuteTime": {
     "end_time": "2024-11-01T23:42:26.647789Z",
     "start_time": "2024-11-01T23:42:26.643625Z"
    }
   },
   "cell_type": "code",
   "source": "upd_tracks.head()",
   "id": "dacf9f2cd8adb528",
   "outputs": [
    {
     "data": {
      "text/plain": [
       "   track_id                                             albums artists  \\\n",
       "0        26                                       [3, 2490753]    [16]   \n",
       "1        38                                       [3, 2490753]    [16]   \n",
       "2       135                                 [12, 214, 2490809]    [84]   \n",
       "3       136                                 [12, 214, 2490809]    [84]   \n",
       "4       138  [12, 214, 322, 72275, 72292, 91199, 213505, 24...    [84]   \n",
       "\n",
       "     genres  \n",
       "0  [11, 21]  \n",
       "1  [11, 21]  \n",
       "2      [11]  \n",
       "3      [11]  \n",
       "4      [11]  "
      ],
      "text/html": [
       "<div>\n",
       "<style scoped>\n",
       "    .dataframe tbody tr th:only-of-type {\n",
       "        vertical-align: middle;\n",
       "    }\n",
       "\n",
       "    .dataframe tbody tr th {\n",
       "        vertical-align: top;\n",
       "    }\n",
       "\n",
       "    .dataframe thead th {\n",
       "        text-align: right;\n",
       "    }\n",
       "</style>\n",
       "<table border=\"1\" class=\"dataframe\">\n",
       "  <thead>\n",
       "    <tr style=\"text-align: right;\">\n",
       "      <th></th>\n",
       "      <th>track_id</th>\n",
       "      <th>albums</th>\n",
       "      <th>artists</th>\n",
       "      <th>genres</th>\n",
       "    </tr>\n",
       "  </thead>\n",
       "  <tbody>\n",
       "    <tr>\n",
       "      <th>0</th>\n",
       "      <td>26</td>\n",
       "      <td>[3, 2490753]</td>\n",
       "      <td>[16]</td>\n",
       "      <td>[11, 21]</td>\n",
       "    </tr>\n",
       "    <tr>\n",
       "      <th>1</th>\n",
       "      <td>38</td>\n",
       "      <td>[3, 2490753]</td>\n",
       "      <td>[16]</td>\n",
       "      <td>[11, 21]</td>\n",
       "    </tr>\n",
       "    <tr>\n",
       "      <th>2</th>\n",
       "      <td>135</td>\n",
       "      <td>[12, 214, 2490809]</td>\n",
       "      <td>[84]</td>\n",
       "      <td>[11]</td>\n",
       "    </tr>\n",
       "    <tr>\n",
       "      <th>3</th>\n",
       "      <td>136</td>\n",
       "      <td>[12, 214, 2490809]</td>\n",
       "      <td>[84]</td>\n",
       "      <td>[11]</td>\n",
       "    </tr>\n",
       "    <tr>\n",
       "      <th>4</th>\n",
       "      <td>138</td>\n",
       "      <td>[12, 214, 322, 72275, 72292, 91199, 213505, 24...</td>\n",
       "      <td>[84]</td>\n",
       "      <td>[11]</td>\n",
       "    </tr>\n",
       "  </tbody>\n",
       "</table>\n",
       "</div>"
      ]
     },
     "execution_count": 168,
     "metadata": {},
     "output_type": "execute_result"
    }
   ],
   "execution_count": 168
  },
  {
   "metadata": {
    "ExecuteTime": {
     "end_time": "2024-11-02T00:07:16.866630Z",
     "start_time": "2024-11-02T00:07:16.863992Z"
    }
   },
   "cell_type": "code",
   "source": "genresDict = genres.set_index('id')['name'].to_dict()",
   "id": "3108d196621381a5",
   "outputs": [],
   "execution_count": 195
  },
  {
   "metadata": {
    "ExecuteTime": {
     "end_time": "2024-11-02T00:07:17.483898Z",
     "start_time": "2024-11-02T00:07:17.221350Z"
    }
   },
   "cell_type": "code",
   "source": "upd_tracks['genres'] = upd_tracks['genres'].apply(lambda genres_list: [genresDict[genreId] for genreId in genres_list])",
   "id": "b307f2a198f61762",
   "outputs": [],
   "execution_count": 196
  },
  {
   "metadata": {
    "ExecuteTime": {
     "end_time": "2024-11-02T00:07:19.296592Z",
     "start_time": "2024-11-02T00:07:17.768070Z"
    }
   },
   "cell_type": "code",
   "source": [
    "albumsDict = albums.set_index('id')['name'].to_dict()\n",
    "upd_tracks['albums'] = upd_tracks['albums'].apply(lambda albums_list: [albumsDict[albumId] for albumId in albums_list])"
   ],
   "id": "c9c5a454eb6bb650",
   "outputs": [],
   "execution_count": 197
  },
  {
   "metadata": {
    "ExecuteTime": {
     "end_time": "2024-11-02T00:07:19.892980Z",
     "start_time": "2024-11-02T00:07:19.297848Z"
    }
   },
   "cell_type": "code",
   "source": [
    "artistsDict = artists.set_index('id')['name'].to_dict()\n",
    "upd_tracks['artists'] = upd_tracks['artists'].apply(lambda artists_list: [artistsDict[artistId] for artistId in artists_list])"
   ],
   "id": "e84fe12a442ed4ca",
   "outputs": [],
   "execution_count": 198
  },
  {
   "metadata": {
    "ExecuteTime": {
     "end_time": "2024-11-02T00:07:19.897635Z",
     "start_time": "2024-11-02T00:07:19.893723Z"
    }
   },
   "cell_type": "code",
   "source": "upd_tracks.head()",
   "id": "4907769f2662bec2",
   "outputs": [
    {
     "data": {
      "text/plain": [
       "   track_id                                             albums  \\\n",
       "0        26                 [Taller Children, Taller Children]   \n",
       "1        38                 [Taller Children, Taller Children]   \n",
       "2       135  [Wild Young Hearts, Wild Young Hearts, Wild Yo...   \n",
       "3       136  [Wild Young Hearts, Wild Young Hearts, Wild Yo...   \n",
       "4       138  [Wild Young Hearts, Wild Young Hearts, Don't U...   \n",
       "\n",
       "                      artists       genres  \n",
       "0  [Elizabeth & the Catapult]  [pop, folk]  \n",
       "1  [Elizabeth & the Catapult]  [pop, folk]  \n",
       "2                 [Noisettes]        [pop]  \n",
       "3                 [Noisettes]        [pop]  \n",
       "4                 [Noisettes]        [pop]  "
      ],
      "text/html": [
       "<div>\n",
       "<style scoped>\n",
       "    .dataframe tbody tr th:only-of-type {\n",
       "        vertical-align: middle;\n",
       "    }\n",
       "\n",
       "    .dataframe tbody tr th {\n",
       "        vertical-align: top;\n",
       "    }\n",
       "\n",
       "    .dataframe thead th {\n",
       "        text-align: right;\n",
       "    }\n",
       "</style>\n",
       "<table border=\"1\" class=\"dataframe\">\n",
       "  <thead>\n",
       "    <tr style=\"text-align: right;\">\n",
       "      <th></th>\n",
       "      <th>track_id</th>\n",
       "      <th>albums</th>\n",
       "      <th>artists</th>\n",
       "      <th>genres</th>\n",
       "    </tr>\n",
       "  </thead>\n",
       "  <tbody>\n",
       "    <tr>\n",
       "      <th>0</th>\n",
       "      <td>26</td>\n",
       "      <td>[Taller Children, Taller Children]</td>\n",
       "      <td>[Elizabeth &amp; the Catapult]</td>\n",
       "      <td>[pop, folk]</td>\n",
       "    </tr>\n",
       "    <tr>\n",
       "      <th>1</th>\n",
       "      <td>38</td>\n",
       "      <td>[Taller Children, Taller Children]</td>\n",
       "      <td>[Elizabeth &amp; the Catapult]</td>\n",
       "      <td>[pop, folk]</td>\n",
       "    </tr>\n",
       "    <tr>\n",
       "      <th>2</th>\n",
       "      <td>135</td>\n",
       "      <td>[Wild Young Hearts, Wild Young Hearts, Wild Yo...</td>\n",
       "      <td>[Noisettes]</td>\n",
       "      <td>[pop]</td>\n",
       "    </tr>\n",
       "    <tr>\n",
       "      <th>3</th>\n",
       "      <td>136</td>\n",
       "      <td>[Wild Young Hearts, Wild Young Hearts, Wild Yo...</td>\n",
       "      <td>[Noisettes]</td>\n",
       "      <td>[pop]</td>\n",
       "    </tr>\n",
       "    <tr>\n",
       "      <th>4</th>\n",
       "      <td>138</td>\n",
       "      <td>[Wild Young Hearts, Wild Young Hearts, Don't U...</td>\n",
       "      <td>[Noisettes]</td>\n",
       "      <td>[pop]</td>\n",
       "    </tr>\n",
       "  </tbody>\n",
       "</table>\n",
       "</div>"
      ]
     },
     "execution_count": 199,
     "metadata": {},
     "output_type": "execute_result"
    }
   ],
   "execution_count": 199
  },
  {
   "metadata": {
    "ExecuteTime": {
     "end_time": "2024-11-02T00:07:49.086750Z",
     "start_time": "2024-11-02T00:07:49.082566Z"
    }
   },
   "cell_type": "code",
   "source": "interactions.head()",
   "id": "af5a45d65ef21154",
   "outputs": [
    {
     "data": {
      "text/plain": [
       "   user_id  track_id  track_seq started_at\n",
       "0        0     99262          1 2022-07-17\n",
       "1        0    589498          2 2022-07-19\n",
       "2        0    590262          3 2022-07-21\n",
       "3        0    590303          4 2022-07-22\n",
       "4        0    590692          5 2022-07-22"
      ],
      "text/html": [
       "<div>\n",
       "<style scoped>\n",
       "    .dataframe tbody tr th:only-of-type {\n",
       "        vertical-align: middle;\n",
       "    }\n",
       "\n",
       "    .dataframe tbody tr th {\n",
       "        vertical-align: top;\n",
       "    }\n",
       "\n",
       "    .dataframe thead th {\n",
       "        text-align: right;\n",
       "    }\n",
       "</style>\n",
       "<table border=\"1\" class=\"dataframe\">\n",
       "  <thead>\n",
       "    <tr style=\"text-align: right;\">\n",
       "      <th></th>\n",
       "      <th>user_id</th>\n",
       "      <th>track_id</th>\n",
       "      <th>track_seq</th>\n",
       "      <th>started_at</th>\n",
       "    </tr>\n",
       "  </thead>\n",
       "  <tbody>\n",
       "    <tr>\n",
       "      <th>0</th>\n",
       "      <td>0</td>\n",
       "      <td>99262</td>\n",
       "      <td>1</td>\n",
       "      <td>2022-07-17</td>\n",
       "    </tr>\n",
       "    <tr>\n",
       "      <th>1</th>\n",
       "      <td>0</td>\n",
       "      <td>589498</td>\n",
       "      <td>2</td>\n",
       "      <td>2022-07-19</td>\n",
       "    </tr>\n",
       "    <tr>\n",
       "      <th>2</th>\n",
       "      <td>0</td>\n",
       "      <td>590262</td>\n",
       "      <td>3</td>\n",
       "      <td>2022-07-21</td>\n",
       "    </tr>\n",
       "    <tr>\n",
       "      <th>3</th>\n",
       "      <td>0</td>\n",
       "      <td>590303</td>\n",
       "      <td>4</td>\n",
       "      <td>2022-07-22</td>\n",
       "    </tr>\n",
       "    <tr>\n",
       "      <th>4</th>\n",
       "      <td>0</td>\n",
       "      <td>590692</td>\n",
       "      <td>5</td>\n",
       "      <td>2022-07-22</td>\n",
       "    </tr>\n",
       "  </tbody>\n",
       "</table>\n",
       "</div>"
      ]
     },
     "execution_count": 200,
     "metadata": {},
     "output_type": "execute_result"
    }
   ],
   "execution_count": 200
  },
  {
   "cell_type": "markdown",
   "id": "4d1be653-eed8-4fa0-a9c5-3811b080d71d",
   "metadata": {},
   "source": "### 2.3 Сохранение данных"
  },
  {
   "cell_type": "markdown",
   "id": "36f1314a-3af3-4faf-a0b1-3045173d1500",
   "metadata": {},
   "source": [
    "Сохраним данные в двух файлах в персональном S3-бакете по пути `recsys/data/`:\n",
    "- `items.parquet` — все данные о музыкальных треках,\n",
    "- `events.parquet` — все данные о взаимодействиях."
   ]
  },
  {
   "cell_type": "code",
   "id": "9f77af17-7705-4fae-9aad-db579b39faad",
   "metadata": {
    "ExecuteTime": {
     "end_time": "2024-11-02T00:09:56.564962Z",
     "start_time": "2024-11-02T00:09:55.266793Z"
    }
   },
   "source": "upd_tracks.to_parquet(\"./data/items.parquet\")",
   "outputs": [],
   "execution_count": 201
  },
  {
   "metadata": {
    "ExecuteTime": {
     "end_time": "2024-11-02T00:10:17.842076Z",
     "start_time": "2024-11-02T00:09:56.565946Z"
    }
   },
   "cell_type": "code",
   "source": "interactions.to_parquet(\"./data/events.parquet\")",
   "id": "1bc6a25f19dc4140",
   "outputs": [],
   "execution_count": 202
  },
  {
   "cell_type": "markdown",
   "id": "72ecbbed-c560-44d9-9c14-86c7dc76f399",
   "metadata": {},
   "source": "### 2.4 Очистка памяти"
  },
  {
   "cell_type": "markdown",
   "id": "b5358ede-ba6e-4c4f-bd73-5b9344f0ba79",
   "metadata": {},
   "source": [
    "Здесь, может понадобится очистка памяти для высвобождения ресурсов для выполнения кода ниже. \n",
    "\n",
    "Приведите соответствующие код, комментарии, например:\n",
    "- код для удаление более ненужных переменных,\n",
    "- комментарий, что следует перезапустить kernel, выполнить такие-то начальные секции и продолжить с этапа 3."
   ]
  },
  {
   "cell_type": "code",
   "id": "767fe920-e12e-4ad8-b04e-56e8091fac9f",
   "metadata": {
    "ExecuteTime": {
     "end_time": "2024-10-31T23:26:49.360448Z",
     "start_time": "2024-10-31T23:26:49.359438Z"
    }
   },
   "source": [
    "del upd_tracks\n",
    "del interactions\n",
    "del catalog_names"
   ],
   "outputs": [],
   "execution_count": 119
  },
  {
   "cell_type": "markdown",
   "id": "708503df-ee89-4cf3-8489-093dc478e2a8",
   "metadata": {},
   "source": "## === ЭТАП 3 ==="
  },
  {
   "cell_type": "markdown",
   "id": "fd77de22-e10f-4b42-85c1-8fb6f805fe68",
   "metadata": {},
   "source": "### 3.1 Загрузка данных"
  },
  {
   "cell_type": "markdown",
   "id": "780a4241-1ecd-4a3e-bbb3-fc2f6ca94f68",
   "metadata": {},
   "source": [
    "Если необходимо, то загружаем items.parquet, events.parquet."
   ]
  },
  {
   "cell_type": "code",
   "id": "f19fc8a5-bd2c-40d7-864a-ee75aca6d512",
   "metadata": {
    "ExecuteTime": {
     "end_time": "2024-11-02T00:47:36.224100Z",
     "start_time": "2024-11-02T00:47:35.243443Z"
    }
   },
   "source": "items = pd.read_parquet(\"./data/items.parquet\")",
   "outputs": [],
   "execution_count": 205
  },
  {
   "cell_type": "code",
   "id": "5db1e801-5845-4ce3-86f2-c2fa30f68cc5",
   "metadata": {
    "ExecuteTime": {
     "end_time": "2024-11-02T00:47:48.126055Z",
     "start_time": "2024-11-02T00:47:36.225314Z"
    }
   },
   "source": "events = pd.read_parquet(\"./data/events.parquet\")",
   "outputs": [],
   "execution_count": 206
  },
  {
   "cell_type": "markdown",
   "id": "a694c023-6477-490b-939d-1cfa6f5f1b72",
   "metadata": {},
   "source": "### 3.2 Разбиение данных"
  },
  {
   "cell_type": "markdown",
   "id": "fbd5f6e0-54e7-4428-8678-eabce505d82c",
   "metadata": {},
   "source": [
    "Разбиваем данные на тренировочную, тестовую выборки."
   ]
  },
  {
   "cell_type": "code",
   "id": "00c2dfa5-d8a2-47d1-922e-6eefee2c62d1",
   "metadata": {
    "ExecuteTime": {
     "end_time": "2024-11-02T00:50:26.903015Z",
     "start_time": "2024-11-02T00:50:26.897204Z"
    }
   },
   "source": [
    "# зададим точку разбиения\n",
    "train_test_global_time_split_date = pd.to_datetime(\"2022-12-16\")"
   ],
   "outputs": [],
   "execution_count": 209
  },
  {
   "cell_type": "code",
   "id": "26fe3e3c-8c5f-4437-bf13-9191adef08bb",
   "metadata": {
    "ExecuteTime": {
     "end_time": "2024-11-02T00:50:34.514626Z",
     "start_time": "2024-11-02T00:50:27.400627Z"
    }
   },
   "source": [
    "train_test_global_time_split_idx = events[\"started_at\"] < train_test_global_time_split_date\n",
    "events_train = events[train_test_global_time_split_idx]\n",
    "events_test = events[~train_test_global_time_split_idx]"
   ],
   "outputs": [],
   "execution_count": 210
  },
  {
   "metadata": {
    "ExecuteTime": {
     "end_time": "2024-11-02T00:50:35.594855Z",
     "start_time": "2024-11-02T00:50:34.516417Z"
    }
   },
   "cell_type": "code",
   "source": [
    "# количество пользователей в train и test\n",
    "users_train = events_train[\"user_id\"].drop_duplicates()\n",
    "users_test = events_test[\"user_id\"].drop_duplicates()"
   ],
   "id": "416feb7de471ef74",
   "outputs": [],
   "execution_count": 211
  },
  {
   "metadata": {
    "ExecuteTime": {
     "end_time": "2024-11-02T00:50:35.916692Z",
     "start_time": "2024-11-02T00:50:35.595458Z"
    }
   },
   "cell_type": "code",
   "source": [
    "# количество пользователей, которые есть и в train, и в test\n",
    "common_users = set(users_train) & set(users_test)"
   ],
   "id": "53008c9ad98b3dc0",
   "outputs": [],
   "execution_count": 212
  },
  {
   "metadata": {
    "ExecuteTime": {
     "end_time": "2024-11-02T00:50:35.920450Z",
     "start_time": "2024-11-02T00:50:35.917833Z"
    }
   },
   "cell_type": "code",
   "source": "print(len(users_train), len(users_test), len(common_users))",
   "id": "763e9e7087cefea9",
   "outputs": [
    {
     "name": "stdout",
     "output_type": "stream",
     "text": [
      "1342566 783525 752870\n"
     ]
    }
   ],
   "execution_count": 213
  },
  {
   "metadata": {},
   "cell_type": "markdown",
   "source": "«Холодные» пользователи — те, которые есть в test, но отсутствуют в train. Это соответствует хронологическому порядку, в котором и работает рекомендательная система.",
   "id": "c44124170631524c"
  },
  {
   "metadata": {
    "ExecuteTime": {
     "end_time": "2024-11-02T00:53:09.264253Z",
     "start_time": "2024-11-02T00:53:09.112610Z"
    }
   },
   "cell_type": "code",
   "source": [
    "cold_users = set(users_test) - set(users_train)\n",
    "\n",
    "print(len(cold_users))"
   ],
   "id": "fd35d731bb433cc3",
   "outputs": [
    {
     "name": "stdout",
     "output_type": "stream",
     "text": [
      "30655\n"
     ]
    }
   ],
   "execution_count": 214
  },
  {
   "cell_type": "markdown",
   "id": "9131c7e6-8852-4556-b510-51f7253cc299",
   "metadata": {},
   "source": "### 3.3 Топ популярных"
  },
  {
   "cell_type": "markdown",
   "id": "dd70d43a-88cc-4719-b291-feaed7136f30",
   "metadata": {},
   "source": [
    "Рассчитаем рекомендации как топ популярных."
   ]
  },
  {
   "cell_type": "code",
   "id": "7690c86f-7aa9-46ed-bba5-2c837626411e",
   "metadata": {
    "ExecuteTime": {
     "end_time": "2024-10-31T23:26:49.369413Z",
     "start_time": "2024-10-31T23:26:49.368393Z"
    }
   },
   "source": "",
   "outputs": [],
   "execution_count": 119
  },
  {
   "cell_type": "markdown",
   "id": "2ad231f2-6158-421a-b7fa-01d8bc3ed572",
   "metadata": {},
   "source": "### 3.4 Персональные рекомендации"
  },
  {
   "cell_type": "markdown",
   "id": "86159460-cd9d-4b63-8248-604ea3c9aebf",
   "metadata": {},
   "source": [
    "Рассчитаем персональные рекомендации."
   ]
  },
  {
   "cell_type": "code",
   "id": "1e8cdb58-3a8c-45ad-8e5f-7f950314aa56",
   "metadata": {
    "ExecuteTime": {
     "end_time": "2024-10-31T23:26:49.372443Z",
     "start_time": "2024-10-31T23:26:49.371441Z"
    }
   },
   "source": [],
   "outputs": [],
   "execution_count": 119
  },
  {
   "cell_type": "markdown",
   "id": "5f09dc7e-7c91-4355-860a-b9cfb9f33f15",
   "metadata": {},
   "source": "### 3.5 Похожие треки"
  },
  {
   "cell_type": "markdown",
   "id": "1dfcb683-b440-40a8-9975-894156a53872",
   "metadata": {},
   "source": [
    "Рассчитаем похожие, они позже пригодятся для онлайн-рекомендаций."
   ]
  },
  {
   "cell_type": "code",
   "id": "ce370904-4c49-4152-8706-416074ea9b9a",
   "metadata": {
    "ExecuteTime": {
     "end_time": "2024-10-31T23:26:49.375421Z",
     "start_time": "2024-10-31T23:26:49.374374Z"
    }
   },
   "source": [],
   "outputs": [],
   "execution_count": 119
  },
  {
   "cell_type": "markdown",
   "id": "0087a3e7-ca9f-42cd-944c-944222c1baef",
   "metadata": {},
   "source": "### 3.6 Построение признаков"
  },
  {
   "cell_type": "markdown",
   "id": "e82a32e1-b90b-4eaf-9439-fc8deab9f34b",
   "metadata": {},
   "source": [
    "Построим три признака, можно больше, для ранжирующей модели."
   ]
  },
  {
   "metadata": {},
   "cell_type": "code",
   "outputs": [],
   "execution_count": 119,
   "source": "",
   "id": "00f84c35-f544-4c3d-ad53-9b1d2b684c75"
  },
  {
   "cell_type": "markdown",
   "id": "47bcf88d-b236-46f0-a6f3-38ddd64895fe",
   "metadata": {},
   "source": "### 3.7 Ранжирование рекомендаций"
  },
  {
   "cell_type": "markdown",
   "id": "e8cd8223-3418-4493-8c87-1f76286ebda0",
   "metadata": {},
   "source": [
    "Построим ранжирующую модель, чтобы сделать рекомендации более точными. Отранжируем рекомендации."
   ]
  },
  {
   "metadata": {},
   "cell_type": "code",
   "outputs": [],
   "execution_count": 119,
   "source": "",
   "id": "6dbe4db4-1ac5-44da-a13c-8e7f9768ab73"
  },
  {
   "cell_type": "markdown",
   "id": "b3c84071-45b5-4a15-a683-e0ab034a3128",
   "metadata": {},
   "source": "### 3.8 Оценка качества"
  },
  {
   "cell_type": "markdown",
   "id": "1b107fe4-554e-42b1-87d9-c435a52bb77a",
   "metadata": {},
   "source": [
    "Проверим оценку качества трёх типов рекомендаций: \n",
    "\n",
    "- топ популярных,\n",
    "- персональных, полученных при помощи ALS,\n",
    "- итоговых\n",
    "  \n",
    "по четырем метрикам: recall, precision, coverage, novelty."
   ]
  },
  {
   "cell_type": "code",
   "id": "94d6f388-aecb-443e-8647-14014e932d4d",
   "metadata": {
    "ExecuteTime": {
     "end_time": "2024-10-31T23:26:49.383118Z",
     "start_time": "2024-10-31T23:26:49.382088Z"
    }
   },
   "source": [],
   "outputs": [],
   "execution_count": 119
  },
  {
   "cell_type": "markdown",
   "id": "f1c8d38c-32b0-46a4-96f0-cd01dac708bc",
   "metadata": {},
   "source": "### 3.9 === Выводы, метрики ==="
  },
  {
   "cell_type": "markdown",
   "id": "f7d7d5d8-7d1e-4fdf-a6cd-83e5ce92c684",
   "metadata": {},
   "source": [
    "Основные выводы при работе над расчётом рекомендаций, рассчитанные метрики."
   ]
  },
  {
   "cell_type": "code",
   "id": "6403097d-db36-46d9-8952-613c9bd51b05",
   "metadata": {
    "ExecuteTime": {
     "end_time": "2024-10-31T23:26:49.386214Z",
     "start_time": "2024-10-31T23:26:49.385123Z"
    }
   },
   "source": [],
   "outputs": [],
   "execution_count": 119
  }
 ],
 "metadata": {
  "kernelspec": {
   "display_name": "Python 3 (ipykernel)",
   "language": "python",
   "name": "python3"
  },
  "language_info": {
   "codemirror_mode": {
    "name": "ipython",
    "version": 3
   },
   "file_extension": ".py",
   "mimetype": "text/x-python",
   "name": "python",
   "nbconvert_exporter": "python",
   "pygments_lexer": "ipython3",
   "version": "3.9.13"
  }
 },
 "nbformat": 4,
 "nbformat_minor": 5
}
